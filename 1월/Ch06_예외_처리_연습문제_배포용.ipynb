{
  "nbformat": 4,
  "nbformat_minor": 0,
  "metadata": {
    "colab": {
      "provenance": []
    },
    "kernelspec": {
      "name": "python3",
      "display_name": "Python 3"
    },
    "language_info": {
      "name": "python"
    }
  },
  "cells": [
    {
      "cell_type": "markdown",
      "source": [
        "#Ch06 예외 처리 연습문제"
      ],
      "metadata": {
        "id": "MiyvGMJ1yhiS"
      }
    },
    {
      "cell_type": "markdown",
      "source": [
        "## 문제 1\n",
        "\n",
        "```python\n",
        "lst = ['1', '2', '3', [1, 2], [{'key':'value'}, (9,)], ['a', 'b', 'c']]\n",
        "```\n",
        "리스트 `lst`에서, 요소의 데이터 형이 list인 요소만 출력하는 코드를 작성하시요."
      ],
      "metadata": {
        "id": "Z-mC1RWTM6wN"
      }
    },
    {
      "cell_type": "markdown",
      "source": [
        "## 문제 2\n",
        "\n",
        "아래 코드를 분석하시오\n",
        "```python\n",
        "import random\n",
        "\n",
        "msg = ['안녕하세요', '반갑습니다', '식사는 하셨습니까?']\n",
        "\n",
        "def myftn(callback):\n",
        "  return msg[callback()]\n",
        "  \n",
        "print( myftn(lambda : random.randint(0, len(msg)-1)) )\n",
        "```"
      ],
      "metadata": {
        "id": "-6YBIFlxM__1"
      }
    },
    {
      "cell_type": "markdown",
      "source": [
        "## 문제 3\n",
        "```python\n",
        "lst = ['관악산', '북한산', '도봉산', '금강산', '설악산', '한라산', '치악산', '백두산']\n",
        "height = [600, 750, 700, 1015, 1200, 1130, 1040, 1500]\n",
        "```\n",
        "리스트 `lst`와 `height`에는 산 이름과 해당 산의 높이가 순서대로 기록되어 있습니다.\n",
        "\n",
        "* (1) 주어진 리스트 `lst`의 요소에 '악'자가 포함되어 있는 산 이름이 몇 개인지 검사하여 반환하는 함수를 작성하시오.\n",
        "* (2) 주어진 리스트 `lst`의 요소에 '악'자가 포함되어 있는 산 이름과 산의 높이를 요소로 하는 튜플을 반환하는 함수를 만드시오.\n",
        "* (3) (2)에서 반환 받은 산 중에서 제일 높은 산의 이름은 무엇이고 높이는 얼마인지 출력하는 코드를 작성하시요."
      ],
      "metadata": {
        "id": "zTBEAiCyNDv1"
      }
    },
    {
      "cell_type": "markdown",
      "source": [
        "##문제 4\n",
        "단위 변경 문제입니다. 사용자로부터 몇 $m^{2}$인지를 입력 받아 평으로 환산하는 코드입니다. ($1m^{2} = 0.3025평$)\n",
        "\n",
        "```python\n",
        "m2 = int( input('m^2 값을 입력하세요: '))\n",
        "p = m2 * 0.3025\n",
        "print('{}[m^2]은 {}평입니다.'.format(m2, p) )\n",
        "```\n",
        "\n",
        "사용자가 적절하지 않은 값을 입력했을 때 `int()`에서 예외가 발생할 수 있습니다. 이러한 상황에서 프로그램이 종료하지 않도록 `try ~ except ~`를 활용하여 코드를 다시 작성하시오."
      ],
      "metadata": {
        "id": "ArCUNnMzy-6s"
      }
    },
    {
      "cell_type": "markdown",
      "source": [
        "##문제 5\n",
        "[여기에서 퍼옴](https://dojang.io/mod/page/view.php?id=2398)  \n",
        "아래 코드 형태와 같이 `as` 뒤에 변수를 지정하면 발생한 예외에 대한 에러 메시지를 받아올 수 있습니다.\n",
        "```python\n",
        "try:\n",
        "  예외 발생이 의심되는 코드\n",
        "except 예외 as 변수:\n",
        "  예외가 발생했을 때 처리하는 코드\n",
        "```\n",
        "\n",
        "다음 코드 사용하여 리스트(`y`)의 특정 요소를 어떤 수로 나누는 연산을 하려고 합니다. 리스트의 특정 요소를 지정하기 위한 인덱스로 2를 입력하고 나눌 수로는 0을 입력했을 때 예상되는 출력 결과를 설명하시오.\n",
        "입력 예는 다음과 같습니다.\n",
        "```\n",
        "인덱스와 누눌 숫자를 입력하세요: 2 0\n",
        "```\n",
        "\n",
        "```python\n",
        "y = [10, 20, 30]\n",
        "\n",
        "try:\n",
        "  index, x = map(int, input('인덱스와 나눌 숫자를 입력하세요: ').split())\n",
        "  pirnt(y[index] / x)\n",
        "except ZeroDivisionError as e:\n",
        "  print('숫자를 0으로 나눌 수 없습니다.', e)\n",
        "except IndexError as e:\n",
        "  print('잘못된 인덱스입니다.', e)\n",
        "```"
      ],
      "metadata": {
        "id": "WL7AW1ph1R8N"
      }
    },
    {
      "cell_type": "markdown",
      "source": [
        "##문제 6\n",
        "[여기서 퍼옴](https://dojang.io/mod/page/view.php?id=2399)   \n",
        "`try ~ except ~ else ~ finally` 문을 그림으로 표현하면 아래와 같이 나타낼 수 있습니다.\n",
        "\n",
        "<center>\n",
        "\n",
        "![image.png](data:image/png;base64,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)\n",
        "\n",
        "</center>\n",
        "\n",
        "아래 코드를 한줄만 수정해서 완성해보세요.\n",
        "\n",
        "```python\n",
        "try:\n",
        "  x = int(input('나눌 숫자를 입력하세요: '))\n",
        "  y = 10 / x\n",
        "except as e:\n",
        "  print('숫자를 0으로 나눌 수 없습니다.', e)\n",
        "else:\n",
        "  print(y)\n",
        "finally:\n",
        "  print('코드 실행이 종료됩니다.')\n",
        "```\n"
      ],
      "metadata": {
        "id": "zDV5SGkj6kg6"
      }
    },
    {
      "cell_type": "markdown",
      "source": [
        "##문제 7\n",
        "문제 3에서 제시한 코드를 다시 보겠습니다. 문제 3을 풀었다면 숫자를 0으로 나눌 때 발생하는 예외처리를 하셨을 것입니다. 만약 input()에 대한 응답으로 숫자가 아닌 값을 예를 들어 `'십이'`라고 입력했다면 또 다른 예외 상황이 발생할 수 있습니다. 이 예외 상황도 처리할 수 있도록 코드를 수정하세요.\n",
        "\n",
        "```python\n",
        "try:\n",
        "  x = int(input('나눌 숫자를 입력하세요: '))\n",
        "  y = 10 / x\n",
        "except as e:\n",
        "  print('숫자를 0으로 나눌 수 없습니다.', e)\n",
        "else:\n",
        "  print(y)\n",
        "finally:\n",
        "  print('코드 실행이 종료됩니다.')\n",
        "```\n"
      ],
      "metadata": {
        "id": "k2GJRTuI8kxj"
      }
    },
    {
      "cell_type": "markdown",
      "source": [
        "## 문제 8\n",
        "다음과 같이 리스트가 주어졌습니다.\n",
        "```python\n",
        "lst = [1, 2, 3, 4, 1, 2, 3, 1, 4, 1, 2, 3]\n",
        "```\n",
        "리스트 `lst`에는 요소로  \n",
        "\n",
        "* 1) 어떤 숫자가 사용되었는지와\n",
        "* 2) 그 숫자가 요소로 몇 번 사용되었는지  \n",
        "\n",
        "파악하는 코드를 작성하세요. 예를 들어 숫자 1은 4번 사용되었네요."
      ],
      "metadata": {
        "id": "n8w1eFW89jco"
      }
    },
    {
      "cell_type": "markdown",
      "source": [
        "## 문제 9\n",
        "다음과 같이 리스트가 주어졌습니다.\n",
        "```python\n",
        "lst = [1, 2, 3, 4, 1, 2, 3, 1, 4, 1, 2, 3]\n",
        "```\n",
        "\n",
        "리스트 `lst`의 요소로\n",
        "* 1) 사용된 숫자를 딕셔너리의 key로 하고\n",
        "* 2) 그 숫자가 리스트에 등장한 회수를 값으로 하는\n",
        "딕셔너리를 생성하는 코드를 작성하시오.\n"
      ],
      "metadata": {
        "id": "bkbMVLkkNS_9"
      }
    },
    {
      "cell_type": "markdown",
      "source": [
        "## 문제 10\n",
        "```python\n",
        "strings = ['a', 'as', 'bat', 'car', 'dove', 'python']\n",
        "```\n",
        "리스트 `strings`이 위와 같이 정의 되었습니다. 각 요소의 길이가 2 이하인 요소를 제외하고 나머지 요소를 대문자로 바꾸는 코드를 간결하게 작성하오."
      ],
      "metadata": {
        "id": "6Pu1mWk2NV2t"
      }
    },
    {
      "cell_type": "markdown",
      "source": [
        "## 문제 11\n",
        "```python\n",
        "name_list = ['김성필', '구숙정', '이재은']\n",
        "```\n",
        "리스트 `name_list`의 각 요소(값)를 키(key)로 하고 그 요소의 인덱스를 값(value)으로 하는 딕셔너리 형 데이터를 생성하는 코드를 작성하시오."
      ],
      "metadata": {
        "id": "sM_gm02-NY6n"
      }
    },
    {
      "cell_type": "markdown",
      "source": [
        "## 문제 12\n",
        "```python\n",
        "hobbys = ['낚시', '등산', '드라이브']\n",
        "take = ['낚시대', '배낭', '자동차']\n",
        "```\n",
        "\n",
        "두 개의 리스트가 위와 같이 주어졌을 때 새로운 리스트 `output`의 값이 아래와 같도록 만드는 코드를 작성하시오.\n",
        "\n",
        "```python\n",
        "output = [(0, '낚시', '낚시대'), (1, '등산', '배낭'), (2, '드라이브', '자동차')]\n",
        "```\n"
      ],
      "metadata": {
        "id": "WpS585cCNb3X"
      }
    },
    {
      "cell_type": "markdown",
      "source": [
        "## 문제 13\n",
        "\n",
        " 함수에 매개 변수 2개를 전달하면 두 매개 변수값의 합을 반환하고 매개 변수 3개를 전달하면 앞의 두 매개변수를 더한 값에 세 번째 매개변수 값을 곱한 값을 반환하는 함수를 생성하세요."
      ],
      "metadata": {
        "id": "fKKN9w_HNfGH"
      }
    },
    {
      "cell_type": "markdown",
      "source": [
        "## 문제 14\n",
        "Python에는 수업 시간에 언급하지 않은 set(집합) 자료형이 있습니다. 집합형 자료는 아래와 같이 중괄호({})로 선언합니다.\n",
        "\n",
        "```python\n",
        "set_type = {1, 2, 3}\n",
        "```\n",
        "사전형 자료는 key와 value 쌍으로 구성되지만 집합형 자료는 위와 같이 하나의 값을 요소로 갖습니다.\n",
        "\n",
        "* 1) 아래 코드의 실행 결과를 분석하시오.\n",
        "\n",
        "```python\n",
        "for x in set_type:\n",
        "  print(x)\n",
        "```\n",
        "\n",
        "* 2) 아래 코드의 실행 결과를 분석하시오.\n",
        "\n",
        "```python\n",
        "lst = list( range(5) )\n",
        "print(lst)\n",
        "nlst = [1, 2, 3, 2, 1]\n",
        "set_type = set(nlst)\n",
        "\n",
        "for x in set_type:\n",
        "  print(x)\n",
        "\n",
        "print(set_type)\n",
        "```"
      ],
      "metadata": {
        "id": "i4S3VJpCQ2Rm"
      }
    },
    {
      "cell_type": "markdown",
      "source": [
        "## 문제 15\n",
        "\n",
        "* (1) 이른바 '계단 오르기' 코드입니다. 계단의 처음 값은 0입니다.\n",
        "`random.randint(0,1)` 함수의 반환값이 1이면 다음 계단값은 1이 증가하고 `random.randint(0,1)` 함수의 반환값이 0이면 다음 계단값은 1이 감소하도록 코드를 만드세요.1000번 시도했을 때 계단을 얼마나 오를 수 있을까요? 1회부터 100회까지 계단값의 변화를 아래 코드를 참고하여 그래프로 그리시오.\n",
        "```python\n",
        "import matplotlib.pyplot as plt\n",
        "walks = [1, 2, 1, 2, 3]\n",
        "plt.plot(walks)\n",
        "plt.show()\n",
        "```\n",
        "* (2) 계단의 처음 값은 0입니다. `random.randint(0,2)` 함수의 반환값이 1 또는 2이면 다음 계단값은 1이 증가하고 `random.randint(0,1)` 함수의 반환값이 0이면 다음 계단값은 1이 감소하도록 코드를 만드세요.1000번 시도했을 때 계단을 얼마나 오를 수 있을까요? 1회부터 100회까지 계단값의 변화를 보이는 그래프로 그리시오."
      ],
      "metadata": {
        "id": "I3CokUYrdfBc"
      }
    }
  ]
}