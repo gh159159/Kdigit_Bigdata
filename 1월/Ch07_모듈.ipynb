{
  "nbformat": 4,
  "nbformat_minor": 0,
  "metadata": {
    "colab": {
      "provenance": []
    },
    "kernelspec": {
      "name": "python3",
      "display_name": "Python 3"
    },
    "language_info": {
      "name": "python"
    }
  },
  "cells": [
    {
      "cell_type": "markdown",
      "source": [
        "#Ch07 - 모듈\n",
        "\n",
        "학습 목표\n",
        "\n",
        "- 모듈의 기본적인 사용 방법을 이해합니다.\n",
        "- 파이썬 표준 모듈에는 어떤 것들이 있는지 알아봅시다.\n",
        "- 파이썬 표준 문서를 활용하여 모듈의 기능을 찾는 방법에 대해 이해합니다."
      ],
      "metadata": {
        "id": "cPVP6wWYExo7"
      }
    },
    {
      "cell_type": "markdown",
      "source": [
        "##<font color=blue>Ch07 - 1 표준 모듈</font>\n",
        "다른 사람이 만들어 놓은 코드를 활용하는 방법을 배워보겠습니다."
      ],
      "metadata": {
        "id": "RxF_p3LmFJuk"
      }
    },
    {
      "cell_type": "markdown",
      "source": [
        "####**시작하기 전에**\n",
        "파이썬은 **모듈(module)**이라는 것을 이용해 코드를 분리하고 공유합니다. 모듈은 여러 변수와 함수를 가지고 있는 집합체입니다. 모듈은 크게 표준 모듈과 외부 모듈로 나뉩니다. <font color=blue>파이썬에 기본적으로 내장되어 있는 모듈을 **'표준 모듈'**이라고 하고 다른 사람이 만들어서 배포한 모듈을 **'외부 모듈'**이라고 부릅니다. </font>\n",
        "\n",
        "모듈을 가져올 때 아래와 같은 구문을 사용합니다. 일반적으로 모듈을 가져오는(import)구문을 `import` 구문이라고 하고 통상 코드의 맨 윗줄에 작성합니다.\n",
        "\n",
        "```python\n",
        "import 모듈_이름\n",
        "```\n"
      ],
      "metadata": {
        "id": "yEcTSTGjExDJ"
      }
    },
    {
      "cell_type": "markdown",
      "source": [
        "#### 표준 모듈\n",
        "- math 모듈<sup>*</sup>\n",
        "- random 모듈\n",
        "- sys 모듈\n",
        "- os 모듈\n",
        "- datetime 모듈<sup>*</sup>\n",
        "- time 모듈\n",
        "- ulrlib 모듈\n",
        "\n",
        "위 리스트에서 <sup>*</sup>표시한 모듈 가볍게 살펴 보겠습니다."
      ],
      "metadata": {
        "id": "IC1WlYtGh91o"
      }
    },
    {
      "cell_type": "markdown",
      "source": [
        "###<font color=blue>모듈 사용의 기본 : math 모듈</font>\n",
        "math 모듈은 이름에서 짐작할 수 있듯이 수학과 관련된 함수를 가지고 있습니다."
      ],
      "metadata": {
        "id": "hAuUafKLGXWW"
      }
    },
    {
      "cell_type": "code",
      "source": [
        "import math\n",
        "print( math.sin(0) )\n",
        "print( math.cos(0) )\n",
        "print( math.tan(0) )"
      ],
      "metadata": {
        "colab": {
          "base_uri": "https://localhost:8080/"
        },
        "id": "E_EGfwKdGmkG",
        "outputId": "d8e269f8-b80d-45f1-e7dc-22e4ae869f5e"
      },
      "execution_count": null,
      "outputs": [
        {
          "output_type": "stream",
          "name": "stdout",
          "text": [
            "0.0\n",
            "1.0\n",
            "0.0\n"
          ]
        }
      ]
    },
    {
      "cell_type": "code",
      "source": [
        "print( math.floor(2.5) )    # 내림\n",
        "print( math.ceil(2.5) )     # 버림"
      ],
      "metadata": {
        "colab": {
          "base_uri": "https://localhost:8080/"
        },
        "id": "Ac9tiNKCayfL",
        "outputId": "b31f9d70-1a2c-40e0-f7e4-550b43763582"
      },
      "execution_count": null,
      "outputs": [
        {
          "output_type": "stream",
          "name": "stdout",
          "text": [
            "2\n",
            "3\n"
          ]
        }
      ]
    },
    {
      "cell_type": "markdown",
      "source": [
        "#####◃참고▹\n",
        "이 강의 초 중반에 time 모듈, datetime 모듈을 가지고 들어와(import) 사용한 적이 있습니다.\n",
        "```python\n",
        "import time\n",
        "import datetime\n",
        "```"
      ],
      "metadata": {
        "id": "KMm5v2fHHD9W"
      }
    },
    {
      "cell_type": "markdown",
      "source": [
        "####<ins>모듈 문서</ins>\n",
        "math 모듈은 많은 기능을 가지고 있습니다. 몇 가지를 표로 정리하면 다음과 같습니다.\n",
        "\n",
        "<center>\n",
        "math 모듈의 함수  \n",
        "\n",
        "|함수|설명|\n",
        "|:-:|:-:|\n",
        "|sin(x)|$sin(x)$를 구합니다|\n",
        "|cos(x)|$cos(x)$를 구합니다|\n",
        "|tan(x)|$tan(x)$를 구합니다|\n",
        "|log(x[,base])|로그값을 구합니다|\n",
        "|ceil(x)|$x$를 올림합니다|\n",
        "|floor(x)|$x$를 버림합니다|\n",
        "|round(x)|$x$를 반올림합니다|\n",
        "\n",
        "</center>"
      ],
      "metadata": {
        "id": "CF5a8RMSHXYN"
      }
    },
    {
      "cell_type": "markdown",
      "source": [
        "표준 모듈 등의 정보가 필요할 때 가장 먼저 확인해야 하는 것은 **파이썬 공식 문서**입니다. 파이썬 공식 라이브러리 문서는 [여기](https://docs.python.org/3/library/index.html) 확인하실 수 있습니다. 아래 이미지의 왼쪽 상단에서 math를 키워드로 검색해서 나타는 문서를 확인해 보십시요.\n",
        "\n",
        "<br>\n",
        "\n",
        "![image.png](data:image/png;base64,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)\n"
      ],
      "metadata": {
        "id": "JrypNcsCLP2W"
      }
    },
    {
      "cell_type": "markdown",
      "source": [
        "![image.png](data:image/png;base64,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)\n",
        "\n",
        "math 모듀에는 매우 매우 많은 함수(기능)가 포함되어 있는 것을 확인하실 수 있습니다. '너무 많아요~!'"
      ],
      "metadata": {
        "id": "bUXIsAMoMOvx"
      }
    },
    {
      "cell_type": "markdown",
      "source": [
        "#####참고\n",
        "```python\n",
        "range(stop)\n",
        "range(start, stop[,step])\n",
        "```\n",
        "`range()`함수는 매개변수를 1개만 넘길 수 있는데, 매개변수가 한 개일 때는 매개변수의 값은 stop을 의미합니다. 예를 들어 `range(10)`은 0부터 9까지 정수를 생성합니다.\n",
        "\n",
        "<br>\n",
        "\n",
        "`range()`함수는 매개 변수를 두 개 사용할 수도 있는데, 첫번째 매개 변수 start는 범위의 시작 숫자이며 두 번째 매개 변수 stop은 범위의 끝과 관계된 수입니다. 예를 들어 `range(1,10)`이라면 1부터 9까지의 정수를 생성합니다. 그리고 `range(stat, stop, step)`과 같이 세번째 매개변수를 옵션으로 사용할 수도 있고 사용하지 않고 두 개의 매개변수만 가지고 `range(start, stop)`함수를 호출할 수도 있다.\n",
        "\n",
        "옵션 매개변수인 `step`은 증감을 결정하는 수를 지정하는 매개변수입니다.  주어지면 시작 숫자부터 끝 숫자 사이의 수들 중 시작 숫자부터 `step`씩 증가 또는 감소하면서 선택된 숫자들을 나열한 데이터를 생성합니다."
      ],
      "metadata": {
        "id": "VNIIlAYfJK5W"
      }
    },
    {
      "cell_type": "markdown",
      "source": [
        "<font color=blue>새삼스레 이제와서 `range(start, stop[, step])`를 설명하는 이유는 매개변수가 들어갈 자리의 \"[, step]\" 표현은 옵션을 의미한다는 것을 설명하기 위해서 입니다. </font>"
      ],
      "metadata": {
        "id": "1362C72tKwpW"
      }
    },
    {
      "cell_type": "markdown",
      "source": [
        "#####◃참고▹ - `round()` 함수\n",
        "`round()`함수는 우리가 수학 시간에 배운 반올림 방식과 다름니다. 아래 코드의 실행 결과를 보고 `round()`함수가 반올림 연산을 할 때 어떤 방식으로 하는지 생각해 보십시요."
      ],
      "metadata": {
        "id": "DjlmrT3fMgSU"
      }
    },
    {
      "cell_type": "code",
      "source": [
        "print('1.7 :', round(1.7) )\n",
        "print('2.7 :', round(2.7) )\n",
        "print('3.7 :', round(3.7) )\n",
        "print('4.7 :', round(4.7) )\n",
        "print('5.7 :', round(5.7) )\n",
        "print('--- 구분선 ---')\n",
        "print('1.2 :', round(1.2) )\n",
        "print('2.2 :', round(2.2) )\n",
        "print('3.2 :', round(3.2) )\n",
        "print('4.2 :', round(4.2) )\n",
        "print('5.2 :', round(5.2) )"
      ],
      "metadata": {
        "colab": {
          "base_uri": "https://localhost:8080/"
        },
        "id": "brmDSUqKNFvx",
        "outputId": "f9ab0c4f-1391-4db6-d29f-7bea01ba8637"
      },
      "execution_count": null,
      "outputs": [
        {
          "output_type": "stream",
          "name": "stdout",
          "text": [
            "1.7 : 2\n",
            "2.7 : 3\n",
            "3.7 : 4\n",
            "4.7 : 5\n",
            "5.7 : 6\n",
            "--- 구분선 ---\n",
            "1.2 : 1\n",
            "2.2 : 2\n",
            "3.2 : 3\n",
            "4.2 : 4\n",
            "5.2 : 5\n"
          ]
        }
      ]
    },
    {
      "cell_type": "markdown",
      "source": [
        "위 코드의 실행 결과는 특이 사항이 없죠? 수학 시간에 배운 그 반올림 맞습니다. 그런데 아래 코드를 보시면 좀 이상하게 반올림을 했습니다. 반올림한 기준이 무엇일까요?"
      ],
      "metadata": {
        "id": "qW_LgLEnN0KH"
      }
    },
    {
      "cell_type": "code",
      "source": [
        "print('1.5 :', round(1.5) )\n",
        "print('2.5 :', round(2.5) )\n",
        "print('3.5 :', round(3.5) )\n",
        "print('4.5 :', round(4.5) )\n",
        "print('5.5 :', round(5.5) )"
      ],
      "metadata": {
        "colab": {
          "base_uri": "https://localhost:8080/"
        },
        "id": "faxpBzPnGpA6",
        "outputId": "2c7e26ef-0b02-4d2e-9b27-d34ef4250054"
      },
      "execution_count": null,
      "outputs": [
        {
          "output_type": "stream",
          "name": "stdout",
          "text": [
            "1.5 : 2\n",
            "2.5 : 2\n",
            "3.5 : 4\n",
            "4.5 : 4\n",
            "5.5 : 6\n"
          ]
        }
      ]
    },
    {
      "cell_type": "markdown",
      "source": [
        "\"정수 부분이 홀수이면 .5에서 올림을 정수 부분이 짝수이면 .5에서는 버림을 선택합니다.\" '희안하네~' 네 그렇습니다. 그런데말입니다.\n",
        "\n",
        "훌륭한 강사는 위 동작을 이렇게 설명합니다. \"올림을 하든 내림은 하든 오차는 0.5로 동일하니 이왕이면 짝수를 택하겠어!\"\n",
        "\n",
        "<br>\n",
        "\n",
        "*파이썬의 round() 함수를 만든 사람을 만난다면 이렇게 이야기 해주고 싶습니다. \"제발 이상한 짓좀 하지마!\"*\n"
      ],
      "metadata": {
        "id": "prXAxh4iN_00"
      }
    },
    {
      "cell_type": "markdown",
      "source": [],
      "metadata": {
        "id": "8ySpmpFZOiLS"
      }
    },
    {
      "cell_type": "markdown",
      "source": [
        "####<ins>from 구문</ins>\n",
        "모듈에는 정말 많은 변수와 함수가 들어 있습니다. 하지만 그중에서 우리가 활용하고 싶은 함수(기능)은 몇 개 안될 것입니다. 그리고 `math` 모듈이 가지고 있는 `sin()`을 사용하기 위해 `math.sin()`과 같이 `모듈_이름.함수_이름()` 형태로 매번 모듈 이름을 함수 이름 앞에 쓰는 것도 번거로운 일입니다.\n",
        "\n",
        "이 때 아래와 같이 from 구문을 활용하여 사용할 함수만 가져올 수 있으며 아래와 같이 코딩 되었을 때 모듈이 가지고 있는 함수 호출 시 모듈 이름을 생략할 수 있습니다.\n",
        "\n",
        "```python\n",
        "from 모듈_이름 import 가져오고_싶은_변수_또는_함수_이름\n",
        "```"
      ],
      "metadata": {
        "id": "NAHFdPInOq8_"
      }
    },
    {
      "cell_type": "code",
      "source": [
        "# math 모듈에는 sin, cos, tan 이외에도 많은 함수들이 포함되어 있음.\n",
        "# 필요한, 사용할 함수만 가져오기 위해 아래와 같이 코딩함\n",
        "from math import sin, cos, tan\n",
        "\n",
        "print( sin(0) )\n",
        "print( cos(0) )\n",
        "print( tan(0) )"
      ],
      "metadata": {
        "colab": {
          "base_uri": "https://localhost:8080/"
        },
        "id": "endUjQCxIgiH",
        "outputId": "c5023092-189b-4ebb-c14a-3a65f8a483d8"
      },
      "execution_count": null,
      "outputs": [
        {
          "output_type": "stream",
          "name": "stdout",
          "text": [
            "0.0\n",
            "1.0\n",
            "0.0\n"
          ]
        }
      ]
    },
    {
      "cell_type": "markdown",
      "source": [
        "언제 어떤 함수를 사용하지 모르니 math 모듈에 포함된 모든 함수를 다 가져오고 싶고 math 모듈에 포함된 함수를 호출할 때 함수 이름 앞에 모듈 이름을 쓰는 번거로움도 피하고 싶다면 아래와 같이 코딩하면 됩니다.\n",
        "\n",
        "```python\n",
        "from math import *\n",
        "```\n",
        "\n",
        "다만 기존 사용하고 있던 함수 이름과 math 모듈에 포함된 함수 이름이 같을 경우 출돌이 생김으로 모듈에서 필요한, 사용할 함수만 import 하는 것이 좋습니다."
      ],
      "metadata": {
        "id": "ZEfPw3mLP96z"
      }
    },
    {
      "cell_type": "code",
      "source": [
        "from math import *\n",
        "print( sin(0) )\n",
        "print( math.sin(0))\n",
        "\n",
        "print( cos(0) )\n",
        "print( math.cos(0) )\n",
        "\n",
        "print( tan(0) )\n",
        "print( math.tan(0) )"
      ],
      "metadata": {
        "colab": {
          "base_uri": "https://localhost:8080/"
        },
        "id": "A_C8yWJyP2Bs",
        "outputId": "b4fd94c0-9cb3-4c3e-d82d-34f0c1384fef"
      },
      "execution_count": null,
      "outputs": [
        {
          "output_type": "stream",
          "name": "stdout",
          "text": [
            "0.0\n",
            "0.0\n",
            "1.0\n",
            "1.0\n",
            "0.0\n",
            "0.0\n"
          ]
        }
      ]
    },
    {
      "cell_type": "code",
      "source": [],
      "metadata": {
        "id": "LE3jyVOLQWlM"
      },
      "execution_count": null,
      "outputs": []
    },
    {
      "cell_type": "markdown",
      "source": [
        "####<ins>as 구문</ins>\n",
        "모듈을 가져(import)오려고 하는데 동일한 이름이 있을 수 있습니다. 또는 모듈 이름이 너무 길 때 (모듈 이름이 마음에 안 들 때도) 아래와 같이 코딩하여 모듈 이름에 별명을 붙일 수 있습니다.\n",
        "\n",
        "```python\n",
        "import 모듈_이름 as 사용하고_싶은_모듈_이름\n",
        "```\n"
      ],
      "metadata": {
        "id": "YYS5vy1ZQXpi"
      }
    },
    {
      "cell_type": "code",
      "source": [
        "import math as m\n",
        "print( m.sin(0) )\n",
        "print( m.cos(0) )"
      ],
      "metadata": {
        "colab": {
          "base_uri": "https://localhost:8080/"
        },
        "id": "pIqCOEjYQ_aW",
        "outputId": "11a37f56-0517-47c4-f6cc-43ea00bc0873"
      },
      "execution_count": null,
      "outputs": [
        {
          "output_type": "stream",
          "name": "stdout",
          "text": [
            "0.0\n",
            "1.0\n"
          ]
        }
      ]
    },
    {
      "cell_type": "markdown",
      "source": [
        "우리가 친구를 부를 때 별명을 부르기도 하지만 이름을 불렀을 때도 당현히 친구가 대답을 하겠죠? 아래 코드를 보십시요."
      ],
      "metadata": {
        "id": "PyYELycORKtc"
      }
    },
    {
      "cell_type": "code",
      "source": [
        "import math as m      # 1반의 별칭은 코끼리반\n",
        "print( math.sin(0) )  # 1반.김성필\n",
        "print( math.cos(0) )  # 1반.김민재\n",
        "\n",
        "print( sin(0) )       # 김성필\n",
        "print( cos(0) )       # 김민재\n",
        "\n",
        "print( m.sin(0) )     # 코끼리반.김성필\n",
        "print( m.cos(0) )     # 코끼리반.김민재"
      ],
      "metadata": {
        "colab": {
          "base_uri": "https://localhost:8080/"
        },
        "id": "PxsKzsheRFJx",
        "outputId": "10c06bac-1685-400e-e54d-c3e7b75254bd"
      },
      "execution_count": null,
      "outputs": [
        {
          "output_type": "stream",
          "name": "stdout",
          "text": [
            "0.0\n",
            "1.0\n",
            "0.0\n",
            "1.0\n",
            "0.0\n",
            "0.0\n"
          ]
        }
      ]
    },
    {
      "cell_type": "markdown",
      "source": [
        "###random 모듈\n",
        "이전에 `random` 모듈을 사용한 적이 있습니다. 다음과 같은 방법으로 `random` 모듈을 가져와 사용할 수 있습니다.\n",
        "\n",
        "```python\n",
        "import random\n",
        "```\n",
        "\n",
        "\\[[random module](https://docs.python.org/3/library/random.html)\\]\n"
      ],
      "metadata": {
        "id": "tW3cM76UqTNr"
      }
    },
    {
      "cell_type": "code",
      "source": [
        "import random\n",
        "\n",
        "# random() : 0.0 <= x < 1.0 범위에서 float형 숫자를 반환\n",
        "print('random.random() : ', random.random())\n",
        "\n",
        "# uniform(min, max): 지정된 범위(min <= x <= max)에서 float형 숫자를 반환\n",
        "print('raddom.uniform(10, 20) :', random.uniform(10, 20))\n",
        "\n",
        "# randrange(): 지정한 범위에 드는 int 형 숫자를 반환\n",
        "# - randrange(max) : 0부터 max 사이(0 <= x < max)의 int 형 숫자를 반환\n",
        "# - randrage(min, max) : min부터 max 사이(min <= x < max)의 값을 반환\n",
        "print('random.randrange(10) :', random.randrange(5))\n",
        "\n",
        "# choice(list): 리스트 내부에 있는 요소를 랜덤하게 선택합니다.\n",
        "print('random.choice([1, 2, 3, 4, 5] :', random.choice([1, 2, 3, 4, 5]))\n",
        "\n",
        "# shuffle(list) : 리스트의 요소를 랜덤하게 섞습니다.\n",
        "print('random.shuffle([1, 2, 3, 4, 5] :', random.shuffle([1, 2, 3, 4, 5]))\n",
        "\n",
        "# sample(list, k=숫자) : 리스트에서 k개의 요소를 임의로 뽑습니다.\n",
        "print('random.sample([1, 2, 3, 4, 5], 2]) :', random.sample([1, 2, 3, 4, 5], 2))"
      ],
      "metadata": {
        "colab": {
          "base_uri": "https://localhost:8080/"
        },
        "id": "y3lOqYBerEco",
        "outputId": "ea7d69d4-8597-4e05-a5a0-b0791d401da1"
      },
      "execution_count": null,
      "outputs": [
        {
          "output_type": "stream",
          "name": "stdout",
          "text": [
            "random.random() :  0.8339232598505231\n",
            "raddom.uniform(10, 20) : 16.68186895061961\n",
            "random.randrange(10) : 0\n",
            "random.choice([1, 2, 3, 4, 5] : 3\n",
            "random.shuffle([1, 2, 3, 4, 5] : None\n",
            "random.sample([1, 2, 3, 4, 5], 2]) : [4, 5]\n"
          ]
        }
      ]
    },
    {
      "cell_type": "markdown",
      "source": [
        "위 코드를 보면서 두 가지 이야기를 추가적으로 하고 싶습니다.\n",
        "1. 매번 귀찮게 `random` 모듈명을 앞에 붙이고 함수를 호출해야 하나?\n",
        "2. 출력 결과 중에 \"random.shuffle([1, 2, 3, 4, 5]) : None\"가 보이는데 None?\n",
        "\n",
        "1번 항목 관련해서는 앞서 설명드린 적이 있습니다.\n",
        "```python\n",
        "import random\n",
        "```\n",
        "코드를 아래와 같이 수정해서 사용할 함수만 가지고 오는 것입니다. 그러면 이 함수를 사용할 때 함수 이름 앞에 `모듈_이름.`을 붙이지 않아도 됩니다.\n",
        "\n",
        "```python\n",
        "from random import random, uniform, randrange, choice, shuffle, sample\n",
        "```"
      ],
      "metadata": {
        "id": "2s1HMD2Fuydd"
      }
    },
    {
      "cell_type": "code",
      "source": [
        "from random import random, uniform, randrange, choice, shuffle, sample\n",
        "\n",
        "# random() : 0.0 <= x < 1.0 범위에서 float형 숫자를 반환\n",
        "print('random.random() : ', random())\n",
        "\n",
        "# uniform(min, max): 지정된 범위(min <= x <= max)에서 float형 숫자를 반환\n",
        "print('raddom.uniform(10, 20) :', uniform(10, 20))\n",
        "\n",
        "# randrange(): 지정한 범위에 드는 int 형 숫자를 반환\n",
        "# - randrange(max) : 0부터 max 사이(0 <= x < max)의 int 형 숫자를 반환\n",
        "# - randrage(min, max) : min부터 max 사이(min <= x < max)의 값을 반환\n",
        "print('random.randrange(10) :', randrange(5))\n",
        "\n",
        "# choice(list): 리스트 내부에 있는 요소를 랜덤하게 선택합니다.\n",
        "print('random.choice([1, 2, 3, 4, 5] :', choice([1, 2, 3, 4, 5]))\n",
        "\n",
        "# shuffle(list) : 리스트의 요소를 랜컫하게 섞습니다.\n",
        "print('random.shuffle([1, 2, 3, 4, 5] :', shuffle([1, 2, 3, 4, 5]))\n",
        "\n",
        "# sample(list, k=숫자) : 리스트에서 k개의 요소를 임의로 뽑습니다.\n",
        "print('random.sample([1, 2, 3, 4, 5], 2]) :', sample([1, 2, 3, 4, 5], 2))"
      ],
      "metadata": {
        "id": "ODS-Hp8PRJlb",
        "colab": {
          "base_uri": "https://localhost:8080/"
        },
        "outputId": "853f8dbe-7270-47ae-8129-2e3c1211b6e2"
      },
      "execution_count": null,
      "outputs": [
        {
          "output_type": "stream",
          "name": "stdout",
          "text": [
            "random.random() :  0.35458737092867054\n",
            "raddom.uniform(10, 20) : 18.387896226308023\n",
            "random.randrange(10) : 3\n",
            "random.choice([1, 2, 3, 4, 5] : 4\n",
            "random.shuffle([1, 2, 3, 4, 5] : None\n",
            "random.sample([1, 2, 3, 4, 5], 2]) : [2, 5]\n"
          ]
        }
      ]
    },
    {
      "cell_type": "markdown",
      "source": [
        "이제 위에서 언급한 2번 항목에 대해서 생각해 보겠습니다. 오랜만에 영어문장 해석 한번 해볼까요?\n",
        "\n",
        "```python\n",
        "random.shuffle(x[, random])\n",
        "```\n",
        "\"Shuffle the sequence x **in place**.\" 뭐라고 하는 겁니까?"
      ],
      "metadata": {
        "id": "V9N37BNfv-Jp"
      }
    },
    {
      "cell_type": "code",
      "source": [
        "from random import shuffle\n",
        "lst = [1, 2, 3, 4, 5]\n",
        "print( shuffle(lst) )\n",
        "print( lst )"
      ],
      "metadata": {
        "colab": {
          "base_uri": "https://localhost:8080/"
        },
        "id": "j8Zj1L64wIm6",
        "outputId": "f73af539-359a-40e0-8bb3-d1d71e5d0f6b"
      },
      "execution_count": null,
      "outputs": [
        {
          "output_type": "stream",
          "name": "stdout",
          "text": [
            "None\n",
            "[2, 1, 4, 3, 5]\n"
          ]
        }
      ]
    },
    {
      "cell_type": "markdown",
      "source": [
        "\"in place\"를 어떻게 해석해야 하는지 이해되세요? (이 표현 \"in place\"는 판다스를 공부할 때 또 등장합니다.)\n"
      ],
      "metadata": {
        "id": "a9kPIjTozamJ"
      }
    },
    {
      "cell_type": "markdown",
      "source": [
        "#####◃참고▹ - Randomly Shuffle Not in Place\n",
        "\n",
        "원본 리스트는 유지하면서 요소가 섞인 새로운 리트스가 필요할 때가 있습니다. 예를 들어 `lst = [1, 2, 3, 4, 5]`일 때 이 원본 `lst`의 요소를 썩은 새로운 리스트가 필요할 때가 있다는 것이죠. 이런 경우 어떻게 코딩할지 두 가지 방법으로 알아보겠습니다.\n",
        "\n",
        "1. 원본 리스트를 복사(copy)해서 새로운 리스트를 만들고 이 새로운 리스트를 섞는 것입니다.\n",
        "\n",
        "2. `random.sample()`함수를 적적히 사용하면 원본 리스트 변화 없이 원본 리스트의 요소가 섞인 리스트를 생성할 수 있습니다."
      ],
      "metadata": {
        "id": "BvlTZKMkz3kA"
      }
    },
    {
      "cell_type": "code",
      "source": [
        "# 1번\n",
        "import random\n",
        "lst = [1, 2, 3, 4, 5]\n",
        "\n",
        "new_lst = lst.copy()\n",
        "random.shuffle(new_lst)\n",
        "\n",
        "print('원본 리스트 :', lst)\n",
        "print('요소가 섞인 리스트 :', new_lst)"
      ],
      "metadata": {
        "colab": {
          "base_uri": "https://localhost:8080/"
        },
        "id": "G4LaWRrB02eF",
        "outputId": "dd4ec650-7cc2-4064-81bd-652be93d7ea9"
      },
      "execution_count": null,
      "outputs": [
        {
          "output_type": "stream",
          "name": "stdout",
          "text": [
            "[1, 2, 3, 4, 5]\n",
            "[4, 1, 5, 3, 2]\n"
          ]
        }
      ]
    },
    {
      "cell_type": "code",
      "source": [
        "# 2번\n",
        "import random\n",
        "lst = [1, 2, 3, 4, 5]\n",
        "\n",
        "new_lst = random.sample(lst, len(lst))\n",
        "\n",
        "print('원본 리스트 :', lst)\n",
        "print('요소가 섞인 리스트 :', new_lst)"
      ],
      "metadata": {
        "colab": {
          "base_uri": "https://localhost:8080/"
        },
        "id": "BzjQLF0jvxrZ",
        "outputId": "a83bbcba-dec0-459f-de27-8bd41405c922"
      },
      "execution_count": null,
      "outputs": [
        {
          "output_type": "stream",
          "name": "stdout",
          "text": [
            "원본 리스트 : [1, 2, 3, 4, 5]\n",
            "요소가 섞인 리스트 : [5, 4, 2, 1, 3]\n"
          ]
        }
      ]
    },
    {
      "cell_type": "markdown",
      "source": [
        "#####◃참고▹ - 문자열 섞기\n",
        "\"phirippa\" 문자열 데이터를 섞는다면 예를 들어 \"prhiipap\"이와 같은 수 있습니다. 그러나 `random.shuffle()`은 문자열 데이터에 대해서는 동작하지 않습니다."
      ],
      "metadata": {
        "id": "brMbBrVm12yB"
      }
    },
    {
      "cell_type": "code",
      "source": [
        "import random\n",
        "s = 'phrippa'\n",
        "\n",
        "random.shuffle(s)"
      ],
      "metadata": {
        "colab": {
          "base_uri": "https://localhost:8080/",
          "height": 339
        },
        "id": "UNVqgt1i2if-",
        "outputId": "58e9d5d6-ae52-483f-ee08-8ceb8e19d833"
      },
      "execution_count": null,
      "outputs": [
        {
          "output_type": "error",
          "ename": "TypeError",
          "evalue": "ignored",
          "traceback": [
            "\u001b[0;31m---------------------------------------------------------------------------\u001b[0m",
            "\u001b[0;31mTypeError\u001b[0m                                 Traceback (most recent call last)",
            "\u001b[0;32m<ipython-input-48-44377e1038cb>\u001b[0m in \u001b[0;36m<module>\u001b[0;34m\u001b[0m\n\u001b[1;32m      2\u001b[0m \u001b[0ms\u001b[0m \u001b[0;34m=\u001b[0m \u001b[0;34m'phrippa'\u001b[0m\u001b[0;34m\u001b[0m\u001b[0;34m\u001b[0m\u001b[0m\n\u001b[1;32m      3\u001b[0m \u001b[0;34m\u001b[0m\u001b[0m\n\u001b[0;32m----> 4\u001b[0;31m \u001b[0mrandom\u001b[0m\u001b[0;34m.\u001b[0m\u001b[0mshuffle\u001b[0m\u001b[0;34m(\u001b[0m\u001b[0ms\u001b[0m\u001b[0;34m)\u001b[0m\u001b[0;34m\u001b[0m\u001b[0;34m\u001b[0m\u001b[0m\n\u001b[0m",
            "\u001b[0;32m/usr/lib/python3.8/random.py\u001b[0m in \u001b[0;36mshuffle\u001b[0;34m(self, x, random)\u001b[0m\n\u001b[1;32m    305\u001b[0m                 \u001b[0;31m# pick an element in x[:i+1] with which to exchange x[i]\u001b[0m\u001b[0;34m\u001b[0m\u001b[0;34m\u001b[0m\u001b[0;34m\u001b[0m\u001b[0m\n\u001b[1;32m    306\u001b[0m                 \u001b[0mj\u001b[0m \u001b[0;34m=\u001b[0m \u001b[0mrandbelow\u001b[0m\u001b[0;34m(\u001b[0m\u001b[0mi\u001b[0m\u001b[0;34m+\u001b[0m\u001b[0;36m1\u001b[0m\u001b[0;34m)\u001b[0m\u001b[0;34m\u001b[0m\u001b[0;34m\u001b[0m\u001b[0m\n\u001b[0;32m--> 307\u001b[0;31m                 \u001b[0mx\u001b[0m\u001b[0;34m[\u001b[0m\u001b[0mi\u001b[0m\u001b[0;34m]\u001b[0m\u001b[0;34m,\u001b[0m \u001b[0mx\u001b[0m\u001b[0;34m[\u001b[0m\u001b[0mj\u001b[0m\u001b[0;34m]\u001b[0m \u001b[0;34m=\u001b[0m \u001b[0mx\u001b[0m\u001b[0;34m[\u001b[0m\u001b[0mj\u001b[0m\u001b[0;34m]\u001b[0m\u001b[0;34m,\u001b[0m \u001b[0mx\u001b[0m\u001b[0;34m[\u001b[0m\u001b[0mi\u001b[0m\u001b[0;34m]\u001b[0m\u001b[0;34m\u001b[0m\u001b[0;34m\u001b[0m\u001b[0m\n\u001b[0m\u001b[1;32m    308\u001b[0m         \u001b[0;32melse\u001b[0m\u001b[0;34m:\u001b[0m\u001b[0;34m\u001b[0m\u001b[0;34m\u001b[0m\u001b[0m\n\u001b[1;32m    309\u001b[0m             \u001b[0m_int\u001b[0m \u001b[0;34m=\u001b[0m \u001b[0mint\u001b[0m\u001b[0;34m\u001b[0m\u001b[0;34m\u001b[0m\u001b[0m\n",
            "\u001b[0;31mTypeError\u001b[0m: 'str' object does not support item assignment"
          ]
        }
      ]
    },
    {
      "cell_type": "markdown",
      "source": [
        "그래서 문자열 데이터를 리스트 형 데이터로 변환한 후 `shuffle()`함수를 전달하여 섞습니다. 각 요소의 섞인 리스트를 `join()`를 이용하여 하나의 문자열로 만듭니다."
      ],
      "metadata": {
        "id": "qFSW0xTQ3QKF"
      }
    },
    {
      "cell_type": "code",
      "source": [
        "import random\n",
        "s = 'phirippa'\n",
        "\n",
        "lst = list(s)             #['p', 'h', 'i', 'r', 'i', 'p', 'p', 'a]\n",
        "random.shuffle(lst)\n",
        "final_s = ''.join(lst)\n",
        "\n",
        "print(final_s)"
      ],
      "metadata": {
        "colab": {
          "base_uri": "https://localhost:8080/"
        },
        "id": "eWUvDmPh1UJ_",
        "outputId": "4417ead4-9355-40dc-a9b5-375aaf28b847"
      },
      "execution_count": null,
      "outputs": [
        {
          "output_type": "stream",
          "name": "stdout",
          "text": [
            "paipprhi\n"
          ]
        }
      ]
    },
    {
      "cell_type": "markdown",
      "source": [
        "###sys 모듈\n",
        "sys 모듈은 시스템과 관련된 정보를 다룰 수 있는 함수들의 집합체입니다."
      ],
      "metadata": {
        "id": "YhNA6OZA33s8"
      }
    },
    {
      "cell_type": "code",
      "source": [
        "import sys\n",
        "\n",
        "# 컴퓨터 환경과 관련된 정보를 출력\n",
        "print( sys.copyright )\n",
        "print('-'*128)\n",
        "print( sys.version )\n"
      ],
      "metadata": {
        "colab": {
          "base_uri": "https://localhost:8080/"
        },
        "id": "7sNd_7KL20lm",
        "outputId": "b01c5766-66a8-439a-98d0-24ea5598211e"
      },
      "execution_count": null,
      "outputs": [
        {
          "output_type": "stream",
          "name": "stdout",
          "text": [
            "Copyright (c) 2001-2023 Python Software Foundation.\n",
            "All Rights Reserved.\n",
            "\n",
            "Copyright (c) 2000 BeOpen.com.\n",
            "All Rights Reserved.\n",
            "\n",
            "Copyright (c) 1995-2001 Corporation for National Research Initiatives.\n",
            "All Rights Reserved.\n",
            "\n",
            "Copyright (c) 1991-1995 Stichting Mathematisch Centrum, Amsterdam.\n",
            "All Rights Reserved.\n",
            "--------------------------------------------------------------------------------------------------------------------------------\n",
            "3.10.12 (main, Jun  7 2023, 12:45:35) [GCC 9.4.0]\n"
          ]
        }
      ]
    },
    {
      "cell_type": "markdown",
      "source": [
        "###os 모듈\n",
        "os 모듈은 운영체제와 관련된 기능을 가진 모듈입니다. 새로운 폴더를 만들거나 폴더 내부의 파일 목록을 보는 일도 모두 os 모듈을 활용하여 처리합니다."
      ],
      "metadata": {
        "id": "KK1KxdVh6bsr"
      }
    },
    {
      "cell_type": "code",
      "source": [
        "import os\n",
        "\n",
        "print(os.name)          # 현제 운영체제\n",
        "print(os.getcwd())      # 현재 폴더\n",
        "print(os.listdir())     # 현재 폴더 내부의 요소"
      ],
      "metadata": {
        "colab": {
          "base_uri": "https://localhost:8080/"
        },
        "id": "jAQAauNo6uh1",
        "outputId": "39196453-af04-45b8-c1b2-4a7a5872ccee"
      },
      "execution_count": null,
      "outputs": [
        {
          "output_type": "stream",
          "name": "stdout",
          "text": [
            "posix\n",
            "/content\n",
            "['.config', 'sample_data']\n"
          ]
        }
      ]
    },
    {
      "cell_type": "code",
      "source": [
        "os.mkdir('hello')     # 폴더 생성"
      ],
      "metadata": {
        "id": "cgRThHzh4yGk"
      },
      "execution_count": null,
      "outputs": []
    },
    {
      "cell_type": "code",
      "source": [
        "os.rmdir('hello')     # 폴더 삭제"
      ],
      "metadata": {
        "id": "6qk-sZW6UNmV"
      },
      "execution_count": null,
      "outputs": []
    },
    {
      "cell_type": "code",
      "source": [
        "with open('original.txt', 'w') as file:\n",
        "  file.write('hi~')"
      ],
      "metadata": {
        "id": "aTQ4dR58USxM"
      },
      "execution_count": null,
      "outputs": []
    },
    {
      "cell_type": "code",
      "source": [
        "os.rename('original.txt', 'new.txt')"
      ],
      "metadata": {
        "id": "RYljkHJhUtAi"
      },
      "execution_count": null,
      "outputs": []
    },
    {
      "cell_type": "code",
      "source": [
        "os.remove('new.txt')"
      ],
      "metadata": {
        "id": "tqTQokT9VIE8"
      },
      "execution_count": null,
      "outputs": []
    },
    {
      "cell_type": "code",
      "source": [
        "os.system('ls')       #colab에서 실행한 결과와 pc에서 실행한 결과가 다름."
      ],
      "metadata": {
        "colab": {
          "base_uri": "https://localhost:8080/"
        },
        "id": "Xb4hxle_Ver8",
        "outputId": "ecaea3c0-d1d1-4369-be49-d6fb2148d787"
      },
      "execution_count": null,
      "outputs": [
        {
          "output_type": "execute_result",
          "data": {
            "text/plain": [
              "0"
            ]
          },
          "metadata": {},
          "execution_count": 6
        }
      ]
    },
    {
      "cell_type": "markdown",
      "source": [
        "###datetime 모듈\n",
        "datetime 모듈은 date(날자), time(시간)과 관련된 모듈로, 날짜 형식을 만들 때 자주 사용됩니다. 앞서 조건문을 배우면서 시간을 구할 때 잠깐 사용해 보았습니다.\n"
      ],
      "metadata": {
        "id": "8QMDYdQHdEGa"
      }
    },
    {
      "cell_type": "code",
      "source": [
        "import datetime\n",
        "\n",
        "#현재 시각을 구하고 출력\n",
        "print('현재 시각 출력')\n",
        "now = datetime.datetime.now()       # look at me\n",
        "\n",
        "print(str( now.year )+'년', end = ' ')\n",
        "print(str( now.month )+'월', end= ' ')\n",
        "print(str( now.day )+'일')\n",
        "\n",
        "#print(str( now.hour )+'시', end = ':')\n",
        "print(str( now.hour + 9 )+'시', end = ':')\n",
        "print(str( now.minute )+'분', end= ':')\n",
        "print(str( now.second )+'초')"
      ],
      "metadata": {
        "colab": {
          "base_uri": "https://localhost:8080/"
        },
        "id": "Xf6i2FZqjq_X",
        "outputId": "c01cd8c6-93b5-48aa-fd6b-f4e2a918ed2e"
      },
      "execution_count": null,
      "outputs": [
        {
          "output_type": "stream",
          "name": "stdout",
          "text": [
            "현재 시각 출력\n",
            "2024년 1월 10일\n",
            "15시:30분:24초\n"
          ]
        }
      ]
    },
    {
      "cell_type": "markdown",
      "source": [
        "datetime 모듈의 다양한 활용에 대해서는 교재(혼자 공부하는 파이썬)를 참고하세요."
      ],
      "metadata": {
        "id": "V-s2TxZ9koiQ"
      }
    },
    {
      "cell_type": "markdown",
      "source": [
        "###time 모듈\n"
      ],
      "metadata": {
        "id": "blfOQuIGdIB7"
      }
    },
    {
      "cell_type": "markdown",
      "source": [
        "###urllib 모듈"
      ],
      "metadata": {
        "id": "dDGOrS7ZdNj6"
      }
    },
    {
      "cell_type": "markdown",
      "source": [
        "##Ch07-2 외부 모듈\n",
        "\n",
        "파이썬 기본 활용법을 학습하고 나면 '데이터 분석', '인공지능', '웹서버' 등 다양한 프로그램을 구현하고 싶어질 것입니다. 데이터 분석을 도와 주는 모듈로 넘파이<sup>Numpy</sup>, 판다스<sup>pandas</sup> 등이 있고 인공지능 코드를 구현하기 위한 모듈로 사이킷런<sup>scikit-learn</sup> 모듈 등이 있습니다. <font color=blue>이런 모듈들은 '외부 모듈'로 설치를 해야 합니다. </font>\n"
      ],
      "metadata": {
        "id": "I9q4KwROdUTG"
      }
    },
    {
      "cell_type": "markdown",
      "source": [
        "####**시작하기 전에**\n",
        "\n",
        "외부 모듈을 설치하기 위해 아래와 같은 명령어를 실행합니다.\n",
        "\n",
        "```python\n",
        "pip install 모듈_이름\n",
        "```\n",
        "\n",
        "코랩에서 외부 모듈를 설치하기 위해서는 코드셀에 아래와 같이 명령을 입력합니다.\n",
        "\n",
        "```python\n",
        "!pip install 모듈 이름\n",
        "```"
      ],
      "metadata": {
        "id": "Dq7yCjA7dZof"
      }
    },
    {
      "cell_type": "code",
      "source": [
        "!pip install matplotlib"
      ],
      "metadata": {
        "colab": {
          "base_uri": "https://localhost:8080/"
        },
        "id": "qlW9ROf040jT",
        "outputId": "f59918a9-6a92-4146-89af-e99a89c71f6e"
      },
      "execution_count": null,
      "outputs": [
        {
          "output_type": "stream",
          "name": "stdout",
          "text": [
            "Requirement already satisfied: matplotlib in /usr/local/lib/python3.10/dist-packages (3.7.1)\n",
            "Requirement already satisfied: contourpy>=1.0.1 in /usr/local/lib/python3.10/dist-packages (from matplotlib) (1.1.0)\n",
            "Requirement already satisfied: cycler>=0.10 in /usr/local/lib/python3.10/dist-packages (from matplotlib) (0.11.0)\n",
            "Requirement already satisfied: fonttools>=4.22.0 in /usr/local/lib/python3.10/dist-packages (from matplotlib) (4.40.0)\n",
            "Requirement already satisfied: kiwisolver>=1.0.1 in /usr/local/lib/python3.10/dist-packages (from matplotlib) (1.4.4)\n",
            "Requirement already satisfied: numpy>=1.20 in /usr/local/lib/python3.10/dist-packages (from matplotlib) (1.22.4)\n",
            "Requirement already satisfied: packaging>=20.0 in /usr/local/lib/python3.10/dist-packages (from matplotlib) (23.1)\n",
            "Requirement already satisfied: pillow>=6.2.0 in /usr/local/lib/python3.10/dist-packages (from matplotlib) (8.4.0)\n",
            "Requirement already satisfied: pyparsing>=2.3.1 in /usr/local/lib/python3.10/dist-packages (from matplotlib) (3.1.0)\n",
            "Requirement already satisfied: python-dateutil>=2.7 in /usr/local/lib/python3.10/dist-packages (from matplotlib) (2.8.2)\n",
            "Requirement already satisfied: six>=1.5 in /usr/local/lib/python3.10/dist-packages (from python-dateutil>=2.7->matplotlib) (1.16.0)\n"
          ]
        }
      ]
    },
    {
      "cell_type": "markdown",
      "source": [
        "###모듈 설치\n",
        "예를 들어 beautifulsoup4 모듈을 코랩에 설치하려면 아래와 같이 명령을 입력합니다."
      ],
      "metadata": {
        "id": "DTsz1j9udcaY"
      }
    },
    {
      "cell_type": "code",
      "source": [
        "!pip install beautifulsoup4"
      ],
      "metadata": {
        "colab": {
          "base_uri": "https://localhost:8080/"
        },
        "id": "daHewbYAnFOp",
        "outputId": "36e753ea-ffd0-432c-98de-d1df44300c70"
      },
      "execution_count": null,
      "outputs": [
        {
          "output_type": "stream",
          "name": "stdout",
          "text": [
            "Requirement already satisfied: beautifulsoup4 in /usr/local/lib/python3.10/dist-packages (4.11.2)\n",
            "Requirement already satisfied: soupsieve>1.2 in /usr/local/lib/python3.10/dist-packages (from beautifulsoup4) (2.5)\n"
          ]
        }
      ]
    },
    {
      "cell_type": "markdown",
      "source": [
        "코랩을 사용했을 때의 장점 중 하나가 다양한 모듈이 이미 설치 되어 있어 추가 설치 없이 사용이 가능하다는 것입니다. 위 코드셀의 실행 결과 출력된 메시지를 보면 \"Requirement already satisfied\"라고 나왔습니다. 이 말의 의미는 이미 만족된다, 이미 설치되어 있다라는 뜻입니다."
      ],
      "metadata": {
        "id": "GuJumYSRdeBD"
      }
    },
    {
      "cell_type": "markdown",
      "source": [
        "###모듈 찾아보기"
      ],
      "metadata": {
        "id": "FnWH3z1-dgAB"
      }
    },
    {
      "cell_type": "markdown",
      "source": [
        "###BeautifulSoup 모듈\n",
        " - 매우 유명한 웹 페이지 분석 모듈.\n",
        " - BeautifulSoup의 관련 [웹페이지](https://www.crummy.com/software/BeautifulSoup/bs4/doc/)"
      ],
      "metadata": {
        "id": "p0_dciNudilw"
      }
    },
    {
      "cell_type": "code",
      "source": [
        "import urllib.request\n",
        "import bs4\n",
        "\n",
        "url = \"https://naver.com\"\n",
        "html = urllib.request.urlopen(url)"
      ],
      "metadata": {
        "id": "eduoL3MHw3f_"
      },
      "execution_count": null,
      "outputs": []
    },
    {
      "cell_type": "code",
      "source": [
        "soup = bs4.BeautifulSoup(html, 'html.parser')\n",
        "print(soup)"
      ],
      "metadata": {
        "colab": {
          "base_uri": "https://localhost:8080/"
        },
        "id": "sHptbo9224Nq",
        "outputId": "5fc38fff-1577-40e0-df4d-7187babf593c"
      },
      "execution_count": null,
      "outputs": [
        {
          "output_type": "stream",
          "name": "stdout",
          "text": [
            " <!DOCTYPE html>\n",
            " <html class=\"fzoom\" lang=\"ko\"> <head> <meta charset=\"utf-8\"/> <meta content=\"IE=edge\" http-equiv=\"X-UA-Compatible\"/> <meta content=\"width=1190\" name=\"viewport\"/> <title>NAVER</title> <meta content=\"NAVER\" name=\"apple-mobile-web-app-title\"> <meta content=\"index,nofollow\" name=\"robots\"> <meta content=\"네이버 메인에서 다양한 정보와 유용한 컨텐츠를 만나 보세요\" name=\"description\"> <meta content=\"네이버\" property=\"og:title\"/> <meta content=\"https://www.naver.com/\" property=\"og:url\"/> <meta content=\"https://s.pstatic.net/static/www/mobile/edit/2016/0705/mobile_212852414260.png\" property=\"og:image\"/> <meta content=\"네이버 메인에서 다양한 정보와 유용한 컨텐츠를 만나 보세요\" property=\"og:description\"> <meta content=\"summary\" name=\"twitter:card\"/> <meta content=\"\" name=\"twitter:title\"/> <meta content=\"https://www.naver.com/\" name=\"twitter:url\"/> <meta content=\"https://s.pstatic.net/static/www/mobile/edit/2016/0705/mobile_212852414260.png\" name=\"twitter:image\"/> <meta content=\"네이버 메인에서 다양한 정보와 유용한 컨텐츠를 만나 보세요\" name=\"twitter:description\"> <link href=\"/favicon.ico?1\" rel=\"shortcut icon\" type=\"image/x-icon\"/> <link href=\"https://s.pstatic.net/static/www/nFavicon96.png\" rel=\"apple-touch-icon-precomposed\"> <link href=\"https://s.pstatic.net/static/www/u/2014/0328/mma_204243574.png\" rel=\"apple-touch-icon\" sizes=\"114x114\"/> <link href=\"https://s.pstatic.net/static/www/u/2014/0328/mma_20432863.png\" rel=\"apple-touch-icon\"/> <link href=\"https://ssl.pstatic.net/sstatic/search/pc/css/sp_autocomplete_220526.css\" rel=\"stylesheet\"/> <script>window.gladsdk=window.gladsdk||{},window.gladsdk.cmd=window.gladsdk.cmd||[],window.ndpsdk=window.ndpsdk||{},window.ndpsdk.cmd=window.ndpsdk.cmd||[],window.ndpsdk.polyfill=window.ndpsdk.polyfill||{cmd:[]};var g_ssc=\"navertop.v5\";window.nsc=g_ssc</script> <script async=\"\" src=\"https://ssl.pstatic.net/tveta/libs/ndpsdk/prod/ndp-loader.js\"></script> <script async=\"\" src=\"https://ssl.pstatic.net/tveta/libs/glad/prod/gfp-core.js\"></script> <script>\n",
            "  window[\"EAGER-DATA\"] = window[\"EAGER-DATA\"] || {};\n",
            "  \n",
            "    window[\"EAGER-DATA\"][\"PC-FEED-WRAPPER\"] = {\"@type\":\"BLOCK\",\"blocks\":[{\"@type\":\"BLOCK\",\"blocks\":[{\"@type\":\"BLOCK\",\"blocks\":null,\"materials\":null,\"excludeInPaging\":false,\"positionForPaging\":0,\"realtime\":false,\"_id\":null,\"@type\":\"BLOCK\",\"@code\":\"PC-FEED-LIVINGHOME-CAS-EDIT\",\"@template\":\"PC-FEED-CAS-EDIT\",\"@flowId\":null,\"@flowExecutionId\":null,\"@provider\":null,\"@lastModifiedAt\":null},{\"@type\":\"BLOCK\",\"blocks\":null,\"materials\":[{\"@type\":\"MATERIAL-PC-FEED\",\"title\":\"싱크대리폼 현대L&C 보닥타일 주방셀프인테리어 후기\",\"url\":\"https://in.naver.com/104home/contents/internal/568466450684960\",\"image\":{\"url\":\"https://s.pstatic.net/dthumb.phinf/?src=%22http%3A%2F%2Fblogfiles.naver.net%2FMjAyMzA1MjVfODkg%2FMDAxNjg1MDE5MTE5MTQy.gretQJY2NUMxGxjqZrV5KFmdKUyxMN5hBbBvr9GeELEg.ugYcc1b3PL654NXJzD7kE3UaGh-FWTXVrCSD9OpIuC8g.JPEG.borateach%2F20230513_150909.jpg%22&type=ff364_236&service=navermain\"},\"source\":{\"name\":\"104home\",\"image\":{\"url\":\"https://s.pstatic.net/dthumb.phinf/?src=%22http%3A%2F%2Fblogpfthumb.phinf.naver.net%2FMjAyMjEyMTRfMjUw%2FMDAxNjcwOTQzODg5MTAz.-FCKfARzL9msg_16VtFnYd6bmgYHpvqOESjWuPLj41sg.kh3RSF2Vuds4Dt-3O-vZFutgfFCZ4t0j0oiw3TRlPMEg.JPEG.borateach%2F104home.jpg%2F104home.jpg%22&type=nf40_40&service=navermain\"}},\"_id\":\"6441ca92c499cc07f334c49b\"},{\"@type\":\"MATERIAL-PC-FEED\",\"title\":\"LG 무드업 냉장고 아티스트 컬렉션으로 근사한 주방 인테리어 완성\",\"url\":\"https://in.naver.com/yesica/contents/internal/579796499918144\",\"image\":{\"url\":\"https://s.pstatic.net/dthumb.phinf/?src=%22http%3A%2F%2Fblogfiles.naver.net%2FMjAyMzA1MjJfMjAg%2FMDAxNjg0NzQ5MTU2ODky.pSoSQwBR4luGKCu0DTWUp-ITSaSz7RcRxfjWCdnOAbsg.8SEo_hxHDzhyBalpqTrL1Ll8MG6LDArB37l7weokQ6Qg.JPEG.yesica00%2FIMG_5745.JPG%22&type=ff364_236&service=navermain\"},\"source\":{\"name\":\"예시카\",\"image\":{\"url\":\"https://s.pstatic.net/dthumb.phinf/?src=%22http%3A%2F%2Fblogpfthumb.phinf.naver.net%2FMjAyMTA3MTNfNTIg%2FMDAxNjI2MTU4NzgyMTI5._klQ4QRb0UsKz12U5ITSEZtamK32O7a747jRmnfk3ykg.F3as7IccHmGw8j86DU7mfiE3aYsd3CKVqR3GQoHkHCgg.JPEG.yesica00%2FKakaoTalk_20210713_154402789.jpg%22&type=nf40_40&service=navermain\"}},\"_id\":\"6441ca92c499cc07f334c49c\"},{\"@type\":\"MATERIAL-PC-FEED\",\"title\":\"버리기 아까운 드라이시트, 다양하게 재활용하는 사용법\",\"url\":\"https://blog.naver.com/sarange2016/223117622609\",\"image\":{\"url\":\"https://s.pstatic.net/dthumb.phinf/?src=%22https%3A%2F%2Fs.pstatic.net%2Fshop.phinf%2F20230704_46%2F1688462429922BaMRR_PNG%2Fcapture-20230704-181947.png%22&type=ff364_236&service=navermain\"},\"source\":{\"name\":\"소소예\",\"image\":{\"url\":\"https://s.pstatic.net/dthumb.phinf/?src=%22https%3A%2F%2Fs.pstatic.net%2Fshop.phinf%2F20230630_231%2F1688117935757wbS8j_PNG%2FprofileImage.png%22&type=nf40_40&service=navermain\"}},\"_id\":\"6441ca92c499cc07f334c49d\"},{\"@type\":\"MATERIAL-PC-FEED\",\"title\":\"최소한의 비용으로 미니멀하게 꾸민 24평 신혼집\",\"url\":\"https://blog.naver.com/onggiruru/223139618757\",\"image\":{\"url\":\"https://s.pstatic.net/dthumb.phinf/?src=%22https%3A%2F%2Fs.pstatic.net%2Fshop.phinf%2F20230704_162%2F1688462593901MwG8Y_PNG%2Fcapture-20230704-182229.png%22&type=ff364_236&service=navermain\"},\"source\":{\"name\":\"옹기망고\",\"image\":{\"url\":\"https://s.pstatic.net/dthumb.phinf/?src=%22https%3A%2F%2Fs.pstatic.net%2Fshop.phinf%2F20230628_123%2F1687945206347pmb87_JPEG%2FKakaoTalk_20230608_154123552_03.jpg%22&type=nf40_40&service=navermain\"}},\"_id\":\"6441ca92c499cc07f334c49e\"},{\"@type\":\"MATERIAL-PC-FEED\",\"title\":\"셀프 도배시공과 싱크대 페인트리폼으로 변화 준 주방인테리어\",\"url\":\"https://in.naver.com/rkal2010/contents/internal/565244871022016\",\"image\":{\"url\":\"https://s.pstatic.net/dthumb.phinf/?src=%22http%3A%2F%2Fblogfiles.naver.net%2FMjAyMzA1MTVfMTcx%2FMDAxNjg0MTQ2NjU1MDMw.5nOv1YVp7Ci1j2s_wN2Y4eIx1hii7Pw1KL29LWhxe0wg.4DtZ62EMiTnSBpF59bmMbzAuocUVk7mcaL9yIky3uaQg.JPEG.rkal2010%2FIMG_7565.JPG%22&type=ff364_236&service=navermain\"},\"source\":{\"name\":\"시크한까미\",\"image\":{\"url\":\"https://s.pstatic.net/dthumb.phinf/?src=%22http%3A%2F%2Fblogpfthumb.phinf.naver.net%2FMjAyMDA3MTdfMjU5%2FMDAxNTk0OTUwMDYwMjY5.fG4JyranmcE_nTGP9QH6GaQWfQfpxLaPEzZLR6rDYC8g.Rf8tzL6JDYBGI0J4LCMfA_9bmkl9e4TVV7jLUIToXAcg.JPEG.rkal2010%2FIMG_7511-1.JPG%22&type=nf40_40&service=navermain\"}},\"_id\":\"6441ca92c499cc07f334c49f\"},{\"@type\":\"MATERIAL-PC-FEED\",\"title\":\"플랜테리어로 싱그러움을 더한 오아시스같은 예쁜 주방인테리어! 단독주택 단층주택 소형주택짓기\",\"url\":\"https://m.post.naver.com/viewer/postView.naver?volumeNo=35700040&memberNo=4444311&vType=VERTICAL\",\"image\":{\"url\":\"https://s.pstatic.net/dthumb.phinf/?src=%22https%3A%2F%2Fs.pstatic.net%2Fpost.phinf%2FMjAyMzAzMjlfMjk0%2FMDAxNjgwMDY2ODQzOTcw.Hm2bk8TFMbbyrvwBYpdoKF_-VzjRHHfZcfsq3HrM_z0g.lfSXLTfSboG0aYoXUJ-1YrULvSyZpwk2Pu3L_N1YrE0g.JPEG%2FIAdCFbAOPKuVduA7Yx9nZJ0VVfLY.jpg%22&type=ff364_236&service=navermain\"},\"source\":{\"name\":\"디아티스트매거진\",\"image\":{\"url\":\"https://s.pstatic.net/dthumb.phinf/?src=%22https%3A%2F%2Fs.pstatic.net%2Fpost.phinf%2FMjAxNjExMTlfMTAy%2FMDAxNDc5NTMwMjIwNTA5.vHvDCthgrwuInNfm5bv_aaTzjTxbg0raQtZaYpRmCtYg.gwQGK25AmcKxx3K4ajED_WE_n3R5x4p5eA1ILrl71Lkg.JPEG%2Fpost_1326171732157117906.jpeg%3Ftype%3Df200_200%22&type=nf40_40&service=navermain\"}},\"_id\":\"6441ca92c499cc07f334c4a0\"},{\"@type\":\"MATERIAL-PC-FEED\",\"title\":\"[랜선집들이] 여름에 더욱 빛을 발하는 미니멀 인테리어: 아기방 홈스타일링\",\"url\":\"https://blog.naver.com/barbie2942/223133621956\",\"image\":{\"url\":\"https://s.pstatic.net/dthumb.phinf/?src=%22http%3A%2F%2Fblogfiles.naver.net%2FMjAyMzA2MTlfMjkw%2FMDAxNjg3MTc2MzE2MjM1.6rdTLY1zaono-_18Gn-gOyZwT00nCIaxQJ2V4pWYDTwg.N4Z4yCFMdYcj-pbJ7KEYZ_zJqlX0A1d5arx7ngDQcy0g.JPEG.barbie2942%2FIMG_6960.JPG%22&type=ff364_236&service=navermain\"},\"source\":{\"name\":\"왕사탕이\",\"image\":{\"url\":\"https://s.pstatic.net/dthumb.phinf/?src=%22http%3A%2F%2Fblogpfthumb.phinf.naver.net%2FMjAyMzAzMzFfMjE1%2FMDAxNjgwMjMwNTAyNzc2.yWN7ndMCFTMjmkbpPbaksoQb8YnXCC2M9t6tJ_v5iUkg.xPMlrylV8kU50VHfGE985UaQVBDGxNrg_MxwT3cfaHMg.PNG.barbie2942%2FprofileImage.png%22&type=nf40_40&service=navermain\"}},\"_id\":\"6441ca92c499cc07f334c4a1\"},{\"@type\":\"MATERIAL-PC-FEED\",\"title\":\"우리 집 좁은 주방인테리어 4인용 원형식탁 오블리크테이블로 해결!\",\"url\":\"https://in.naver.com/lydia2/contents/internal/577219465707392\",\"image\":{\"url\":\"https://s.pstatic.net/dthumb.phinf/?src=%22http%3A%2F%2Fblogfiles.naver.net%2FMjAyMzA2MTlfMjE3%2FMDAxNjg3MTg0MTcyMjkw.DFj_63pGUL00_JAW9MMqAYrTnV3m5mTN_vERa81Bn5Ug.p8HQzoruB-YCrX-fN00lkiTKRNSCbn7GDJTo08x6WK8g.JPEG.lydia2%2F%EC%98%A4%EB%B8%94%EB%A6%AC%ED%81%AC%ED%85%8C%EC%9D%B4%EB%B8%94_100.JPG%22&type=ff364_236&service=navermain\"},\"source\":{\"name\":\"비타은영\",\"image\":{\"url\":\"https://s.pstatic.net/dthumb.phinf/?src=%22http%3A%2F%2Fblogpfthumb.phinf.naver.net%2FMjAxOTAzMTNfMTEy%2FMDAxNTUyNDg1NzEyMTg5.F1PN_MsrTaqnEqe37y8vLgJkoXn0DZaPCCCr7VkTJEcg.BLKjunCh2lJbJsB_dRlXXVdoa3G9qGlDwOAaBj1UNwYg.JPEG.lydia2%2F%25C1%25FD%25B5%25E9%25C0%25CC113.JPG%22&type=nf40_40&service=navermain\"}},\"_id\":\"6441ca92c499cc07f334c4a2\"},{\"@type\":\"MATERIAL-PC-FEED\",\"title\":\"원룸 리모델링 8평 분리형 원룸 주방 거실인테리어\",\"url\":\"https://in.naver.com/susk20/contents/internal/579405464845696\",\"image\":{\"url\":\"https://s.pstatic.net/dthumb.phinf/?src=%22http%3A%2F%2Fblogfiles.naver.net%2FMjAyMzA2MjZfMTQx%2FMDAxNjg3NzUxNjEwNzEx.bPDzhxvPm7J1oh2zNeHk4yxoZY6gSxhWhDXaWXXOfDUg.qkB7xHGm3DmIzDIGn4FpZB7Lki5G7_v7e9Hzo_V9Abcg.JPEG.susk20%2F2.jpg%22&type=ff364_236&service=navermain\"},\"source\":{\"name\":\"러브화이트\",\"image\":{\"url\":\"https://s.pstatic.net/dthumb.phinf/?src=%22http%3A%2F%2Fblogpfthumb.phinf.naver.net%2FMjAxODExMjBfMjg0%2FMDAxNTQyNzA3OTY0NzY5.EMuiTeAmBk7ETimQoq2SDRjEzn1ZorNzchdJPi-0nvYg.FDw21TBAdSDNObHm5NIMUBxSMUKddoUCHgNrRTAtGecg.JPEG.susk20%2Fdfd.jpg%22&type=nf40_40&service=navermain\"}},\"_id\":\"6441ca92c499cc07f334c4a3\"},{\"@type\":\"MATERIAL-PC-FEED\",\"title\":\"온라인집들이, 1인 가구 자취방, 원룸 인테리어 아이디어 :D\",\"url\":\"https://in.naver.com/chuing___/contents/internal/565690444907904\",\"image\":{\"url\":\"https://s.pstatic.net/dthumb.phinf/?src=%22http%3A%2F%2Fblogfiles.naver.net%2FMjAyMzA1MThfMjE4%2FMDAxNjg0NDA4MTcyODEx.Lk8IcpsAxjZ4BWFLeI_IwbO8EYsZjvnT6skIFZyqyXgg.29Sn5y-fHjUXFlmuvz_ztdLh2N0E6_d6M2UAl57sz0Ag.JPEG.sacuu%2F5792bd169bf829d6359cdfdbeed77394.jpg%22&type=ff364_236&service=navermain\"},\"source\":{\"name\":\"츄잉\",\"image\":{\"url\":\"https://s.pstatic.net/dthumb.phinf/?src=%22http%3A%2F%2Fblogpfthumb.phinf.naver.net%2FMjAyMzAxMjdfNzkg%2FMDAxNjc0Nzc5MzQ5ODgy.xwlo3o_J5_ENOjSHFXpXLSKK8c9LsxurYl57q1kTS24g.bU8CJ7u-xsBlEu8G81gj9oHhqa_AFoPY8Y9q7_XE5xAg.JPEG.sacuu%2F20221117_145049_polarr.jpg%2F20221117_145049_polarr.jpg%22&type=nf40_40&service=navermain\"}},\"_id\":\"6441ca92c499cc07f334c4a4\"},{\"@type\":\"MATERIAL-PC-FEED\",\"title\":\"온라인집들이 주방아일랜드식탁으로 좁은 주방 인테리어\",\"url\":\"https://in.naver.com/jjumom/contents/internal/580227308916064\",\"image\":{\"url\":\"https://s.pstatic.net/dthumb.phinf/?src=%22http%3A%2F%2Fblogfiles.naver.net%2FMjAyMzA2MjhfMjU5%2FMDAxNjg3OTUzMDAzOTEw.JK_xYkWavPJ0oqDxq0IUJ24mIQipuAZJk7vphXUgoSAg.HILVscNExN2-CyqlFLb0kfp5xBoSx29mc7s7UjPP_aUg.JPEG.litty28%2FDCPO_91800IMG_1313.jpg%22&type=ff364_236&service=navermain\"},\"source\":{\"name\":\"견우네\",\"image\":{\"url\":\"https://s.pstatic.net/dthumb.phinf/?src=%22http%3A%2F%2Fblogpfthumb.phinf.naver.net%2FMjAxODA5MTBfOTgg%2FMDAxNTM2NTYyMTI0OTY2.R30pC-KTWUtMavAh_0v4uuPM-VoYNpEfLcz9KGlF07wg.IHEbt2IfMgeeGc0npRIO1x4Lgn844IFv6i9sBdBZ508g.JPEG.litty28%2F%25C7%25C1%25BB%25E7.jpg%22&type=nf40_40&service=navermain\"}},\"_id\":\"6441ca92c499cc07f334c4a5\"},{\"@type\":\"MATERIAL-PC-FEED\",\"title\":\"조적 파티션이 있는 고급스러운 화장실 #랜선집들이\",\"url\":\"https://blog.naver.com/1002_home/223107468925\",\"image\":{\"url\":\"https://s.pstatic.net/dthumb.phinf/?src=%22https%3A%2F%2Fs.pstatic.net%2Fshop.phinf%2F20230628_105%2F1687944946030Mc6Dl_PNG%2Fjno.PNG%22&type=ff364_236&service=navermain\"},\"source\":{\"name\":\"시이\",\"image\":{\"url\":\"https://s.pstatic.net/dthumb.phinf/?src=%22https%3A%2F%2Fs.pstatic.net%2Fshop.phinf%2F20230628_272%2F1687944942778vKILH_PNG%2FprofileImage_%25282%2529.png%22&type=nf40_40&service=navermain\"}},\"_id\":\"6441ca92c499cc07f334c4a6\"}],\"excludeInPaging\":false,\"positionForPaging\":0,\"realtime\":false,\"_id\":null,\"@type\":\"BLOCK\",\"@code\":\"PC-FEED-LIVINGHOME-CARD-1\",\"@template\":\"FOUR-COLUMNS\",\"@flowId\":null,\"@flowExecutionId\":null,\"@provider\":null,\"@lastModifiedAt\":null},{\"@type\":\"PC-FEED-BLOCK\",\"materials\":[{\"@type\":\"MATERIAL-PC-FEED\",\"title\":\"다육식물 세트로 전하는 작지만 큰 행복\",\"url\":\"https://happybean.naver.com/fundings/detail/F926?p=p&s=nmlp\",\"image\":{\"url\":\"https://s.pstatic.net/dthumb.phinf/?src=%22https%3A%2F%2Fhappybean-phinf.pstatic.net%2F20230531_128%2F1685543204427C8L06_JPEG%2Fth.jpg%3Ftype%3Df464_260%22&type=ff364_236&service=navermain\"},\"source\":{\"name\":\"블러썸농원\"},\"labels\":[{\"type\":\"happybean\",\"text\":\"펀딩\"}],\"fundingRate\":\"223\",\"_id\":\"6441ca92c499cc07f334c4a7\"},{\"@type\":\"MATERIAL-PC-FEED\",\"title\":\"알록달록 자연의 색을 기록하는 컬러헌팅 키트\",\"url\":\"https://happybean.naver.com/fundings/detail/F950?p=p&s=nmlp\",\"image\":{\"url\":\"https://s.pstatic.net/dthumb.phinf/?src=%22https%3A%2F%2Fhappybean-phinf.pstatic.net%2F20230615_118%2F1686807821133uAhL9_JPEG%2F%25B8%25EB%25A4%25EC123.jpg%3Ftype%3Df464_260%22&type=ff364_236&service=navermain\"},\"source\":{\"name\":\"컬러랩제주\"},\"labels\":[{\"type\":\"happybean\",\"text\":\"펀딩\"}],\"fundingRate\":\"134\",\"_id\":\"6441ca92c499cc07f334c4a8\"},{\"@type\":\"MATERIAL-PC-FEED\",\"title\":\"제주 특산물의 맛과 색을 품은 수제 초콜릿\",\"url\":\"https://happybean.naver.com/fundings/detail/F949?p=p&s=nmlp\",\"image\":{\"url\":\"https://s.pstatic.net/dthumb.phinf/?src=%22https%3A%2F%2Fhappybean-phinf.pstatic.net%2F20230619_105%2F1687163907246vFp2S_JPEG%2F%25EA%25B9.jpg%3Ftype%3Df464_260%22&type=ff364_236&service=navermain\"},\"source\":{\"name\":\"김녕쪼꼬뜨레\"},\"labels\":[{\"type\":\"happybean\",\"text\":\"펀딩\"}],\"fundingRate\":\"169\",\"_id\":\"6441ca92c499cc07f334c4a9\"},{\"@type\":\"MATERIAL-PC-FEED\",\"title\":\"자립준비청년들의 버킷리스트를 담은 제품\",\"url\":\"https://happybean.naver.com/fundings/detail/F941?p=p&s=nmlp\",\"image\":{\"url\":\"https://s.pstatic.net/dthumb.phinf/?src=%22https%3A%2F%2Fhappybean-phinf.pstatic.net%2F20230608_173%2F1686202563575G0Jcs_JPEG%2Fth.jpg%3Ftype%3Df464_260%22&type=ff364_236&service=navermain\"},\"source\":{\"name\":\"소이프\"},\"labels\":[{\"type\":\"happybean\",\"text\":\"펀딩\"}],\"fundingRate\":\"623\",\"_id\":\"6441ca92c499cc07f334c4aa\"}],\"excludeInPaging\":false,\"positionForPaging\":0,\"realtime\":false,\"title\":\"마음까지 채우는 클릭\",\"moreText\":\"전체보기\",\"moreUrl\":\"https://happybean.naver.com/\",\"ad\":false,\"@type\":\"PC-FEED-BLOCK\",\"@code\":\"PC-FEED-LIVINGHOME-HAPPYBEAN-FUNDING\",\"@template\":\"FOUR-COLUMNS\"},{\"@type\":\"BLOCK\",\"blocks\":null,\"materials\":[{\"@type\":\"MATERIAL-PC-FEED\",\"title\":\"스타일리스트의 랜선집들이 거실서재인테리어 베란다로 간 주방인테리어\",\"url\":\"https://in.naver.com/dau9390/contents/internal/550152909425568\",\"image\":{\"url\":\"https://s.pstatic.net/dthumb.phinf/?src=%22http%3A%2F%2Fblogfiles.naver.net%2FMjAyMzA0MDRfMjkz%2FMDAxNjgwNjA0ODE4MDA0.jNw9FsIb7ZlsmKLp1NtOu-t_Jiyz1jKLY0N_RpZKgi0g.Ehof325YpXZXkugOblu08sHYbNXCnL5qioFApI5BUBYg.PNG.gustnr9390%2F%EC%95%84%ED%8C%8C%ED%8A%B8_%EC%9D%B8%ED%85%8C%EB%A6%AC%EC%96%B4008-20230404.png%22&type=ff364_236&service=navermain\"},\"source\":{\"name\":\"다유\",\"image\":{\"url\":\"https://s.pstatic.net/dthumb.phinf/?src=%22http%3A%2F%2Fblogpfthumb.phinf.naver.net%2FMjAyMjEyMjNfMTg3%2FMDAxNjcxODA2MTA1NTM1.YNtWYl6MQZYgr4_7cpKRQOYkhRJrwsSdpZADOf8kmfYg.D-hvNQxAI74NkY04elDVLcp28WJBrd6_tMiXLx6bDMsg.JPEG.gustnr9390%2FSE-4e2a62cb-5606-47cd-8a2d-acf8e921f787.jpg%2FSE-4e2a62cb-5606-47cd-8a2d-acf8e921f787.jpg%22&type=nf40_40&service=navermain\"}},\"_id\":\"64817a696e592107d2dc6d1e\"},{\"@type\":\"MATERIAL-PC-FEED\",\"title\":\"백조씽크 리폼 사각싱크볼 하나로 새로운 주방 인테리어 완성 :)\",\"url\":\"https://blog.naver.com/kjmjs9848/223132601064\",\"image\":{\"url\":\"https://s.pstatic.net/dthumb.phinf/?src=%22http%3A%2F%2Fblogfiles.naver.net%2FMjAyMzA2MThfMTY1%2FMDAxNjg3MDgzNTg4MTEz.OCecDHZ0SCMV99zEaBGrlubUIIXa4-1fBqih9W2f3V8g.nPqq6BjwNH_T8CvNddvJC5fbWvl4bG0EhnZcAQCir3wg.JPEG.kjmjs9848%2FIMG_5235.JPG%22&type=ff364_236&service=navermain\"},\"source\":{\"name\":\"전설래미\",\"image\":{\"url\":\"https://s.pstatic.net/dthumb.phinf/?src=%22http%3A%2F%2Fblogpfthumb.phinf.naver.net%2FMjAyMTAxMTZfODMg%2FMDAxNjEwNzY1MTk0NjQw.s_77ohUlkkzZMGF56MGoMh7vd3nFw4f5Fma8TTF9aEIg.dIVYqcVGNkxGQFK_FLttHMzHk2QPt9UyKDv8n_lAXeYg.PNG.kjmjs9848%2FprofileImage.png%22&type=nf40_40&service=navermain\"}},\"_id\":\"64817a696e592107d2dc6d1f\"},{\"@type\":\"MATERIAL-PC-FEED\",\"title\":\"타워팰리스 인테리어 랜선집들이 ,  품격과 우아함이 느껴지는 100평 인테리어\",\"url\":\"http://blog.naver.com/art-0217/223072362070\",\"image\":{\"url\":\"https://s.pstatic.net/dthumb.phinf/?src=%22http%3A%2F%2Fblogfiles.naver.net%2FMjAyMzA0MTFfMTIx%2FMDAxNjgxMTk3ODU5MjQ1.NnBDae2VOAay_LTsbFdLLSyyJDi8rCfXr0tqWYJ3pOIg.j0g9HnD5IrtgRne5S9L03jhTvjXzepwOO21FCHrbKiAg.JPEG.art-0217%2F05_%EB%8F%84%EA%B3%A1%EB%8F%99_%ED%83%80%EC%9B%8C%ED%8C%B0%EB%A6%AC%EC%8A%A4_1%EC%B0%A8_%EC%9D%B8%ED%85%8C%EB%A6%AC%EC%96%B4_%2851%29.JPG%22&type=ff364_236&service=navermain\"},\"source\":{\"name\":\"장식가\",\"image\":{\"url\":\"https://s.pstatic.net/dthumb.phinf/?src=%22http%3A%2F%2Fblogpfthumb.phinf.naver.net%2FMjAyMTA2MThfMjky%2FMDAxNjIzOTkwNzEyOTMy.4UXmNjW-pQ4uy20IEhFyE27fkikNd5ffACbBG5Rd9TEg.GqwWofcqIB9ryzPTu6Gph-zXwF42eZZRZE4wztTnGoEg.JPEG.art-0217%2F%25EC%2583%2581%25EB%258F%2584%25EB%258F%2599%2B%25EC%25A4%2591%25EC%2595%2599%25ED%2595%2598%25EC%259D%25B4%25EC%25B8%25A0%25EB%25B9%258C%2B%25EC%259D%25B8%25ED%2585%258C%25EB%25A6%25AC%25EC%2596%25B4%252C%2B%25EC%259E%25A5%25EC%258B%259D%25EA%25B0%2580%2B%25284%2529.jpg%22&type=nf40_40&service=navermain\"}},\"_id\":\"64817a696e592107d2dc6d20\"},{\"@type\":\"MATERIAL-PC-FEED\",\"title\":\"북유럽 빈티지 가구로 꾸민 우리 집 거실을 소개합니다\",\"url\":\"https://blog.naver.com/ozkwonjoo/222980136802\",\"image\":{\"url\":\"https://s.pstatic.net/dthumb.phinf/?src=%22https%3A%2F%2Fs.pstatic.net%2Fshop.phinf%2F20230628_188%2F1687944953034iJfms_PNG%2Fjiop.PNG%22&type=ff364_236&service=navermain\"},\"source\":{\"name\":\"베이지\",\"image\":{\"url\":\"https://s.pstatic.net/dthumb.phinf/?src=%22https%3A%2F%2Fs.pstatic.net%2Fshop.phinf%2F20230628_13%2F1687944949776m9mFd_PNG%2FprofileImage_%25283%2529.png%22&type=nf40_40&service=navermain\"}},\"_id\":\"64817a696e592107d2dc6d21\"},{\"@type\":\"MATERIAL-PC-FEED\",\"title\":\"공간이 살아나는 인테리어 잇템 추천 리스트\",\"url\":\"https://blog.naver.com/pparkko/223140303917\",\"image\":{\"url\":\"https://s.pstatic.net/dthumb.phinf/?src=%22https%3A%2F%2Fs.pstatic.net%2Fshop.phinf%2F20230628_66%2F1687944938394rdvco_JPEG%2F1686828767709.jpg%22&type=ff364_236&service=navermain\"},\"source\":{\"name\":\"꿈꾸는집\",\"image\":{\"url\":\"https://s.pstatic.net/dthumb.phinf/?src=%22https%3A%2F%2Fs.pstatic.net%2Fshop.phinf%2F20230704_287%2F1688458450828HtPM9_JPEG%2FprofileImage.jpg%22&type=nf40_40&service=navermain\"}},\"_id\":\"64817a696e592107d2dc6d22\"},{\"@type\":\"MATERIAL-PC-FEED\",\"title\":\"온라인집들이 살면서 셀프인테리어로 취향을 채운 신혼집\",\"url\":\"https://in.naver.com/bbonyang/contents/internal/578280912330528\",\"image\":{\"url\":\"https://s.pstatic.net/dthumb.phinf/?src=%22http%3A%2F%2Fblogfiles.naver.net%2FMjAyMzA2MjJfMTY3%2FMDAxNjg3NDIyMDA5MTk0.sesLtuGhhuaUqvLDnzgh4gTjxQCmZeemJfFuX1aORbAg.pRW_cnHGGVoDxlxZQuMzyoLHvd_00QMI5NL4wGtGvSQg.JPEG.ryuumji%2FIMG_3154.jpg%22&type=ff364_236&service=navermain\"},\"source\":{\"name\":\"뽀냥\",\"image\":{\"url\":\"https://s.pstatic.net/dthumb.phinf/?src=%22http%3A%2F%2Fblogpfthumb.phinf.naver.net%2FMjAxOTEwMDRfMjU5%2FMDAxNTcwMTE2MTc4MjE3.Rrdn87SMsu-zsvavCs76AI6fB6VC2J0S15C1wsMZYjwg.8OHATtWdjFaEG-M2UuoF5ApvlZQa_vlMUOoNd1dzVJAg.PNG.ryuumji%2FprofileImage.png%22&type=nf40_40&service=navermain\"}},\"_id\":\"64817a696e592107d2dc6d23\"},{\"@type\":\"MATERIAL-PC-FEED\",\"title\":\"주방리모델링 화장실 인테리어 한샘에서 마무리!\",\"url\":\"https://in.naver.com/molynmom/contents/internal/579815105621632\",\"image\":{\"url\":\"https://s.pstatic.net/dthumb.phinf/?src=%22http%3A%2F%2Fblogfiles.naver.net%2FMjAyMzA2MjdfOTcg%2FMDAxNjg3ODQxODI3OTgw.x_rENcIs55M9N--qWm5U6aM8dqQfWcqkj-v3-MVCN0Ig.1URk6PyQrb-NXjKRbctxI0ObEKetISZ1RxaNLblj3Hwg.JPEG.molynmom%2FIMG_5489.JPG%22&type=ff364_236&service=navermain\"},\"source\":{\"name\":\"초이린\",\"image\":{\"url\":\"https://s.pstatic.net/dthumb.phinf/?src=%22http%3A%2F%2Fblogpfthumb.phinf.naver.net%2FMjAxOTA5MDRfNzgg%2FMDAxNTY3NTcwNTg5ODM0.C67UmSF3kgQeiTm_K7A7YjaRqpnKHfJ6JiRsWf_9nqEg.NHIH5glQIE1i82WDkerqflPu3anQV6CAp7BQG-PTX9Qg.JPEG.molynmom%2F_MG_1232.JPG%22&type=nf40_40&service=navermain\"}},\"_id\":\"64817a696e592107d2dc6d24\"},{\"@type\":\"MATERIAL-PC-FEED\",\"title\":\"[셀프인테리어] 13평 투룸 주택 셀프인테리어 후기\",\"url\":\"https://blog.naver.com/eunjinnim__/223126621734\",\"image\":{\"url\":\"https://s.pstatic.net/dthumb.phinf/?src=%22http%3A%2F%2Fblogfiles.naver.net%2FMjAyMzA2MTNfMjA5%2FMDAxNjg2NjA3NzA1MDM4.PeQdIJrkqmbpjLBzMnr3Jm3xjnAg2hqGO1G6g1dV8swg.3TdHuAFjrzb3vO5XT2iDVXIgHe7AM-OANfo6AHjEBIIg.JPEG.dear_haram_%2FIMG_4260.jpg%22&type=ff364_236&service=navermain\"},\"source\":{\"name\":\"은진님\",\"image\":{\"url\":\"https://s.pstatic.net/dthumb.phinf/?src=%22http%3A%2F%2Fblogpfthumb.phinf.naver.net%2FMjAyMzA2MTJfMjU5%2FMDAxNjg2NTM0NDc1MTI5.KD8QqCrGDNcfuPiE9uiYuXJNRRFAyt818BEiVqtViAIg.reh7CN0xangfz72kVYukcOFRfWapk-ne73Dv9flhK-gg.PNG.dear_haram_%2FprofileImage.png%22&type=nf40_40&service=navermain\"}},\"_id\":\"64817a696e592107d2dc6d25\"},{\"@type\":\"MATERIAL-PC-FEED\",\"title\":\"작은 변화로 집안의 분위기를 바꾼 원룸 인테리어 모음 20'2/4\",\"url\":\"https://m.post.naver.com/viewer/postView.naver?volumeNo=35774529&memberNo=3681994&vType=VERTICAL\",\"image\":{\"url\":\"https://s.pstatic.net/dthumb.phinf/?src=%22https%3A%2F%2Fs.pstatic.net%2Fpost.phinf%2FMjAyMzA0MTJfNjgg%2FMDAxNjgxMjk2Nzg4ODAw.m2Z86ewbm4e0TODF851njoZvCNfMCy4dTX6y_VS_V-Eg.KBjgwQKvWSmip1d-ejEAil4YPw9jKNcEMq1kFxeOVqEg.JPEG%2FIMfwhPQWHz8UfwlVpUiMJ9oE7G30.jpg%22&type=ff364_236&service=navermain\"},\"source\":{\"name\":\"꿀하우스\",\"image\":{\"url\":\"https://s.pstatic.net/dthumb.phinf/?src=%22https%3A%2F%2Fs.pstatic.net%2Fpost.phinf%2F20160812_7%2Fikeahackers_1470972898448q31rg_PNG%2Fikeahackers_3434125572826107122.png%3Ftype%3Df200_200%22&type=nf40_40&service=navermain\"}},\"_id\":\"64817a696e592107d2dc6d26\"},{\"@type\":\"MATERIAL-PC-FEED\",\"title\":\"[랜선 온라인 집들이] 거실 빈티지 인테리어 가구 옮기기, 그릇 장식장 배치와 찻잔 커피잔 정리 후 주방 인테리어\",\"url\":\"https://in.naver.com/tnalalstn/contents/internal/566802138698688\",\"image\":{\"url\":\"https://s.pstatic.net/dthumb.phinf/?src=%22http%3A%2F%2Fblogfiles.naver.net%2FMjAyMzA1MjFfNzkg%2FMDAxNjg0Njc4NjY4ODI4.lkKiz1EykNcqE40GZP_iQejRgqqK7rxOp1mluOF3KHUg.Kjx7PLGJUPZ94OXc7DTGeOdPKgbcFryF4d8J38lGtEkg.JPEG.tnalalstn%2F1684678441186.jpg%22&type=ff364_236&service=navermain\"},\"source\":{\"name\":\"수미조아\",\"image\":{\"url\":\"https://s.pstatic.net/dthumb.phinf/?src=%22http%3A%2F%2Fblogpfthumb.phinf.naver.net%2F20180904_283%2Ftnalalstn_1535992410317lVAgx_JPEG%2Fimage.jpg%22&type=nf40_40&service=navermain\"}},\"_id\":\"64817a696e592107d2dc6d27\"},{\"@type\":\"MATERIAL-PC-FEED\",\"title\":\"바꿀 수 없다면 즐겨라 체리 몰딩 인테리어 TIP\",\"url\":\"https://blog.naver.com/2hwada/223139270180\",\"image\":{\"url\":\"https://s.pstatic.net/dthumb.phinf/?src=%22https%3A%2F%2Fs.pstatic.net%2Fshop.phinf%2F20230704_217%2F1688462362237I7j5C_PNG%2Fcapture-20230704-181800.png%22&type=ff364_236&service=navermain\"},\"source\":{\"name\":\"화다\",\"image\":{\"url\":\"https://s.pstatic.net/dthumb.phinf/?src=%22https%3A%2F%2Fs.pstatic.net%2Fshop.phinf%2F20230628_4%2F1687945221245V1BxB_JPEG%2F9050B488-E2ED-464D-B1F7-EA2EC191364C%252B2.jpg%22&type=nf40_40&service=navermain\"}},\"_id\":\"64817a696e592107d2dc6d28\"},{\"@type\":\"MATERIAL-PC-FEED\",\"title\":\"온라인집들이, 예쁨으로 가득한 작은 홈카페 주방꾸미기! 1인가구를 위한 8평 원룸인테리어\",\"url\":\"https://m.post.naver.com/viewer/postView.naver?volumeNo=35778449&memberNo=36313331&vType=VERTICAL\",\"image\":{\"url\":\"https://s.pstatic.net/dthumb.phinf/?src=%22https%3A%2F%2Fs.pstatic.net%2Fpost.phinf%2FMjAyMzA0MTNfMTc1%2FMDAxNjgxMzU4MDM2OTk2.xd1-El95IBLvZg5xYER7JGNLre8cVCHRyCjxmrzPxPEg.8uOs34Neb_R-wo76q_RvGsOPMX-9dngn8lLKATRDPQUg.JPEG%2FIM2FXpPiyW4TahMvqRcWY67_51bg.jpg%22&type=ff364_236&service=navermain\"},\"source\":{\"name\":\"하우스매거진\",\"image\":{\"url\":\"https://s.pstatic.net/dthumb.phinf/?src=%22https%3A%2F%2Fs.pstatic.net%2Fpost.phinf%2FMjAxNzA3MTlfMTk0%2FMDAxNTAwNDIwNzMxNjAw.HTZKT1khsXz5Y-uP0qT4gTlRbfhus5GXwaoBN7InQw4g.6egSArj3pEjDKFDnf-f51EtTy6vKn6Gu6XLCQOXKhhwg.JPEG%2Fpost_3534232701269072275.jpg%3Ftype%3Df200_200%22&type=nf40_40&service=navermain\"}},\"_id\":\"64817a696e592107d2dc6d29\"}],\"excludeInPaging\":false,\"positionForPaging\":0,\"realtime\":false,\"_id\":null,\"@type\":\"BLOCK\",\"@code\":\"PC-FEED-LIVINGHOME-CARD-2\",\"@template\":\"FOUR-COLUMNS\",\"@flowId\":null,\"@flowExecutionId\":null,\"@provider\":null,\"@lastModifiedAt\":null}],\"materials\":null,\"excludeInPaging\":false,\"positionForPaging\":0,\"realtime\":false,\"_id\":null,\"@type\":\"BLOCK\",\"@code\":\"PC-FEED-LIVINGHOME\",\"@template\":\"NONE\",\"@flowId\":null,\"@flowExecutionId\":null,\"@provider\":null,\"@lastModifiedAt\":null}],\"materials\":null,\"excludeInPaging\":false,\"positionForPaging\":0,\"realtime\":false,\"_id\":\"6441ca92a10d3006855f9acd\",\"@type\":\"BLOCK\",\"@code\":\"PC-FEED-WRAPPER\",\"@template\":\"PC-FEED-WRAPPER\",\"@flowId\":\"PC-FEED-WRAPPER\",\"@flowExecutionId\":\"b452705a-1add-11ee-91ef-8d4cd6801805\",\"@provider\":\"lambda\",\"@lastModifiedAt\":[2023,7,5,2,43,21,633000000]}\n",
            "  \n",
            "    window[\"EAGER-DATA\"][\"CAS-MINICONTENT-PC-SPECIAL-LOGO\"] = {\"@type\":\"MINI-CONTENT-BLOCK\",\"blocks\":null,\"materials\":null,\"excludeInPaging\":false,\"positionForPaging\":0,\"realtime\":false,\"items\":[],\"_id\":\"6433d8e3a10d3006850274e8\",\"@type\":\"MINI-CONTENT-BLOCK\",\"@code\":\"CAS-MINICONTENT-PC-SPECIAL-LOGO\",\"@template\":\"NONE\",\"@flowId\":\"CAS-MINICONTENT\",\"@flowExecutionId\":\"9b4922a9-1add-11ee-94a2-ed16711bc82e\",\"@provider\":\"lambda\",\"@lastModifiedAt\":[2023,7,5,2,42,39,73000000]}\n",
            "  \n",
            "    window[\"EAGER-DATA\"][\"PC-MEDIA-WRAPPER\"] = {\"@type\":\"PC-MEDIA-CONTENTS-BLOCK\",\"blocks\":[{\"@type\":\"BLOCK\",\"blocks\":[{\"@type\":\"PC-NEWSSTAND-BLOCK\",\"blocks\":[{\"@type\":\"PC-NEWSSTAND-PRESS-BLOCK\",\"blocks\":null,\"materials\":null,\"excludeInPaging\":false,\"positionForPaging\":0,\"realtime\":false,\"pid\":\"907\",\"name\":\"경북매일신문\",\"logoLight\":{\"url\":\"https://s.pstatic.net/static/newsstand/2020/logo/light/0604/907.png\"},\"logoDark\":{\"url\":\"https://s.pstatic.net/static/newsstand/2020/logo/dark/0604/907.png\"},\"showThumbnailView\":true,\"showListView\":true,\"regDate\":\"20230705 11:30:22\",\"_id\":null,\"@type\":\"PC-NEWSSTAND-PRESS-BLOCK\",\"@code\":null,\"@template\":\"NONE\",\"@flowId\":null,\"@flowExecutionId\":null,\"@provider\":null,\"@lastModifiedAt\":null},{\"@type\":\"PC-NEWSSTAND-PRESS-BLOCK\",\"blocks\":null,\"materials\":null,\"excludeInPaging\":false,\"positionForPaging\":0,\"realtime\":false,\"pid\":\"908\",\"name\":\"국방일보\",\"logoLight\":{\"url\":\"https://s.pstatic.net/static/newsstand/2020/logo/light/0604/908.png\"},\"logoDark\":{\"url\":\"https://s.pstatic.net/static/newsstand/2020/logo/dark/0604/908.png\"},\"showThumbnailView\":true,\"showListView\":true,\"regDate\":\"20230704 18:03:25\",\"_id\":null,\"@type\":\"PC-NEWSSTAND-PRESS-BLOCK\",\"@code\":null,\"@template\":\"NONE\",\"@flowId\":null,\"@flowExecutionId\":null,\"@provider\":null,\"@lastModifiedAt\":null},{\"@type\":\"PC-NEWSSTAND-PRESS-BLOCK\",\"blocks\":null,\"materials\":null,\"excludeInPaging\":false,\"positionForPaging\":0,\"realtime\":false,\"pid\":\"909\",\"name\":\"기호일보\",\"logoLight\":{\"url\":\"https://s.pstatic.net/static/newsstand/2020/logo/light/0604/909.png\"},\"logoDark\":{\"url\":\"https://s.pstatic.net/static/newsstand/2020/logo/dark/0604/909.png\"},\"showThumbnailView\":true,\"showListView\":true,\"regDate\":\"20230705 09:49:34\",\"_id\":null,\"@type\":\"PC-NEWSSTAND-PRESS-BLOCK\",\"@code\":null,\"@template\":\"NONE\",\"@flowId\":null,\"@flowExecutionId\":null,\"@provider\":null,\"@lastModifiedAt\":null},{\"@type\":\"PC-NEWSSTAND-PRESS-BLOCK\",\"blocks\":null,\"materials\":null,\"excludeInPaging\":false,\"positionForPaging\":0,\"realtime\":false,\"pid\":\"353\",\"name\":\"중앙SUNDAY\",\"logoLight\":{\"url\":\"https://s.pstatic.net/static/newsstand/2020/logo/light/0604/353.png\"},\"logoDark\":{\"url\":\"https://s.pstatic.net/static/newsstand/2020/logo/dark/0604/353.png\"},\"showThumbnailView\":true,\"showListView\":true,\"regDate\":\"20230704 09:46:41\",\"_id\":null,\"@type\":\"PC-NEWSSTAND-PRESS-BLOCK\",\"@code\":null,\"@template\":\"NONE\",\"@flowId\":null,\"@flowExecutionId\":null,\"@provider\":null,\"@lastModifiedAt\":null},{\"@type\":\"PC-NEWSSTAND-PRESS-BLOCK\",\"blocks\":null,\"materials\":null,\"excludeInPaging\":false,\"positionForPaging\":0,\"realtime\":false,\"pid\":\"354\",\"name\":\"엘르\",\"logoLight\":{\"url\":\"https://s.pstatic.net/static/newsstand/2020/logo/light/0604/354.png\"},\"logoDark\":{\"url\":\"https://s.pstatic.net/static/newsstand/2020/logo/dark/0604/354.png\"},\"showThumbnailView\":true,\"showListView\":true,\"regDate\":\"20230705 11:00:00\",\"_id\":null,\"@type\":\"PC-NEWSSTAND-PRESS-BLOCK\",\"@code\":null,\"@template\":\"NONE\",\"@flowId\":null,\"@flowExecutionId\":null,\"@provider\":null,\"@lastModifiedAt\":null},{\"@type\":\"PC-NEWSSTAND-PRESS-BLOCK\",\"blocks\":null,\"materials\":null,\"excludeInPaging\":false,\"positionForPaging\":0,\"realtime\":false,\"pid\":\"355\",\"name\":\"사이언스타임즈\",\"logoLight\":{\"url\":\"https://s.pstatic.net/static/newsstand/2020/logo/light/0604/355.png\"},\"logoDark\":{\"url\":\"https://s.pstatic.net/static/newsstand/2020/logo/dark/0604/355.png\"},\"showThumbnailView\":true,\"showListView\":true,\"regDate\":\"20230705 11:19:25\",\"_id\":null,\"@type\":\"PC-NEWSSTAND-PRESS-BLOCK\",\"@code\":null,\"@template\":\"NONE\",\"@flowId\":null,\"@flowExecutionId\":null,\"@provider\":null,\"@lastModifiedAt\":null},{\"@type\":\"PC-NEWSSTAND-PRESS-BLOCK\",\"blocks\":null,\"materials\":null,\"excludeInPaging\":false,\"positionForPaging\":0,\"realtime\":false,\"pid\":\"356\",\"name\":\"게임메카\",\"logoLight\":{\"url\":\"https://s.pstatic.net/static/newsstand/2020/logo/light/0604/356.png\"},\"logoDark\":{\"url\":\"https://s.pstatic.net/static/newsstand/2020/logo/dark/0604/356.png\"},\"showThumbnailView\":true,\"showListView\":true,\"regDate\":\"20230705 10:48:32\",\"_id\":null,\"@type\":\"PC-NEWSSTAND-PRESS-BLOCK\",\"@code\":null,\"@template\":\"NONE\",\"@flowId\":null,\"@flowExecutionId\":null,\"@provider\":null,\"@lastModifiedAt\":null},{\"@type\":\"PC-NEWSSTAND-PRESS-BLOCK\",\"blocks\":null,\"materials\":null,\"excludeInPaging\":false,\"positionForPaging\":0,\"realtime\":false,\"pid\":\"477\",\"name\":\"스포티비뉴스\",\"logoLight\":{\"url\":\"https://s.pstatic.net/static/newsstand/up/2021/1130/nsd10159718.png\"},\"logoDark\":{\"url\":\"https://s.pstatic.net/static/newsstand/up/2021/1130/nsd101536636.png\"},\"showThumbnailView\":true,\"showListView\":true,\"regDate\":\"20230705 11:30:09\",\"_id\":null,\"@type\":\"PC-NEWSSTAND-PRESS-BLOCK\",\"@code\":null,\"@template\":\"NONE\",\"@flowId\":null,\"@flowExecutionId\":null,\"@provider\":null,\"@lastModifiedAt\":null},{\"@type\":\"PC-NEWSSTAND-PRESS-BLOCK\",\"blocks\":null,\"materials\":null,\"excludeInPaging\":false,\"positionForPaging\":0,\"realtime\":false,\"pid\":\"117\",\"name\":\"마이데일리\",\"logoLight\":{\"url\":\"https://s.pstatic.net/static/newsstand/2020/logo/light/0604/117.png\"},\"logoDark\":{\"url\":\"https://s.pstatic.net/static/newsstand/2020/logo/dark/0604/117.png\"},\"showThumbnailView\":true,\"showListView\":true,\"regDate\":\"20230705 11:17:26\",\"_id\":null,\"@type\":\"PC-NEWSSTAND-PRESS-BLOCK\",\"@code\":null,\"@template\":\"NONE\",\"@flowId\":null,\"@flowExecutionId\":null,\"@provider\":null,\"@lastModifiedAt\":null},{\"@type\":\"PC-NEWSSTAND-PRESS-BLOCK\",\"blocks\":null,\"materials\":null,\"excludeInPaging\":false,\"positionForPaging\":0,\"realtime\":false,\"pid\":\"910\",\"name\":\"넥스트데일리\",\"logoLight\":{\"url\":\"https://s.pstatic.net/static/newsstand/2020/logo/light/0604/910.png\"},\"logoDark\":{\"url\":\"https://s.pstatic.net/static/newsstand/2020/logo/dark/0604/910.png\"},\"showThumbnailView\":true,\"showListView\":true,\"regDate\":\"20230705 11:30:40\",\"_id\":null,\"@type\":\"PC-NEWSSTAND-PRESS-BLOCK\",\"@code\":null,\"@template\":\"NONE\",\"@flowId\":null,\"@flowExecutionId\":null,\"@provider\":null,\"@lastModifiedAt\":null},{\"@type\":\"PC-NEWSSTAND-PRESS-BLOCK\",\"blocks\":null,\"materials\":null,\"excludeInPaging\":false,\"positionForPaging\":0,\"realtime\":false,\"pid\":\"911\",\"name\":\"농민신문\",\"logoLight\":{\"url\":\"https://s.pstatic.net/static/newsstand/2020/logo/light/0604/911.png\"},\"logoDark\":{\"url\":\"https://s.pstatic.net/static/newsstand/2020/logo/dark/0604/911.png\"},\"showThumbnailView\":true,\"showListView\":true,\"regDate\":\"20230705 10:17:03\",\"_id\":null,\"@type\":\"PC-NEWSSTAND-PRESS-BLOCK\",\"@code\":null,\"@template\":\"NONE\",\"@flowId\":null,\"@flowExecutionId\":null,\"@provider\":null,\"@lastModifiedAt\":null},{\"@type\":\"PC-NEWSSTAND-PRESS-BLOCK\",\"blocks\":null,\"materials\":null,\"excludeInPaging\":false,\"positionForPaging\":0,\"realtime\":false,\"pid\":\"913\",\"name\":\"뉴스토마토\",\"logoLight\":{\"url\":\"https://s.pstatic.net/static/newsstand/2020/logo/light/0604/913.png\"},\"logoDark\":{\"url\":\"https://s.pstatic.net/static/newsstand/2020/logo/dark/0604/913.png\"},\"showThumbnailView\":true,\"showListView\":true,\"regDate\":\"20230705 11:34:11\",\"_id\":null,\"@type\":\"PC-NEWSSTAND-PRESS-BLOCK\",\"@code\":null,\"@template\":\"NONE\",\"@flowId\":null,\"@flowExecutionId\":null,\"@provider\":null,\"@lastModifiedAt\":null},{\"@type\":\"PC-NEWSSTAND-PRESS-BLOCK\",\"blocks\":null,\"materials\":null,\"excludeInPaging\":false,\"positionForPaging\":0,\"realtime\":false,\"pid\":\"914\",\"name\":\"뉴스핌\",\"logoLight\":{\"url\":\"https://s.pstatic.net/static/newsstand/2020/logo/light/0604/914.png\"},\"logoDark\":{\"url\":\"https://s.pstatic.net/static/newsstand/2020/logo/dark/0604/914.png\"},\"showThumbnailView\":true,\"showListView\":true,\"regDate\":\"20230705 11:39:05\",\"_id\":null,\"@type\":\"PC-NEWSSTAND-PRESS-BLOCK\",\"@code\":null,\"@template\":\"NONE\",\"@flowId\":null,\"@flowExecutionId\":null,\"@provider\":null,\"@lastModifiedAt\":null},{\"@type\":\"PC-NEWSSTAND-PRESS-BLOCK\",\"blocks\":null,\"materials\":null,\"excludeInPaging\":false,\"positionForPaging\":0,\"realtime\":false,\"pid\":\"915\",\"name\":\"르몽드 디플로마티크\",\"logoLight\":{\"url\":\"https://s.pstatic.net/static/newsstand/2020/logo/light/0604/915.png\"},\"logoDark\":{\"url\":\"https://s.pstatic.net/static/newsstand/2020/logo/dark/0604/915.png\"},\"showThumbnailView\":true,\"showListView\":true,\"regDate\":\"20230630 14:54:12\",\"_id\":null,\"@type\":\"PC-NEWSSTAND-PRESS-BLOCK\",\"@code\":null,\"@template\":\"NONE\",\"@flowId\":null,\"@flowExecutionId\":null,\"@provider\":null,\"@lastModifiedAt\":null},{\"@type\":\"PC-NEWSSTAND-PRESS-BLOCK\",\"blocks\":null,\"materials\":null,\"excludeInPaging\":false,\"positionForPaging\":0,\"realtime\":false,\"pid\":\"916\",\"name\":\"머니투데이방송\",\"logoLight\":{\"url\":\"https://s.pstatic.net/static/newsstand/up/2021/0420/nsd105139164.png\"},\"logoDark\":{\"url\":\"https://s.pstatic.net/static/newsstand/up/2021/0420/nsd104943516.png\"},\"showThumbnailView\":true,\"showListView\":true,\"regDate\":\"20230705 11:21:04\",\"_id\":null,\"@type\":\"PC-NEWSSTAND-PRESS-BLOCK\",\"@code\":null,\"@template\":\"NONE\",\"@flowId\":null,\"@flowExecutionId\":null,\"@provider\":null,\"@lastModifiedAt\":null},{\"@type\":\"PC-NEWSSTAND-PRESS-BLOCK\",\"blocks\":null,\"materials\":null,\"excludeInPaging\":false,\"positionForPaging\":0,\"realtime\":false,\"pid\":\"917\",\"name\":\"IT조선\",\"logoLight\":{\"url\":\"https://s.pstatic.net/static/newsstand/2020/logo/light/0604/917.png\"},\"logoDark\":{\"url\":\"https://s.pstatic.net/static/newsstand/2020/logo/dark/0604/917.png\"},\"showThumbnailView\":true,\"showListView\":true,\"regDate\":\"20230705 09:08:01\",\"_id\":null,\"@type\":\"PC-NEWSSTAND-PRESS-BLOCK\",\"@code\":null,\"@template\":\"NONE\",\"@flowId\":null,\"@flowExecutionId\":null,\"@provider\":null,\"@lastModifiedAt\":null},{\"@type\":\"PC-NEWSSTAND-PRESS-BLOCK\",\"blocks\":null,\"materials\":null,\"excludeInPaging\":false,\"positionForPaging\":0,\"realtime\":false,\"pid\":\"361\",\"name\":\"채널예스\",\"logoLight\":{\"url\":\"https://s.pstatic.net/static/newsstand/up/2023/0418/nsd124959421.png\"},\"logoDark\":{\"url\":\"https://s.pstatic.net/static/newsstand/up/2023/0418/nsd124945796.png\"},\"showThumbnailView\":true,\"showListView\":true,\"regDate\":\"20230705 09:30:46\",\"_id\":null,\"@type\":\"PC-NEWSSTAND-PRESS-BLOCK\",\"@code\":null,\"@template\":\"NONE\",\"@flowId\":null,\"@flowExecutionId\":null,\"@provider\":null,\"@lastModifiedAt\":null},{\"@type\":\"PC-NEWSSTAND-PRESS-BLOCK\",\"blocks\":null,\"materials\":null,\"excludeInPaging\":false,\"positionForPaging\":0,\"realtime\":false,\"pid\":\"120\",\"name\":\"EBN\",\"logoLight\":{\"url\":\"https://s.pstatic.net/static/newsstand/2020/logo/light/0604/120.png\"},\"logoDark\":{\"url\":\"https://s.pstatic.net/static/newsstand/2020/logo/dark/0604/120.png\"},\"showThumbnailView\":true,\"showListView\":true,\"regDate\":\"20230705 11:31:09\",\"_id\":null,\"@type\":\"PC-NEWSSTAND-PRESS-BLOCK\",\"@code\":null,\"@template\":\"NONE\",\"@flowId\":null,\"@flowExecutionId\":null,\"@provider\":null,\"@lastModifiedAt\":null},{\"@type\":\"PC-NEWSSTAND-PRESS-BLOCK\",\"blocks\":null,\"materials\":null,\"excludeInPaging\":false,\"positionForPaging\":0,\"realtime\":false,\"pid\":\"241\",\"name\":\"일간스포츠\",\"logoLight\":{\"url\":\"https://s.pstatic.net/static/newsstand/up/2023/0112/nsd92558162.png\"},\"logoDark\":{\"url\":\"https://s.pstatic.net/static/newsstand/2020/logo/dark/0604/241.png\"},\"showThumbnailView\":true,\"showListView\":true,\"regDate\":\"20230705 10:52:02\",\"_id\":null,\"@type\":\"PC-NEWSSTAND-PRESS-BLOCK\",\"@code\":null,\"@template\":\"NONE\",\"@flowId\":null,\"@flowExecutionId\":null,\"@provider\":null,\"@lastModifiedAt\":null},{\"@type\":\"PC-NEWSSTAND-PRESS-BLOCK\",\"blocks\":null,\"materials\":null,\"excludeInPaging\":false,\"positionForPaging\":0,\"realtime\":false,\"pid\":\"363\",\"name\":\"동아사이언스\",\"logoLight\":{\"url\":\"https://s.pstatic.net/static/newsstand/2020/logo/light/0604/363.png\"},\"logoDark\":{\"url\":\"https://s.pstatic.net/static/newsstand/2020/logo/dark/0604/363.png\"},\"showThumbnailView\":true,\"showListView\":true,\"regDate\":\"20230704 17:19:23\",\"_id\":null,\"@type\":\"PC-NEWSSTAND-PRESS-BLOCK\",\"@code\":null,\"@template\":\"NONE\",\"@flowId\":null,\"@flowExecutionId\":null,\"@provider\":null,\"@lastModifiedAt\":null},{\"@type\":\"PC-NEWSSTAND-PRESS-BLOCK\",\"blocks\":null,\"materials\":null,\"excludeInPaging\":false,\"positionForPaging\":0,\"realtime\":false,\"pid\":\"122\",\"name\":\"법률신문\",\"logoLight\":{\"url\":\"https://s.pstatic.net/static/newsstand/up/2022/1103/nsd124326426.png\"},\"logoDark\":{\"url\":\"https://s.pstatic.net/static/newsstand/up/2022/1103/nsd124320554.png\"},\"showThumbnailView\":true,\"showListView\":true,\"regDate\":\"20230705 05:50:25\",\"_id\":null,\"@type\":\"PC-NEWSSTAND-PRESS-BLOCK\",\"@code\":null,\"@template\":\"NONE\",\"@flowId\":null,\"@flowExecutionId\":null,\"@provider\":null,\"@lastModifiedAt\":null},{\"@type\":\"PC-NEWSSTAND-PRESS-BLOCK\",\"blocks\":null,\"materials\":null,\"excludeInPaging\":false,\"positionForPaging\":0,\"realtime\":false,\"pid\":\"243\",\"name\":\"이코노미스트\",\"logoLight\":{\"url\":\"https://s.pstatic.net/static/newsstand/2020/logo/light/0604/243.png\"},\"logoDark\":{\"url\":\"https://s.pstatic.net/static/newsstand/2020/logo/dark/0604/243.png\"},\"showThumbnailView\":true,\"showListView\":true,\"regDate\":\"20230705 11:29:36\",\"_id\":null,\"@type\":\"PC-NEWSSTAND-PRESS-BLOCK\",\"@code\":null,\"@template\":\"NONE\",\"@flowId\":null,\"@flowExecutionId\":null,\"@provider\":null,\"@lastModifiedAt\":null},{\"@type\":\"PC-NEWSSTAND-PRESS-BLOCK\",\"blocks\":null,\"materials\":null,\"excludeInPaging\":false,\"positionForPaging\":0,\"realtime\":false,\"pid\":\"364\",\"name\":\"PC사랑\",\"logoLight\":{\"url\":\"https://s.pstatic.net/static/newsstand/2020/logo/light/0604/364.png\"},\"logoDark\":{\"url\":\"https://s.pstatic.net/static/newsstand/2020/logo/dark/0604/364.png\"},\"showThumbnailView\":true,\"showListView\":true,\"regDate\":\"20230628 11:38:55\",\"_id\":null,\"@type\":\"PC-NEWSSTAND-PRESS-BLOCK\",\"@code\":null,\"@template\":\"NONE\",\"@flowId\":null,\"@flowExecutionId\":null,\"@provider\":null,\"@lastModifiedAt\":null},{\"@type\":\"PC-NEWSSTAND-PRESS-BLOCK\",\"blocks\":null,\"materials\":null,\"excludeInPaging\":false,\"positionForPaging\":0,\"realtime\":false,\"pid\":\"002\",\"name\":\"프레시안\",\"logoLight\":{\"url\":\"https://s.pstatic.net/static/newsstand/2020/logo/light/0604/002.png\"},\"logoDark\":{\"url\":\"https://s.pstatic.net/static/newsstand/2020/logo/dark/0604/002.png\"},\"showThumbnailView\":true,\"showListView\":true,\"regDate\":\"20230705 10:29:33\",\"_id\":null,\"@type\":\"PC-NEWSSTAND-PRESS-BLOCK\",\"@code\":null,\"@template\":\"NONE\",\"@flowId\":null,\"@flowExecutionId\":null,\"@provider\":null,\"@lastModifiedAt\":null},{\"@type\":\"PC-NEWSSTAND-PRESS-BLOCK\",\"blocks\":null,\"materials\":null,\"excludeInPaging\":false,\"positionForPaging\":0,\"realtime\":false,\"pid\":\"123\",\"name\":\"조세일보\",\"logoLight\":{\"url\":\"https://s.pstatic.net/static/newsstand/2020/logo/light/0604/123.png\"},\"logoDark\":{\"url\":\"https://s.pstatic.net/static/newsstand/2020/logo/dark/0604/123.png\"},\"showThumbnailView\":true,\"showListView\":true,\"regDate\":\"20230705 11:33:27\",\"_id\":null,\"@type\":\"PC-NEWSSTAND-PRESS-BLOCK\",\"@code\":null,\"@template\":\"NONE\",\"@flowId\":null,\"@flowExecutionId\":null,\"@provider\":null,\"@lastModifiedAt\":null},{\"@type\":\"PC-NEWSSTAND-PRESS-BLOCK\",\"blocks\":null,\"materials\":null,\"excludeInPaging\":false,\"positionForPaging\":0,\"realtime\":false,\"pid\":\"003\",\"name\":\"뉴시스\",\"logoLight\":{\"url\":\"https://s.pstatic.net/static/newsstand/2020/logo/light/0604/003.png\"},\"logoDark\":{\"url\":\"https://s.pstatic.net/static/newsstand/2020/logo/dark/0604/003.png\"},\"showThumbnailView\":true,\"showListView\":true,\"regDate\":\"20230705 11:36:51\",\"_id\":null,\"@type\":\"PC-NEWSSTAND-PRESS-BLOCK\",\"@code\":null,\"@template\":\"NONE\",\"@flowId\":null,\"@flowExecutionId\":null,\"@provider\":null,\"@lastModifiedAt\":null},{\"@type\":\"PC-NEWSSTAND-PRESS-BLOCK\",\"blocks\":null,\"materials\":null,\"excludeInPaging\":false,\"positionForPaging\":0,\"realtime\":false,\"pid\":\"366\",\"name\":\"조선비즈\",\"logoLight\":{\"url\":\"https://s.pstatic.net/static/newsstand/2020/logo/light/0604/366.png\"},\"logoDark\":{\"url\":\"https://s.pstatic.net/static/newsstand/2020/logo/dark/0604/366.png\"},\"showThumbnailView\":true,\"showListView\":true,\"regDate\":\"20230705 11:28:47\",\"_id\":null,\"@type\":\"PC-NEWSSTAND-PRESS-BLOCK\",\"@code\":null,\"@template\":\"NONE\",\"@flowId\":null,\"@flowExecutionId\":null,\"@provider\":null,\"@lastModifiedAt\":null},{\"@type\":\"PC-NEWSSTAND-PRESS-BLOCK\",\"blocks\":null,\"materials\":null,\"excludeInPaging\":false,\"positionForPaging\":0,\"realtime\":false,\"pid\":\"005\",\"name\":\"국민일보\",\"logoLight\":{\"url\":\"https://s.pstatic.net/static/newsstand/2020/logo/light/0604/005.png\"},\"logoDark\":{\"url\":\"https://s.pstatic.net/static/newsstand/2020/logo/dark/0604/005.png\"},\"showThumbnailView\":true,\"showListView\":true,\"regDate\":\"20230705 11:20:30\",\"_id\":null,\"@type\":\"PC-NEWSSTAND-PRESS-BLOCK\",\"@code\":null,\"@template\":\"NONE\",\"@flowId\":null,\"@flowExecutionId\":null,\"@provider\":null,\"@lastModifiedAt\":null},{\"@type\":\"PC-NEWSSTAND-PRESS-BLOCK\",\"blocks\":null,\"materials\":null,\"excludeInPaging\":false,\"positionForPaging\":0,\"realtime\":false,\"pid\":\"368\",\"name\":\"데일리안\",\"logoLight\":{\"url\":\"https://s.pstatic.net/static/newsstand/2020/logo/light/0604/368.png\"},\"logoDark\":{\"url\":\"https://s.pstatic.net/static/newsstand/2020/logo/dark/0604/368.png\"},\"showThumbnailView\":true,\"showListView\":true,\"regDate\":\"20230705 11:19:03\",\"_id\":null,\"@type\":\"PC-NEWSSTAND-PRESS-BLOCK\",\"@code\":null,\"@template\":\"NONE\",\"@flowId\":null,\"@flowExecutionId\":null,\"@provider\":null,\"@lastModifiedAt\":null},{\"@type\":\"PC-NEWSSTAND-PRESS-BLOCK\",\"blocks\":null,\"materials\":null,\"excludeInPaging\":false,\"positionForPaging\":0,\"realtime\":false,\"pid\":\"006\",\"name\":\"미디어오늘\",\"logoLight\":{\"url\":\"https://s.pstatic.net/static/newsstand/2020/logo/light/0604/006.png\"},\"logoDark\":{\"url\":\"https://s.pstatic.net/static/newsstand/2020/logo/dark/0604/006.png\"},\"showThumbnailView\":true,\"showListView\":true,\"regDate\":\"20230705 11:30:02\",\"_id\":null,\"@type\":\"PC-NEWSSTAND-PRESS-BLOCK\",\"@code\":null,\"@template\":\"NONE\",\"@flowId\":null,\"@flowExecutionId\":null,\"@provider\":null,\"@lastModifiedAt\":null},{\"@type\":\"PC-NEWSSTAND-PRESS-BLOCK\",\"blocks\":null,\"materials\":null,\"excludeInPaging\":false,\"positionForPaging\":0,\"realtime\":false,\"pid\":\"920\",\"name\":\"아시아투데이\",\"logoLight\":{\"url\":\"https://s.pstatic.net/static/newsstand/2020/logo/light/0604/920.png\"},\"logoDark\":{\"url\":\"https://s.pstatic.net/static/newsstand/2020/logo/dark/0604/920.png\"},\"showThumbnailView\":true,\"showListView\":true,\"regDate\":\"20230705 11:39:19\",\"_id\":null,\"@type\":\"PC-NEWSSTAND-PRESS-BLOCK\",\"@code\":null,\"@template\":\"NONE\",\"@flowId\":null,\"@flowExecutionId\":null,\"@provider\":null,\"@lastModifiedAt\":null},{\"@type\":\"PC-NEWSSTAND-PRESS-BLOCK\",\"blocks\":null,\"materials\":null,\"excludeInPaging\":false,\"positionForPaging\":0,\"realtime\":false,\"pid\":\"008\",\"name\":\"머니투데이\",\"logoLight\":{\"url\":\"https://s.pstatic.net/static/newsstand/2020/logo/light/0604/008.png\"},\"logoDark\":{\"url\":\"https://s.pstatic.net/static/newsstand/2020/logo/dark/0604/008.png\"},\"showThumbnailView\":true,\"showListView\":true,\"regDate\":\"20230705 11:30:06\",\"_id\":null,\"@type\":\"PC-NEWSSTAND-PRESS-BLOCK\",\"@code\":null,\"@template\":\"NONE\",\"@flowId\":null,\"@flowExecutionId\":null,\"@provider\":null,\"@lastModifiedAt\":null},{\"@type\":\"PC-NEWSSTAND-PRESS-BLOCK\",\"blocks\":null,\"materials\":null,\"excludeInPaging\":false,\"positionForPaging\":0,\"realtime\":false,\"pid\":\"921\",\"name\":\"아주경제\",\"logoLight\":{\"url\":\"https://s.pstatic.net/static/newsstand/2020/logo/light/0604/921.png\"},\"logoDark\":{\"url\":\"https://s.pstatic.net/static/newsstand/2020/logo/dark/0604/921.png\"},\"showThumbnailView\":true,\"showListView\":true,\"regDate\":\"20230705 11:38:01\",\"_id\":null,\"@type\":\"PC-NEWSSTAND-PRESS-BLOCK\",\"@code\":null,\"@template\":\"NONE\",\"@flowId\":null,\"@flowExecutionId\":null,\"@provider\":null,\"@lastModifiedAt\":null},{\"@type\":\"PC-NEWSSTAND-PRESS-BLOCK\",\"blocks\":null,\"materials\":null,\"excludeInPaging\":false,\"positionForPaging\":0,\"realtime\":false,\"pid\":\"009\",\"name\":\"매일경제\",\"logoLight\":{\"url\":\"https://s.pstatic.net/static/newsstand/2020/logo/light/0604/009.png\"},\"logoDark\":{\"url\":\"https://s.pstatic.net/static/newsstand/2020/logo/dark/0604/009.png\"},\"showThumbnailView\":true,\"showListView\":true,\"regDate\":\"20230705 11:39:08\",\"_id\":null,\"@type\":\"PC-NEWSSTAND-PRESS-BLOCK\",\"@code\":null,\"@template\":\"NONE\",\"@flowId\":null,\"@flowExecutionId\":null,\"@provider\":null,\"@lastModifiedAt\":null},{\"@type\":\"PC-NEWSSTAND-PRESS-BLOCK\",\"blocks\":null,\"materials\":null,\"excludeInPaging\":false,\"positionForPaging\":0,\"realtime\":false,\"pid\":\"801\",\"name\":\"위키리크스한국\",\"logoLight\":{\"url\":\"https://s.pstatic.net/static/newsstand/2020/logo/light/0604/801.png\"},\"logoDark\":{\"url\":\"https://s.pstatic.net/static/newsstand/2020/logo/dark/0604/801.png\"},\"showThumbnailView\":true,\"showListView\":true,\"regDate\":\"20230705 11:30:15\",\"_id\":null,\"@type\":\"PC-NEWSSTAND-PRESS-BLOCK\",\"@code\":null,\"@template\":\"NONE\",\"@flowId\":null,\"@flowExecutionId\":null,\"@provider\":null,\"@lastModifiedAt\":null},{\"@type\":\"PC-NEWSSTAND-PRESS-BLOCK\",\"blocks\":null,\"materials\":null,\"excludeInPaging\":false,\"positionForPaging\":0,\"realtime\":false,\"pid\":\"922\",\"name\":\"이투데이\",\"logoLight\":{\"url\":\"https://s.pstatic.net/static/newsstand/2020/logo/light/0604/922.png\"},\"logoDark\":{\"url\":\"https://s.pstatic.net/static/newsstand/2020/logo/dark/0604/922.png\"},\"showThumbnailView\":true,\"showListView\":true,\"regDate\":\"20230705 11:00:26\",\"_id\":null,\"@type\":\"PC-NEWSSTAND-PRESS-BLOCK\",\"@code\":null,\"@template\":\"NONE\",\"@flowId\":null,\"@flowExecutionId\":null,\"@provider\":null,\"@lastModifiedAt\":null},{\"@type\":\"PC-NEWSSTAND-PRESS-BLOCK\",\"blocks\":null,\"materials\":null,\"excludeInPaging\":false,\"positionForPaging\":0,\"realtime\":false,\"pid\":\"802\",\"name\":\"스포츠Q\",\"logoLight\":{\"url\":\"https://s.pstatic.net/static/newsstand/2020/logo/light/0604/802.png\"},\"logoDark\":{\"url\":\"https://s.pstatic.net/static/newsstand/2020/logo/dark/0604/802.png\"},\"showThumbnailView\":true,\"showListView\":true,\"regDate\":\"20230705 11:30:16\",\"_id\":null,\"@type\":\"PC-NEWSSTAND-PRESS-BLOCK\",\"@code\":null,\"@template\":\"NONE\",\"@flowId\":null,\"@flowExecutionId\":null,\"@provider\":null,\"@lastModifiedAt\":null},{\"@type\":\"PC-NEWSSTAND-PRESS-BLOCK\",\"blocks\":null,\"materials\":null,\"excludeInPaging\":false,\"positionForPaging\":0,\"realtime\":false,\"pid\":\"923\",\"name\":\"인민망\",\"logoLight\":{\"url\":\"https://s.pstatic.net/static/newsstand/2020/logo/light/0604/923.png\"},\"logoDark\":{\"url\":\"https://s.pstatic.net/static/newsstand/2020/logo/dark/0604/923.png\"},\"showThumbnailView\":true,\"showListView\":true,\"regDate\":\"20230705 10:30:03\",\"_id\":null,\"@type\":\"PC-NEWSSTAND-PRESS-BLOCK\",\"@code\":null,\"@template\":\"NONE\",\"@flowId\":null,\"@flowExecutionId\":null,\"@provider\":null,\"@lastModifiedAt\":null},{\"@type\":\"PC-NEWSSTAND-PRESS-BLOCK\",\"blocks\":null,\"materials\":null,\"excludeInPaging\":false,\"positionForPaging\":0,\"realtime\":false,\"pid\":\"803\",\"name\":\"인더스트리뉴스\",\"logoLight\":{\"url\":\"https://s.pstatic.net/static/newsstand/up/2021/0907/nsd9423633.png\"},\"logoDark\":{\"url\":\"https://s.pstatic.net/static/newsstand/up/2021/0907/nsd94216114.png\"},\"showThumbnailView\":true,\"showListView\":true,\"regDate\":\"20230705 11:30:18\",\"_id\":null,\"@type\":\"PC-NEWSSTAND-PRESS-BLOCK\",\"@code\":null,\"@template\":\"NONE\",\"@flowId\":null,\"@flowExecutionId\":null,\"@provider\":null,\"@lastModifiedAt\":null},{\"@type\":\"PC-NEWSSTAND-PRESS-BLOCK\",\"blocks\":null,\"materials\":null,\"excludeInPaging\":false,\"positionForPaging\":0,\"realtime\":false,\"pid\":\"924\",\"name\":\"인벤\",\"logoLight\":{\"url\":\"https://s.pstatic.net/static/newsstand/2020/logo/light/0604/924.png\"},\"logoDark\":{\"url\":\"https://s.pstatic.net/static/newsstand/2020/logo/dark/0604/924.png\"},\"showThumbnailView\":true,\"showListView\":true,\"regDate\":\"20230705 10:13:21\",\"_id\":null,\"@type\":\"PC-NEWSSTAND-PRESS-BLOCK\",\"@code\":null,\"@template\":\"NONE\",\"@flowId\":null,\"@flowExecutionId\":null,\"@provider\":null,\"@lastModifiedAt\":null},{\"@type\":\"PC-NEWSSTAND-PRESS-BLOCK\",\"blocks\":null,\"materials\":null,\"excludeInPaging\":false,\"positionForPaging\":0,\"realtime\":false,\"pid\":\"804\",\"name\":\"데이터뉴스\",\"logoLight\":{\"url\":\"https://s.pstatic.net/static/newsstand/2020/logo/light/0604/804.png\"},\"logoDark\":{\"url\":\"https://s.pstatic.net/static/newsstand/2020/logo/dark/0604/804.png\"},\"showThumbnailView\":true,\"showListView\":true,\"regDate\":\"20230705 11:15:04\",\"_id\":null,\"@type\":\"PC-NEWSSTAND-PRESS-BLOCK\",\"@code\":null,\"@template\":\"NONE\",\"@flowId\":null,\"@flowExecutionId\":null,\"@provider\":null,\"@lastModifiedAt\":null},{\"@type\":\"PC-NEWSSTAND-PRESS-BLOCK\",\"blocks\":null,\"materials\":null,\"excludeInPaging\":false,\"positionForPaging\":0,\"realtime\":false,\"pid\":\"925\",\"name\":\"일요신문\",\"logoLight\":{\"url\":\"https://s.pstatic.net/static/newsstand/2020/logo/light/0604/925.png\"},\"logoDark\":{\"url\":\"https://s.pstatic.net/static/newsstand/2020/logo/dark/0604/925.png\"},\"showThumbnailView\":true,\"showListView\":true,\"regDate\":\"20230705 09:49:16\",\"_id\":null,\"@type\":\"PC-NEWSSTAND-PRESS-BLOCK\",\"@code\":null,\"@template\":\"NONE\",\"@flowId\":null,\"@flowExecutionId\":null,\"@provider\":null,\"@lastModifiedAt\":null},{\"@type\":\"PC-NEWSSTAND-PRESS-BLOCK\",\"blocks\":null,\"materials\":null,\"excludeInPaging\":false,\"positionForPaging\":0,\"realtime\":false,\"pid\":\"805\",\"name\":\"한경잡앤조이\",\"logoLight\":{\"url\":\"https://s.pstatic.net/static/newsstand/up/2020/0615/nsd10319824.png\"},\"logoDark\":{\"url\":\"https://s.pstatic.net/static/newsstand/up/2020/0615/nsd10311145.png\"},\"showThumbnailView\":true,\"showListView\":true,\"regDate\":\"20230628 17:51:32\",\"_id\":null,\"@type\":\"PC-NEWSSTAND-PRESS-BLOCK\",\"@code\":null,\"@template\":\"NONE\",\"@flowId\":null,\"@flowExecutionId\":null,\"@provider\":null,\"@lastModifiedAt\":null},{\"@type\":\"PC-NEWSSTAND-PRESS-BLOCK\",\"blocks\":null,\"materials\":null,\"excludeInPaging\":false,\"positionForPaging\":0,\"realtime\":false,\"pid\":\"926\",\"name\":\"중부일보\",\"logoLight\":{\"url\":\"https://s.pstatic.net/static/newsstand/up/2022/0704/nsd231551300.png\"},\"logoDark\":{\"url\":\"https://s.pstatic.net/static/newsstand/up/2022/0704/nsd231545458.png\"},\"showThumbnailView\":true,\"showListView\":true,\"regDate\":\"20230705 09:57:00\",\"_id\":null,\"@type\":\"PC-NEWSSTAND-PRESS-BLOCK\",\"@code\":null,\"@template\":\"NONE\",\"@flowId\":null,\"@flowExecutionId\":null,\"@provider\":null,\"@lastModifiedAt\":null},{\"@type\":\"PC-NEWSSTAND-PRESS-BLOCK\",\"blocks\":null,\"materials\":null,\"excludeInPaging\":false,\"positionForPaging\":0,\"realtime\":false,\"pid\":\"806\",\"name\":\"MONEY\",\"logoLight\":{\"url\":\"https://s.pstatic.net/static/newsstand/2020/logo/light/0604/806.png\"},\"logoDark\":{\"url\":\"https://s.pstatic.net/static/newsstand/2020/logo/dark/0604/806.png\"},\"showThumbnailView\":true,\"showListView\":true,\"regDate\":\"20230705 10:04:29\",\"_id\":null,\"@type\":\"PC-NEWSSTAND-PRESS-BLOCK\",\"@code\":null,\"@template\":\"NONE\",\"@flowId\":null,\"@flowExecutionId\":null,\"@provider\":null,\"@lastModifiedAt\":null},{\"@type\":\"PC-NEWSSTAND-PRESS-BLOCK\",\"blocks\":null,\"materials\":null,\"excludeInPaging\":false,\"positionForPaging\":0,\"realtime\":false,\"pid\":\"927\",\"name\":\"충북일보\",\"logoLight\":{\"url\":\"https://s.pstatic.net/static/newsstand/2020/logo/light/0604/927.png\"},\"logoDark\":{\"url\":\"https://s.pstatic.net/static/newsstand/2020/logo/dark/0604/927.png\"},\"showThumbnailView\":true,\"showListView\":true,\"regDate\":\"20230704 19:43:52\",\"_id\":null,\"@type\":\"PC-NEWSSTAND-PRESS-BLOCK\",\"@code\":null,\"@template\":\"NONE\",\"@flowId\":null,\"@flowExecutionId\":null,\"@provider\":null,\"@lastModifiedAt\":null},{\"@type\":\"PC-NEWSSTAND-PRESS-BLOCK\",\"blocks\":null,\"materials\":null,\"excludeInPaging\":false,\"positionForPaging\":0,\"realtime\":false,\"pid\":\"807\",\"name\":\"인사이트코리아\",\"logoLight\":{\"url\":\"https://s.pstatic.net/static/newsstand/2020/logo/light/0604/807.png\"},\"logoDark\":{\"url\":\"https://s.pstatic.net/static/newsstand/2020/logo/dark/0604/807.png\"},\"showThumbnailView\":true,\"showListView\":true,\"regDate\":\"20230705 11:30:21\",\"_id\":null,\"@type\":\"PC-NEWSSTAND-PRESS-BLOCK\",\"@code\":null,\"@template\":\"NONE\",\"@flowId\":null,\"@flowExecutionId\":null,\"@provider\":null,\"@lastModifiedAt\":null},{\"@type\":\"PC-NEWSSTAND-PRESS-BLOCK\",\"blocks\":null,\"materials\":null,\"excludeInPaging\":false,\"positionForPaging\":0,\"realtime\":false,\"pid\":\"928\",\"name\":\"컴퓨터월드\",\"logoLight\":{\"url\":\"https://s.pstatic.net/static/newsstand/2020/logo/light/0604/928.png\"},\"logoDark\":{\"url\":\"https://s.pstatic.net/static/newsstand/2020/logo/dark/0604/928.png\"},\"showThumbnailView\":true,\"showListView\":true,\"regDate\":\"20230630 14:10:07\",\"_id\":null,\"@type\":\"PC-NEWSSTAND-PRESS-BLOCK\",\"@code\":null,\"@template\":\"NONE\",\"@flowId\":null,\"@flowExecutionId\":null,\"@provider\":null,\"@lastModifiedAt\":null},{\"@type\":\"PC-NEWSSTAND-PRESS-BLOCK\",\"blocks\":null,\"materials\":null,\"excludeInPaging\":false,\"positionForPaging\":0,\"realtime\":false,\"pid\":\"808\",\"name\":\"산업일보\",\"logoLight\":{\"url\":\"https://s.pstatic.net/static/newsstand/2020/logo/light/0604/808.png\"},\"logoDark\":{\"url\":\"https://s.pstatic.net/static/newsstand/2020/logo/dark/0604/808.png\"},\"showThumbnailView\":true,\"showListView\":true,\"regDate\":\"20230705 11:39:03\",\"_id\":null,\"@type\":\"PC-NEWSSTAND-PRESS-BLOCK\",\"@code\":null,\"@template\":\"NONE\",\"@flowId\":null,\"@flowExecutionId\":null,\"@provider\":null,\"@lastModifiedAt\":null},{\"@type\":\"PC-NEWSSTAND-PRESS-BLOCK\",\"blocks\":null,\"materials\":null,\"excludeInPaging\":false,\"positionForPaging\":0,\"realtime\":false,\"pid\":\"809\",\"name\":\"미디어펜\",\"logoLight\":{\"url\":\"https://s.pstatic.net/static/newsstand/2020/logo/light/0604/809.png\"},\"logoDark\":{\"url\":\"https://s.pstatic.net/static/newsstand/2020/logo/dark/0604/809.png\"},\"showThumbnailView\":true,\"showListView\":true,\"regDate\":\"20230705 11:31:30\",\"_id\":null,\"@type\":\"PC-NEWSSTAND-PRESS-BLOCK\",\"@code\":null,\"@template\":\"NONE\",\"@flowId\":null,\"@flowExecutionId\":null,\"@provider\":null,\"@lastModifiedAt\":null},{\"@type\":\"PC-NEWSSTAND-PRESS-BLOCK\",\"blocks\":null,\"materials\":null,\"excludeInPaging\":false,\"positionForPaging\":0,\"realtime\":false,\"pid\":\"011\",\"name\":\"서울경제\",\"logoLight\":{\"url\":\"https://s.pstatic.net/static/newsstand/2019/logo/011.png\"},\"logoDark\":{\"url\":\"https://s.pstatic.net/static/newsstand/2020/logo/dark/0604/011.png\"},\"showThumbnailView\":true,\"showListView\":true,\"regDate\":\"20230705 11:21:12\",\"_id\":null,\"@type\":\"PC-NEWSSTAND-PRESS-BLOCK\",\"@code\":null,\"@template\":\"NONE\",\"@flowId\":null,\"@flowExecutionId\":null,\"@provider\":null,\"@lastModifiedAt\":null},{\"@type\":\"PC-NEWSSTAND-PRESS-BLOCK\",\"blocks\":null,\"materials\":null,\"excludeInPaging\":false,\"positionForPaging\":0,\"realtime\":false,\"pid\":\"374\",\"name\":\"SBS Biz\",\"logoLight\":{\"url\":\"https://s.pstatic.net/static/newsstand/up/2020/1229/nsd165811867.png\"},\"logoDark\":{\"url\":\"https://s.pstatic.net/static/newsstand/up/2020/1229/nsd165811867.png\"},\"showThumbnailView\":true,\"showListView\":true,\"regDate\":\"20230705 11:30:41\",\"_id\":null,\"@type\":\"PC-NEWSSTAND-PRESS-BLOCK\",\"@code\":null,\"@template\":\"NONE\",\"@flowId\":null,\"@flowExecutionId\":null,\"@provider\":null,\"@lastModifiedAt\":null},{\"@type\":\"PC-NEWSSTAND-PRESS-BLOCK\",\"blocks\":null,\"materials\":null,\"excludeInPaging\":false,\"positionForPaging\":0,\"realtime\":false,\"pid\":\"013\",\"name\":\"연합인포맥스\",\"logoLight\":{\"url\":\"https://s.pstatic.net/static/newsstand/2020/logo/light/0604/013.png\"},\"logoDark\":{\"url\":\"https://s.pstatic.net/static/newsstand/2020/logo/dark/0604/013.png\"},\"showThumbnailView\":true,\"showListView\":true,\"regDate\":\"20230705 11:30:50\",\"_id\":null,\"@type\":\"PC-NEWSSTAND-PRESS-BLOCK\",\"@code\":null,\"@template\":\"NONE\",\"@flowId\":null,\"@flowExecutionId\":null,\"@provider\":null,\"@lastModifiedAt\":null},{\"@type\":\"PC-NEWSSTAND-PRESS-BLOCK\",\"blocks\":null,\"materials\":null,\"excludeInPaging\":false,\"positionForPaging\":0,\"realtime\":false,\"pid\":\"376\",\"name\":\"지지통신\",\"logoLight\":{\"url\":\"https://s.pstatic.net/static/newsstand/2020/logo/light/0604/376.png\"},\"logoDark\":{\"url\":\"https://s.pstatic.net/static/newsstand/2020/logo/dark/0604/376.png\"},\"showThumbnailView\":true,\"showListView\":true,\"regDate\":\"20230705 11:10:02\",\"_id\":null,\"@type\":\"PC-NEWSSTAND-PRESS-BLOCK\",\"@code\":null,\"@template\":\"NONE\",\"@flowId\":null,\"@flowExecutionId\":null,\"@provider\":null,\"@lastModifiedAt\":null},{\"@type\":\"PC-NEWSSTAND-PRESS-BLOCK\",\"blocks\":null,\"materials\":null,\"excludeInPaging\":false,\"positionForPaging\":0,\"realtime\":false,\"pid\":\"014\",\"name\":\"파이낸셜뉴스\",\"logoLight\":{\"url\":\"https://s.pstatic.net/static/newsstand/2020/logo/light/0604/014.png\"},\"logoDark\":{\"url\":\"https://s.pstatic.net/static/newsstand/2020/logo/dark/0604/014.png\"},\"showThumbnailView\":true,\"showListView\":true,\"regDate\":\"20230705 11:16:15\",\"_id\":null,\"@type\":\"PC-NEWSSTAND-PRESS-BLOCK\",\"@code\":null,\"@template\":\"NONE\",\"@flowId\":null,\"@flowExecutionId\":null,\"@provider\":null,\"@lastModifiedAt\":null},{\"@type\":\"PC-NEWSSTAND-PRESS-BLOCK\",\"blocks\":null,\"materials\":null,\"excludeInPaging\":false,\"positionForPaging\":0,\"realtime\":false,\"pid\":\"135\",\"name\":\"시사저널\",\"logoLight\":{\"url\":\"https://s.pstatic.net/static/newsstand/2020/logo/light/0604/135.png\"},\"logoDark\":{\"url\":\"https://s.pstatic.net/static/newsstand/2020/logo/dark/0604/135.png\"},\"showThumbnailView\":true,\"showListView\":true,\"regDate\":\"20230705 11:30:12\",\"_id\":null,\"@type\":\"PC-NEWSSTAND-PRESS-BLOCK\",\"@code\":null,\"@template\":\"NONE\",\"@flowId\":null,\"@flowExecutionId\":null,\"@provider\":null,\"@lastModifiedAt\":null},{\"@type\":\"PC-NEWSSTAND-PRESS-BLOCK\",\"blocks\":null,\"materials\":null,\"excludeInPaging\":false,\"positionForPaging\":0,\"realtime\":false,\"pid\":\"015\",\"name\":\"한국경제\",\"logoLight\":{\"url\":\"https://s.pstatic.net/static/newsstand/2020/logo/light/0604/015.png\"},\"logoDark\":{\"url\":\"https://s.pstatic.net/static/newsstand/2020/logo/dark/0604/015.png\"},\"showThumbnailView\":true,\"showListView\":true,\"regDate\":\"20230705 11:31:53\",\"_id\":null,\"@type\":\"PC-NEWSSTAND-PRESS-BLOCK\",\"@code\":null,\"@template\":\"NONE\",\"@flowId\":null,\"@flowExecutionId\":null,\"@provider\":null,\"@lastModifiedAt\":null},{\"@type\":\"PC-NEWSSTAND-PRESS-BLOCK\",\"blocks\":null,\"materials\":null,\"excludeInPaging\":false,\"positionForPaging\":0,\"realtime\":false,\"pid\":\"016\",\"name\":\"헤럴드경제\",\"logoLight\":{\"url\":\"https://s.pstatic.net/static/newsstand/2020/logo/light/0604/016.png\"},\"logoDark\":{\"url\":\"https://s.pstatic.net/static/newsstand/2020/logo/dark/0604/016.png\"},\"showThumbnailView\":true,\"showListView\":true,\"regDate\":\"20230705 11:19:54\",\"_id\":null,\"@type\":\"PC-NEWSSTAND-PRESS-BLOCK\",\"@code\":null,\"@template\":\"NONE\",\"@flowId\":null,\"@flowExecutionId\":null,\"@provider\":null,\"@lastModifiedAt\":null},{\"@type\":\"PC-NEWSSTAND-PRESS-BLOCK\",\"blocks\":null,\"materials\":null,\"excludeInPaging\":false,\"positionForPaging\":0,\"realtime\":false,\"pid\":\"138\",\"name\":\"디지털데일리\",\"logoLight\":{\"url\":\"https://s.pstatic.net/static/newsstand/2020/logo/light/0604/138.png\"},\"logoDark\":{\"url\":\"https://s.pstatic.net/static/newsstand/2020/logo/dark/0604/138.png\"},\"showThumbnailView\":true,\"showListView\":true,\"regDate\":\"20230705 10:23:29\",\"_id\":null,\"@type\":\"PC-NEWSSTAND-PRESS-BLOCK\",\"@code\":null,\"@template\":\"NONE\",\"@flowId\":null,\"@flowExecutionId\":null,\"@provider\":null,\"@lastModifiedAt\":null},{\"@type\":\"PC-NEWSSTAND-PRESS-BLOCK\",\"blocks\":null,\"materials\":null,\"excludeInPaging\":false,\"positionForPaging\":0,\"realtime\":false,\"pid\":\"930\",\"name\":\"뉴스타파\",\"logoLight\":{\"url\":\"https://s.pstatic.net/static/newsstand/2020/logo/light/0604/930.png\"},\"logoDark\":{\"url\":\"https://s.pstatic.net/static/newsstand/2020/logo/dark/0604/930.png\"},\"showThumbnailView\":true,\"showListView\":true,\"regDate\":\"20230705 11:34:14\",\"_id\":null,\"@type\":\"PC-NEWSSTAND-PRESS-BLOCK\",\"@code\":null,\"@template\":\"NONE\",\"@flowId\":null,\"@flowExecutionId\":null,\"@provider\":null,\"@lastModifiedAt\":null},{\"@type\":\"PC-NEWSSTAND-PRESS-BLOCK\",\"blocks\":null,\"materials\":null,\"excludeInPaging\":false,\"positionForPaging\":0,\"realtime\":false,\"pid\":\"018\",\"name\":\"이데일리\",\"logoLight\":{\"url\":\"https://s.pstatic.net/static/newsstand/2020/logo/light/0604/018.png\"},\"logoDark\":{\"url\":\"https://s.pstatic.net/static/newsstand/2020/logo/dark/0604/018.png\"},\"showThumbnailView\":true,\"showListView\":true,\"regDate\":\"20230705 11:29:25\",\"_id\":null,\"@type\":\"PC-NEWSSTAND-PRESS-BLOCK\",\"@code\":null,\"@template\":\"NONE\",\"@flowId\":null,\"@flowExecutionId\":null,\"@provider\":null,\"@lastModifiedAt\":null},{\"@type\":\"PC-NEWSSTAND-PRESS-BLOCK\",\"blocks\":null,\"materials\":null,\"excludeInPaging\":false,\"positionForPaging\":0,\"realtime\":false,\"pid\":\"139\",\"name\":\"스포탈코리아\",\"logoLight\":{\"url\":\"https://s.pstatic.net/static/newsstand/2020/logo/light/0604/139.png\"},\"logoDark\":{\"url\":\"https://s.pstatic.net/static/newsstand/2020/logo/dark/0604/139.png\"},\"showThumbnailView\":true,\"showListView\":true,\"regDate\":\"20230703 09:23:11\",\"_id\":null,\"@type\":\"PC-NEWSSTAND-PRESS-BLOCK\",\"@code\":null,\"@template\":\"NONE\",\"@flowId\":null,\"@flowExecutionId\":null,\"@provider\":null,\"@lastModifiedAt\":null},{\"@type\":\"PC-NEWSSTAND-PRESS-BLOCK\",\"blocks\":null,\"materials\":null,\"excludeInPaging\":false,\"positionForPaging\":0,\"realtime\":false,\"pid\":\"810\",\"name\":\"신아일보\",\"logoLight\":{\"url\":\"https://s.pstatic.net/static/newsstand/up/2021/0316/nsd103953129.png\"},\"logoDark\":{\"url\":\"https://s.pstatic.net/static/newsstand/up/2021/0316/nsd104012979.png\"},\"showThumbnailView\":true,\"showListView\":true,\"regDate\":\"20230705 11:30:19\",\"_id\":null,\"@type\":\"PC-NEWSSTAND-PRESS-BLOCK\",\"@code\":null,\"@template\":\"NONE\",\"@flowId\":null,\"@flowExecutionId\":null,\"@provider\":null,\"@lastModifiedAt\":null},{\"@type\":\"PC-NEWSSTAND-PRESS-BLOCK\",\"blocks\":null,\"materials\":null,\"excludeInPaging\":false,\"positionForPaging\":0,\"realtime\":false,\"pid\":\"811\",\"name\":\"한국농어촌방송\",\"logoLight\":{\"url\":\"https://s.pstatic.net/static/newsstand/up/2022/0315/nsd181452869.png\"},\"logoDark\":{\"url\":\"https://s.pstatic.net/static/newsstand/up/2022/0315/nsd18156958.png\"},\"showThumbnailView\":true,\"showListView\":true,\"regDate\":\"20230705 11:30:23\",\"_id\":null,\"@type\":\"PC-NEWSSTAND-PRESS-BLOCK\",\"@code\":null,\"@template\":\"NONE\",\"@flowId\":null,\"@flowExecutionId\":null,\"@provider\":null,\"@lastModifiedAt\":null},{\"@type\":\"PC-NEWSSTAND-PRESS-BLOCK\",\"blocks\":null,\"materials\":null,\"excludeInPaging\":false,\"positionForPaging\":0,\"realtime\":false,\"pid\":\"932\",\"name\":\"CEO스코어데일리\",\"logoLight\":{\"url\":\"https://s.pstatic.net/static/newsstand/2020/logo/light/0604/932.png\"},\"logoDark\":{\"url\":\"https://s.pstatic.net/static/newsstand/2020/logo/dark/0604/932.png\"},\"showThumbnailView\":true,\"showListView\":true,\"regDate\":\"20230705 07:07:31\",\"_id\":null,\"@type\":\"PC-NEWSSTAND-PRESS-BLOCK\",\"@code\":null,\"@template\":\"NONE\",\"@flowId\":null,\"@flowExecutionId\":null,\"@provider\":null,\"@lastModifiedAt\":null},{\"@type\":\"PC-NEWSSTAND-PRESS-BLOCK\",\"blocks\":null,\"materials\":null,\"excludeInPaging\":false,\"positionForPaging\":0,\"realtime\":false,\"pid\":\"812\",\"name\":\"데일리임팩트\",\"logoLight\":{\"url\":\"https://s.pstatic.net/static/newsstand/up/2021/0819/nsd151219656.png\"},\"logoDark\":{\"url\":\"https://s.pstatic.net/static/newsstand/up/2021/0819/nsd151254429.png\"},\"showThumbnailView\":true,\"showListView\":true,\"regDate\":\"20230705 11:30:24\",\"_id\":null,\"@type\":\"PC-NEWSSTAND-PRESS-BLOCK\",\"@code\":null,\"@template\":\"NONE\",\"@flowId\":null,\"@flowExecutionId\":null,\"@provider\":null,\"@lastModifiedAt\":null},{\"@type\":\"PC-NEWSSTAND-PRESS-BLOCK\",\"blocks\":null,\"materials\":null,\"excludeInPaging\":false,\"positionForPaging\":0,\"realtime\":false,\"pid\":\"813\",\"name\":\"이코노믹리뷰\",\"logoLight\":{\"url\":\"https://s.pstatic.net/static/newsstand/up/2022/0418/nsd164755323.png\"},\"logoDark\":{\"url\":\"https://s.pstatic.net/static/newsstand/up/2022/0418/nsd164818946.png\"},\"showThumbnailView\":true,\"showListView\":true,\"regDate\":\"20230705 11:30:26\",\"_id\":null,\"@type\":\"PC-NEWSSTAND-PRESS-BLOCK\",\"@code\":null,\"@template\":\"NONE\",\"@flowId\":null,\"@flowExecutionId\":null,\"@provider\":null,\"@lastModifiedAt\":null},{\"@type\":\"PC-NEWSSTAND-PRESS-BLOCK\",\"blocks\":null,\"materials\":null,\"excludeInPaging\":false,\"positionForPaging\":0,\"realtime\":false,\"pid\":\"934\",\"name\":\"아리랑TV\",\"logoLight\":{\"url\":\"https://s.pstatic.net/static/newsstand/2020/logo/light/0604/934.png\"},\"logoDark\":{\"url\":\"https://s.pstatic.net/static/newsstand/2020/logo/dark/0604/934.png\"},\"showThumbnailView\":true,\"showListView\":true,\"regDate\":\"20230705 10:10:21\",\"_id\":null,\"@type\":\"PC-NEWSSTAND-PRESS-BLOCK\",\"@code\":null,\"@template\":\"NONE\",\"@flowId\":null,\"@flowExecutionId\":null,\"@provider\":null,\"@lastModifiedAt\":null},{\"@type\":\"PC-NEWSSTAND-PRESS-BLOCK\",\"blocks\":null,\"materials\":null,\"excludeInPaging\":false,\"positionForPaging\":0,\"realtime\":false,\"pid\":\"814\",\"name\":\"미주한국일보\",\"logoLight\":{\"url\":\"https://s.pstatic.net/static/newsstand/2020/logo/light/0604/814.png\"},\"logoDark\":{\"url\":\"https://s.pstatic.net/static/newsstand/2020/logo/dark/0604/814.png\"},\"showThumbnailView\":false,\"showListView\":false,\"regDate\":\"20230619 03:30:34\",\"_id\":null,\"@type\":\"PC-NEWSSTAND-PRESS-BLOCK\",\"@code\":null,\"@template\":\"NONE\",\"@flowId\":null,\"@flowExecutionId\":null,\"@provider\":null,\"@lastModifiedAt\":null},{\"@type\":\"PC-NEWSSTAND-PRESS-BLOCK\",\"blocks\":null,\"materials\":null,\"excludeInPaging\":false,\"positionForPaging\":0,\"realtime\":false,\"pid\":\"935\",\"name\":\"경상일보\",\"logoLight\":{\"url\":\"https://s.pstatic.net/static/newsstand/2020/logo/light/0604/935.png\"},\"logoDark\":{\"url\":\"https://s.pstatic.net/static/newsstand/2020/logo/dark/0604/935.png\"},\"showThumbnailView\":true,\"showListView\":true,\"regDate\":\"20230705 00:16:10\",\"_id\":null,\"@type\":\"PC-NEWSSTAND-PRESS-BLOCK\",\"@code\":null,\"@template\":\"NONE\",\"@flowId\":null,\"@flowExecutionId\":null,\"@provider\":null,\"@lastModifiedAt\":null},{\"@type\":\"PC-NEWSSTAND-PRESS-BLOCK\",\"blocks\":null,\"materials\":null,\"excludeInPaging\":false,\"positionForPaging\":0,\"realtime\":false,\"pid\":\"815\",\"name\":\"법률방송뉴스\",\"logoLight\":{\"url\":\"https://s.pstatic.net/static/newsstand/2020/logo/light/0604/815.png\"},\"logoDark\":{\"url\":\"https://s.pstatic.net/static/newsstand/2020/logo/dark/0604/815.png\"},\"showThumbnailView\":true,\"showListView\":true,\"regDate\":\"20230705 11:30:25\",\"_id\":null,\"@type\":\"PC-NEWSSTAND-PRESS-BLOCK\",\"@code\":null,\"@template\":\"NONE\",\"@flowId\":null,\"@flowExecutionId\":null,\"@provider\":null,\"@lastModifiedAt\":null},{\"@type\":\"PC-NEWSSTAND-PRESS-BLOCK\",\"blocks\":null,\"materials\":null,\"excludeInPaging\":false,\"positionForPaging\":0,\"realtime\":false,\"pid\":\"936\",\"name\":\"대구일보\",\"logoLight\":{\"url\":\"https://s.pstatic.net/static/newsstand/2020/logo/light/0604/936.png\"},\"logoDark\":{\"url\":\"https://s.pstatic.net/static/newsstand/2020/logo/dark/0604/936.png\"},\"showThumbnailView\":true,\"showListView\":true,\"regDate\":\"20230704 20:13:34\",\"_id\":null,\"@type\":\"PC-NEWSSTAND-PRESS-BLOCK\",\"@code\":null,\"@template\":\"NONE\",\"@flowId\":null,\"@flowExecutionId\":null,\"@provider\":null,\"@lastModifiedAt\":null},{\"@type\":\"PC-NEWSSTAND-PRESS-BLOCK\",\"blocks\":null,\"materials\":null,\"excludeInPaging\":false,\"positionForPaging\":0,\"realtime\":false,\"pid\":\"816\",\"name\":\"시사오늘\",\"logoLight\":{\"url\":\"https://s.pstatic.net/static/newsstand/2020/logo/light/0604/816.png\"},\"logoDark\":{\"url\":\"https://s.pstatic.net/static/newsstand/2020/logo/dark/0604/816.png\"},\"showThumbnailView\":true,\"showListView\":true,\"regDate\":\"20230705 11:30:28\",\"_id\":null,\"@type\":\"PC-NEWSSTAND-PRESS-BLOCK\",\"@code\":null,\"@template\":\"NONE\",\"@flowId\":null,\"@flowExecutionId\":null,\"@provider\":null,\"@lastModifiedAt\":null},{\"@type\":\"PC-NEWSSTAND-PRESS-BLOCK\",\"blocks\":null,\"materials\":null,\"excludeInPaging\":false,\"positionForPaging\":0,\"realtime\":false,\"pid\":\"937\",\"name\":\"전북도민일보\",\"logoLight\":{\"url\":\"https://s.pstatic.net/static/newsstand/2020/logo/light/0604/937.png\"},\"logoDark\":{\"url\":\"https://s.pstatic.net/static/newsstand/2020/logo/dark/0604/937.png\"},\"showThumbnailView\":true,\"showListView\":true,\"regDate\":\"20230704 20:04:48\",\"_id\":null,\"@type\":\"PC-NEWSSTAND-PRESS-BLOCK\",\"@code\":null,\"@template\":\"NONE\",\"@flowId\":null,\"@flowExecutionId\":null,\"@provider\":null,\"@lastModifiedAt\":null},{\"@type\":\"PC-NEWSSTAND-PRESS-BLOCK\",\"blocks\":null,\"materials\":null,\"excludeInPaging\":false,\"positionForPaging\":0,\"realtime\":false,\"pid\":\"817\",\"name\":\"미디어제주\",\"logoLight\":{\"url\":\"https://s.pstatic.net/static/newsstand/2020/logo/light/0604/817.png\"},\"logoDark\":{\"url\":\"https://s.pstatic.net/static/newsstand/2020/logo/dark/0604/817.png\"},\"showThumbnailView\":true,\"showListView\":true,\"regDate\":\"20230705 11:30:29\",\"_id\":null,\"@type\":\"PC-NEWSSTAND-PRESS-BLOCK\",\"@code\":null,\"@template\":\"NONE\",\"@flowId\":null,\"@flowExecutionId\":null,\"@provider\":null,\"@lastModifiedAt\":null},{\"@type\":\"PC-NEWSSTAND-PRESS-BLOCK\",\"blocks\":null,\"materials\":null,\"excludeInPaging\":false,\"positionForPaging\":0,\"realtime\":false,\"pid\":\"938\",\"name\":\"그린포스트코리아\",\"logoLight\":{\"url\":\"https://s.pstatic.net/static/newsstand/2020/logo/light/0604/938.png\"},\"logoDark\":{\"url\":\"https://s.pstatic.net/static/newsstand/2020/logo/dark/0604/938.png\"},\"showThumbnailView\":true,\"showListView\":true,\"regDate\":\"20230704 18:04:19\",\"_id\":null,\"@type\":\"PC-NEWSSTAND-PRESS-BLOCK\",\"@code\":null,\"@template\":\"NONE\",\"@flowId\":null,\"@flowExecutionId\":null,\"@provider\":null,\"@lastModifiedAt\":null},{\"@type\":\"PC-NEWSSTAND-PRESS-BLOCK\",\"blocks\":null,\"materials\":null,\"excludeInPaging\":false,\"positionForPaging\":0,\"realtime\":false,\"pid\":\"818\",\"name\":\"IT동아\",\"logoLight\":{\"url\":\"https://s.pstatic.net/static/newsstand/2020/logo/light/0604/818.png\"},\"logoDark\":{\"url\":\"https://s.pstatic.net/static/newsstand/2020/logo/dark/0604/818.png\"},\"showThumbnailView\":true,\"showListView\":true,\"regDate\":\"20230705 09:22:20\",\"_id\":null,\"@type\":\"PC-NEWSSTAND-PRESS-BLOCK\",\"@code\":null,\"@template\":\"NONE\",\"@flowId\":null,\"@flowExecutionId\":null,\"@provider\":null,\"@lastModifiedAt\":null},{\"@type\":\"PC-NEWSSTAND-PRESS-BLOCK\",\"blocks\":null,\"materials\":null,\"excludeInPaging\":false,\"positionForPaging\":0,\"realtime\":false,\"pid\":\"819\",\"name\":\"바이라인네트워크\",\"logoLight\":{\"url\":\"https://s.pstatic.net/static/newsstand/2020/logo/light/0604/819.png\"},\"logoDark\":{\"url\":\"https://s.pstatic.net/static/newsstand/2020/logo/dark/0604/819.png\"},\"showThumbnailView\":true,\"showListView\":true,\"regDate\":\"20230705 10:10:28\",\"_id\":null,\"@type\":\"PC-NEWSSTAND-PRESS-BLOCK\",\"@code\":null,\"@template\":\"NONE\",\"@flowId\":null,\"@flowExecutionId\":null,\"@provider\":null,\"@lastModifiedAt\":null},{\"@type\":\"PC-NEWSSTAND-PRESS-BLOCK\",\"blocks\":null,\"materials\":null,\"excludeInPaging\":false,\"positionForPaging\":0,\"realtime\":false,\"pid\":\"140\",\"name\":\"씨네21\",\"logoLight\":{\"url\":\"https://s.pstatic.net/static/newsstand/2020/logo/light/0604/140.png\"},\"logoDark\":{\"url\":\"https://s.pstatic.net/static/newsstand/2020/logo/dark/0604/140.png\"},\"showThumbnailView\":true,\"showListView\":true,\"regDate\":\"20230705 11:00:00\",\"_id\":null,\"@type\":\"PC-NEWSSTAND-PRESS-BLOCK\",\"@code\":null,\"@template\":\"NONE\",\"@flowId\":null,\"@flowExecutionId\":null,\"@provider\":null,\"@lastModifiedAt\":null},{\"@type\":\"PC-NEWSSTAND-PRESS-BLOCK\",\"blocks\":null,\"materials\":null,\"excludeInPaging\":false,\"positionForPaging\":0,\"realtime\":false,\"pid\":\"020\",\"name\":\"동아일보\",\"logoLight\":{\"url\":\"https://s.pstatic.net/static/newsstand/2020/logo/light/0604/020.png\"},\"logoDark\":{\"url\":\"https://s.pstatic.net/static/newsstand/2020/logo/dark/0604/020.png\"},\"showThumbnailView\":true,\"showListView\":true,\"regDate\":\"20230705 11:29:21\",\"_id\":null,\"@type\":\"PC-NEWSSTAND-PRESS-BLOCK\",\"@code\":null,\"@template\":\"NONE\",\"@flowId\":null,\"@flowExecutionId\":null,\"@provider\":null,\"@lastModifiedAt\":null},{\"@type\":\"PC-NEWSSTAND-PRESS-BLOCK\",\"blocks\":null,\"materials\":null,\"excludeInPaging\":false,\"positionForPaging\":0,\"realtime\":false,\"pid\":\"021\",\"name\":\"문화일보\",\"logoLight\":{\"url\":\"https://s.pstatic.net/static/newsstand/2020/logo/light/0604/021.png\"},\"logoDark\":{\"url\":\"https://s.pstatic.net/static/newsstand/2020/logo/dark/0604/021.png\"},\"showThumbnailView\":true,\"showListView\":true,\"regDate\":\"20230705 11:28:06\",\"_id\":null,\"@type\":\"PC-NEWSSTAND-PRESS-BLOCK\",\"@code\":null,\"@template\":\"NONE\",\"@flowId\":null,\"@flowExecutionId\":null,\"@provider\":null,\"@lastModifiedAt\":null},{\"@type\":\"PC-NEWSSTAND-PRESS-BLOCK\",\"blocks\":null,\"materials\":null,\"excludeInPaging\":false,\"positionForPaging\":0,\"realtime\":false,\"pid\":\"384\",\"name\":\"한국대학신문\",\"logoLight\":{\"url\":\"https://s.pstatic.net/static/newsstand/2020/logo/light/0604/384.png\"},\"logoDark\":{\"url\":\"https://s.pstatic.net/static/newsstand/2020/logo/dark/0604/384.png\"},\"showThumbnailView\":true,\"showListView\":true,\"regDate\":\"20230705 11:30:08\",\"_id\":null,\"@type\":\"PC-NEWSSTAND-PRESS-BLOCK\",\"@code\":null,\"@template\":\"NONE\",\"@flowId\":null,\"@flowExecutionId\":null,\"@provider\":null,\"@lastModifiedAt\":null},{\"@type\":\"PC-NEWSSTAND-PRESS-BLOCK\",\"blocks\":null,\"materials\":null,\"excludeInPaging\":false,\"positionForPaging\":0,\"realtime\":false,\"pid\":\"022\",\"name\":\"세계일보\",\"logoLight\":{\"url\":\"https://s.pstatic.net/static/newsstand/2020/logo/light/0604/022.png\"},\"logoDark\":{\"url\":\"https://s.pstatic.net/static/newsstand/2020/logo/dark/0604/022.png\"},\"showThumbnailView\":true,\"showListView\":true,\"regDate\":\"20230705 11:31:13\",\"_id\":null,\"@type\":\"PC-NEWSSTAND-PRESS-BLOCK\",\"@code\":null,\"@template\":\"NONE\",\"@flowId\":null,\"@flowExecutionId\":null,\"@provider\":null,\"@lastModifiedAt\":null},{\"@type\":\"PC-NEWSSTAND-PRESS-BLOCK\",\"blocks\":null,\"materials\":null,\"excludeInPaging\":false,\"positionForPaging\":0,\"realtime\":false,\"pid\":\"143\",\"name\":\"쿠키뉴스\",\"logoLight\":{\"url\":\"https://s.pstatic.net/static/newsstand/up/2022/0823/nsd105911492.png\"},\"logoDark\":{\"url\":\"https://s.pstatic.net/static/newsstand/up/2022/0819/nsd181056744.png\"},\"showThumbnailView\":true,\"showListView\":true,\"regDate\":\"20230705 11:28:01\",\"_id\":null,\"@type\":\"PC-NEWSSTAND-PRESS-BLOCK\",\"@code\":null,\"@template\":\"NONE\",\"@flowId\":null,\"@flowExecutionId\":null,\"@provider\":null,\"@lastModifiedAt\":null},{\"@type\":\"PC-NEWSSTAND-PRESS-BLOCK\",\"blocks\":null,\"materials\":null,\"excludeInPaging\":false,\"positionForPaging\":0,\"realtime\":false,\"pid\":\"385\",\"name\":\"영남일보\",\"logoLight\":{\"url\":\"https://s.pstatic.net/static/newsstand/2020/logo/light/0604/385.png\"},\"logoDark\":{\"url\":\"https://s.pstatic.net/static/newsstand/2020/logo/dark/0604/385.png\"},\"showThumbnailView\":true,\"showListView\":true,\"regDate\":\"20230705 11:30:04\",\"_id\":null,\"@type\":\"PC-NEWSSTAND-PRESS-BLOCK\",\"@code\":null,\"@template\":\"NONE\",\"@flowId\":null,\"@flowExecutionId\":null,\"@provider\":null,\"@lastModifiedAt\":null},{\"@type\":\"PC-NEWSSTAND-PRESS-BLOCK\",\"blocks\":null,\"materials\":null,\"excludeInPaging\":false,\"positionForPaging\":0,\"realtime\":false,\"pid\":\"023\",\"name\":\"조선일보\",\"logoLight\":{\"url\":\"https://s.pstatic.net/static/newsstand/up/2020/0903/nsd185255316.png\"},\"logoDark\":{\"url\":\"https://s.pstatic.net/static/newsstand/up/2020/0903/nsd185246724.png\"},\"showThumbnailView\":true,\"showListView\":true,\"regDate\":\"20230705 11:15:00\",\"_id\":null,\"@type\":\"PC-NEWSSTAND-PRESS-BLOCK\",\"@code\":null,\"@template\":\"NONE\",\"@flowId\":null,\"@flowExecutionId\":null,\"@provider\":null,\"@lastModifiedAt\":null},{\"@type\":\"PC-NEWSSTAND-PRESS-BLOCK\",\"blocks\":null,\"materials\":null,\"excludeInPaging\":false,\"positionForPaging\":0,\"realtime\":false,\"pid\":\"144\",\"name\":\"스포츠경향\",\"logoLight\":{\"url\":\"https://s.pstatic.net/static/newsstand/2020/logo/light/0604/144.png\"},\"logoDark\":{\"url\":\"https://s.pstatic.net/static/newsstand/2020/logo/dark/0604/144.png\"},\"showThumbnailView\":true,\"showListView\":true,\"regDate\":\"20230705 10:58:43\",\"_id\":null,\"@type\":\"PC-NEWSSTAND-PRESS-BLOCK\",\"@code\":null,\"@template\":\"NONE\",\"@flowId\":null,\"@flowExecutionId\":null,\"@provider\":null,\"@lastModifiedAt\":null},{\"@type\":\"PC-NEWSSTAND-PRESS-BLOCK\",\"blocks\":null,\"materials\":null,\"excludeInPaging\":false,\"positionForPaging\":0,\"realtime\":false,\"pid\":\"024\",\"name\":\"매경이코노미\",\"logoLight\":{\"url\":\"https://s.pstatic.net/static/newsstand/2020/logo/light/0604/024.png\"},\"logoDark\":{\"url\":\"https://s.pstatic.net/static/newsstand/2020/logo/dark/0604/024.png\"},\"showThumbnailView\":true,\"showListView\":true,\"regDate\":\"20230705 11:38:02\",\"_id\":null,\"@type\":\"PC-NEWSSTAND-PRESS-BLOCK\",\"@code\":null,\"@template\":\"NONE\",\"@flowId\":null,\"@flowExecutionId\":null,\"@provider\":null,\"@lastModifiedAt\":null},{\"@type\":\"PC-NEWSSTAND-PRESS-BLOCK\",\"blocks\":null,\"materials\":null,\"excludeInPaging\":false,\"positionForPaging\":0,\"realtime\":false,\"pid\":\"387\",\"name\":\"인천일보\",\"logoLight\":{\"url\":\"https://s.pstatic.net/static/newsstand/up/2022/0331/nsd155937506.png\"},\"logoDark\":{\"url\":\"https://s.pstatic.net/static/newsstand/up/2022/0331/nsd15594915.png\"},\"showThumbnailView\":true,\"showListView\":true,\"regDate\":\"20230705 11:30:04\",\"_id\":null,\"@type\":\"PC-NEWSSTAND-PRESS-BLOCK\",\"@code\":null,\"@template\":\"NONE\",\"@flowId\":null,\"@flowExecutionId\":null,\"@provider\":null,\"@lastModifiedAt\":null},{\"@type\":\"PC-NEWSSTAND-PRESS-BLOCK\",\"blocks\":null,\"materials\":null,\"excludeInPaging\":false,\"positionForPaging\":0,\"realtime\":false,\"pid\":\"025\",\"name\":\"중앙일보\",\"logoLight\":{\"url\":\"https://s.pstatic.net/static/newsstand/up/2021/0824/nsd115034872.png\"},\"logoDark\":{\"url\":\"https://s.pstatic.net/static/newsstand/up/2021/0823/nsd101834185.png\"},\"showThumbnailView\":true,\"showListView\":true,\"regDate\":\"20230705 11:26:46\",\"_id\":null,\"@type\":\"PC-NEWSSTAND-PRESS-BLOCK\",\"@code\":null,\"@template\":\"NONE\",\"@flowId\":null,\"@flowExecutionId\":null,\"@provider\":null,\"@lastModifiedAt\":null},{\"@type\":\"PC-NEWSSTAND-PRESS-BLOCK\",\"blocks\":null,\"materials\":null,\"excludeInPaging\":false,\"positionForPaging\":0,\"realtime\":false,\"pid\":\"388\",\"name\":\"전남일보\",\"logoLight\":{\"url\":\"https://s.pstatic.net/static/newsstand/2020/logo/light/0604/388.png\"},\"logoDark\":{\"url\":\"https://s.pstatic.net/static/newsstand/2020/logo/dark/0604/388.png\"},\"showThumbnailView\":true,\"showListView\":true,\"regDate\":\"20230705 11:30:01\",\"_id\":null,\"@type\":\"PC-NEWSSTAND-PRESS-BLOCK\",\"@code\":null,\"@template\":\"NONE\",\"@flowId\":null,\"@flowExecutionId\":null,\"@provider\":null,\"@lastModifiedAt\":null},{\"@type\":\"PC-NEWSSTAND-PRESS-BLOCK\",\"blocks\":null,\"materials\":null,\"excludeInPaging\":false,\"positionForPaging\":0,\"realtime\":false,\"pid\":\"389\",\"name\":\"제주도민일보\",\"logoLight\":{\"url\":\"https://s.pstatic.net/static/newsstand/2020/logo/light/0604/389.png\"},\"logoDark\":{\"url\":\"https://s.pstatic.net/static/newsstand/2020/logo/dark/0604/389.png\"},\"showThumbnailView\":true,\"showListView\":true,\"regDate\":\"20230705 11:30:36\",\"_id\":null,\"@type\":\"PC-NEWSSTAND-PRESS-BLOCK\",\"@code\":null,\"@template\":\"NONE\",\"@flowId\":null,\"@flowExecutionId\":null,\"@provider\":null,\"@lastModifiedAt\":null},{\"@type\":\"PC-NEWSSTAND-PRESS-BLOCK\",\"blocks\":null,\"materials\":null,\"excludeInPaging\":false,\"positionForPaging\":0,\"realtime\":false,\"pid\":\"940\",\"name\":\"스포츠투데이\",\"logoLight\":{\"url\":\"https://s.pstatic.net/static/newsstand/up/2022/0328/nsd223244325.png\"},\"logoDark\":{\"url\":\"https://s.pstatic.net/static/newsstand/up/2022/0328/nsd223257107.png\"},\"showThumbnailView\":true,\"showListView\":true,\"regDate\":\"20230705 11:00:01\",\"_id\":null,\"@type\":\"PC-NEWSSTAND-PRESS-BLOCK\",\"@code\":null,\"@template\":\"NONE\",\"@flowId\":null,\"@flowExecutionId\":null,\"@provider\":null,\"@lastModifiedAt\":null},{\"@type\":\"PC-NEWSSTAND-PRESS-BLOCK\",\"blocks\":null,\"materials\":null,\"excludeInPaging\":false,\"positionForPaging\":0,\"realtime\":false,\"pid\":\"028\",\"name\":\"한겨레\",\"logoLight\":{\"url\":\"https://s.pstatic.net/static/newsstand/2020/logo/light/0604/028.png\"},\"logoDark\":{\"url\":\"https://s.pstatic.net/static/newsstand/2020/logo/dark/0604/028.png\"},\"showThumbnailView\":true,\"showListView\":true,\"regDate\":\"20230705 11:29:31\",\"_id\":null,\"@type\":\"PC-NEWSSTAND-PRESS-BLOCK\",\"@code\":null,\"@template\":\"NONE\",\"@flowId\":null,\"@flowExecutionId\":null,\"@provider\":null,\"@lastModifiedAt\":null},{\"@type\":\"PC-NEWSSTAND-PRESS-BLOCK\",\"blocks\":null,\"materials\":null,\"excludeInPaging\":false,\"positionForPaging\":0,\"realtime\":false,\"pid\":\"820\",\"name\":\"월간노동법률\",\"logoLight\":{\"url\":\"https://s.pstatic.net/static/newsstand/up/2022/0817/nsd14480190.png\"},\"logoDark\":{\"url\":\"https://s.pstatic.net/static/newsstand/up/2022/0817/nsd144754102.png\"},\"showThumbnailView\":true,\"showListView\":true,\"regDate\":\"20230704 17:29:16\",\"_id\":null,\"@type\":\"PC-NEWSSTAND-PRESS-BLOCK\",\"@code\":null,\"@template\":\"NONE\",\"@flowId\":null,\"@flowExecutionId\":null,\"@provider\":null,\"@lastModifiedAt\":null},{\"@type\":\"PC-NEWSSTAND-PRESS-BLOCK\",\"blocks\":null,\"materials\":null,\"excludeInPaging\":false,\"positionForPaging\":0,\"realtime\":false,\"pid\":\"941\",\"name\":\"초이스경제\",\"logoLight\":{\"url\":\"https://s.pstatic.net/static/newsstand/2020/logo/light/0604/941.png\"},\"logoDark\":{\"url\":\"https://s.pstatic.net/static/newsstand/2020/logo/dark/0604/941.png\"},\"showThumbnailView\":true,\"showListView\":true,\"regDate\":\"20230705 11:25:03\",\"_id\":null,\"@type\":\"PC-NEWSSTAND-PRESS-BLOCK\",\"@code\":null,\"@template\":\"NONE\",\"@flowId\":null,\"@flowExecutionId\":null,\"@provider\":null,\"@lastModifiedAt\":null},{\"@type\":\"PC-NEWSSTAND-PRESS-BLOCK\",\"blocks\":null,\"materials\":null,\"excludeInPaging\":false,\"positionForPaging\":0,\"realtime\":false,\"pid\":\"029\",\"name\":\"디지털타임스\",\"logoLight\":{\"url\":\"https://s.pstatic.net/static/newsstand/2020/logo/light/0604/029.png\"},\"logoDark\":{\"url\":\"https://s.pstatic.net/static/newsstand/2020/logo/dark/0604/029.png\"},\"showThumbnailView\":true,\"showListView\":true,\"regDate\":\"20230705 11:30:51\",\"_id\":null,\"@type\":\"PC-NEWSSTAND-PRESS-BLOCK\",\"@code\":null,\"@template\":\"NONE\",\"@flowId\":null,\"@flowExecutionId\":null,\"@provider\":null,\"@lastModifiedAt\":null},{\"@type\":\"PC-NEWSSTAND-PRESS-BLOCK\",\"blocks\":null,\"materials\":null,\"excludeInPaging\":false,\"positionForPaging\":0,\"realtime\":false,\"pid\":\"821\",\"name\":\"경남도민일보\",\"logoLight\":{\"url\":\"https://s.pstatic.net/static/newsstand/2020/logo/light/0604/821.png\"},\"logoDark\":{\"url\":\"https://s.pstatic.net/static/newsstand/2020/logo/dark/0604/821.png\"},\"showThumbnailView\":true,\"showListView\":true,\"regDate\":\"20230705 11:30:30\",\"_id\":null,\"@type\":\"PC-NEWSSTAND-PRESS-BLOCK\",\"@code\":null,\"@template\":\"NONE\",\"@flowId\":null,\"@flowExecutionId\":null,\"@provider\":null,\"@lastModifiedAt\":null},{\"@type\":\"PC-NEWSSTAND-PRESS-BLOCK\",\"blocks\":null,\"materials\":null,\"excludeInPaging\":false,\"positionForPaging\":0,\"realtime\":false,\"pid\":\"942\",\"name\":\"비즈니스포스트\",\"logoLight\":{\"url\":\"https://s.pstatic.net/static/newsstand/2020/logo/light/0604/942.png\"},\"logoDark\":{\"url\":\"https://s.pstatic.net/static/newsstand/2020/logo/dark/0604/942.png\"},\"showThumbnailView\":true,\"showListView\":true,\"regDate\":\"20230705 09:51:10\",\"_id\":null,\"@type\":\"PC-NEWSSTAND-PRESS-BLOCK\",\"@code\":null,\"@template\":\"NONE\",\"@flowId\":null,\"@flowExecutionId\":null,\"@provider\":null,\"@lastModifiedAt\":null},{\"@type\":\"PC-NEWSSTAND-PRESS-BLOCK\",\"blocks\":null,\"materials\":null,\"excludeInPaging\":false,\"positionForPaging\":0,\"realtime\":false,\"pid\":\"822\",\"name\":\"프라임경제\",\"logoLight\":{\"url\":\"https://s.pstatic.net/static/newsstand/up/2020/0730/nsd13728808.png\"},\"logoDark\":{\"url\":\"https://s.pstatic.net/static/newsstand/up/2020/0730/nsd13719939.png\"},\"showThumbnailView\":true,\"showListView\":true,\"regDate\":\"20230705 11:30:04\",\"_id\":null,\"@type\":\"PC-NEWSSTAND-PRESS-BLOCK\",\"@code\":null,\"@template\":\"NONE\",\"@flowId\":null,\"@flowExecutionId\":null,\"@provider\":null,\"@lastModifiedAt\":null},{\"@type\":\"PC-NEWSSTAND-PRESS-BLOCK\",\"blocks\":null,\"materials\":null,\"excludeInPaging\":false,\"positionForPaging\":0,\"realtime\":false,\"pid\":\"943\",\"name\":\"비즈워치\",\"logoLight\":{\"url\":\"https://s.pstatic.net/static/newsstand/up/2023/0213/nsd17943530.png\"},\"logoDark\":{\"url\":\"https://s.pstatic.net/static/newsstand/up/2023/0213/nsd17100999.png\"},\"showThumbnailView\":true,\"showListView\":true,\"regDate\":\"20230705 10:30:29\",\"_id\":null,\"@type\":\"PC-NEWSSTAND-PRESS-BLOCK\",\"@code\":null,\"@template\":\"NONE\",\"@flowId\":null,\"@flowExecutionId\":null,\"@provider\":null,\"@lastModifiedAt\":null},{\"@type\":\"PC-NEWSSTAND-PRESS-BLOCK\",\"blocks\":null,\"materials\":null,\"excludeInPaging\":false,\"positionForPaging\":0,\"realtime\":false,\"pid\":\"823\",\"name\":\"UPI뉴스\",\"logoLight\":{\"url\":\"https://s.pstatic.net/static/newsstand/2020/logo/light/0604/823.png\"},\"logoDark\":{\"url\":\"https://s.pstatic.net/static/newsstand/2020/logo/dark/0604/823.png\"},\"showThumbnailView\":true,\"showListView\":true,\"regDate\":\"20230705 11:28:59\",\"_id\":null,\"@type\":\"PC-NEWSSTAND-PRESS-BLOCK\",\"@code\":null,\"@template\":\"NONE\",\"@flowId\":null,\"@flowExecutionId\":null,\"@provider\":null,\"@lastModifiedAt\":null},{\"@type\":\"PC-NEWSSTAND-PRESS-BLOCK\",\"blocks\":null,\"materials\":null,\"excludeInPaging\":false,\"positionForPaging\":0,\"realtime\":false,\"pid\":\"944\",\"name\":\"나우뉴스\",\"logoLight\":{\"url\":\"https://s.pstatic.net/static/newsstand/up/2022/0804/nsd1343054.png\"},\"logoDark\":{\"url\":\"https://s.pstatic.net/static/newsstand/up/2022/0804/nsd13457540.png\"},\"showThumbnailView\":true,\"showListView\":true,\"regDate\":\"20230705 11:15:40\",\"_id\":null,\"@type\":\"PC-NEWSSTAND-PRESS-BLOCK\",\"@code\":null,\"@template\":\"NONE\",\"@flowId\":null,\"@flowExecutionId\":null,\"@provider\":null,\"@lastModifiedAt\":null},{\"@type\":\"PC-NEWSSTAND-PRESS-BLOCK\",\"blocks\":null,\"materials\":null,\"excludeInPaging\":false,\"positionForPaging\":0,\"realtime\":false,\"pid\":\"824\",\"name\":\"서울파이낸스\",\"logoLight\":{\"url\":\"https://s.pstatic.net/static/newsstand/2020/logo/light/0604/824.png\"},\"logoDark\":{\"url\":\"https://s.pstatic.net/static/newsstand/2020/logo/dark/0604/824.png\"},\"showThumbnailView\":true,\"showListView\":true,\"regDate\":\"20230705 11:30:31\",\"_id\":null,\"@type\":\"PC-NEWSSTAND-PRESS-BLOCK\",\"@code\":null,\"@template\":\"NONE\",\"@flowId\":null,\"@flowExecutionId\":null,\"@provider\":null,\"@lastModifiedAt\":null},{\"@type\":\"PC-NEWSSTAND-PRESS-BLOCK\",\"blocks\":null,\"materials\":null,\"excludeInPaging\":false,\"positionForPaging\":0,\"realtime\":false,\"pid\":\"945\",\"name\":\"YTN사이언스\",\"logoLight\":{\"url\":\"https://s.pstatic.net/static/newsstand/up/2020/0922/nsd152336602.png\"},\"logoDark\":{\"url\":\"https://s.pstatic.net/static/newsstand/up/2020/0922/nsd152323211.png\"},\"showThumbnailView\":true,\"showListView\":true,\"regDate\":\"20230705 11:30:00\",\"_id\":null,\"@type\":\"PC-NEWSSTAND-PRESS-BLOCK\",\"@code\":null,\"@template\":\"NONE\",\"@flowId\":null,\"@flowExecutionId\":null,\"@provider\":null,\"@lastModifiedAt\":null},{\"@type\":\"PC-NEWSSTAND-PRESS-BLOCK\",\"blocks\":null,\"materials\":null,\"excludeInPaging\":false,\"positionForPaging\":0,\"realtime\":false,\"pid\":\"825\",\"name\":\"이로운넷\",\"logoLight\":{\"url\":\"https://s.pstatic.net/static/newsstand/2020/logo/light/0604/825.png\"},\"logoDark\":{\"url\":\"https://s.pstatic.net/static/newsstand/2020/logo/dark/0604/825.png\"},\"showThumbnailView\":true,\"showListView\":true,\"regDate\":\"20230705 11:30:33\",\"_id\":null,\"@type\":\"PC-NEWSSTAND-PRESS-BLOCK\",\"@code\":null,\"@template\":\"NONE\",\"@flowId\":null,\"@flowExecutionId\":null,\"@provider\":null,\"@lastModifiedAt\":null},{\"@type\":\"PC-NEWSSTAND-PRESS-BLOCK\",\"blocks\":null,\"materials\":null,\"excludeInPaging\":false,\"positionForPaging\":0,\"realtime\":false,\"pid\":\"946\",\"name\":\"YONHAPNEWS\",\"logoLight\":{\"url\":\"https://s.pstatic.net/static/newsstand/2020/logo/light/0604/946.png\"},\"logoDark\":{\"url\":\"https://s.pstatic.net/static/newsstand/2020/logo/dark/0604/946.png\"},\"showThumbnailView\":true,\"showListView\":true,\"regDate\":\"20230705 11:19:53\",\"_id\":null,\"@type\":\"PC-NEWSSTAND-PRESS-BLOCK\",\"@code\":null,\"@template\":\"NONE\",\"@flowId\":null,\"@flowExecutionId\":null,\"@provider\":null,\"@lastModifiedAt\":null},{\"@type\":\"PC-NEWSSTAND-PRESS-BLOCK\",\"blocks\":null,\"materials\":null,\"excludeInPaging\":false,\"positionForPaging\":0,\"realtime\":false,\"pid\":\"826\",\"name\":\"톱데일리\",\"logoLight\":{\"url\":\"https://s.pstatic.net/static/newsstand/up/2022/0817/nsd14491516.png\"},\"logoDark\":{\"url\":\"https://s.pstatic.net/static/newsstand/up/2022/0817/nsd14499446.png\"},\"showThumbnailView\":true,\"showListView\":true,\"regDate\":\"20230705 11:30:08\",\"_id\":null,\"@type\":\"PC-NEWSSTAND-PRESS-BLOCK\",\"@code\":null,\"@template\":\"NONE\",\"@flowId\":null,\"@flowExecutionId\":null,\"@provider\":null,\"@lastModifiedAt\":null},{\"@type\":\"PC-NEWSSTAND-PRESS-BLOCK\",\"blocks\":null,\"materials\":null,\"excludeInPaging\":false,\"positionForPaging\":0,\"realtime\":false,\"pid\":\"947\",\"name\":\"조이뉴스24\",\"logoLight\":{\"url\":\"https://s.pstatic.net/static/newsstand/2020/logo/light/0604/947.png\"},\"logoDark\":{\"url\":\"https://s.pstatic.net/static/newsstand/2020/logo/dark/0604/947.png\"},\"showThumbnailView\":true,\"showListView\":true,\"regDate\":\"20230705 11:31:10\",\"_id\":null,\"@type\":\"PC-NEWSSTAND-PRESS-BLOCK\",\"@code\":null,\"@template\":\"NONE\",\"@flowId\":null,\"@flowExecutionId\":null,\"@provider\":null,\"@lastModifiedAt\":null},{\"@type\":\"PC-NEWSSTAND-PRESS-BLOCK\",\"blocks\":null,\"materials\":null,\"excludeInPaging\":false,\"positionForPaging\":0,\"realtime\":false,\"pid\":\"827\",\"name\":\"베이비뉴스\",\"logoLight\":{\"url\":\"https://s.pstatic.net/static/newsstand/up/2021/0222/nsd13325188.png\"},\"logoDark\":{\"url\":\"https://s.pstatic.net/static/newsstand/up/2021/0222/nsd13338358.png\"},\"showThumbnailView\":true,\"showListView\":true,\"regDate\":\"20230705 11:30:38\",\"_id\":null,\"@type\":\"PC-NEWSSTAND-PRESS-BLOCK\",\"@code\":null,\"@template\":\"NONE\",\"@flowId\":null,\"@flowExecutionId\":null,\"@provider\":null,\"@lastModifiedAt\":null},{\"@type\":\"PC-NEWSSTAND-PRESS-BLOCK\",\"blocks\":null,\"materials\":null,\"excludeInPaging\":false,\"positionForPaging\":0,\"realtime\":false,\"pid\":\"948\",\"name\":\"한겨레21\",\"logoLight\":{\"url\":\"https://s.pstatic.net/static/newsstand/2020/logo/light/0604/948.png\"},\"logoDark\":{\"url\":\"https://s.pstatic.net/static/newsstand/2020/logo/dark/0604/948.png\"},\"showThumbnailView\":true,\"showListView\":true,\"regDate\":\"20230705 11:15:23\",\"_id\":null,\"@type\":\"PC-NEWSSTAND-PRESS-BLOCK\",\"@code\":null,\"@template\":\"NONE\",\"@flowId\":null,\"@flowExecutionId\":null,\"@provider\":null,\"@lastModifiedAt\":null},{\"@type\":\"PC-NEWSSTAND-PRESS-BLOCK\",\"blocks\":null,\"materials\":null,\"excludeInPaging\":false,\"positionForPaging\":0,\"realtime\":false,\"pid\":\"828\",\"name\":\"식품저널 foodnews\",\"logoLight\":{\"url\":\"https://s.pstatic.net/static/newsstand/up/2021/0211/nsd0427277.png\"},\"logoDark\":{\"url\":\"https://s.pstatic.net/static/newsstand/up/2021/0211/nsd0439284.png\"},\"showThumbnailView\":true,\"showListView\":true,\"regDate\":\"20230705 11:30:37\",\"_id\":null,\"@type\":\"PC-NEWSSTAND-PRESS-BLOCK\",\"@code\":null,\"@template\":\"NONE\",\"@flowId\":null,\"@flowExecutionId\":null,\"@provider\":null,\"@lastModifiedAt\":null},{\"@type\":\"PC-NEWSSTAND-PRESS-BLOCK\",\"blocks\":null,\"materials\":null,\"excludeInPaging\":false,\"positionForPaging\":0,\"realtime\":false,\"pid\":\"829\",\"name\":\"미디어스\",\"logoLight\":{\"url\":\"https://s.pstatic.net/static/newsstand/up/2021/0211/nsd01153196.png\"},\"logoDark\":{\"url\":\"https://s.pstatic.net/static/newsstand/up/2021/0211/nsd01153196.png\"},\"showThumbnailView\":true,\"showListView\":true,\"regDate\":\"20230705 11:30:47\",\"_id\":null,\"@type\":\"PC-NEWSSTAND-PRESS-BLOCK\",\"@code\":null,\"@template\":\"NONE\",\"@flowId\":null,\"@flowExecutionId\":null,\"@provider\":null,\"@lastModifiedAt\":null},{\"@type\":\"PC-NEWSSTAND-PRESS-BLOCK\",\"blocks\":null,\"materials\":null,\"excludeInPaging\":false,\"positionForPaging\":0,\"realtime\":false,\"pid\":\"391\",\"name\":\"충청일보\",\"logoLight\":{\"url\":\"https://s.pstatic.net/static/newsstand/2020/logo/light/0604/391.png\"},\"logoDark\":{\"url\":\"https://s.pstatic.net/static/newsstand/2020/logo/dark/0604/391.png\"},\"showThumbnailView\":true,\"showListView\":true,\"regDate\":\"20230704 21:32:28\",\"_id\":null,\"@type\":\"PC-NEWSSTAND-PRESS-BLOCK\",\"@code\":null,\"@template\":\"NONE\",\"@flowId\":null,\"@flowExecutionId\":null,\"@provider\":null,\"@lastModifiedAt\":null},{\"@type\":\"PC-NEWSSTAND-PRESS-BLOCK\",\"blocks\":null,\"materials\":null,\"excludeInPaging\":false,\"positionForPaging\":0,\"realtime\":false,\"pid\":\"030\",\"name\":\"전자신문\",\"logoLight\":{\"url\":\"https://s.pstatic.net/static/newsstand/2020/logo/light/0604/030.png\"},\"logoDark\":{\"url\":\"https://s.pstatic.net/static/newsstand/2020/logo/dark/0604/030.png\"},\"showThumbnailView\":true,\"showListView\":true,\"regDate\":\"20230705 11:30:17\",\"_id\":null,\"@type\":\"PC-NEWSSTAND-PRESS-BLOCK\",\"@code\":null,\"@template\":\"NONE\",\"@flowId\":null,\"@flowExecutionId\":null,\"@provider\":null,\"@lastModifiedAt\":null},{\"@type\":\"PC-NEWSSTAND-PRESS-BLOCK\",\"blocks\":null,\"materials\":null,\"excludeInPaging\":false,\"positionForPaging\":0,\"realtime\":false,\"pid\":\"031\",\"name\":\"아이뉴스24\",\"logoLight\":{\"url\":\"https://s.pstatic.net/static/newsstand/2020/logo/light/0604/031.png\"},\"logoDark\":{\"url\":\"https://s.pstatic.net/static/newsstand/2020/logo/dark/0604/031.png\"},\"showThumbnailView\":true,\"showListView\":true,\"regDate\":\"20230705 11:30:46\",\"_id\":null,\"@type\":\"PC-NEWSSTAND-PRESS-BLOCK\",\"@code\":null,\"@template\":\"NONE\",\"@flowId\":null,\"@flowExecutionId\":null,\"@provider\":null,\"@lastModifiedAt\":null},{\"@type\":\"PC-NEWSSTAND-PRESS-BLOCK\",\"blocks\":null,\"materials\":null,\"excludeInPaging\":false,\"positionForPaging\":0,\"realtime\":false,\"pid\":\"032\",\"name\":\"경향신문\",\"logoLight\":{\"url\":\"https://s.pstatic.net/static/newsstand/2020/logo/light/0604/032.png\"},\"logoDark\":{\"url\":\"https://s.pstatic.net/static/newsstand/2020/logo/dark/0604/032.png\"},\"showThumbnailView\":true,\"showListView\":true,\"regDate\":\"20230705 11:32:50\",\"_id\":null,\"@type\":\"PC-NEWSSTAND-PRESS-BLOCK\",\"@code\":null,\"@template\":\"NONE\",\"@flowId\":null,\"@flowExecutionId\":null,\"@provider\":null,\"@lastModifiedAt\":null},{\"@type\":\"PC-NEWSSTAND-PRESS-BLOCK\",\"blocks\":null,\"materials\":null,\"excludeInPaging\":false,\"positionForPaging\":0,\"realtime\":false,\"pid\":\"396\",\"name\":\"스포츠월드\",\"logoLight\":{\"url\":\"https://s.pstatic.net/static/newsstand/2020/logo/light/0604/396.png\"},\"logoDark\":{\"url\":\"https://s.pstatic.net/static/newsstand/2020/logo/dark/0604/396.png\"},\"showThumbnailView\":true,\"showListView\":true,\"regDate\":\"20230705 11:31:14\",\"_id\":null,\"@type\":\"PC-NEWSSTAND-PRESS-BLOCK\",\"@code\":null,\"@template\":\"NONE\",\"@flowId\":null,\"@flowExecutionId\":null,\"@provider\":null,\"@lastModifiedAt\":null},{\"@type\":\"PC-NEWSSTAND-PRESS-BLOCK\",\"blocks\":null,\"materials\":null,\"excludeInPaging\":false,\"positionForPaging\":0,\"realtime\":false,\"pid\":\"277\",\"name\":\"아시아경제\",\"logoLight\":{\"url\":\"https://s.pstatic.net/static/newsstand/2020/logo/light/0604/277.png\"},\"logoDark\":{\"url\":\"https://s.pstatic.net/static/newsstand/2020/logo/dark/0604/277.png\"},\"showThumbnailView\":true,\"showListView\":true,\"regDate\":\"20230705 11:10:35\",\"_id\":null,\"@type\":\"PC-NEWSSTAND-PRESS-BLOCK\",\"@code\":null,\"@template\":\"NONE\",\"@flowId\":null,\"@flowExecutionId\":null,\"@provider\":null,\"@lastModifiedAt\":null},{\"@type\":\"PC-NEWSSTAND-PRESS-BLOCK\",\"blocks\":null,\"materials\":null,\"excludeInPaging\":false,\"positionForPaging\":0,\"realtime\":false,\"pid\":\"950\",\"name\":\"월간중앙\",\"logoLight\":{\"url\":\"https://s.pstatic.net/static/newsstand/2020/logo/light/0604/950.png\"},\"logoDark\":{\"url\":\"https://s.pstatic.net/static/newsstand/2020/logo/dark/0604/950.png\"},\"showThumbnailView\":true,\"showListView\":true,\"regDate\":\"20230705 11:00:00\",\"_id\":null,\"@type\":\"PC-NEWSSTAND-PRESS-BLOCK\",\"@code\":null,\"@template\":\"NONE\",\"@flowId\":null,\"@flowExecutionId\":null,\"@provider\":null,\"@lastModifiedAt\":null},{\"@type\":\"PC-NEWSSTAND-PRESS-BLOCK\",\"blocks\":null,\"materials\":null,\"excludeInPaging\":false,\"positionForPaging\":0,\"realtime\":false,\"pid\":\"038\",\"name\":\"한국일보\",\"logoLight\":{\"url\":\"https://s.pstatic.net/static/newsstand/2020/logo/light/0604/038.png\"},\"logoDark\":{\"url\":\"https://s.pstatic.net/static/newsstand/2020/logo/dark/0604/038.png\"},\"showThumbnailView\":true,\"showListView\":true,\"regDate\":\"20230705 11:17:06\",\"_id\":null,\"@type\":\"PC-NEWSSTAND-PRESS-BLOCK\",\"@code\":null,\"@template\":\"NONE\",\"@flowId\":null,\"@flowExecutionId\":null,\"@provider\":null,\"@lastModifiedAt\":null},{\"@type\":\"PC-NEWSSTAND-PRESS-BLOCK\",\"blocks\":null,\"materials\":null,\"excludeInPaging\":false,\"positionForPaging\":0,\"realtime\":false,\"pid\":\"830\",\"name\":\"게임동아\",\"logoLight\":{\"url\":\"https://s.pstatic.net/static/newsstand/up/2021/0211/nsd02321523.png\"},\"logoDark\":{\"url\":\"https://s.pstatic.net/static/newsstand/up/2021/0211/nsd02332888.png\"},\"showThumbnailView\":true,\"showListView\":true,\"regDate\":\"20230705 10:40:50\",\"_id\":null,\"@type\":\"PC-NEWSSTAND-PRESS-BLOCK\",\"@code\":null,\"@template\":\"NONE\",\"@flowId\":null,\"@flowExecutionId\":null,\"@provider\":null,\"@lastModifiedAt\":null},{\"@type\":\"PC-NEWSSTAND-PRESS-BLOCK\",\"blocks\":null,\"materials\":null,\"excludeInPaging\":false,\"positionForPaging\":0,\"realtime\":false,\"pid\":\"951\",\"name\":\"포브스코리아\",\"logoLight\":{\"url\":\"https://s.pstatic.net/static/newsstand/2020/logo/light/0604/951.png\"},\"logoDark\":{\"url\":\"https://s.pstatic.net/static/newsstand/2020/logo/dark/0604/951.png\"},\"showThumbnailView\":true,\"showListView\":true,\"regDate\":\"20230705 11:00:00\",\"_id\":null,\"@type\":\"PC-NEWSSTAND-PRESS-BLOCK\",\"@code\":null,\"@template\":\"NONE\",\"@flowId\":null,\"@flowExecutionId\":null,\"@provider\":null,\"@lastModifiedAt\":null},{\"@type\":\"PC-NEWSSTAND-PRESS-BLOCK\",\"blocks\":null,\"materials\":null,\"excludeInPaging\":false,\"positionForPaging\":0,\"realtime\":false,\"pid\":\"952\",\"name\":\"보안뉴스\",\"logoLight\":{\"url\":\"https://s.pstatic.net/static/newsstand/2020/logo/light/0604/952.png\"},\"logoDark\":{\"url\":\"https://s.pstatic.net/static/newsstand/2020/logo/dark/0604/952.png\"},\"showThumbnailView\":true,\"showListView\":true,\"regDate\":\"20230704 17:59:00\",\"_id\":null,\"@type\":\"PC-NEWSSTAND-PRESS-BLOCK\",\"@code\":null,\"@template\":\"NONE\",\"@flowId\":null,\"@flowExecutionId\":null,\"@provider\":null,\"@lastModifiedAt\":null},{\"@type\":\"PC-NEWSSTAND-PRESS-BLOCK\",\"blocks\":null,\"materials\":null,\"excludeInPaging\":false,\"positionForPaging\":0,\"realtime\":false,\"pid\":\"953\",\"name\":\"디지털투데이\",\"logoLight\":{\"url\":\"https://s.pstatic.net/static/newsstand/2020/logo/light/0604/953.png\"},\"logoDark\":{\"url\":\"https://s.pstatic.net/static/newsstand/2020/logo/dark/0604/953.png\"},\"showThumbnailView\":true,\"showListView\":true,\"regDate\":\"20230705 11:00:07\",\"_id\":null,\"@type\":\"PC-NEWSSTAND-PRESS-BLOCK\",\"@code\":null,\"@template\":\"NONE\",\"@flowId\":null,\"@flowExecutionId\":null,\"@provider\":null,\"@lastModifiedAt\":null},{\"@type\":\"PC-NEWSSTAND-PRESS-BLOCK\",\"blocks\":null,\"materials\":null,\"excludeInPaging\":false,\"positionForPaging\":0,\"realtime\":false,\"pid\":\"954\",\"name\":\"CNB뉴스\",\"logoLight\":{\"url\":\"https://s.pstatic.net/static/newsstand/2020/logo/light/0604/954.png\"},\"logoDark\":{\"url\":\"https://s.pstatic.net/static/newsstand/2020/logo/dark/0604/954.png\"},\"showThumbnailView\":true,\"showListView\":true,\"regDate\":\"20230705 11:25:03\",\"_id\":null,\"@type\":\"PC-NEWSSTAND-PRESS-BLOCK\",\"@code\":null,\"@template\":\"NONE\",\"@flowId\":null,\"@flowExecutionId\":null,\"@provider\":null,\"@lastModifiedAt\":null},{\"@type\":\"PC-NEWSSTAND-PRESS-BLOCK\",\"blocks\":null,\"materials\":null,\"excludeInPaging\":false,\"positionForPaging\":0,\"realtime\":false,\"pid\":\"955\",\"name\":\"독서신문\",\"logoLight\":{\"url\":\"https://s.pstatic.net/static/newsstand/2020/logo/light/0604/955.png\"},\"logoDark\":{\"url\":\"https://s.pstatic.net/static/newsstand/2020/logo/dark/0604/955.png\"},\"showThumbnailView\":true,\"showListView\":true,\"regDate\":\"20230705 11:30:07\",\"_id\":null,\"@type\":\"PC-NEWSSTAND-PRESS-BLOCK\",\"@code\":null,\"@template\":\"NONE\",\"@flowId\":null,\"@flowExecutionId\":null,\"@provider\":null,\"@lastModifiedAt\":null},{\"@type\":\"PC-NEWSSTAND-PRESS-BLOCK\",\"blocks\":null,\"materials\":null,\"excludeInPaging\":false,\"positionForPaging\":0,\"realtime\":false,\"pid\":\"956\",\"name\":\"철강금속신문\",\"logoLight\":{\"url\":\"https://s.pstatic.net/static/newsstand/2020/logo/light/0604/956.png\"},\"logoDark\":{\"url\":\"https://s.pstatic.net/static/newsstand/2020/logo/dark/0604/956.png\"},\"showThumbnailView\":true,\"showListView\":true,\"regDate\":\"20230705 11:30:05\",\"_id\":null,\"@type\":\"PC-NEWSSTAND-PRESS-BLOCK\",\"@code\":null,\"@template\":\"NONE\",\"@flowId\":null,\"@flowExecutionId\":null,\"@provider\":null,\"@lastModifiedAt\":null},{\"@type\":\"PC-NEWSSTAND-PRESS-BLOCK\",\"blocks\":null,\"materials\":null,\"excludeInPaging\":false,\"positionForPaging\":0,\"realtime\":false,\"pid\":\"957\",\"name\":\"시사위크\",\"logoLight\":{\"url\":\"https://s.pstatic.net/static/newsstand/2020/logo/light/0604/957.png\"},\"logoDark\":{\"url\":\"https://s.pstatic.net/static/newsstand/2020/logo/dark/0604/957.png\"},\"showThumbnailView\":true,\"showListView\":true,\"regDate\":\"20230704 19:03:11\",\"_id\":null,\"@type\":\"PC-NEWSSTAND-PRESS-BLOCK\",\"@code\":null,\"@template\":\"NONE\",\"@flowId\":null,\"@flowExecutionId\":null,\"@provider\":null,\"@lastModifiedAt\":null},{\"@type\":\"PC-NEWSSTAND-PRESS-BLOCK\",\"blocks\":null,\"materials\":null,\"excludeInPaging\":false,\"positionForPaging\":0,\"realtime\":false,\"pid\":\"958\",\"name\":\"베리타스알파\",\"logoLight\":{\"url\":\"https://s.pstatic.net/static/newsstand/2020/logo/light/0604/958.png\"},\"logoDark\":{\"url\":\"https://s.pstatic.net/static/newsstand/2020/logo/dark/0604/958.png\"},\"showThumbnailView\":true,\"showListView\":true,\"regDate\":\"20230704 18:51:56\",\"_id\":null,\"@type\":\"PC-NEWSSTAND-PRESS-BLOCK\",\"@code\":null,\"@template\":\"NONE\",\"@flowId\":null,\"@flowExecutionId\":null,\"@provider\":null,\"@lastModifiedAt\":null},{\"@type\":\"PC-NEWSSTAND-PRESS-BLOCK\",\"blocks\":null,\"materials\":null,\"excludeInPaging\":false,\"positionForPaging\":0,\"realtime\":false,\"pid\":\"959\",\"name\":\"M이코노미뉴스\",\"logoLight\":{\"url\":\"https://s.pstatic.net/static/newsstand/up/2021/1221/nsd15292271.png\"},\"logoDark\":{\"url\":\"https://s.pstatic.net/static/newsstand/up/2021/1221/nsd171157172.png\"},\"showThumbnailView\":true,\"showListView\":true,\"regDate\":\"20230705 11:30:11\",\"_id\":null,\"@type\":\"PC-NEWSSTAND-PRESS-BLOCK\",\"@code\":null,\"@template\":\"NONE\",\"@flowId\":null,\"@flowExecutionId\":null,\"@provider\":null,\"@lastModifiedAt\":null},{\"@type\":\"PC-NEWSSTAND-PRESS-BLOCK\",\"blocks\":null,\"materials\":null,\"excludeInPaging\":false,\"positionForPaging\":0,\"realtime\":false,\"pid\":\"040\",\"name\":\"코리아타임스\",\"logoLight\":{\"url\":\"https://s.pstatic.net/static/newsstand/2020/logo/light/0604/040.png\"},\"logoDark\":{\"url\":\"https://s.pstatic.net/static/newsstand/2020/logo/dark/0604/040.png\"},\"showThumbnailView\":true,\"showListView\":true,\"regDate\":\"20230705 11:25:10\",\"_id\":null,\"@type\":\"PC-NEWSSTAND-PRESS-BLOCK\",\"@code\":null,\"@template\":\"NONE\",\"@flowId\":null,\"@flowExecutionId\":null,\"@provider\":null,\"@lastModifiedAt\":null},{\"@type\":\"PC-NEWSSTAND-PRESS-BLOCK\",\"blocks\":null,\"materials\":null,\"excludeInPaging\":false,\"positionForPaging\":0,\"realtime\":false,\"pid\":\"042\",\"name\":\"데일리한국\",\"logoLight\":{\"url\":\"https://s.pstatic.net/static/newsstand/2020/logo/light/0604/042.png\"},\"logoDark\":{\"url\":\"https://s.pstatic.net/static/newsstand/2020/logo/dark/0604/042.png\"},\"showThumbnailView\":true,\"showListView\":true,\"regDate\":\"20230705 11:30:43\",\"_id\":null,\"@type\":\"PC-NEWSSTAND-PRESS-BLOCK\",\"@code\":null,\"@template\":\"NONE\",\"@flowId\":null,\"@flowExecutionId\":null,\"@provider\":null,\"@lastModifiedAt\":null},{\"@type\":\"PC-NEWSSTAND-PRESS-BLOCK\",\"blocks\":null,\"materials\":null,\"excludeInPaging\":false,\"positionForPaging\":0,\"realtime\":false,\"pid\":\"044\",\"name\":\"코리아헤럴드\",\"logoLight\":{\"url\":\"https://s.pstatic.net/static/newsstand/2020/logo/light/0604/044.png\"},\"logoDark\":{\"url\":\"https://s.pstatic.net/static/newsstand/2020/logo/dark/0604/044.png\"},\"showThumbnailView\":true,\"showListView\":true,\"regDate\":\"20230705 10:49:07\",\"_id\":null,\"@type\":\"PC-NEWSSTAND-PRESS-BLOCK\",\"@code\":null,\"@template\":\"NONE\",\"@flowId\":null,\"@flowExecutionId\":null,\"@provider\":null,\"@lastModifiedAt\":null},{\"@type\":\"PC-NEWSSTAND-PRESS-BLOCK\",\"blocks\":null,\"materials\":null,\"excludeInPaging\":false,\"positionForPaging\":0,\"realtime\":false,\"pid\":\"047\",\"name\":\"오마이뉴스\",\"logoLight\":{\"url\":\"https://s.pstatic.net/static/newsstand/2020/logo/light/0604/047.png\"},\"logoDark\":{\"url\":\"https://s.pstatic.net/static/newsstand/2020/logo/dark/0604/047.png\"},\"showThumbnailView\":true,\"showListView\":true,\"regDate\":\"20230705 11:28:14\",\"_id\":null,\"@type\":\"PC-NEWSSTAND-PRESS-BLOCK\",\"@code\":null,\"@template\":\"NONE\",\"@flowId\":null,\"@flowExecutionId\":null,\"@provider\":null,\"@lastModifiedAt\":null},{\"@type\":\"PC-NEWSSTAND-PRESS-BLOCK\",\"blocks\":null,\"materials\":null,\"excludeInPaging\":false,\"positionForPaging\":0,\"realtime\":false,\"pid\":\"960\",\"name\":\"대한경제\",\"logoLight\":{\"url\":\"https://s.pstatic.net/static/newsstand/up/2022/1115/nsd153942530.png\"},\"logoDark\":{\"url\":\"https://s.pstatic.net/static/newsstand/up/2022/1115/nsd153934427.png\"},\"showThumbnailView\":true,\"showListView\":true,\"regDate\":\"20230705 11:30:21\",\"_id\":null,\"@type\":\"PC-NEWSSTAND-PRESS-BLOCK\",\"@code\":null,\"@template\":\"NONE\",\"@flowId\":null,\"@flowExecutionId\":null,\"@provider\":null,\"@lastModifiedAt\":null},{\"@type\":\"PC-NEWSSTAND-PRESS-BLOCK\",\"blocks\":null,\"materials\":null,\"excludeInPaging\":false,\"positionForPaging\":0,\"realtime\":false,\"pid\":\"961\",\"name\":\"메트로신문\",\"logoLight\":{\"url\":\"https://s.pstatic.net/static/newsstand/2020/logo/light/0604/961.png\"},\"logoDark\":{\"url\":\"https://s.pstatic.net/static/newsstand/2020/logo/dark/0604/961.png\"},\"showThumbnailView\":true,\"showListView\":true,\"regDate\":\"20230705 08:36:37\",\"_id\":null,\"@type\":\"PC-NEWSSTAND-PRESS-BLOCK\",\"@code\":null,\"@template\":\"NONE\",\"@flowId\":null,\"@flowExecutionId\":null,\"@provider\":null,\"@lastModifiedAt\":null},{\"@type\":\"PC-NEWSSTAND-PRESS-BLOCK\",\"blocks\":null,\"materials\":null,\"excludeInPaging\":false,\"positionForPaging\":0,\"realtime\":false,\"pid\":\"962\",\"name\":\"스포츠한국\",\"logoLight\":{\"url\":\"https://s.pstatic.net/static/newsstand/2020/logo/light/0604/962.png\"},\"logoDark\":{\"url\":\"https://s.pstatic.net/static/newsstand/2020/logo/dark/0604/962.png\"},\"showThumbnailView\":true,\"showListView\":true,\"regDate\":\"20230705 11:30:46\",\"_id\":null,\"@type\":\"PC-NEWSSTAND-PRESS-BLOCK\",\"@code\":null,\"@template\":\"NONE\",\"@flowId\":null,\"@flowExecutionId\":null,\"@provider\":null,\"@lastModifiedAt\":null},{\"@type\":\"PC-NEWSSTAND-PRESS-BLOCK\",\"blocks\":null,\"materials\":null,\"excludeInPaging\":false,\"positionForPaging\":0,\"realtime\":false,\"pid\":\"963\",\"name\":\"에너지경제\",\"logoLight\":{\"url\":\"https://s.pstatic.net/static/newsstand/2020/logo/light/0604/963.png\"},\"logoDark\":{\"url\":\"https://s.pstatic.net/static/newsstand/2020/logo/dark/0604/963.png\"},\"showThumbnailView\":true,\"showListView\":true,\"regDate\":\"20230705 11:30:01\",\"_id\":null,\"@type\":\"PC-NEWSSTAND-PRESS-BLOCK\",\"@code\":null,\"@template\":\"NONE\",\"@flowId\":null,\"@flowExecutionId\":null,\"@provider\":null,\"@lastModifiedAt\":null},{\"@type\":\"PC-NEWSSTAND-PRESS-BLOCK\",\"blocks\":null,\"materials\":null,\"excludeInPaging\":false,\"positionForPaging\":0,\"realtime\":false,\"pid\":\"964\",\"name\":\"이뉴스투데이\",\"logoLight\":{\"url\":\"https://s.pstatic.net/static/newsstand/2020/logo/light/0604/964.png\"},\"logoDark\":{\"url\":\"https://s.pstatic.net/static/newsstand/2020/logo/dark/0604/964.png\"},\"showThumbnailView\":true,\"showListView\":true,\"regDate\":\"20230705 11:31:47\",\"_id\":null,\"@type\":\"PC-NEWSSTAND-PRESS-BLOCK\",\"@code\":null,\"@template\":\"NONE\",\"@flowId\":null,\"@flowExecutionId\":null,\"@provider\":null,\"@lastModifiedAt\":null},{\"@type\":\"PC-NEWSSTAND-PRESS-BLOCK\",\"blocks\":null,\"materials\":null,\"excludeInPaging\":false,\"positionForPaging\":0,\"realtime\":false,\"pid\":\"965\",\"name\":\"전기신문\",\"logoLight\":{\"url\":\"https://s.pstatic.net/static/newsstand/2020/logo/light/0604/965.png\"},\"logoDark\":{\"url\":\"https://s.pstatic.net/static/newsstand/2020/logo/dark/0604/965.png\"},\"showThumbnailView\":true,\"showListView\":true,\"regDate\":\"20230705 11:30:42\",\"_id\":null,\"@type\":\"PC-NEWSSTAND-PRESS-BLOCK\",\"@code\":null,\"@template\":\"NONE\",\"@flowId\":null,\"@flowExecutionId\":null,\"@provider\":null,\"@lastModifiedAt\":null},{\"@type\":\"PC-NEWSSTAND-PRESS-BLOCK\",\"blocks\":null,\"materials\":null,\"excludeInPaging\":false,\"positionForPaging\":0,\"realtime\":false,\"pid\":\"966\",\"name\":\"정신의학신문\",\"logoLight\":{\"url\":\"https://s.pstatic.net/static/newsstand/2020/logo/light/0604/966.png\"},\"logoDark\":{\"url\":\"https://s.pstatic.net/static/newsstand/2020/logo/dark/0604/966.png\"},\"showThumbnailView\":true,\"showListView\":true,\"regDate\":\"20230705 11:30:39\",\"_id\":null,\"@type\":\"PC-NEWSSTAND-PRESS-BLOCK\",\"@code\":null,\"@template\":\"NONE\",\"@flowId\":null,\"@flowExecutionId\":null,\"@provider\":null,\"@lastModifiedAt\":null},{\"@type\":\"PC-NEWSSTAND-PRESS-BLOCK\",\"blocks\":null,\"materials\":null,\"excludeInPaging\":false,\"positionForPaging\":0,\"realtime\":false,\"pid\":\"967\",\"name\":\"코리아쉬핑가제트\",\"logoLight\":{\"url\":\"https://s.pstatic.net/static/newsstand/2020/logo/light/0604/967.png\"},\"logoDark\":{\"url\":\"https://s.pstatic.net/static/newsstand/2020/logo/dark/0604/967.png\"},\"showThumbnailView\":true,\"showListView\":true,\"regDate\":\"20230705 11:30:02\",\"_id\":null,\"@type\":\"PC-NEWSSTAND-PRESS-BLOCK\",\"@code\":null,\"@template\":\"NONE\",\"@flowId\":null,\"@flowExecutionId\":null,\"@provider\":null,\"@lastModifiedAt\":null},{\"@type\":\"PC-NEWSSTAND-PRESS-BLOCK\",\"blocks\":null,\"materials\":null,\"excludeInPaging\":false,\"positionForPaging\":0,\"realtime\":false,\"pid\":\"968\",\"name\":\"한국금융신문\",\"logoLight\":{\"url\":\"https://s.pstatic.net/static/newsstand/2020/logo/light/0604/968.png\"},\"logoDark\":{\"url\":\"https://s.pstatic.net/static/newsstand/2020/logo/dark/0604/968.png\"},\"showThumbnailView\":true,\"showListView\":true,\"regDate\":\"20230705 11:31:54\",\"_id\":null,\"@type\":\"PC-NEWSSTAND-PRESS-BLOCK\",\"@code\":null,\"@template\":\"NONE\",\"@flowId\":null,\"@flowExecutionId\":null,\"@provider\":null,\"@lastModifiedAt\":null},{\"@type\":\"PC-NEWSSTAND-PRESS-BLOCK\",\"blocks\":null,\"materials\":null,\"excludeInPaging\":false,\"positionForPaging\":0,\"realtime\":false,\"pid\":\"969\",\"name\":\"매일노동뉴스\",\"logoLight\":{\"url\":\"https://s.pstatic.net/static/newsstand/2020/logo/light/0604/969.png\"},\"logoDark\":{\"url\":\"https://s.pstatic.net/static/newsstand/2020/logo/dark/0604/969.png\"},\"showThumbnailView\":true,\"showListView\":true,\"regDate\":\"20230705 07:40:06\",\"_id\":null,\"@type\":\"PC-NEWSSTAND-PRESS-BLOCK\",\"@code\":null,\"@template\":\"NONE\",\"@flowId\":null,\"@flowExecutionId\":null,\"@provider\":null,\"@lastModifiedAt\":null},{\"@type\":\"PC-NEWSSTAND-PRESS-BLOCK\",\"blocks\":null,\"materials\":null,\"excludeInPaging\":false,\"positionForPaging\":0,\"realtime\":false,\"pid\":\"050\",\"name\":\"한경비즈니스\",\"logoLight\":{\"url\":\"https://s.pstatic.net/static/newsstand/up/2020/0928/nsd125033437.png\"},\"logoDark\":{\"url\":\"https://s.pstatic.net/static/newsstand/up/2020/0928/nsd125026855.png\"},\"showThumbnailView\":true,\"showListView\":true,\"regDate\":\"20230705 08:33:30\",\"_id\":null,\"@type\":\"PC-NEWSSTAND-PRESS-BLOCK\",\"@code\":null,\"@template\":\"NONE\",\"@flowId\":null,\"@flowExecutionId\":null,\"@provider\":null,\"@lastModifiedAt\":null},{\"@type\":\"PC-NEWSSTAND-PRESS-BLOCK\",\"blocks\":null,\"materials\":null,\"excludeInPaging\":false,\"positionForPaging\":0,\"realtime\":false,\"pid\":\"293\",\"name\":\"블로터\",\"logoLight\":{\"url\":\"https://s.pstatic.net/static/newsstand/2020/logo/light/0604/293.png\"},\"logoDark\":{\"url\":\"https://s.pstatic.net/static/newsstand/2020/logo/dark/0604/293.png\"},\"showThumbnailView\":true,\"showListView\":true,\"regDate\":\"20230705 11:30:54\",\"_id\":null,\"@type\":\"PC-NEWSSTAND-PRESS-BLOCK\",\"@code\":null,\"@template\":\"NONE\",\"@flowId\":null,\"@flowExecutionId\":null,\"@provider\":null,\"@lastModifiedAt\":null},{\"@type\":\"PC-NEWSSTAND-PRESS-BLOCK\",\"blocks\":null,\"materials\":null,\"excludeInPaging\":false,\"positionForPaging\":0,\"realtime\":false,\"pid\":\"052\",\"name\":\"YTN\",\"logoLight\":{\"url\":\"https://s.pstatic.net/static/newsstand/2020/logo/light/0604/052.png\"},\"logoDark\":{\"url\":\"https://s.pstatic.net/static/newsstand/2020/logo/dark/0604/052.png\"},\"showThumbnailView\":true,\"showListView\":true,\"regDate\":\"20230705 11:29:56\",\"_id\":null,\"@type\":\"PC-NEWSSTAND-PRESS-BLOCK\",\"@code\":null,\"@template\":\"NONE\",\"@flowId\":null,\"@flowExecutionId\":null,\"@provider\":null,\"@lastModifiedAt\":null},{\"@type\":\"PC-NEWSSTAND-PRESS-BLOCK\",\"blocks\":null,\"materials\":null,\"excludeInPaging\":false,\"positionForPaging\":0,\"realtime\":false,\"pid\":\"296\",\"name\":\"코메디닷컴\",\"logoLight\":{\"url\":\"https://s.pstatic.net/static/newsstand/2020/logo/light/0604/296.png\"},\"logoDark\":{\"url\":\"https://s.pstatic.net/static/newsstand/2020/logo/dark/0604/296.png\"},\"showThumbnailView\":true,\"showListView\":true,\"regDate\":\"20230705 10:29:16\",\"_id\":null,\"@type\":\"PC-NEWSSTAND-PRESS-BLOCK\",\"@code\":null,\"@template\":\"NONE\",\"@flowId\":null,\"@flowExecutionId\":null,\"@provider\":null,\"@lastModifiedAt\":null},{\"@type\":\"PC-NEWSSTAND-PRESS-BLOCK\",\"blocks\":null,\"materials\":null,\"excludeInPaging\":false,\"positionForPaging\":0,\"realtime\":false,\"pid\":\"055\",\"name\":\"SBS\",\"logoLight\":{\"url\":\"https://s.pstatic.net/static/newsstand/2020/logo/light/0604/055.png\"},\"logoDark\":{\"url\":\"https://s.pstatic.net/static/newsstand/2020/logo/dark/0604/055.png\"},\"showThumbnailView\":true,\"showListView\":true,\"regDate\":\"20230705 11:33:53\",\"_id\":null,\"@type\":\"PC-NEWSSTAND-PRESS-BLOCK\",\"@code\":null,\"@template\":\"NONE\",\"@flowId\":null,\"@flowExecutionId\":null,\"@provider\":null,\"@lastModifiedAt\":null},{\"@type\":\"PC-NEWSSTAND-PRESS-BLOCK\",\"blocks\":null,\"materials\":null,\"excludeInPaging\":false,\"positionForPaging\":0,\"realtime\":false,\"pid\":\"056\",\"name\":\"KBS\",\"logoLight\":{\"url\":\"https://s.pstatic.net/static/newsstand/2020/logo/light/0604/056.png\"},\"logoDark\":{\"url\":\"https://s.pstatic.net/static/newsstand/2020/logo/dark/0604/056.png\"},\"showThumbnailView\":true,\"showListView\":true,\"regDate\":\"20230705 11:33:10\",\"_id\":null,\"@type\":\"PC-NEWSSTAND-PRESS-BLOCK\",\"@code\":null,\"@template\":\"NONE\",\"@flowId\":null,\"@flowExecutionId\":null,\"@provider\":null,\"@lastModifiedAt\":null},{\"@type\":\"PC-NEWSSTAND-PRESS-BLOCK\",\"blocks\":null,\"materials\":null,\"excludeInPaging\":false,\"positionForPaging\":0,\"realtime\":false,\"pid\":\"057\",\"name\":\"MBN\",\"logoLight\":{\"url\":\"https://s.pstatic.net/static/newsstand/2020/logo/light/0604/057.png\"},\"logoDark\":{\"url\":\"https://s.pstatic.net/static/newsstand/2020/logo/dark/0604/057.png\"},\"showThumbnailView\":true,\"showListView\":true,\"regDate\":\"20230705 11:39:01\",\"_id\":null,\"@type\":\"PC-NEWSSTAND-PRESS-BLOCK\",\"@code\":null,\"@template\":\"NONE\",\"@flowId\":null,\"@flowExecutionId\":null,\"@provider\":null,\"@lastModifiedAt\":null},{\"@type\":\"PC-NEWSSTAND-PRESS-BLOCK\",\"blocks\":null,\"materials\":null,\"excludeInPaging\":false,\"positionForPaging\":0,\"realtime\":false,\"pid\":\"970\",\"name\":\"소비자가만드는신문\",\"logoLight\":{\"url\":\"https://s.pstatic.net/static/newsstand/2020/logo/light/0604/970.png\"},\"logoDark\":{\"url\":\"https://s.pstatic.net/static/newsstand/2020/logo/dark/0604/970.png\"},\"showThumbnailView\":true,\"showListView\":true,\"regDate\":\"20230705 10:38:18\",\"_id\":null,\"@type\":\"PC-NEWSSTAND-PRESS-BLOCK\",\"@code\":null,\"@template\":\"NONE\",\"@flowId\":null,\"@flowExecutionId\":null,\"@provider\":null,\"@lastModifiedAt\":null},{\"@type\":\"PC-NEWSSTAND-PRESS-BLOCK\",\"blocks\":null,\"materials\":null,\"excludeInPaging\":false,\"positionForPaging\":0,\"realtime\":false,\"pid\":\"971\",\"name\":\"일요시사\",\"logoLight\":{\"url\":\"https://s.pstatic.net/static/newsstand/2020/logo/light/0604/971.png\"},\"logoDark\":{\"url\":\"https://s.pstatic.net/static/newsstand/2020/logo/dark/0604/971.png\"},\"showThumbnailView\":true,\"showListView\":true,\"regDate\":\"20230705 11:30:02\",\"_id\":null,\"@type\":\"PC-NEWSSTAND-PRESS-BLOCK\",\"@code\":null,\"@template\":\"NONE\",\"@flowId\":null,\"@flowExecutionId\":null,\"@provider\":null,\"@lastModifiedAt\":null},{\"@type\":\"PC-NEWSSTAND-PRESS-BLOCK\",\"blocks\":null,\"materials\":null,\"excludeInPaging\":false,\"positionForPaging\":0,\"realtime\":false,\"pid\":\"972\",\"name\":\"PD저널\",\"logoLight\":{\"url\":\"https://s.pstatic.net/static/newsstand/2020/logo/light/0604/972.png\"},\"logoDark\":{\"url\":\"https://s.pstatic.net/static/newsstand/2020/logo/dark/0604/972.png\"},\"showThumbnailView\":true,\"showListView\":true,\"regDate\":\"20230627 11:05:17\",\"_id\":null,\"@type\":\"PC-NEWSSTAND-PRESS-BLOCK\",\"@code\":null,\"@template\":\"NONE\",\"@flowId\":null,\"@flowExecutionId\":null,\"@provider\":null,\"@lastModifiedAt\":null},{\"@type\":\"PC-NEWSSTAND-PRESS-BLOCK\",\"blocks\":null,\"materials\":null,\"excludeInPaging\":false,\"positionForPaging\":0,\"realtime\":false,\"pid\":\"973\",\"name\":\"비즈한국\",\"logoLight\":{\"url\":\"https://s.pstatic.net/static/newsstand/2020/logo/light/0604/973.png\"},\"logoDark\":{\"url\":\"https://s.pstatic.net/static/newsstand/2020/logo/dark/0604/973.png\"},\"showThumbnailView\":true,\"showListView\":true,\"regDate\":\"20230705 11:39:39\",\"_id\":null,\"@type\":\"PC-NEWSSTAND-PRESS-BLOCK\",\"@code\":null,\"@template\":\"NONE\",\"@flowId\":null,\"@flowExecutionId\":null,\"@provider\":null,\"@lastModifiedAt\":null},{\"@type\":\"PC-NEWSSTAND-PRESS-BLOCK\",\"blocks\":null,\"materials\":null,\"excludeInPaging\":false,\"positionForPaging\":0,\"realtime\":false,\"pid\":\"974\",\"name\":\"BBS NEWS\",\"logoLight\":{\"url\":\"https://s.pstatic.net/static/newsstand/2020/logo/light/0604/974.png\"},\"logoDark\":{\"url\":\"https://s.pstatic.net/static/newsstand/2020/logo/dark/0604/974.png\"},\"showThumbnailView\":true,\"showListView\":true,\"regDate\":\"20230705 11:32:31\",\"_id\":null,\"@type\":\"PC-NEWSSTAND-PRESS-BLOCK\",\"@code\":null,\"@template\":\"NONE\",\"@flowId\":null,\"@flowExecutionId\":null,\"@provider\":null,\"@lastModifiedAt\":null},{\"@type\":\"PC-NEWSSTAND-PRESS-BLOCK\",\"blocks\":null,\"materials\":null,\"excludeInPaging\":false,\"positionForPaging\":0,\"realtime\":false,\"pid\":\"975\",\"name\":\"시사저널이코노미\",\"logoLight\":{\"url\":\"https://s.pstatic.net/static/newsstand/2020/logo/light/0604/975.png\"},\"logoDark\":{\"url\":\"https://s.pstatic.net/static/newsstand/2020/logo/dark/0604/975.png\"},\"showThumbnailView\":true,\"showListView\":true,\"regDate\":\"20230705 11:30:13\",\"_id\":null,\"@type\":\"PC-NEWSSTAND-PRESS-BLOCK\",\"@code\":null,\"@template\":\"NONE\",\"@flowId\":null,\"@flowExecutionId\":null,\"@provider\":null,\"@lastModifiedAt\":null},{\"@type\":\"PC-NEWSSTAND-PRESS-BLOCK\",\"blocks\":null,\"materials\":null,\"excludeInPaging\":false,\"positionForPaging\":0,\"realtime\":false,\"pid\":\"976\",\"name\":\"무등일보\",\"logoLight\":{\"url\":\"https://s.pstatic.net/static/newsstand/2020/logo/light/0604/976.png\"},\"logoDark\":{\"url\":\"https://s.pstatic.net/static/newsstand/2020/logo/dark/0604/976.png\"},\"showThumbnailView\":true,\"showListView\":true,\"regDate\":\"20230705 11:30:08\",\"_id\":null,\"@type\":\"PC-NEWSSTAND-PRESS-BLOCK\",\"@code\":null,\"@template\":\"NONE\",\"@flowId\":null,\"@flowExecutionId\":null,\"@provider\":null,\"@lastModifiedAt\":null},{\"@type\":\"PC-NEWSSTAND-PRESS-BLOCK\",\"blocks\":null,\"materials\":null,\"excludeInPaging\":false,\"positionForPaging\":0,\"realtime\":false,\"pid\":\"977\",\"name\":\"헬로디디\",\"logoLight\":{\"url\":\"https://s.pstatic.net/static/newsstand/2020/logo/light/0604/977.png\"},\"logoDark\":{\"url\":\"https://s.pstatic.net/static/newsstand/2020/logo/dark/0604/977.png\"},\"showThumbnailView\":true,\"showListView\":true,\"regDate\":\"20230705 11:30:35\",\"_id\":null,\"@type\":\"PC-NEWSSTAND-PRESS-BLOCK\",\"@code\":null,\"@template\":\"NONE\",\"@flowId\":null,\"@flowExecutionId\":null,\"@provider\":null,\"@lastModifiedAt\":null},{\"@type\":\"PC-NEWSSTAND-PRESS-BLOCK\",\"blocks\":null,\"materials\":null,\"excludeInPaging\":false,\"positionForPaging\":0,\"realtime\":false,\"pid\":\"978\",\"name\":\"경북도민일보\",\"logoLight\":{\"url\":\"https://s.pstatic.net/static/newsstand/2020/logo/light/0604/978.png\"},\"logoDark\":{\"url\":\"https://s.pstatic.net/static/newsstand/2020/logo/dark/0604/978.png\"},\"showThumbnailView\":true,\"showListView\":true,\"regDate\":\"20230704 18:52:06\",\"_id\":null,\"@type\":\"PC-NEWSSTAND-PRESS-BLOCK\",\"@code\":null,\"@template\":\"NONE\",\"@flowId\":null,\"@flowExecutionId\":null,\"@provider\":null,\"@lastModifiedAt\":null},{\"@type\":\"PC-NEWSSTAND-PRESS-BLOCK\",\"blocks\":null,\"materials\":null,\"excludeInPaging\":false,\"positionForPaging\":0,\"realtime\":false,\"pid\":\"979\",\"name\":\"약사공론\",\"logoLight\":{\"url\":\"https://s.pstatic.net/static/newsstand/2020/logo/light/0604/979.png\"},\"logoDark\":{\"url\":\"https://s.pstatic.net/static/newsstand/2020/logo/dark/0604/979.png\"},\"showThumbnailView\":true,\"showListView\":true,\"regDate\":\"20230705 06:00:57\",\"_id\":null,\"@type\":\"PC-NEWSSTAND-PRESS-BLOCK\",\"@code\":null,\"@template\":\"NONE\",\"@flowId\":null,\"@flowExecutionId\":null,\"@provider\":null,\"@lastModifiedAt\":null},{\"@type\":\"PC-NEWSSTAND-PRESS-BLOCK\",\"blocks\":null,\"materials\":null,\"excludeInPaging\":false,\"positionForPaging\":0,\"realtime\":false,\"pid\":\"980\",\"name\":\"KBC광주방송\",\"logoLight\":{\"url\":\"https://s.pstatic.net/static/newsstand/2020/logo/light/0604/980.png\"},\"logoDark\":{\"url\":\"https://s.pstatic.net/static/newsstand/2020/logo/dark/0604/980.png\"},\"showThumbnailView\":true,\"showListView\":true,\"regDate\":\"20230705 07:59:26\",\"_id\":null,\"@type\":\"PC-NEWSSTAND-PRESS-BLOCK\",\"@code\":null,\"@template\":\"NONE\",\"@flowId\":null,\"@flowExecutionId\":null,\"@provider\":null,\"@lastModifiedAt\":null},{\"@type\":\"PC-NEWSSTAND-PRESS-BLOCK\",\"blocks\":null,\"materials\":null,\"excludeInPaging\":false,\"positionForPaging\":0,\"realtime\":false,\"pid\":\"981\",\"name\":\"TBS\",\"logoLight\":{\"url\":\"https://s.pstatic.net/static/newsstand/2020/logo/light/0604/981.png\"},\"logoDark\":{\"url\":\"https://s.pstatic.net/static/newsstand/2020/logo/dark/0604/981.png\"},\"showThumbnailView\":true,\"showListView\":true,\"regDate\":\"20230705 11:34:24\",\"_id\":null,\"@type\":\"PC-NEWSSTAND-PRESS-BLOCK\",\"@code\":null,\"@template\":\"NONE\",\"@flowId\":null,\"@flowExecutionId\":null,\"@provider\":null,\"@lastModifiedAt\":null},{\"@type\":\"PC-NEWSSTAND-PRESS-BLOCK\",\"blocks\":null,\"materials\":null,\"excludeInPaging\":false,\"positionForPaging\":0,\"realtime\":false,\"pid\":\"982\",\"name\":\"이코노미조선\",\"logoLight\":{\"url\":\"https://s.pstatic.net/static/newsstand/2020/logo/light/0604/982.png\"},\"logoDark\":{\"url\":\"https://s.pstatic.net/static/newsstand/2020/logo/dark/0604/982.png\"},\"showThumbnailView\":true,\"showListView\":true,\"regDate\":\"20230703 11:10:06\",\"_id\":null,\"@type\":\"PC-NEWSSTAND-PRESS-BLOCK\",\"@code\":null,\"@template\":\"NONE\",\"@flowId\":null,\"@flowExecutionId\":null,\"@provider\":null,\"@lastModifiedAt\":null},{\"@type\":\"PC-NEWSSTAND-PRESS-BLOCK\",\"blocks\":null,\"materials\":null,\"excludeInPaging\":false,\"positionForPaging\":0,\"realtime\":false,\"pid\":\"983\",\"name\":\"중부매일신문\",\"logoLight\":{\"url\":\"https://s.pstatic.net/static/newsstand/2020/logo/light/0604/983.png\"},\"logoDark\":{\"url\":\"https://s.pstatic.net/static/newsstand/2020/logo/dark/0604/983.png\"},\"showThumbnailView\":true,\"showListView\":true,\"regDate\":\"20230704 19:49:02\",\"_id\":null,\"@type\":\"PC-NEWSSTAND-PRESS-BLOCK\",\"@code\":null,\"@template\":\"NONE\",\"@flowId\":null,\"@flowExecutionId\":null,\"@provider\":null,\"@lastModifiedAt\":null},{\"@type\":\"PC-NEWSSTAND-PRESS-BLOCK\",\"blocks\":null,\"materials\":null,\"excludeInPaging\":false,\"positionForPaging\":0,\"realtime\":false,\"pid\":\"984\",\"name\":\"낚시춘추\",\"logoLight\":{\"url\":\"https://s.pstatic.net/static/newsstand/2020/logo/light/0604/984.png\"},\"logoDark\":{\"url\":\"https://s.pstatic.net/static/newsstand/2020/logo/dark/0604/984.png\"},\"showThumbnailView\":true,\"showListView\":true,\"regDate\":\"20230622 08:45:00\",\"_id\":null,\"@type\":\"PC-NEWSSTAND-PRESS-BLOCK\",\"@code\":null,\"@template\":\"NONE\",\"@flowId\":null,\"@flowExecutionId\":null,\"@provider\":null,\"@lastModifiedAt\":null},{\"@type\":\"PC-NEWSSTAND-PRESS-BLOCK\",\"blocks\":null,\"materials\":null,\"excludeInPaging\":false,\"positionForPaging\":0,\"realtime\":false,\"pid\":\"986\",\"name\":\"투데이신문\",\"logoLight\":{\"url\":\"https://s.pstatic.net/static/newsstand/up/2020/1019/nsd144531857.png\"},\"logoDark\":{\"url\":\"https://s.pstatic.net/static/newsstand/up/2020/1019/nsd144525568.png\"},\"showThumbnailView\":true,\"showListView\":true,\"regDate\":\"20230705 11:30:06\",\"_id\":null,\"@type\":\"PC-NEWSSTAND-PRESS-BLOCK\",\"@code\":null,\"@template\":\"NONE\",\"@flowId\":null,\"@flowExecutionId\":null,\"@provider\":null,\"@lastModifiedAt\":null},{\"@type\":\"PC-NEWSSTAND-PRESS-BLOCK\",\"blocks\":null,\"materials\":null,\"excludeInPaging\":false,\"positionForPaging\":0,\"realtime\":false,\"pid\":\"988\",\"name\":\"이웃집과학자\",\"logoLight\":{\"url\":\"https://s.pstatic.net/static/newsstand/2020/logo/light/0604/988.png\"},\"logoDark\":{\"url\":\"https://s.pstatic.net/static/newsstand/2020/logo/dark/0604/988.png\"},\"showThumbnailView\":true,\"showListView\":true,\"regDate\":\"20230702 17:23:20\",\"_id\":null,\"@type\":\"PC-NEWSSTAND-PRESS-BLOCK\",\"@code\":null,\"@template\":\"NONE\",\"@flowId\":null,\"@flowExecutionId\":null,\"@provider\":null,\"@lastModifiedAt\":null},{\"@type\":\"PC-NEWSSTAND-PRESS-BLOCK\",\"blocks\":null,\"materials\":null,\"excludeInPaging\":false,\"positionForPaging\":0,\"realtime\":false,\"pid\":\"989\",\"name\":\"TBC\",\"logoLight\":{\"url\":\"https://s.pstatic.net/static/newsstand/2020/logo/light/0604/989.png\"},\"logoDark\":{\"url\":\"https://s.pstatic.net/static/newsstand/2020/logo/dark/0604/989.png\"},\"showThumbnailView\":true,\"showListView\":true,\"regDate\":\"20230704 21:02:18\",\"_id\":null,\"@type\":\"PC-NEWSSTAND-PRESS-BLOCK\",\"@code\":null,\"@template\":\"NONE\",\"@flowId\":null,\"@flowExecutionId\":null,\"@provider\":null,\"@lastModifiedAt\":null},{\"@type\":\"PC-NEWSSTAND-PRESS-BLOCK\",\"blocks\":null,\"materials\":null,\"excludeInPaging\":false,\"positionForPaging\":0,\"realtime\":false,\"pid\":\"073\",\"name\":\"스포츠서울\",\"logoLight\":{\"url\":\"https://s.pstatic.net/static/newsstand/up/2020/0708/nsd94830278.png\"},\"logoDark\":{\"url\":\"https://s.pstatic.net/static/newsstand/up/2020/0708/nsd94820151.png\"},\"showThumbnailView\":true,\"showListView\":true,\"regDate\":\"20230705 11:33:54\",\"_id\":null,\"@type\":\"PC-NEWSSTAND-PRESS-BLOCK\",\"@code\":null,\"@template\":\"NONE\",\"@flowId\":null,\"@flowExecutionId\":null,\"@provider\":null,\"@lastModifiedAt\":null},{\"@type\":\"PC-NEWSSTAND-PRESS-BLOCK\",\"blocks\":null,\"materials\":null,\"excludeInPaging\":false,\"positionForPaging\":0,\"realtime\":false,\"pid\":\"075\",\"name\":\"맥스무비\",\"logoLight\":{\"url\":\"https://s.pstatic.net/static/newsstand/2020/logo/light/0604/075.png\"},\"logoDark\":{\"url\":\"https://s.pstatic.net/static/newsstand/2020/logo/dark/0604/075.png\"},\"showThumbnailView\":true,\"showListView\":true,\"regDate\":\"20230705 10:02:45\",\"_id\":null,\"@type\":\"PC-NEWSSTAND-PRESS-BLOCK\",\"@code\":null,\"@template\":\"NONE\",\"@flowId\":null,\"@flowExecutionId\":null,\"@provider\":null,\"@lastModifiedAt\":null},{\"@type\":\"PC-NEWSSTAND-PRESS-BLOCK\",\"blocks\":null,\"materials\":null,\"excludeInPaging\":false,\"positionForPaging\":0,\"realtime\":false,\"pid\":\"076\",\"name\":\"스포츠조선\",\"logoLight\":{\"url\":\"https://s.pstatic.net/static/newsstand/2020/logo/light/0604/076.png\"},\"logoDark\":{\"url\":\"https://s.pstatic.net/static/newsstand/2020/logo/dark/0604/076.png\"},\"showThumbnailView\":true,\"showListView\":true,\"regDate\":\"20230705 11:26:52\",\"_id\":null,\"@type\":\"PC-NEWSSTAND-PRESS-BLOCK\",\"@code\":null,\"@template\":\"NONE\",\"@flowId\":null,\"@flowExecutionId\":null,\"@provider\":null,\"@lastModifiedAt\":null},{\"@type\":\"PC-NEWSSTAND-PRESS-BLOCK\",\"blocks\":null,\"materials\":null,\"excludeInPaging\":false,\"positionForPaging\":0,\"realtime\":false,\"pid\":\"990\",\"name\":\"주간조선\",\"logoLight\":{\"url\":\"https://s.pstatic.net/static/newsstand/2020/logo/light/0604/990.png\"},\"logoDark\":{\"url\":\"https://s.pstatic.net/static/newsstand/2020/logo/dark/0604/990.png\"},\"showThumbnailView\":true,\"showListView\":true,\"regDate\":\"20230705 11:30:48\",\"_id\":null,\"@type\":\"PC-NEWSSTAND-PRESS-BLOCK\",\"@code\":null,\"@template\":\"NONE\",\"@flowId\":null,\"@flowExecutionId\":null,\"@provider\":null,\"@lastModifiedAt\":null},{\"@type\":\"PC-NEWSSTAND-PRESS-BLOCK\",\"blocks\":null,\"materials\":null,\"excludeInPaging\":false,\"positionForPaging\":0,\"realtime\":false,\"pid\":\"991\",\"name\":\"데일리NK\",\"logoLight\":{\"url\":\"https://s.pstatic.net/static/newsstand/2020/logo/light/0604/991.png\"},\"logoDark\":{\"url\":\"https://s.pstatic.net/static/newsstand/2020/logo/dark/0604/991.png\"},\"showThumbnailView\":true,\"showListView\":true,\"regDate\":\"20230705 02:01:42\",\"_id\":null,\"@type\":\"PC-NEWSSTAND-PRESS-BLOCK\",\"@code\":null,\"@template\":\"NONE\",\"@flowId\":null,\"@flowExecutionId\":null,\"@provider\":null,\"@lastModifiedAt\":null},{\"@type\":\"PC-NEWSSTAND-PRESS-BLOCK\",\"blocks\":null,\"materials\":null,\"excludeInPaging\":false,\"positionForPaging\":0,\"realtime\":false,\"pid\":\"079\",\"name\":\"노컷뉴스\",\"logoLight\":{\"url\":\"https://s.pstatic.net/static/newsstand/2020/logo/light/0604/079.png\"},\"logoDark\":{\"url\":\"https://s.pstatic.net/static/newsstand/2020/logo/dark/0604/079.png\"},\"showThumbnailView\":true,\"showListView\":true,\"regDate\":\"20230705 11:31:19\",\"_id\":null,\"@type\":\"PC-NEWSSTAND-PRESS-BLOCK\",\"@code\":null,\"@template\":\"NONE\",\"@flowId\":null,\"@flowExecutionId\":null,\"@provider\":null,\"@lastModifiedAt\":null},{\"@type\":\"PC-NEWSSTAND-PRESS-BLOCK\",\"blocks\":null,\"materials\":null,\"excludeInPaging\":false,\"positionForPaging\":0,\"realtime\":false,\"pid\":\"993\",\"name\":\"허프포스트코리아\",\"logoLight\":{\"url\":\"https://s.pstatic.net/static/newsstand/2020/logo/light/0604/993.png\"},\"logoDark\":{\"url\":\"https://s.pstatic.net/static/newsstand/2020/logo/dark/0604/993.png\"},\"showThumbnailView\":true,\"showListView\":true,\"regDate\":\"20230705 11:30:49\",\"_id\":null,\"@type\":\"PC-NEWSSTAND-PRESS-BLOCK\",\"@code\":null,\"@template\":\"NONE\",\"@flowId\":null,\"@flowExecutionId\":null,\"@provider\":null,\"@lastModifiedAt\":null},{\"@type\":\"PC-NEWSSTAND-PRESS-BLOCK\",\"blocks\":null,\"materials\":null,\"excludeInPaging\":false,\"positionForPaging\":0,\"realtime\":false,\"pid\":\"994\",\"name\":\"AI타임스\",\"logoLight\":{\"url\":\"https://s.pstatic.net/static/newsstand/up/2021/1112/nsd102040597.png\"},\"logoDark\":{\"url\":\"https://s.pstatic.net/static/newsstand/up/2021/1112/nsd102110770.png\"},\"showThumbnailView\":true,\"showListView\":true,\"regDate\":\"20230705 11:30:41\",\"_id\":null,\"@type\":\"PC-NEWSSTAND-PRESS-BLOCK\",\"@code\":null,\"@template\":\"NONE\",\"@flowId\":null,\"@flowExecutionId\":null,\"@provider\":null,\"@lastModifiedAt\":null},{\"@type\":\"PC-NEWSSTAND-PRESS-BLOCK\",\"blocks\":null,\"materials\":null,\"excludeInPaging\":false,\"positionForPaging\":0,\"realtime\":false,\"pid\":\"995\",\"name\":\"뉴스포스트\",\"logoLight\":{\"url\":\"https://s.pstatic.net/static/newsstand/up/2021/1112/nsd10248812.png\"},\"logoDark\":{\"url\":\"https://s.pstatic.net/static/newsstand/up/2021/1112/nsd102419893.png\"},\"showThumbnailView\":true,\"showListView\":true,\"regDate\":\"20230705 11:30:41\",\"_id\":null,\"@type\":\"PC-NEWSSTAND-PRESS-BLOCK\",\"@code\":null,\"@template\":\"NONE\",\"@flowId\":null,\"@flowExecutionId\":null,\"@provider\":null,\"@lastModifiedAt\":null},{\"@type\":\"PC-NEWSSTAND-PRESS-BLOCK\",\"blocks\":null,\"materials\":null,\"excludeInPaging\":false,\"positionForPaging\":0,\"realtime\":false,\"pid\":\"996\",\"name\":\"매경헬스\",\"logoLight\":{\"url\":\"https://s.pstatic.net/static/newsstand/up/2023/0330/nsd10125746.png\"},\"logoDark\":{\"url\":\"https://s.pstatic.net/static/newsstand/up/2023/0330/nsd10148542.png\"},\"showThumbnailView\":true,\"showListView\":true,\"regDate\":\"20230705 11:30:44\",\"_id\":null,\"@type\":\"PC-NEWSSTAND-PRESS-BLOCK\",\"@code\":null,\"@template\":\"NONE\",\"@flowId\":null,\"@flowExecutionId\":null,\"@provider\":null,\"@lastModifiedAt\":null},{\"@type\":\"PC-NEWSSTAND-PRESS-BLOCK\",\"blocks\":null,\"materials\":null,\"excludeInPaging\":false,\"positionForPaging\":0,\"realtime\":false,\"pid\":\"997\",\"name\":\"뉴스펭귄\",\"logoLight\":{\"url\":\"https://s.pstatic.net/static/newsstand/up/2022/0405/nsd15024245.png\"},\"logoDark\":{\"url\":\"https://s.pstatic.net/static/newsstand/up/2022/0405/nsd15014578.png\"},\"showThumbnailView\":true,\"showListView\":true,\"regDate\":\"20230705 11:30:45\",\"_id\":null,\"@type\":\"PC-NEWSSTAND-PRESS-BLOCK\",\"@code\":null,\"@template\":\"NONE\",\"@flowId\":null,\"@flowExecutionId\":null,\"@provider\":null,\"@lastModifiedAt\":null},{\"@type\":\"PC-NEWSSTAND-PRESS-BLOCK\",\"blocks\":null,\"materials\":null,\"excludeInPaging\":false,\"positionForPaging\":0,\"realtime\":false,\"pid\":\"998\",\"name\":\"뉴스앤조이\",\"logoLight\":{\"url\":\"https://s.pstatic.net/static/newsstand/up/2022/0328/nsd22503109.png\"},\"logoDark\":{\"url\":\"https://s.pstatic.net/static/newsstand/up/2022/0328/nsd22509287.png\"},\"showThumbnailView\":true,\"showListView\":true,\"regDate\":\"20230705 11:30:44\",\"_id\":null,\"@type\":\"PC-NEWSSTAND-PRESS-BLOCK\",\"@code\":null,\"@template\":\"NONE\",\"@flowId\":null,\"@flowExecutionId\":null,\"@provider\":null,\"@lastModifiedAt\":null},{\"@type\":\"PC-NEWSSTAND-PRESS-BLOCK\",\"blocks\":null,\"materials\":null,\"excludeInPaging\":false,\"positionForPaging\":0,\"realtime\":false,\"pid\":\"081\",\"name\":\"서울신문\",\"logoLight\":{\"url\":\"https://s.pstatic.net/static/newsstand/up/2022/0208/nsd16121208.png\"},\"logoDark\":{\"url\":\"https://s.pstatic.net/static/newsstand/up/2022/0208/nsd161212576.png\"},\"showThumbnailView\":true,\"showListView\":true,\"regDate\":\"20230705 11:32:31\",\"_id\":null,\"@type\":\"PC-NEWSSTAND-PRESS-BLOCK\",\"@code\":null,\"@template\":\"NONE\",\"@flowId\":null,\"@flowExecutionId\":null,\"@provider\":null,\"@lastModifiedAt\":null},{\"@type\":\"PC-NEWSSTAND-PRESS-BLOCK\",\"blocks\":null,\"materials\":null,\"excludeInPaging\":false,\"positionForPaging\":0,\"realtime\":false,\"pid\":\"082\",\"name\":\"부산일보\",\"logoLight\":{\"url\":\"https://s.pstatic.net/static/newsstand/up/2021/0322/nsd21527882.png\"},\"logoDark\":{\"url\":\"https://s.pstatic.net/static/newsstand/up/2021/0322/nsd215225866.png\"},\"showThumbnailView\":true,\"showListView\":true,\"regDate\":\"20230705 11:23:42\",\"_id\":null,\"@type\":\"PC-NEWSSTAND-PRESS-BLOCK\",\"@code\":null,\"@template\":\"NONE\",\"@flowId\":null,\"@flowExecutionId\":null,\"@provider\":null,\"@lastModifiedAt\":null},{\"@type\":\"PC-NEWSSTAND-PRESS-BLOCK\",\"blocks\":null,\"materials\":null,\"excludeInPaging\":false,\"positionForPaging\":0,\"realtime\":false,\"pid\":\"083\",\"name\":\"광주일보\",\"logoLight\":{\"url\":\"https://s.pstatic.net/static/newsstand/up/2023/0309/nsd195548501.png\"},\"logoDark\":{\"url\":\"https://s.pstatic.net/static/newsstand/up/2023/0309/nsd1956932.png\"},\"showThumbnailView\":true,\"showListView\":true,\"regDate\":\"20230705 11:00:01\",\"_id\":null,\"@type\":\"PC-NEWSSTAND-PRESS-BLOCK\",\"@code\":null,\"@template\":\"NONE\",\"@flowId\":null,\"@flowExecutionId\":null,\"@provider\":null,\"@lastModifiedAt\":null},{\"@type\":\"PC-NEWSSTAND-PRESS-BLOCK\",\"blocks\":null,\"materials\":null,\"excludeInPaging\":false,\"positionForPaging\":0,\"realtime\":false,\"pid\":\"087\",\"name\":\"강원일보\",\"logoLight\":{\"url\":\"https://s.pstatic.net/static/newsstand/2020/logo/light/0604/087.png\"},\"logoDark\":{\"url\":\"https://s.pstatic.net/static/newsstand/2020/logo/dark/0604/087.png\"},\"showThumbnailView\":true,\"showListView\":true,\"regDate\":\"20230705 11:15:39\",\"_id\":null,\"@type\":\"PC-NEWSSTAND-PRESS-BLOCK\",\"@code\":null,\"@template\":\"NONE\",\"@flowId\":null,\"@flowExecutionId\":null,\"@provider\":null,\"@lastModifiedAt\":null},{\"@type\":\"PC-NEWSSTAND-PRESS-BLOCK\",\"blocks\":null,\"materials\":null,\"excludeInPaging\":false,\"positionForPaging\":0,\"realtime\":false,\"pid\":\"088\",\"name\":\"매일신문\",\"logoLight\":{\"url\":\"https://s.pstatic.net/static/newsstand/2020/logo/light/0604/088.png\"},\"logoDark\":{\"url\":\"https://s.pstatic.net/static/newsstand/2020/logo/dark/0604/088.png\"},\"showThumbnailView\":true,\"showListView\":true,\"regDate\":\"20230705 10:42:02\",\"_id\":null,\"@type\":\"PC-NEWSSTAND-PRESS-BLOCK\",\"@code\":null,\"@template\":\"NONE\",\"@flowId\":null,\"@flowExecutionId\":null,\"@provider\":null,\"@lastModifiedAt\":null},{\"@type\":\"PC-NEWSSTAND-PRESS-BLOCK\",\"blocks\":null,\"materials\":null,\"excludeInPaging\":false,\"positionForPaging\":0,\"realtime\":false,\"pid\":\"089\",\"name\":\"대전일보\",\"logoLight\":{\"url\":\"https://s.pstatic.net/static/newsstand/2020/logo/light/0604/089.png\"},\"logoDark\":{\"url\":\"https://s.pstatic.net/static/newsstand/2020/logo/dark/0604/089.png\"},\"showThumbnailView\":true,\"showListView\":true,\"regDate\":\"20230705 11:30:02\",\"_id\":null,\"@type\":\"PC-NEWSSTAND-PRESS-BLOCK\",\"@code\":null,\"@template\":\"NONE\",\"@flowId\":null,\"@flowExecutionId\":null,\"@provider\":null,\"@lastModifiedAt\":null},{\"@type\":\"PC-NEWSSTAND-PRESS-BLOCK\",\"blocks\":null,\"materials\":null,\"excludeInPaging\":false,\"positionForPaging\":0,\"realtime\":false,\"pid\":\"529\",\"name\":\"스포츠춘추\",\"logoLight\":{\"url\":\"https://s.pstatic.net/static/newsstand/up/2022/0116/nsd19454239.png\"},\"logoDark\":{\"url\":\"https://s.pstatic.net/static/newsstand/up/2022/0116/nsd194523259.png\"},\"showThumbnailView\":true,\"showListView\":true,\"regDate\":\"20230705 11:30:42\",\"_id\":null,\"@type\":\"PC-NEWSSTAND-PRESS-BLOCK\",\"@code\":null,\"@template\":\"NONE\",\"@flowId\":null,\"@flowExecutionId\":null,\"@provider\":null,\"@lastModifiedAt\":null},{\"@type\":\"PC-NEWSSTAND-PRESS-BLOCK\",\"blocks\":null,\"materials\":null,\"excludeInPaging\":false,\"positionForPaging\":0,\"realtime\":false,\"pid\":\"092\",\"name\":\"지디넷코리아\",\"logoLight\":{\"url\":\"https://s.pstatic.net/static/newsstand/up/2022/0905/nsd131925414.png\"},\"logoDark\":{\"url\":\"https://s.pstatic.net/static/newsstand/up/2022/0905/nsd91639628.png\"},\"showThumbnailView\":true,\"showListView\":true,\"regDate\":\"20230705 11:23:41\",\"_id\":null,\"@type\":\"PC-NEWSSTAND-PRESS-BLOCK\",\"@code\":null,\"@template\":\"NONE\",\"@flowId\":null,\"@flowExecutionId\":null,\"@provider\":null,\"@lastModifiedAt\":null},{\"@type\":\"PC-NEWSSTAND-PRESS-BLOCK\",\"blocks\":null,\"materials\":null,\"excludeInPaging\":false,\"positionForPaging\":0,\"realtime\":false,\"pid\":\"094\",\"name\":\"월간 산\",\"logoLight\":{\"url\":\"https://s.pstatic.net/static/newsstand/2020/logo/light/0604/094.png\"},\"logoDark\":{\"url\":\"https://s.pstatic.net/static/newsstand/2020/logo/dark/0604/094.png\"},\"showThumbnailView\":true,\"showListView\":true,\"regDate\":\"20230705 11:30:48\",\"_id\":null,\"@type\":\"PC-NEWSSTAND-PRESS-BLOCK\",\"@code\":null,\"@template\":\"NONE\",\"@flowId\":null,\"@flowExecutionId\":null,\"@provider\":null,\"@lastModifiedAt\":null},{\"@type\":\"PC-NEWSSTAND-PRESS-BLOCK\",\"blocks\":null,\"materials\":null,\"excludeInPaging\":false,\"positionForPaging\":0,\"realtime\":false,\"pid\":\"410\",\"name\":\"MK스포츠\",\"logoLight\":{\"url\":\"https://s.pstatic.net/static/newsstand/2020/logo/light/0604/410.png\"},\"logoDark\":{\"url\":\"https://s.pstatic.net/static/newsstand/2020/logo/dark/0604/410.png\"},\"showThumbnailView\":true,\"showListView\":true,\"regDate\":\"20230705 11:38:02\",\"_id\":null,\"@type\":\"PC-NEWSSTAND-PRESS-BLOCK\",\"@code\":null,\"@template\":\"NONE\",\"@flowId\":null,\"@flowExecutionId\":null,\"@provider\":null,\"@lastModifiedAt\":null},{\"@type\":\"PC-NEWSSTAND-PRESS-BLOCK\",\"blocks\":null,\"materials\":null,\"excludeInPaging\":false,\"positionForPaging\":0,\"realtime\":false,\"pid\":\"536\",\"name\":\"더팩트\",\"logoLight\":{\"url\":\"https://s.pstatic.net/static/newsstand/2020/logo/light/0604/536.png\"},\"logoDark\":{\"url\":\"https://s.pstatic.net/static/newsstand/2020/logo/dark/0604/536.png\"},\"showThumbnailView\":true,\"showListView\":true,\"regDate\":\"20230705 10:36:33\",\"_id\":null,\"@type\":\"PC-NEWSSTAND-PRESS-BLOCK\",\"@code\":null,\"@template\":\"NONE\",\"@flowId\":null,\"@flowExecutionId\":null,\"@provider\":null,\"@lastModifiedAt\":null},{\"@type\":\"PC-NEWSSTAND-PRESS-BLOCK\",\"blocks\":null,\"materials\":null,\"excludeInPaging\":false,\"positionForPaging\":0,\"realtime\":false,\"pid\":\"416\",\"name\":\"SBS연예뉴스\",\"logoLight\":{\"url\":\"https://s.pstatic.net/static/newsstand/up/2020/1228/nsd1681569.png\"},\"logoDark\":{\"url\":\"https://s.pstatic.net/static/newsstand/up/2020/1228/nsd1688305.png\"},\"showThumbnailView\":true,\"showListView\":true,\"regDate\":\"20230705 11:39:29\",\"_id\":null,\"@type\":\"PC-NEWSSTAND-PRESS-BLOCK\",\"@code\":null,\"@template\":\"NONE\",\"@flowId\":null,\"@flowExecutionId\":null,\"@provider\":null,\"@lastModifiedAt\":null},{\"@type\":\"PC-NEWSSTAND-PRESS-BLOCK\",\"blocks\":null,\"materials\":null,\"excludeInPaging\":false,\"positionForPaging\":0,\"realtime\":false,\"pid\":\"417\",\"name\":\"머니에스\",\"logoLight\":{\"url\":\"https://s.pstatic.net/static/newsstand/2020/logo/light/0604/417.png\"},\"logoDark\":{\"url\":\"https://s.pstatic.net/static/newsstand/2020/logo/dark/0604/417.png\"},\"showThumbnailView\":true,\"showListView\":true,\"regDate\":\"20230705 11:30:05\",\"_id\":null,\"@type\":\"PC-NEWSSTAND-PRESS-BLOCK\",\"@code\":null,\"@template\":\"NONE\",\"@flowId\":null,\"@flowExecutionId\":null,\"@provider\":null,\"@lastModifiedAt\":null},{\"@type\":\"PC-NEWSSTAND-PRESS-BLOCK\",\"blocks\":null,\"materials\":null,\"excludeInPaging\":false,\"positionForPaging\":0,\"realtime\":false,\"pid\":\"539\",\"name\":\"위키트리\",\"logoLight\":{\"url\":\"https://s.pstatic.net/static/newsstand/2020/logo/light/0604/539.png\"},\"logoDark\":{\"url\":\"https://s.pstatic.net/static/newsstand/2020/logo/dark/0604/539.png\"},\"showThumbnailView\":true,\"showListView\":true,\"regDate\":\"20230705 11:34:15\",\"_id\":null,\"@type\":\"PC-NEWSSTAND-PRESS-BLOCK\",\"@code\":null,\"@template\":\"NONE\",\"@flowId\":null,\"@flowExecutionId\":null,\"@provider\":null,\"@lastModifiedAt\":null},{\"@type\":\"PC-NEWSSTAND-PRESS-BLOCK\",\"blocks\":null,\"materials\":null,\"excludeInPaging\":false,\"positionForPaging\":0,\"realtime\":false,\"pid\":\"421\",\"name\":\"뉴스1\",\"logoLight\":{\"url\":\"https://s.pstatic.net/static/newsstand/2020/logo/light/0604/421.png\"},\"logoDark\":{\"url\":\"https://s.pstatic.net/static/newsstand/2020/logo/dark/0604/421.png\"},\"showThumbnailView\":true,\"showListView\":true,\"regDate\":\"20230705 11:26:40\",\"_id\":null,\"@type\":\"PC-NEWSSTAND-PRESS-BLOCK\",\"@code\":null,\"@template\":\"NONE\",\"@flowId\":null,\"@flowExecutionId\":null,\"@provider\":null,\"@lastModifiedAt\":null},{\"@type\":\"PC-NEWSSTAND-PRESS-BLOCK\",\"blocks\":null,\"materials\":null,\"excludeInPaging\":false,\"positionForPaging\":0,\"realtime\":false,\"pid\":\"301\",\"name\":\"광주드림\",\"logoLight\":{\"url\":\"https://s.pstatic.net/static/newsstand/2020/logo/light/0604/301.png\"},\"logoDark\":{\"url\":\"https://s.pstatic.net/static/newsstand/2020/logo/dark/0604/301.png\"},\"showThumbnailView\":true,\"showListView\":true,\"regDate\":\"20230705 11:30:34\",\"_id\":null,\"@type\":\"PC-NEWSSTAND-PRESS-BLOCK\",\"@code\":null,\"@template\":\"NONE\",\"@flowId\":null,\"@flowExecutionId\":null,\"@provider\":null,\"@lastModifiedAt\":null},{\"@type\":\"PC-NEWSSTAND-PRESS-BLOCK\",\"blocks\":null,\"materials\":null,\"excludeInPaging\":false,\"positionForPaging\":0,\"realtime\":false,\"pid\":\"422\",\"name\":\"연합뉴스TV\",\"logoLight\":{\"url\":\"https://s.pstatic.net/static/newsstand/2020/logo/light/0604/422.png\"},\"logoDark\":{\"url\":\"https://s.pstatic.net/static/newsstand/2020/logo/dark/0604/422.png\"},\"showThumbnailView\":true,\"showListView\":true,\"regDate\":\"20230705 11:34:09\",\"_id\":null,\"@type\":\"PC-NEWSSTAND-PRESS-BLOCK\",\"@code\":null,\"@template\":\"NONE\",\"@flowId\":null,\"@flowExecutionId\":null,\"@provider\":null,\"@lastModifiedAt\":null},{\"@type\":\"PC-NEWSSTAND-PRESS-BLOCK\",\"blocks\":null,\"materials\":null,\"excludeInPaging\":false,\"positionForPaging\":0,\"realtime\":false,\"pid\":\"308\",\"name\":\"시사인\",\"logoLight\":{\"url\":\"https://s.pstatic.net/static/newsstand/2020/logo/light/0604/308.png\"},\"logoDark\":{\"url\":\"https://s.pstatic.net/static/newsstand/2020/logo/dark/0604/308.png\"},\"showThumbnailView\":true,\"showListView\":true,\"regDate\":\"20230705 10:01:03\",\"_id\":null,\"@type\":\"PC-NEWSSTAND-PRESS-BLOCK\",\"@code\":null,\"@template\":\"NONE\",\"@flowId\":null,\"@flowExecutionId\":null,\"@provider\":null,\"@lastModifiedAt\":null},{\"@type\":\"PC-NEWSSTAND-PRESS-BLOCK\",\"blocks\":null,\"materials\":null,\"excludeInPaging\":false,\"positionForPaging\":0,\"realtime\":false,\"pid\":\"310\",\"name\":\"여성신문\",\"logoLight\":{\"url\":\"https://s.pstatic.net/static/newsstand/2020/logo/light/0604/310.png\"},\"logoDark\":{\"url\":\"https://s.pstatic.net/static/newsstand/2020/logo/dark/0604/310.png\"},\"showThumbnailView\":true,\"showListView\":true,\"regDate\":\"20230705 11:30:02\",\"_id\":null,\"@type\":\"PC-NEWSSTAND-PRESS-BLOCK\",\"@code\":null,\"@template\":\"NONE\",\"@flowId\":null,\"@flowExecutionId\":null,\"@provider\":null,\"@lastModifiedAt\":null},{\"@type\":\"PC-NEWSSTAND-PRESS-BLOCK\",\"blocks\":null,\"materials\":null,\"excludeInPaging\":false,\"positionForPaging\":0,\"realtime\":false,\"pid\":\"311\",\"name\":\"엑스포츠뉴스\",\"logoLight\":{\"url\":\"https://s.pstatic.net/static/newsstand/2020/logo/light/0604/311.png\"},\"logoDark\":{\"url\":\"https://s.pstatic.net/static/newsstand/2020/logo/dark/0604/311.png\"},\"showThumbnailView\":true,\"showListView\":true,\"regDate\":\"20230705 10:57:10\",\"_id\":null,\"@type\":\"PC-NEWSSTAND-PRESS-BLOCK\",\"@code\":null,\"@template\":\"NONE\",\"@flowId\":null,\"@flowExecutionId\":null,\"@provider\":null,\"@lastModifiedAt\":null},{\"@type\":\"PC-NEWSSTAND-PRESS-BLOCK\",\"blocks\":null,\"materials\":null,\"excludeInPaging\":false,\"positionForPaging\":0,\"realtime\":false,\"pid\":\"312\",\"name\":\"텐아시아\",\"logoLight\":{\"url\":\"https://s.pstatic.net/static/newsstand/2020/logo/light/0604/312.png\"},\"logoDark\":{\"url\":\"https://s.pstatic.net/static/newsstand/2020/logo/dark/0604/312.png\"},\"showThumbnailView\":true,\"showListView\":true,\"regDate\":\"20230705 08:27:04\",\"_id\":null,\"@type\":\"PC-NEWSSTAND-PRESS-BLOCK\",\"@code\":null,\"@template\":\"NONE\",\"@flowId\":null,\"@flowExecutionId\":null,\"@provider\":null,\"@lastModifiedAt\":null},{\"@type\":\"PC-NEWSSTAND-PRESS-BLOCK\",\"blocks\":null,\"materials\":null,\"excludeInPaging\":false,\"positionForPaging\":0,\"realtime\":false,\"pid\":\"314\",\"name\":\"스포츠동아\",\"logoLight\":{\"url\":\"https://s.pstatic.net/static/newsstand/2020/logo/light/0604/314.png\"},\"logoDark\":{\"url\":\"https://s.pstatic.net/static/newsstand/2020/logo/dark/0604/314.png\"},\"showThumbnailView\":true,\"showListView\":true,\"regDate\":\"20230705 11:08:18\",\"_id\":null,\"@type\":\"PC-NEWSSTAND-PRESS-BLOCK\",\"@code\":null,\"@template\":\"NONE\",\"@flowId\":null,\"@flowExecutionId\":null,\"@provider\":null,\"@lastModifiedAt\":null},{\"@type\":\"PC-NEWSSTAND-PRESS-BLOCK\",\"blocks\":null,\"materials\":null,\"excludeInPaging\":false,\"positionForPaging\":0,\"realtime\":false,\"pid\":\"681\",\"name\":\"이코노타임즈\",\"logoLight\":{\"url\":\"https://s.pstatic.net/static/newsstand/up/2022/0615/nsd7251644.png\"},\"logoDark\":{\"url\":\"https://s.pstatic.net/static/newsstand/up/2022/0615/nsd7244919.png\"},\"showThumbnailView\":true,\"showListView\":true,\"regDate\":\"20230704 16:47:18\",\"_id\":null,\"@type\":\"PC-NEWSSTAND-PRESS-BLOCK\",\"@code\":null,\"@template\":\"NONE\",\"@flowId\":null,\"@flowExecutionId\":null,\"@provider\":null,\"@lastModifiedAt\":null},{\"@type\":\"PC-NEWSSTAND-PRESS-BLOCK\",\"blocks\":null,\"materials\":null,\"excludeInPaging\":false,\"positionForPaging\":0,\"realtime\":false,\"pid\":\"440\",\"name\":\"티브이데일리\",\"logoLight\":{\"url\":\"https://s.pstatic.net/static/newsstand/2020/logo/light/0604/440.png\"},\"logoDark\":{\"url\":\"https://s.pstatic.net/static/newsstand/2020/logo/dark/0604/440.png\"},\"showThumbnailView\":true,\"showListView\":true,\"regDate\":\"20230705 11:30:01\",\"_id\":null,\"@type\":\"PC-NEWSSTAND-PRESS-BLOCK\",\"@code\":null,\"@template\":\"NONE\",\"@flowId\":null,\"@flowExecutionId\":null,\"@provider\":null,\"@lastModifiedAt\":null},{\"@type\":\"PC-NEWSSTAND-PRESS-BLOCK\",\"blocks\":null,\"materials\":null,\"excludeInPaging\":false,\"positionForPaging\":0,\"realtime\":false,\"pid\":\"682\",\"name\":\"여성경제신문\",\"logoLight\":{\"url\":\"https://s.pstatic.net/static/newsstand/up/2022/1018/nsd132851977.png\"},\"logoDark\":{\"url\":\"https://s.pstatic.net/static/newsstand/up/2022/1018/nsd132844419.png\"},\"showThumbnailView\":true,\"showListView\":true,\"regDate\":\"20230705 11:30:52\",\"_id\":null,\"@type\":\"PC-NEWSSTAND-PRESS-BLOCK\",\"@code\":null,\"@template\":\"NONE\",\"@flowId\":null,\"@flowExecutionId\":null,\"@provider\":null,\"@lastModifiedAt\":null},{\"@type\":\"PC-NEWSSTAND-PRESS-BLOCK\",\"blocks\":null,\"materials\":null,\"excludeInPaging\":false,\"positionForPaging\":0,\"realtime\":false,\"pid\":\"683\",\"name\":\"MS투데이\",\"logoLight\":{\"url\":\"https://s.pstatic.net/static/newsstand/up/2022/1017/nsd202940832.png\"},\"logoDark\":{\"url\":\"https://s.pstatic.net/static/newsstand/up/2022/1017/nsd202933363.png\"},\"showThumbnailView\":true,\"showListView\":true,\"regDate\":\"20230705 11:30:53\",\"_id\":null,\"@type\":\"PC-NEWSSTAND-PRESS-BLOCK\",\"@code\":null,\"@template\":\"NONE\",\"@flowId\":null,\"@flowExecutionId\":null,\"@provider\":null,\"@lastModifiedAt\":null},{\"@type\":\"PC-NEWSSTAND-PRESS-BLOCK\",\"blocks\":null,\"materials\":null,\"excludeInPaging\":false,\"positionForPaging\":0,\"realtime\":false,\"pid\":\"684\",\"name\":\"TJB대전방송\",\"logoLight\":{\"url\":\"https://s.pstatic.net/static/newsstand/up/2023/0103/nsd95227559.png\"},\"logoDark\":{\"url\":\"https://s.pstatic.net/static/newsstand/up/2023/0103/nsd9522095.png\"},\"showThumbnailView\":true,\"showListView\":true,\"regDate\":\"20230705 08:00:01\",\"_id\":null,\"@type\":\"PC-NEWSSTAND-PRESS-BLOCK\",\"@code\":null,\"@template\":\"NONE\",\"@flowId\":null,\"@flowExecutionId\":null,\"@provider\":null,\"@lastModifiedAt\":null},{\"@type\":\"PC-NEWSSTAND-PRESS-BLOCK\",\"blocks\":null,\"materials\":null,\"excludeInPaging\":false,\"positionForPaging\":0,\"realtime\":false,\"pid\":\"685\",\"name\":\"서울와이어\",\"logoLight\":{\"url\":\"https://s.pstatic.net/static/newsstand/up/2022/1024/nsd174430433.png\"},\"logoDark\":{\"url\":\"https://s.pstatic.net/static/newsstand/up/2022/1024/nsd174424325.png\"},\"showThumbnailView\":true,\"showListView\":true,\"regDate\":\"20230705 11:30:52\",\"_id\":null,\"@type\":\"PC-NEWSSTAND-PRESS-BLOCK\",\"@code\":null,\"@template\":\"NONE\",\"@flowId\":null,\"@flowExecutionId\":null,\"@provider\":null,\"@lastModifiedAt\":null},{\"@type\":\"PC-NEWSSTAND-PRESS-BLOCK\",\"blocks\":null,\"materials\":null,\"excludeInPaging\":false,\"positionForPaging\":0,\"realtime\":false,\"pid\":\"686\",\"name\":\"주간경향\",\"logoLight\":{\"url\":\"https://s.pstatic.net/static/newsstand/up/2022/1007/nsd161849944.png\"},\"logoDark\":{\"url\":\"https://s.pstatic.net/static/newsstand/up/2022/1007/nsd161842489.png\"},\"showThumbnailView\":true,\"showListView\":true,\"regDate\":\"20230705 07:29:58\",\"_id\":null,\"@type\":\"PC-NEWSSTAND-PRESS-BLOCK\",\"@code\":null,\"@template\":\"NONE\",\"@flowId\":null,\"@flowExecutionId\":null,\"@provider\":null,\"@lastModifiedAt\":null},{\"@type\":\"PC-NEWSSTAND-PRESS-BLOCK\",\"blocks\":null,\"materials\":null,\"excludeInPaging\":false,\"positionForPaging\":0,\"realtime\":false,\"pid\":\"687\",\"name\":\"뉴스클레임\",\"logoLight\":{\"url\":\"https://s.pstatic.net/static/newsstand/up/2022/1006/nsd205818702.png\"},\"logoDark\":{\"url\":\"https://s.pstatic.net/static/newsstand/up/2022/1006/nsd205810265.png\"},\"showThumbnailView\":true,\"showListView\":true,\"regDate\":\"20230705 11:30:50\",\"_id\":null,\"@type\":\"PC-NEWSSTAND-PRESS-BLOCK\",\"@code\":null,\"@template\":\"NONE\",\"@flowId\":null,\"@flowExecutionId\":null,\"@provider\":null,\"@lastModifiedAt\":null},{\"@type\":\"PC-NEWSSTAND-PRESS-BLOCK\",\"blocks\":null,\"materials\":null,\"excludeInPaging\":false,\"positionForPaging\":0,\"realtime\":false,\"pid\":\"688\",\"name\":\"경기신문\",\"logoLight\":{\"url\":\"https://s.pstatic.net/static/newsstand/up/2022/1017/nsd202616515.png\"},\"logoDark\":{\"url\":\"https://s.pstatic.net/static/newsstand/up/2022/1017/nsd20268714.png\"},\"showThumbnailView\":true,\"showListView\":true,\"regDate\":\"20230705 11:30:02\",\"_id\":null,\"@type\":\"PC-NEWSSTAND-PRESS-BLOCK\",\"@code\":null,\"@template\":\"NONE\",\"@flowId\":null,\"@flowExecutionId\":null,\"@provider\":null,\"@lastModifiedAt\":null},{\"@type\":\"PC-NEWSSTAND-PRESS-BLOCK\",\"blocks\":null,\"materials\":null,\"excludeInPaging\":false,\"positionForPaging\":0,\"realtime\":false,\"pid\":\"326\",\"name\":\"KBS World\",\"logoLight\":{\"url\":\"https://s.pstatic.net/static/newsstand/2020/logo/light/0604/326.png\"},\"logoDark\":{\"url\":\"https://s.pstatic.net/static/newsstand/2020/logo/dark/0604/326.png\"},\"showThumbnailView\":true,\"showListView\":true,\"regDate\":\"20230705 11:03:38\",\"_id\":null,\"@type\":\"PC-NEWSSTAND-PRESS-BLOCK\",\"@code\":null,\"@template\":\"NONE\",\"@flowId\":null,\"@flowExecutionId\":null,\"@provider\":null,\"@lastModifiedAt\":null},{\"@type\":\"PC-NEWSSTAND-PRESS-BLOCK\",\"blocks\":null,\"materials\":null,\"excludeInPaging\":false,\"positionForPaging\":0,\"realtime\":false,\"pid\":\"447\",\"name\":\"뉴스엔\",\"logoLight\":{\"url\":\"https://s.pstatic.net/static/newsstand/2020/logo/light/0604/447.png\"},\"logoDark\":{\"url\":\"https://s.pstatic.net/static/newsstand/2020/logo/dark/0604/447.png\"},\"showThumbnailView\":true,\"showListView\":true,\"regDate\":\"20230704 18:07:00\",\"_id\":null,\"@type\":\"PC-NEWSSTAND-PRESS-BLOCK\",\"@code\":null,\"@template\":\"NONE\",\"@flowId\":null,\"@flowExecutionId\":null,\"@provider\":null,\"@lastModifiedAt\":null},{\"@type\":\"PC-NEWSSTAND-PRESS-BLOCK\",\"blocks\":null,\"materials\":null,\"excludeInPaging\":false,\"positionForPaging\":0,\"realtime\":false,\"pid\":\"689\",\"name\":\"인천투데이\",\"logoLight\":{\"url\":\"https://s.pstatic.net/static/newsstand/up/2022/1107/nsd1054226.png\"},\"logoDark\":{\"url\":\"https://s.pstatic.net/static/newsstand/up/2022/1107/nsd105354391.png\"},\"showThumbnailView\":true,\"showListView\":true,\"regDate\":\"20230705 11:30:51\",\"_id\":null,\"@type\":\"PC-NEWSSTAND-PRESS-BLOCK\",\"@code\":null,\"@template\":\"NONE\",\"@flowId\":null,\"@flowExecutionId\":null,\"@provider\":null,\"@lastModifiedAt\":null},{\"@type\":\"PC-NEWSSTAND-PRESS-BLOCK\",\"blocks\":null,\"materials\":null,\"excludeInPaging\":false,\"positionForPaging\":0,\"realtime\":false,\"pid\":\"327\",\"name\":\"뉴데일리\",\"logoLight\":{\"url\":\"https://s.pstatic.net/static/newsstand/2020/logo/light/0604/327.png\"},\"logoDark\":{\"url\":\"https://s.pstatic.net/static/newsstand/2020/logo/dark/0604/327.png\"},\"showThumbnailView\":true,\"showListView\":true,\"regDate\":\"20230705 11:30:10\",\"_id\":null,\"@type\":\"PC-NEWSSTAND-PRESS-BLOCK\",\"@code\":null,\"@template\":\"NONE\",\"@flowId\":null,\"@flowExecutionId\":null,\"@provider\":null,\"@lastModifiedAt\":null},{\"@type\":\"PC-NEWSSTAND-PRESS-BLOCK\",\"blocks\":null,\"materials\":null,\"excludeInPaging\":false,\"positionForPaging\":0,\"realtime\":false,\"pid\":\"328\",\"name\":\"에이블뉴스\",\"logoLight\":{\"url\":\"https://s.pstatic.net/static/newsstand/2020/logo/light/0604/328.png\"},\"logoDark\":{\"url\":\"https://s.pstatic.net/static/newsstand/2020/logo/dark/0604/328.png\"},\"showThumbnailView\":true,\"showListView\":true,\"regDate\":\"20230705 11:30:53\",\"_id\":null,\"@type\":\"PC-NEWSSTAND-PRESS-BLOCK\",\"@code\":null,\"@template\":\"NONE\",\"@flowId\":null,\"@flowExecutionId\":null,\"@provider\":null,\"@lastModifiedAt\":null},{\"@type\":\"PC-NEWSSTAND-PRESS-BLOCK\",\"blocks\":null,\"materials\":null,\"excludeInPaging\":false,\"positionForPaging\":0,\"realtime\":false,\"pid\":\"329\",\"name\":\"소년한국일보\",\"logoLight\":{\"url\":\"https://s.pstatic.net/static/newsstand/up/2021/0728/nsd1110888.png\"},\"logoDark\":{\"url\":\"https://s.pstatic.net/static/newsstand/up/2021/0728/nsd111059924.png\"},\"showThumbnailView\":true,\"showListView\":true,\"regDate\":\"20230705 11:30:39\",\"_id\":null,\"@type\":\"PC-NEWSSTAND-PRESS-BLOCK\",\"@code\":null,\"@template\":\"NONE\",\"@flowId\":null,\"@flowExecutionId\":null,\"@provider\":null,\"@lastModifiedAt\":null},{\"@type\":\"PC-NEWSSTAND-PRESS-BLOCK\",\"blocks\":null,\"materials\":null,\"excludeInPaging\":false,\"positionForPaging\":0,\"realtime\":false,\"pid\":\"690\",\"name\":\"정책브리핑\",\"logoLight\":{\"url\":\"https://s.pstatic.net/static/newsstand/up/2022/1116/nsd113848865.png\"},\"logoDark\":{\"url\":\"https://s.pstatic.net/static/newsstand/up/2022/1116/nsd113840778.png\"},\"showThumbnailView\":true,\"showListView\":true,\"regDate\":\"20230705 11:12:00\",\"_id\":null,\"@type\":\"PC-NEWSSTAND-PRESS-BLOCK\",\"@code\":null,\"@template\":\"NONE\",\"@flowId\":null,\"@flowExecutionId\":null,\"@provider\":null,\"@lastModifiedAt\":null},{\"@type\":\"PC-NEWSSTAND-PRESS-BLOCK\",\"blocks\":null,\"materials\":null,\"excludeInPaging\":false,\"positionForPaging\":0,\"realtime\":false,\"pid\":\"691\",\"name\":\"여성동아\",\"logoLight\":{\"url\":\"https://s.pstatic.net/static/newsstand/up/2023/0418/nsd124451202.png\"},\"logoDark\":{\"url\":\"https://s.pstatic.net/static/newsstand/up/2023/0418/nsd124439166.png\"},\"showThumbnailView\":true,\"showListView\":true,\"regDate\":\"20230705 09:45:21\",\"_id\":null,\"@type\":\"PC-NEWSSTAND-PRESS-BLOCK\",\"@code\":null,\"@template\":\"NONE\",\"@flowId\":null,\"@flowExecutionId\":null,\"@provider\":null,\"@lastModifiedAt\":null},{\"@type\":\"PC-NEWSSTAND-PRESS-BLOCK\",\"blocks\":null,\"materials\":null,\"excludeInPaging\":false,\"positionForPaging\":0,\"realtime\":false,\"pid\":\"330\",\"name\":\"중앙데일리\",\"logoLight\":{\"url\":\"https://s.pstatic.net/static/newsstand/2020/logo/light/0604/330.png\"},\"logoDark\":{\"url\":\"https://s.pstatic.net/static/newsstand/2020/logo/dark/0604/330.png\"},\"showThumbnailView\":true,\"showListView\":true,\"regDate\":\"20230704 20:24:58\",\"_id\":null,\"@type\":\"PC-NEWSSTAND-PRESS-BLOCK\",\"@code\":null,\"@template\":\"NONE\",\"@flowId\":null,\"@flowExecutionId\":null,\"@provider\":null,\"@lastModifiedAt\":null},{\"@type\":\"PC-NEWSSTAND-PRESS-BLOCK\",\"blocks\":null,\"materials\":null,\"excludeInPaging\":false,\"positionForPaging\":0,\"realtime\":false,\"pid\":\"331\",\"name\":\"충청투데이\",\"logoLight\":{\"url\":\"https://s.pstatic.net/static/newsstand/2020/logo/light/0604/331.png\"},\"logoDark\":{\"url\":\"https://s.pstatic.net/static/newsstand/2020/logo/dark/0604/331.png\"},\"showThumbnailView\":true,\"showListView\":true,\"regDate\":\"20230704 20:15:28\",\"_id\":null,\"@type\":\"PC-NEWSSTAND-PRESS-BLOCK\",\"@code\":null,\"@template\":\"NONE\",\"@flowId\":null,\"@flowExecutionId\":null,\"@provider\":null,\"@lastModifiedAt\":null},{\"@type\":\"PC-NEWSSTAND-PRESS-BLOCK\",\"blocks\":null,\"materials\":null,\"excludeInPaging\":false,\"positionForPaging\":0,\"realtime\":false,\"pid\":\"332\",\"name\":\"국제신문\",\"logoLight\":{\"url\":\"https://s.pstatic.net/static/newsstand/2020/logo/light/0604/332.png\"},\"logoDark\":{\"url\":\"https://s.pstatic.net/static/newsstand/2020/logo/dark/0604/332.png\"},\"showThumbnailView\":true,\"showListView\":true,\"regDate\":\"20230705 09:28:46\",\"_id\":null,\"@type\":\"PC-NEWSSTAND-PRESS-BLOCK\",\"@code\":null,\"@template\":\"NONE\",\"@flowId\":null,\"@flowExecutionId\":null,\"@provider\":null,\"@lastModifiedAt\":null},{\"@type\":\"PC-NEWSSTAND-PRESS-BLOCK\",\"blocks\":null,\"materials\":null,\"excludeInPaging\":false,\"positionForPaging\":0,\"realtime\":false,\"pid\":\"333\",\"name\":\"경남신문\",\"logoLight\":{\"url\":\"https://s.pstatic.net/static/newsstand/2020/logo/light/0604/333.png\"},\"logoDark\":{\"url\":\"https://s.pstatic.net/static/newsstand/2020/logo/dark/0604/333.png\"},\"showThumbnailView\":true,\"showListView\":true,\"regDate\":\"20230705 11:01:05\",\"_id\":null,\"@type\":\"PC-NEWSSTAND-PRESS-BLOCK\",\"@code\":null,\"@template\":\"NONE\",\"@flowId\":null,\"@flowExecutionId\":null,\"@provider\":null,\"@lastModifiedAt\":null},{\"@type\":\"PC-NEWSSTAND-PRESS-BLOCK\",\"blocks\":null,\"materials\":null,\"excludeInPaging\":false,\"positionForPaging\":0,\"realtime\":false,\"pid\":\"213\",\"name\":\"TV리포트\",\"logoLight\":{\"url\":\"https://s.pstatic.net/static/newsstand/2020/logo/light/0604/213.png\"},\"logoDark\":{\"url\":\"https://s.pstatic.net/static/newsstand/2020/logo/dark/0604/213.png\"},\"showThumbnailView\":true,\"showListView\":true,\"regDate\":\"20230705 09:49:03\",\"_id\":null,\"@type\":\"PC-NEWSSTAND-PRESS-BLOCK\",\"@code\":null,\"@template\":\"NONE\",\"@flowId\":null,\"@flowExecutionId\":null,\"@provider\":null,\"@lastModifiedAt\":null},{\"@type\":\"PC-NEWSSTAND-PRESS-BLOCK\",\"blocks\":null,\"materials\":null,\"excludeInPaging\":false,\"positionForPaging\":0,\"realtime\":false,\"pid\":\"334\",\"name\":\"제주의소리\",\"logoLight\":{\"url\":\"https://s.pstatic.net/static/newsstand/2020/logo/light/0604/334.png\"},\"logoDark\":{\"url\":\"https://s.pstatic.net/static/newsstand/2020/logo/dark/0604/334.png\"},\"showThumbnailView\":true,\"showListView\":true,\"regDate\":\"20230705 10:31:02\",\"_id\":null,\"@type\":\"PC-NEWSSTAND-PRESS-BLOCK\",\"@code\":null,\"@template\":\"NONE\",\"@flowId\":null,\"@flowExecutionId\":null,\"@provider\":null,\"@lastModifiedAt\":null},{\"@type\":\"PC-NEWSSTAND-PRESS-BLOCK\",\"blocks\":null,\"materials\":null,\"excludeInPaging\":false,\"positionForPaging\":0,\"realtime\":false,\"pid\":\"214\",\"name\":\"MBC\",\"logoLight\":{\"url\":\"https://s.pstatic.net/static/newsstand/2020/logo/light/0604/214.png\"},\"logoDark\":{\"url\":\"https://s.pstatic.net/static/newsstand/2020/logo/dark/0604/214.png\"},\"showThumbnailView\":true,\"showListView\":true,\"regDate\":\"20230705 10:53:28\",\"_id\":null,\"@type\":\"PC-NEWSSTAND-PRESS-BLOCK\",\"@code\":null,\"@template\":\"NONE\",\"@flowId\":null,\"@flowExecutionId\":null,\"@provider\":null,\"@lastModifiedAt\":null},{\"@type\":\"PC-NEWSSTAND-PRESS-BLOCK\",\"blocks\":null,\"materials\":null,\"excludeInPaging\":false,\"positionForPaging\":0,\"realtime\":false,\"pid\":\"335\",\"name\":\"강원도민일보\",\"logoLight\":{\"url\":\"https://s.pstatic.net/static/newsstand/2020/logo/light/0604/335.png\"},\"logoDark\":{\"url\":\"https://s.pstatic.net/static/newsstand/2020/logo/dark/0604/335.png\"},\"showThumbnailView\":true,\"showListView\":true,\"regDate\":\"20230705 10:39:22\",\"_id\":null,\"@type\":\"PC-NEWSSTAND-PRESS-BLOCK\",\"@code\":null,\"@template\":\"NONE\",\"@flowId\":null,\"@flowExecutionId\":null,\"@provider\":null,\"@lastModifiedAt\":null},{\"@type\":\"PC-NEWSSTAND-PRESS-BLOCK\",\"blocks\":null,\"materials\":null,\"excludeInPaging\":false,\"positionForPaging\":0,\"realtime\":false,\"pid\":\"215\",\"name\":\"한국경제TV\",\"logoLight\":{\"url\":\"https://s.pstatic.net/static/newsstand/2020/logo/light/0604/215.png\"},\"logoDark\":{\"url\":\"https://s.pstatic.net/static/newsstand/2020/logo/dark/0604/215.png\"},\"showThumbnailView\":true,\"showListView\":true,\"regDate\":\"20230705 11:10:15\",\"_id\":null,\"@type\":\"PC-NEWSSTAND-PRESS-BLOCK\",\"@code\":null,\"@template\":\"NONE\",\"@flowId\":null,\"@flowExecutionId\":null,\"@provider\":null,\"@lastModifiedAt\":null},{\"@type\":\"PC-NEWSSTAND-PRESS-BLOCK\",\"blocks\":null,\"materials\":null,\"excludeInPaging\":false,\"positionForPaging\":0,\"realtime\":false,\"pid\":\"336\",\"name\":\"전북일보\",\"logoLight\":{\"url\":\"https://s.pstatic.net/static/newsstand/2020/logo/light/0604/336.png\"},\"logoDark\":{\"url\":\"https://s.pstatic.net/static/newsstand/2020/logo/dark/0604/336.png\"},\"showThumbnailView\":true,\"showListView\":true,\"regDate\":\"20230705 09:14:21\",\"_id\":null,\"@type\":\"PC-NEWSSTAND-PRESS-BLOCK\",\"@code\":null,\"@template\":\"NONE\",\"@flowId\":null,\"@flowExecutionId\":null,\"@provider\":null,\"@lastModifiedAt\":null},{\"@type\":\"PC-NEWSSTAND-PRESS-BLOCK\",\"blocks\":null,\"materials\":null,\"excludeInPaging\":false,\"positionForPaging\":0,\"realtime\":false,\"pid\":\"337\",\"name\":\"경북일보\",\"logoLight\":{\"url\":\"https://s.pstatic.net/static/newsstand/2020/logo/light/0604/337.png\"},\"logoDark\":{\"url\":\"https://s.pstatic.net/static/newsstand/2020/logo/dark/0604/337.png\"},\"showThumbnailView\":true,\"showListView\":true,\"regDate\":\"20230704 23:50:35\",\"_id\":null,\"@type\":\"PC-NEWSSTAND-PRESS-BLOCK\",\"@code\":null,\"@template\":\"NONE\",\"@flowId\":null,\"@flowExecutionId\":null,\"@provider\":null,\"@lastModifiedAt\":null},{\"@type\":\"PC-NEWSSTAND-PRESS-BLOCK\",\"blocks\":null,\"materials\":null,\"excludeInPaging\":false,\"positionForPaging\":0,\"realtime\":false,\"pid\":\"338\",\"name\":\"경인일보\",\"logoLight\":{\"url\":\"https://s.pstatic.net/static/newsstand/2020/logo/light/0604/338.png\"},\"logoDark\":{\"url\":\"https://s.pstatic.net/static/newsstand/2020/logo/dark/0604/338.png\"},\"showThumbnailView\":true,\"showListView\":true,\"regDate\":\"20230704 21:35:17\",\"_id\":null,\"@type\":\"PC-NEWSSTAND-PRESS-BLOCK\",\"@code\":null,\"@template\":\"NONE\",\"@flowId\":null,\"@flowExecutionId\":null,\"@provider\":null,\"@lastModifiedAt\":null},{\"@type\":\"PC-NEWSSTAND-PRESS-BLOCK\",\"blocks\":null,\"materials\":null,\"excludeInPaging\":false,\"positionForPaging\":0,\"realtime\":false,\"pid\":\"339\",\"name\":\"경기일보\",\"logoLight\":{\"url\":\"https://s.pstatic.net/static/newsstand/2020/logo/light/0604/339.png\"},\"logoDark\":{\"url\":\"https://s.pstatic.net/static/newsstand/2020/logo/dark/0604/339.png\"},\"showThumbnailView\":true,\"showListView\":true,\"regDate\":\"20230705 07:56:11\",\"_id\":null,\"@type\":\"PC-NEWSSTAND-PRESS-BLOCK\",\"@code\":null,\"@template\":\"NONE\",\"@flowId\":null,\"@flowExecutionId\":null,\"@provider\":null,\"@lastModifiedAt\":null},{\"@type\":\"PC-NEWSSTAND-PRESS-BLOCK\",\"blocks\":null,\"materials\":null,\"excludeInPaging\":false,\"positionForPaging\":0,\"realtime\":false,\"pid\":\"340\",\"name\":\"OBS\",\"logoLight\":{\"url\":\"https://s.pstatic.net/static/newsstand/2020/logo/light/0604/340.png\"},\"logoDark\":{\"url\":\"https://s.pstatic.net/static/newsstand/2020/logo/dark/0604/340.png\"},\"showThumbnailView\":true,\"showListView\":true,\"regDate\":\"20230705 11:19:03\",\"_id\":null,\"@type\":\"PC-NEWSSTAND-PRESS-BLOCK\",\"@code\":null,\"@template\":\"NONE\",\"@flowId\":null,\"@flowExecutionId\":null,\"@provider\":null,\"@lastModifiedAt\":null},{\"@type\":\"PC-NEWSSTAND-PRESS-BLOCK\",\"blocks\":null,\"materials\":null,\"excludeInPaging\":false,\"positionForPaging\":0,\"realtime\":false,\"pid\":\"344\",\"name\":\"EBS\",\"logoLight\":{\"url\":\"https://s.pstatic.net/static/newsstand/up/2020/0803/nsd20247547.png\"},\"logoDark\":{\"url\":\"https://s.pstatic.net/static/newsstand/up/2020/0803/nsd202358800.png\"},\"showThumbnailView\":true,\"showListView\":true,\"regDate\":\"20230704 20:26:50\",\"_id\":null,\"@type\":\"PC-NEWSSTAND-PRESS-BLOCK\",\"@code\":null,\"@template\":\"NONE\",\"@flowId\":null,\"@flowExecutionId\":null,\"@provider\":null,\"@lastModifiedAt\":null},{\"@type\":\"PC-NEWSSTAND-PRESS-BLOCK\",\"blocks\":null,\"materials\":null,\"excludeInPaging\":false,\"positionForPaging\":0,\"realtime\":false,\"pid\":\"345\",\"name\":\"디자인정글\",\"logoLight\":{\"url\":\"https://s.pstatic.net/static/newsstand/2020/logo/light/0604/345.png\"},\"logoDark\":{\"url\":\"https://s.pstatic.net/static/newsstand/2020/logo/dark/0604/345.png\"},\"showThumbnailView\":true,\"showListView\":true,\"regDate\":\"20230630 14:29:32\",\"_id\":null,\"@type\":\"PC-NEWSSTAND-PRESS-BLOCK\",\"@code\":null,\"@template\":\"NONE\",\"@flowId\":null,\"@flowExecutionId\":null,\"@provider\":null,\"@lastModifiedAt\":null},{\"@type\":\"PC-NEWSSTAND-PRESS-BLOCK\",\"blocks\":null,\"materials\":null,\"excludeInPaging\":false,\"positionForPaging\":0,\"realtime\":false,\"pid\":\"346\",\"name\":\"헬스조선\",\"logoLight\":{\"url\":\"https://s.pstatic.net/static/newsstand/2020/logo/light/0604/346.png\"},\"logoDark\":{\"url\":\"https://s.pstatic.net/static/newsstand/2020/logo/dark/0604/346.png\"},\"showThumbnailView\":true,\"showListView\":true,\"regDate\":\"20230705 11:37:02\",\"_id\":null,\"@type\":\"PC-NEWSSTAND-PRESS-BLOCK\",\"@code\":null,\"@template\":\"NONE\",\"@flowId\":null,\"@flowExecutionId\":null,\"@provider\":null,\"@lastModifiedAt\":null},{\"@type\":\"PC-NEWSSTAND-PRESS-BLOCK\",\"blocks\":null,\"materials\":null,\"excludeInPaging\":false,\"positionForPaging\":0,\"realtime\":false,\"pid\":\"108\",\"name\":\"스타뉴스\",\"logoLight\":{\"url\":\"https://s.pstatic.net/static/newsstand/2020/logo/light/0604/108.png\"},\"logoDark\":{\"url\":\"https://s.pstatic.net/static/newsstand/2020/logo/dark/0604/108.png\"},\"showThumbnailView\":true,\"showListView\":true,\"regDate\":\"20230705 11:30:07\",\"_id\":null,\"@type\":\"PC-NEWSSTAND-PRESS-BLOCK\",\"@code\":null,\"@template\":\"NONE\",\"@flowId\":null,\"@flowExecutionId\":null,\"@provider\":null,\"@lastModifiedAt\":null},{\"@type\":\"PC-NEWSSTAND-PRESS-BLOCK\",\"blocks\":null,\"materials\":null,\"excludeInPaging\":false,\"positionForPaging\":0,\"realtime\":false,\"pid\":\"109\",\"name\":\"OSEN\",\"logoLight\":{\"url\":\"https://s.pstatic.net/static/newsstand/up/2020/0610/nsd151458769.png\"},\"logoDark\":{\"url\":\"https://s.pstatic.net/static/newsstand/up/2020/0610/nsd151458769.png\"},\"showThumbnailView\":true,\"showListView\":true,\"regDate\":\"20230705 11:19:52\",\"_id\":null,\"@type\":\"PC-NEWSSTAND-PRESS-BLOCK\",\"@code\":null,\"@template\":\"NONE\",\"@flowId\":null,\"@flowExecutionId\":null,\"@provider\":null,\"@lastModifiedAt\":null},{\"@type\":\"PC-NEWSSTAND-PRESS-BLOCK\",\"blocks\":null,\"materials\":null,\"excludeInPaging\":false,\"positionForPaging\":0,\"realtime\":false,\"pid\":\"901\",\"name\":\"제민일보\",\"logoLight\":{\"url\":\"https://s.pstatic.net/static/newsstand/up/2020/1119/nsd213345745.png\"},\"logoDark\":{\"url\":\"https://s.pstatic.net/static/newsstand/up/2020/1119/nsd213339585.png\"},\"showThumbnailView\":true,\"showListView\":true,\"regDate\":\"20230704 19:13:23\",\"_id\":null,\"@type\":\"PC-NEWSSTAND-PRESS-BLOCK\",\"@code\":null,\"@template\":\"NONE\",\"@flowId\":null,\"@flowExecutionId\":null,\"@provider\":null,\"@lastModifiedAt\":null},{\"@type\":\"PC-NEWSSTAND-PRESS-BLOCK\",\"blocks\":null,\"materials\":null,\"excludeInPaging\":false,\"positionForPaging\":0,\"realtime\":false,\"pid\":\"902\",\"name\":\"TV조선\",\"logoLight\":{\"url\":\"https://s.pstatic.net/static/newsstand/2020/logo/light/0604/902.png\"},\"logoDark\":{\"url\":\"https://s.pstatic.net/static/newsstand/2020/logo/dark/0604/902.png\"},\"showThumbnailView\":true,\"showListView\":true,\"regDate\":\"20230705 11:16:11\",\"_id\":null,\"@type\":\"PC-NEWSSTAND-PRESS-BLOCK\",\"@code\":null,\"@template\":\"NONE\",\"@flowId\":null,\"@flowExecutionId\":null,\"@provider\":null,\"@lastModifiedAt\":null},{\"@type\":\"PC-NEWSSTAND-PRESS-BLOCK\",\"blocks\":null,\"materials\":null,\"excludeInPaging\":false,\"positionForPaging\":0,\"realtime\":false,\"pid\":\"903\",\"name\":\"채널에이\",\"logoLight\":{\"url\":\"https://s.pstatic.net/static/newsstand/2020/logo/light/0604/903.png\"},\"logoDark\":{\"url\":\"https://s.pstatic.net/static/newsstand/2020/logo/dark/0604/903.png\"},\"showThumbnailView\":true,\"showListView\":true,\"regDate\":\"20230705 10:39:48\",\"_id\":null,\"@type\":\"PC-NEWSSTAND-PRESS-BLOCK\",\"@code\":null,\"@template\":\"NONE\",\"@flowId\":null,\"@flowExecutionId\":null,\"@provider\":null,\"@lastModifiedAt\":null},{\"@type\":\"PC-NEWSSTAND-PRESS-BLOCK\",\"blocks\":null,\"materials\":null,\"excludeInPaging\":false,\"positionForPaging\":0,\"realtime\":false,\"pid\":\"904\",\"name\":\"JTBC\",\"logoLight\":{\"url\":\"https://s.pstatic.net/static/newsstand/2020/logo/light/0604/904.png\"},\"logoDark\":{\"url\":\"https://s.pstatic.net/static/newsstand/2020/logo/dark/0604/904.png\"},\"showThumbnailView\":true,\"showListView\":true,\"regDate\":\"20230705 11:30:00\",\"_id\":null,\"@type\":\"PC-NEWSSTAND-PRESS-BLOCK\",\"@code\":null,\"@template\":\"NONE\",\"@flowId\":null,\"@flowExecutionId\":null,\"@provider\":null,\"@lastModifiedAt\":null},{\"@type\":\"PC-NEWSSTAND-PRESS-BLOCK\",\"blocks\":null,\"materials\":null,\"excludeInPaging\":false,\"positionForPaging\":0,\"realtime\":false,\"pid\":\"905\",\"name\":\"더스쿠프\",\"logoLight\":{\"url\":\"https://s.pstatic.net/static/newsstand/2020/logo/light/0604/905.png\"},\"logoDark\":{\"url\":\"https://s.pstatic.net/static/newsstand/2020/logo/dark/0604/905.png\"},\"showThumbnailView\":true,\"showListView\":true,\"regDate\":\"20230704 18:10:03\",\"_id\":null,\"@type\":\"PC-NEWSSTAND-PRESS-BLOCK\",\"@code\":null,\"@template\":\"NONE\",\"@flowId\":null,\"@flowExecutionId\":null,\"@provider\":null,\"@lastModifiedAt\":null},{\"@type\":\"PC-NEWSSTAND-PRESS-BLOCK\",\"blocks\":null,\"materials\":null,\"excludeInPaging\":false,\"positionForPaging\":0,\"realtime\":false,\"pid\":\"906\",\"name\":\"KNN\",\"logoLight\":{\"url\":\"https://s.pstatic.net/static/newsstand/2020/logo/light/0604/906.png\"},\"logoDark\":{\"url\":\"https://s.pstatic.net/static/newsstand/2020/logo/dark/0604/906.png\"},\"showThumbnailView\":true,\"showListView\":true,\"regDate\":\"20230705 10:41:22\",\"_id\":null,\"@type\":\"PC-NEWSSTAND-PRESS-BLOCK\",\"@code\":null,\"@template\":\"NONE\",\"@flowId\":null,\"@flowExecutionId\":null,\"@provider\":null,\"@lastModifiedAt\":null}],\"materials\":null,\"excludeInPaging\":false,\"positionForPaging\":0,\"realtime\":false,\"majorPidList\":[\"032\",\"005\",\"079\",\"327\",\"930\",\"003\",\"368\",\"020\",\"029\",\"117\",\"009\",\"008\",\"021\",\"006\",\"293\",\"011\",\"081\",\"022\",\"314\",\"073\",\"076\",\"139\",\"308\",\"277\",\"031\",\"422\",\"047\",\"018\",\"241\",\"030\",\"366\",\"023\",\"330\",\"025\",\"092\",\"376\",\"044\",\"014\",\"002\",\"028\",\"015\",\"215\",\"038\",\"016\",\"904\",\"056\",\"326\",\"214\",\"057\",\"109\",\"055\",\"052\"],\"minorPidList\":[\"944\",\"687\",\"913\",\"914\",\"960\",\"536\",\"804\",\"812\",\"042\",\"969\",\"417\",\"961\",\"809\",\"814\",\"942\",\"943\",\"973\",\"685\",\"824\",\"970\",\"816\",\"957\",\"975\",\"810\",\"920\",\"921\",\"963\",\"682\",\"013\",\"801\",\"539\",\"964\",\"825\",\"243\",\"922\",\"803\",\"923\",\"971\",\"925\",\"690\",\"123\",\"353\",\"941\",\"143\",\"826\",\"822\",\"968\",\"993\",\"974\",\"932\",\"954\",\"120\",\"959\",\"972\",\"823\",\"421\",\"916\",\"934\",\"903\",\"344\",\"980\",\"906\",\"340\",\"374\",\"989\",\"981\",\"684\",\"902\",\"945\",\"910\",\"138\",\"953\",\"952\",\"977\",\"994\",\"818\",\"917\",\"681\",\"040\",\"946\",\"830\",\"447\",\"108\",\"802\",\"144\",\"396\",\"529\",\"940\",\"962\",\"477\",\"311\",\"947\",\"312\",\"440\",\"410\",\"416\",\"213\",\"356\",\"908\",\"938\",\"984\",\"911\",\"998\",\"997\",\"995\",\"905\",\"991\",\"955\",\"363\",\"345\",\"915\",\"024\",\"996\",\"075\",\"829\",\"819\",\"815\",\"122\",\"958\",\"827\",\"355\",\"808\",\"329\",\"135\",\"828\",\"140\",\"979\",\"328\",\"354\",\"691\",\"310\",\"094\",\"820\",\"950\",\"988\",\"982\",\"813\",\"924\",\"807\",\"965\",\"966\",\"686\",\"990\",\"361\",\"956\",\"928\",\"967\",\"296\",\"986\",\"951\",\"948\",\"050\",\"805\",\"811\",\"384\",\"346\",\"806\",\"364\"],\"catePidList\":{\"ct7\":[\"356\",\"908\",\"938\",\"984\",\"911\",\"998\",\"997\",\"995\",\"905\",\"991\",\"955\",\"363\",\"345\",\"915\",\"024\",\"996\",\"075\",\"829\",\"819\",\"815\",\"122\",\"958\",\"827\",\"355\",\"808\",\"329\",\"308\",\"135\",\"828\",\"140\",\"979\",\"328\",\"354\",\"691\",\"310\",\"094\",\"820\",\"950\",\"988\",\"982\",\"813\",\"924\",\"807\",\"965\",\"966\",\"686\",\"990\",\"361\",\"956\",\"928\",\"967\",\"296\",\"986\",\"951\",\"948\",\"050\",\"805\",\"811\",\"384\",\"346\",\"806\",\"364\"],\"ct8\":[\"335\",\"087\",\"688\",\"339\",\"821\",\"333\",\"978\",\"907\",\"337\",\"935\",\"338\",\"301\",\"083\",\"332\",\"909\",\"936\",\"089\",\"088\",\"976\",\"817\",\"082\",\"385\",\"387\",\"689\",\"388\",\"937\",\"336\",\"901\",\"389\",\"334\",\"983\",\"926\",\"927\",\"391\",\"331\",\"683\"],\"ct5\":[\"681\",\"330\",\"040\",\"044\",\"326\",\"946\"],\"ct6\":[\"830\",\"447\",\"117\",\"108\",\"802\",\"144\",\"314\",\"073\",\"396\",\"076\",\"529\",\"940\",\"962\",\"139\",\"477\",\"311\",\"241\",\"947\",\"312\",\"440\",\"410\",\"109\",\"416\",\"213\"],\"ct3\":[\"421\",\"003\",\"916\",\"934\",\"422\",\"376\",\"903\",\"215\",\"344\",\"904\",\"980\",\"056\",\"906\",\"214\",\"057\",\"340\",\"055\",\"374\",\"989\",\"981\",\"684\",\"902\",\"052\",\"945\"],\"ct4\":[\"910\",\"138\",\"029\",\"953\",\"952\",\"293\",\"030\",\"092\",\"977\",\"994\",\"818\",\"917\"],\"ct2\":[\"032\",\"005\",\"944\",\"079\",\"327\",\"687\",\"930\",\"913\",\"914\",\"960\",\"536\",\"804\",\"368\",\"812\",\"042\",\"020\",\"009\",\"969\",\"417\",\"008\",\"961\",\"021\",\"006\",\"809\",\"814\",\"942\",\"943\",\"973\",\"011\",\"081\",\"685\",\"824\",\"022\",\"970\",\"816\",\"957\",\"975\",\"810\",\"277\",\"920\",\"031\",\"921\",\"963\",\"682\",\"013\",\"047\",\"801\",\"539\",\"964\",\"018\",\"825\",\"243\",\"922\",\"803\",\"923\",\"971\",\"925\",\"690\",\"366\",\"023\",\"123\",\"353\",\"025\",\"941\",\"143\",\"826\",\"014\",\"822\",\"002\",\"028\",\"015\",\"968\",\"038\",\"993\",\"016\",\"974\",\"932\",\"954\",\"120\",\"959\",\"972\",\"823\"]},\"targetLocalPidList\":[\"335\",\"087\",\"688\",\"339\",\"821\",\"333\",\"978\",\"907\",\"337\",\"935\",\"338\",\"301\",\"083\",\"332\",\"909\",\"936\",\"089\",\"088\",\"976\",\"817\",\"082\",\"385\",\"387\",\"689\",\"388\",\"937\",\"336\",\"901\",\"389\",\"334\",\"983\",\"926\",\"927\",\"391\",\"331\",\"683\"],\"subsPidList\":[],\"firstPressBlock\":null,\"rcode2\":\"default\",\"rcode\":\"default\",\"_id\":null,\"@type\":\"PC-NEWSSTAND-BLOCK\",\"@code\":\"PC-NEWSSTAND\",\"@template\":\"PC-NEWSSTAND\",\"@flowId\":null,\"@flowExecutionId\":null,\"@provider\":null,\"@lastModifiedAt\":null}],\"materials\":null,\"excludeInPaging\":false,\"positionForPaging\":0,\"realtime\":false,\"_id\":null,\"@type\":\"BLOCK\",\"@code\":\"PC-MEDIA-NEWSSTAND\",\"@template\":\"NONE\",\"@flowId\":null,\"@flowExecutionId\":null,\"@provider\":null,\"@lastModifiedAt\":null}],\"materials\":null,\"excludeInPaging\":false,\"positionForPaging\":0,\"realtime\":false,\"sportsLive\":false,\"_id\":\"643e68a5a10d3006855e268d\",\"@type\":\"PC-MEDIA-CONTENTS-BLOCK\",\"@code\":\"PC-MEDIA-WRAPPER\",\"@template\":\"PC-MEDIA-WRAPPER\",\"@flowId\":\"PC-MEDIA-WRAPPER\",\"@flowExecutionId\":\"bf0c1afa-1add-11ee-94a2-c74e379e7312\",\"@provider\":\"lambda\",\"@lastModifiedAt\":[2023,7,5,2,43,44,159000000]}\n",
            "  \n",
            "    window[\"EAGER-DATA\"][\"PC-NEWSSTAND-YONHAP\"] = {\"@type\":\"BLOCK\",\"blocks\":[{\"@type\":\"BLOCK\",\"blocks\":null,\"materials\":[{\"@type\":\"MATERIAL-PC-NEWS-ONELINE\",\"gdid\":null,\"title\":\"정부 \\\"IAEA 보고서 결과 존중…韓자체 심층분석은 진행 중\\\"\",\"url\":\"https://news.naver.com/main/list.naver?mode=LPOD&mid=sec&sid1=001&sid2=140&oid=001&isYeonhapFlash=Y&aid=0014046168\",\"aid\":null,\"emergency\":true,\"notCompleted\":false,\"officeName\":\"연합뉴스\",\"officeId\":\"001\",\"officeHomeUrl\":null,\"officeWeight\":0,\"officeWeightRate\":0.0,\"_id\":\"64a4d3b2548a597b72d157a1\"},{\"@type\":\"MATERIAL-PC-NEWS-ONELINE\",\"gdid\":null,\"title\":\"방통위, 'KBS 수신료 분리징수' 시행령 개정안 처리\",\"url\":\"https://news.naver.com/main/list.naver?mode=LPOD&mid=sec&sid1=001&sid2=140&oid=001&isYeonhapFlash=Y&aid=0014046203\",\"aid\":null,\"emergency\":true,\"notCompleted\":false,\"officeName\":\"연합뉴스\",\"officeId\":\"001\",\"officeHomeUrl\":null,\"officeWeight\":0,\"officeWeightRate\":0.0,\"_id\":\"64a4d4a23f50a86ec96e5c24\"}],\"excludeInPaging\":false,\"positionForPaging\":0,\"realtime\":false,\"_id\":null,\"@type\":\"BLOCK\",\"@code\":null,\"@template\":\"NONE\",\"@flowId\":null,\"@flowExecutionId\":null,\"@provider\":null,\"@lastModifiedAt\":null}],\"materials\":[{\"@type\":\"MATERIAL-PC-NEWS-ONELINE\",\"gdid\":null,\"title\":\"日규제위, 7일 도쿄전력에 오염수 설비 합격증…방류 준비 완료\",\"url\":\"https://news.naver.com/main/list.naver?mode=LPOD&mid=sec&sid1=001&sid2=140&oid=001&isYeonhapFlash=Y&aid=0014046291\",\"aid\":null,\"emergency\":false,\"notCompleted\":false,\"officeName\":\"연합뉴스\",\"officeId\":\"001\",\"officeHomeUrl\":null,\"officeWeight\":0,\"officeWeightRate\":0.0,\"_id\":\"643543b2caf3d87b7e0a0da6\"},{\"@type\":\"MATERIAL-PC-NEWS-ONELINE\",\"gdid\":null,\"title\":\"군, 북한 정찰위성 수거…\\\"군사적 효용성 전혀 없어\\\"\",\"url\":\"https://news.naver.com/main/list.naver?mode=LPOD&mid=sec&sid1=001&sid2=140&oid=001&isYeonhapFlash=Y&aid=0014046172\",\"aid\":null,\"emergency\":false,\"notCompleted\":false,\"officeName\":\"연합뉴스\",\"officeId\":\"001\",\"officeHomeUrl\":null,\"officeWeight\":0,\"officeWeightRate\":0.0,\"_id\":\"647041a633520e07dab64d9f\"},{\"@type\":\"MATERIAL-PC-NEWS-ONELINE\",\"gdid\":null,\"title\":\"'메기' 풀어 은행권 과점 깬다…31년 만에 새 시중은행 예고\",\"url\":\"https://news.naver.com/main/list.naver?mode=LPOD&mid=sec&sid1=001&sid2=140&oid=001&isYeonhapFlash=Y&aid=0014046028\",\"aid\":null,\"emergency\":false,\"notCompleted\":false,\"officeName\":\"연합뉴스\",\"officeId\":\"001\",\"officeHomeUrl\":null,\"officeWeight\":0,\"officeWeightRate\":0.0,\"_id\":\"647041a633520e07dab64da0\"},{\"@type\":\"MATERIAL-PC-NEWS-ONELINE\",\"gdid\":null,\"title\":\"정부, 징용 판결금 '공탁 불수리' 광주지법에 이의 신청\",\"url\":\"https://news.naver.com/main/list.naver?mode=LPOD&mid=sec&sid1=001&sid2=140&oid=001&isYeonhapFlash=Y&aid=0014046181\",\"aid\":null,\"emergency\":false,\"notCompleted\":false,\"officeName\":\"연합뉴스\",\"officeId\":\"001\",\"officeHomeUrl\":null,\"officeWeight\":0,\"officeWeightRate\":0.0,\"_id\":\"647041a633520e07dab64da1\"},{\"@type\":\"MATERIAL-PC-NEWS-ONELINE\",\"gdid\":null,\"title\":\"'옛친이계 좌장' 이재오, 민주화운동기념사업회 이사장 임명\",\"url\":\"https://news.naver.com/main/list.naver?mode=LPOD&mid=sec&sid1=001&sid2=140&oid=001&isYeonhapFlash=Y&aid=0014045720\",\"aid\":null,\"emergency\":false,\"notCompleted\":false,\"officeName\":\"연합뉴스\",\"officeId\":\"001\",\"officeHomeUrl\":null,\"officeWeight\":0,\"officeWeightRate\":0.0,\"_id\":\"647041a633520e07dab64da2\"},{\"@type\":\"MATERIAL-PC-NEWS-ONELINE\",\"gdid\":null,\"title\":\"尹 \\\"정부 R&D 투자, 갈라먹기식 아닌 세계 최고 연구에 투입\\\"\",\"url\":\"https://news.naver.com/main/list.naver?mode=LPOD&mid=sec&sid1=001&sid2=140&oid=001&isYeonhapFlash=Y&aid=0014045977\",\"aid\":null,\"emergency\":false,\"notCompleted\":false,\"officeName\":\"연합뉴스\",\"officeId\":\"001\",\"officeHomeUrl\":null,\"officeWeight\":0,\"officeWeightRate\":0.0,\"_id\":\"647041a633520e07dab64da3\"},{\"@type\":\"MATERIAL-PC-NEWS-ONELINE\",\"gdid\":null,\"title\":\"윤재옥 \\\"먹거리·해역 안전 철저 관리…자료공유해 걱정 덜어야\\\"\",\"url\":\"https://news.naver.com/main/list.naver?mode=LPOD&mid=sec&sid1=001&sid2=140&oid=001&isYeonhapFlash=Y&aid=0014046183\",\"aid\":null,\"emergency\":false,\"notCompleted\":false,\"officeName\":\"연합뉴스\",\"officeId\":\"001\",\"officeHomeUrl\":null,\"officeWeight\":0,\"officeWeightRate\":0.0,\"_id\":\"647041a633520e07dab64da4\"},{\"@type\":\"MATERIAL-PC-NEWS-ONELINE\",\"gdid\":null,\"title\":\"민주, '김여사 일가 고속道 의혹' TF 구성…\\\"이권 카르텔 온상\\\"\",\"url\":\"https://news.naver.com/main/list.naver?mode=LPOD&mid=sec&sid1=001&sid2=140&oid=001&isYeonhapFlash=Y&aid=0014046292\",\"aid\":null,\"emergency\":false,\"notCompleted\":false,\"officeName\":\"연합뉴스\",\"officeId\":\"001\",\"officeHomeUrl\":null,\"officeWeight\":0,\"officeWeightRate\":0.0,\"_id\":\"64a39ff6e82d6f14f227fc9e\"}],\"excludeInPaging\":false,\"positionForPaging\":0,\"realtime\":false,\"_id\":\"643543b2a10d3006850fa263\",\"@type\":\"BLOCK\",\"@code\":\"PC-NEWSSTAND-YONHAP\",\"@template\":\"PC-NEWSSTAND-YONHAP\",\"@flowId\":\"PC-YONHAP\",\"@flowExecutionId\":\"9ab6cdb0-1add-11ee-94a2-5fb8bf8b4fe2\",\"@provider\":\"lambda\",\"@lastModifiedAt\":[2023,7,5,2,42,38,227000000]}\n",
            "  \n",
            "    window[\"EAGER-DATA\"][\"CAS-MINICONTENT-PC-SEARCH-RIGHT\"] = {\"@type\":\"MINI-CONTENT-BLOCK\",\"blocks\":null,\"materials\":null,\"excludeInPaging\":false,\"positionForPaging\":0,\"realtime\":false,\"items\":[],\"_id\":\"6433d8a5a10d300685012682\",\"@type\":\"MINI-CONTENT-BLOCK\",\"@code\":\"CAS-MINICONTENT-PC-SEARCH-RIGHT\",\"@template\":\"NONE\",\"@flowId\":\"CAS-MINICONTENT\",\"@flowExecutionId\":\"9a1620de-1add-11ee-94a2-8968cc5e3dfe\",\"@provider\":\"lambda\",\"@lastModifiedAt\":[2023,7,5,2,42,37,67000000]}\n",
            "  \n",
            "    window[\"EAGER-DATA\"][\"CAS-MINICONTENT-PC-MEDIA-TAB-EVENT\"] = {\"@type\":\"MINI-CONTENT-BLOCK\",\"blocks\":null,\"materials\":null,\"excludeInPaging\":false,\"positionForPaging\":0,\"realtime\":false,\"items\":[],\"_id\":\"643687e1a10d300685630556\",\"@type\":\"MINI-CONTENT-BLOCK\",\"@code\":\"CAS-MINICONTENT-PC-MEDIA-TAB-EVENT\",\"@template\":\"NONE\",\"@flowId\":\"CAS-MINICONTENT\",\"@flowExecutionId\":\"a13e408b-1add-11ee-91ef-fdb1af352bdd\",\"@provider\":\"lambda\",\"@lastModifiedAt\":[2023,7,5,2,42,49,76000000]}\n",
            "  \n",
            "    window[\"EAGER-DATA\"][\"CAS-MINICONTENT-PC-MID-BANNER\"] = {\"@type\":\"MINI-CONTENT-BLOCK\",\"blocks\":null,\"materials\":null,\"excludeInPaging\":false,\"positionForPaging\":0,\"realtime\":false,\"items\":[{\"content\":{\"alt\":\"톰 크루즈 미션 임파서블 7월 12일 대개봉 개봉 D-7 톰 크루즈 레전드 액션 갱신\",\"url\":\"https://tv.naver.com/v/36041994\",\"image\":\"https://s.pstatic.net/static/www/mobile/edit/20230704_1095/upload_16884391478363UKaU.png\"},\"exposure\":true,\"@miniContentId\":\"64a226c8e0d4c679b5902287\",\"@miniContentCode\":\"PC-MID-BANNER\",\"@startAt\":\"2023-07-05 10:00\",\"@endAt\":\"2023-07-05 21:59\",\"@createdAt\":\"2023-07-03T10:39:20.278\",\"@updatedAt\":\"2023-07-04T11:52:36.544\"}],\"_id\":\"648ae476a10d300685fbab10\",\"@type\":\"MINI-CONTENT-BLOCK\",\"@code\":\"CAS-MINICONTENT-PC-MID-BANNER\",\"@template\":\"NONE\",\"@flowId\":\"CAS-MINICONTENT\",\"@flowExecutionId\":\"96858051-1add-11ee-94a5-453816cdca83\",\"@provider\":\"lambda\",\"@lastModifiedAt\":[2023,7,5,2,42,31,106000000]}\n",
            "  \n",
            "</script>\n",
            "<script crossorigin=\"anonymous\" defer=\"defer\" src=\"https://pm.pstatic.net/resources/js/polyfill.f47ccc9a.js?o=www\"></script><script crossorigin=\"anonymous\" defer=\"defer\" src=\"https://pm.pstatic.net/resources/js/preload.06cdf21d.js?o=www\"></script><script crossorigin=\"anonymous\" defer=\"defer\" src=\"https://pm.pstatic.net/resources/js/search.ad641647.js?o=www\"></script><script crossorigin=\"anonymous\" defer=\"defer\" src=\"https://pm.pstatic.net/resources/js/main.042dda2f.js?o=www\"></script><link href=\"https://pm.pstatic.net/resources/css/main.3e1a8fcd.css\" rel=\"stylesheet\"/></link></meta></meta></meta></meta></meta></head> <body> <div id=\"u_skip\"> <a href=\"#topAsideButton\"><span>상단영역 바로가기</span></a> <a href=\"#shortcutArea\"><span>서비스 메뉴 바로가기</span></a> <a href=\"#newsstand\"><span>새소식 블록 바로가기</span></a> <a href=\"#shopping\"><span>쇼핑 블록 바로가기</span></a> <a href=\"#feed\"><span>관심사 블록 바로가기</span></a> <a href=\"#account\"><span>MY 영역 바로가기</span></a> <a href=\"#widgetboard\"><span>위젯 보드 바로가기</span></a> <a href=\"#viewSetting\"><span>보기 설정 바로가기</span></a> </div> <script data-gfp-banner-size=\"830x130\" data-gfp-banner-type=\"full\" id=\"ad-timeboard-response\" type=\"text/plain\">{\"requestId\":\"14997ec5ea5a4ee08458c522f55f9a63\",\"head\":{\"version\":\"0.0.1\",\"description\":\"Naver SSP Waterfall List\"},\"eventTracking\":{\"ackImpressions\":[{\"url\":\"https://tivan.naver.com/sc2/1/\"}],\"activeViewImpressions\":[{\"url\":\"https://tivan.naver.com/sc2/2/\"}],\"clicks\":[{\"url\":\"https://tivan.naver.com/sc2/3/\"}],\"completions\":[{\"url\":\"https://tivan.naver.com/sc2/4/\"}],\"attached\":[{\"url\":\"https://tivan.naver.com/sc2/10/\"}],\"renderedImpressions\":[{\"url\":\"https://tivan.naver.com/sc2/11/\"}],\"viewableImpressions\":[{\"url\":\"https://tivan.naver.com/sc2/12/\"}],\"loadErrors\":[{\"url\":\"https://tivan.naver.com/sc2/91/\"}],\"startErrors\":[{\"url\":\"https://tivan.naver.com/sc2/92/\"}],\"mute\":[{\"url\":\"https://tivan.naver.com/sc2/5/\"}]},\"adUnit\":\"p_main_timeboard_v1\",\"randomNumber\":94,\"adDivId\":\"ad_timeboard\",\"advertiserDomains\":[\"wooltariusa.com\"],\"adDuplicationKeys\":[\"URL:https://wooltariusa.com\"],\"ads\":[{\"encrypted\":\"MJygZJ3XiwyUnzw08a6wEeziUsUU1VcTYWyudJuSGToPW0V5xrKKpxTV63bSs0CrRacL4fXudRKlTgXgwdcZKEddbWbbjTxYPT6Hw-HtWaVQV4yBsZeszFcv8u-91iUpcQXjslnI0qLHVVByWSxWySuGGXlUB2sMpK1vrJnUfMaOxKXOpxXkCH40AbmCqOuhWC2gVY-d0MNggkYFRioKnyLQn_aKYu_cFVkwgkrtzfElD76c8onKXlRJ6GhNh7M5PxKoxG39AW-w9h_gHVuRtdCw2S5RC34JZKL5QhFKeS8Oa7eMRo8zwS1ToyfpCUoBWOrZ8ZQMtGdpTsBdjI_FUWuXiyqU5Y3C497vl7qpFu-sNbulzLcHAsegz1-ibqwFHOsmVG5xPOksQHDfLG4XYBtObZGa7NBFhbXJwQ34T0JLx5RUiyYNp0LDZuPe6kZB6FUnmUm7hGrXWbKNF54vnqaxErN65Z3WOrc5HMYna8bAFkmaqz3toDRExSnpFN4N-qR6HcjWqUGUItwxLlBUZFAl0ovGe56RQkAxvYIJfwGwrJy27LCdHiTnf_wNQ9JCpdBWx3Vpr-opMm1A08iBsg8Uqp4UDhX4SFoAG9if6m-NLmYV7K8ZOh8TICdkpvCSfvc8ElHf3Akd8GtmIg8blw==\",\"connectionType\":\"S2S\",\"adProviderType\":\"IN_NAVER\",\"adProviderName\":\"NDP_SF\",\"layoutType\":\"FLUID\",\"creativeType\":\"BANNER\",\"renderType\":\"SF\",\"eventTracking\":{\"ackImpressions\":[{\"url\":\"https://siape.veta.naver.com/openrtb/nurl?eu=EU10043567\\u0026calp=-\\u0026oj=cQgn6aire5Mdq08XkeEBLguys93WiOdiMRw1qh8cYJNVO%2F6yBir4chWZ%2FF8cQGey5sz8TOCxud9pfj0Yuhsjru8E%2B%2B4dk6Zm8t0ZxoP6l1NUm6krydHIR8ZUV3E600t9QGg3q%2Bjskg8Ds2%2FsKIsqnpH4IYR7C5ZCEFwetYPeoFbrGD%2BaRaGe9A\\u0026ac=8803369\\u0026src=6580845\\u0026evtcd=BID_WIN\\u0026x_ti=1504\\u0026rk=HHCfCMQuQ1gmKxmVhbDGvg\\u0026eltts=dOn4Qrhxyennpuba5KQZxQ%3D%3D\\u0026brs=Y\\u0026\"}],\"attached\":[],\"activeViewImpressions\":[],\"renderedImpressions\":[],\"viewableImpressions\":[],\"clicks\":[],\"vimp1px\":[],\"vimp100\":[],\"vimp100p\":[],\"admute\":[],\"advmute\":[],\"like\":[],\"unlike\":[],\"close\":[],\"bounce\":[]},\"adInfo\":{\"placeId\":\"6436232db28a76002ea3f30c\",\"adomain\":[\"wooltariusa.com\"],\"exp\":86400,\"adm\":\"%3Cscript%20src%3D%22https%3A%2F%2Fssl.pstatic.net%2Fmelona%2Flibs%2Fglad%2Fbridge%2Fgfp-bridge.js%22%3E%3C%2Fscript%3E%0D%0A%0D%0A%3Ca%20href%3D%22https%3A%2F%2Fsiape.veta.naver.com%2Ffxclick%3Feu%3DEU10043567%26calp%3D-%26oj%3DcQgn6aire5Mdq08XkeEBLguys93WiOdiMRw1qh8cYJNVO%252F6yBir4chWZ%252FF8cQGey5sz8TOCxud9pfj0Yuhsjru8E%252B%252B4dk6Zm8t0ZxoP6l1NUm6krydHIR8ZUV3E600t9QGg3q%252Bjskg8Ds2%252FsKIsqnpH4IYR7C5ZCEFwetYPeoFbrGD%252BaRaGe9A%26ac%3D8803369%26src%3D6580845%26br%3D4284133%26evtcd%3DP901%26x_ti%3D1504%26tb%3D%26oid%3D%26sid1%3D%26sid2%3D%26rk%3DHHCfCMQuQ1gmKxmVhbDGvg%26eltts%3DdOn4Qrhxyennpuba5KQZxQ%253D%253D%26lu%3D%26brs%3DY%26%22%20id%3D%22ac_banner_a%22%20target%3D%22_blank%22%20style%3D%22display%3Ablock%22%3E%0D%0A%20%20%20%20%3Cimg%20src%3D%22https%3A%2F%2Fssl.pstatic.net%2Fmelona%2Flibs%2F1455%2F1455353%2F3c9a418b3667106e9c5f_20230703152359271.jpg%22%20width%3D%22830%22%20height%3D%22130%22%20alt%3D%22%5B%EA%B4%91%EA%B3%A0%5D%EC%9A%B0%EB%A6%AC%20%EC%95%84%EC%9D%B4%EA%B0%80%20%EB%84%88%EB%AC%B4%20%EC%A2%8B%EC%95%84%ED%95%98%EB%84%A4%EC%9A%94%20%EC%A7%84%EC%9E%91%20%EB%A8%B9%EC%9D%BC%EA%B1%B8%20%EA%B7%B8%EB%9E%AC%EC%96%B4%EC%9A%94%21%20%EC%9A%B8%ED%83%80%EB%A6%AC%20%EC%95%84%EC%9D%B4%20%EA%B0%84%EC%8B%9D%20%EC%83%81%ED%92%88%20%ED%99%95%EC%9D%B8%ED%95%98%EA%B8%B0%20%3E%22%3E%0D%0A%3C%2Fa%3E%0D%0A%0D%0A%3Cscript%20type%3D%22text%2Fjavascript%22%20src%3D%22https%3A%2F%2Fssl.pstatic.net%2Fmelona%2Flibs%2Fassets%2Fjs%2Fpc%2Fmain%2Fmin%2Fpc.veta.core.min.js%3F20211105%22%3E%3C%2Fscript%3E%0D%0A%3Cscript%20type%3D%22text%2Fjavascript%22%3E%0D%0A%20%20%20%20%28function%28ns%2C%20bridge%29%20%7B%0D%0A%20%20%20%20%20%20%20%20var%20LOG%20%3D%20%7B%0D%0A%20%20%20%20%20%20%20%20%20%20%20%20VIEWABLED%3A%20%22https%3A%2F%2Fsiape.veta.naver.com%2Ffxview%3Feu%3DEU10043567%26calp%3D-%26oj%3DcQgn6aire5Mdq08XkeEBLguys93WiOdiMRw1qh8cYJNVO%252F6yBir4chWZ%252FF8cQGey5sz8TOCxud9pfj0Yuhsjru8E%252B%252B4dk6Zm8t0ZxoP6l1NUm6krydHIR8ZUV3E600t9QGg3q%252Bjskg8Ds2%252FsKIsqnpH4IYR7C5ZCEFwetYPeoFbrGD%252BaRaGe9A%26ac%3D8803369%26src%3D6580845%26evtcd%3DV900%26x_ti%3D1504%26tb%3D%26oid%3D%26sid1%3D%26sid2%3D%26rk%3DHHCfCMQuQ1gmKxmVhbDGvg%26eltts%3DdOn4Qrhxyennpuba5KQZxQ%253D%253D%26brs%3DY%26%26eid%3DV900%22%2C%0D%0A%20%20%20%20%20%20%20%20%20%20%20%20RENDERED%3A%20%22https%3A%2F%2Fsiape.veta.naver.com%2Ffxview%3Feu%3DEU10043567%26calp%3D-%26oj%3DcQgn6aire5Mdq08XkeEBLguys93WiOdiMRw1qh8cYJNVO%252F6yBir4chWZ%252FF8cQGey5sz8TOCxud9pfj0Yuhsjru8E%252B%252B4dk6Zm8t0ZxoP6l1NUm6krydHIR8ZUV3E600t9QGg3q%252Bjskg8Ds2%252FsKIsqnpH4IYR7C5ZCEFwetYPeoFbrGD%252BaRaGe9A%26ac%3D8803369%26src%3D6580846%26evtcd%3DV602%26x_ti%3D1504%26tb%3D%26oid%3D%26sid1%3D%26sid2%3D%26rk%3DHHCfCMQuQ1gmKxmVhbDGvg%26eltts%3DdOn4Qrhxyennpuba5KQZxQ%253D%253D%26brs%3DY%26%26eid%3DV810%22%0D%0A%20%20%20%20%20%20%20%20%7D%3B%0D%0A%0D%0A%20%20%20%20%20%20%20%20var%20util%20%3D%20ns.Util%20%3F%20new%20ns.Util%28%29%20%3A%20new%20NBP_CORP.Nimp%28%29%3B%0D%0A%20%20%20%20%20%20%20%20var%20gladSdkBridge%20%3D%20bridge.createSdkBridge%28%29%3B%0D%0A%20%20%20%20%20%20%20%20var%20eventList%20%3D%20%7B%7D%3B%0D%0A%0D%0A%20%20%20%20%20%20%20%20%2F%2F%20%EC%9D%91%EB%8B%B5%EB%85%B8%EC%B6%9C%0D%0A%20%20%20%20%20%20%20%20util.log%28LOG.RENDERED%29%3B%0D%0A%0D%0A%20%20%20%20%20%20%20%20%2F%2F%20%EC%9C%A0%ED%9A%A8%EB%85%B8%EC%B6%9C%0D%0A%20%20%20%20%20%20%20%20eventList%5Bbridge.EVENT.VIEWABLED%5D%20%3D%20function%28%29%20%7B%0D%0A%20%20%20%20%20%20%20%20%20%20%20%20util.log%28LOG.VIEWABLED%29%3B%0D%0A%20%20%20%20%20%20%20%20%7D%3B%0D%0A%0D%0A%20%20%20%20%20%20%20%20gladSdkBridge.setEventListeners%28eventList%29%3B%0D%0A%20%20%20%20%7D%29%28%0D%0A%20%20%20%20%20%20%20%20window.naver_corp_da%20%7C%7C%20%7B%7D%2C%0D%0A%20%20%20%20%20%20%20%20window.gladBridge%0D%0A%20%20%20%20%29%3B%0D%0A%3C%2Fscript%3E\",\"encoded\":1,\"responseSize\":{\"height\":130,\"width\":830,\"force\":0},\"template\":\"%3C%21doctype%20html%3E%3Chtml%3E%3Chead%3E%3Cmeta%20name%3D%22viewport%22%20content%3D%22width%3Ddevice-width%2C%20user-scalable%3Dno%22%2F%3E%3Cstyle%20data-gfp-role%3D%22adMarkLegacyStyle%22%3E%5Bdata-gfp-role%3D%22adMarkLegacy%22%5D%20%7Bdisplay%3A%20none%3B%7D%3C%2Fstyle%3E%3Cscript%3Ewindow.gladBridge%20%3D%20%7BRUNTIME%3A%20%22InApp%22%7D%3B%3C%2Fscript%3E%3C%2Fhead%3E%3Cbody%20style%3D%22margin%3A%200%3B%20padding%3A%200%22%3E%7B%7Badm%7D%7D%3Cscript%20src%3D%22https%3A%2F%2Fssl.pstatic.net%2Ftveta%2Flibs%2Fglad_admute%2Fprod%2Fglad-admute.js%22%3E%3C%2Fscript%3E%3Cscript%3Econst%20adMuteOptions%20%3D%20%7BmuteUrl%3A%20%22%25%25MUTE_URL%25%25%22%2C%20privacyUrl%3A%20%22%25%25PRIV_URL%25%25%22%2C%20creativeType%3A%20%22BANNER%22%2C%20runtimeType%3A%20%22InApp%22%7D%3B%20window.gladAdMute.checkAdMarkLegacyStyle%28adMuteOptions%29%3B%20const%20adMuteController%20%3D%20window.gladAdMute.createAdMuteController%28adMuteOptions%29%3B%20adMuteController.render%28%29%3B%3C%2Fscript%3E%3C%2Fbody%3E%3C%2Fhtml%3E\"}},{\"encrypted\":\"RSmVJsl_JTkcGdrgxcvn7TQ_YVAbyY-HdMkR8T81twgokvxISefSGGiJhYRCxXSQOHGYU8pv2fVWelQJRIR9-kWRT1-lUGuKmxPLjbMd-3PdXxFEQth1_zH16jdmsb02RHieub4muzt4wt2RgzE_K_NQsdrGim4bOH0Z9bxOTY6Hqo9idAZ_QWWUpbRrXmQLGrEux8bvrOcrF1xV5hPd1W66F9W0Q4S6gIC0Vb9kVHXaYWw5qw48crvzD_Djp9HkAq5KgNnwRYKWFdzXAR3h-_C22DvQo_sS3mbJvoApH7yW-sFBY1jX4tmj9Z3_wBizqbBL335VvEqpRX_RWlON0O_sjG4NZtD-9S-ra8ipAZCa7qU6UqI4MsTFbltP_oB9k4fXFyIanwJ2xwb_W_dSA-bFfVystJd_0TA6XLhQW_NovVES1cRtCoRjBZDWMNOQ\",\"connectionType\":\"S2S\",\"adProviderName\":\"GFP\",\"layoutType\":\"FLUID\",\"creativeType\":\"BANNER\",\"renderType\":\"EMPTY\",\"eventTracking\":{\"ackImpressions\":[],\"attached\":[],\"activeViewImpressions\":[{\"url\":\"https://siape.veta.naver.com/openrtb/nbimp?oj=cQgn6aire5Mdq08XkeEBLguys93WiOdiMRw1qh8cYJNVO%2F6yBir4chWZ%2FF8cQGey5sz8TOCxud9pfj0Yuhsjru8E%2B%2B4dk6Zm8t0ZxoP6l1NUm6krydHIR8ZUV3E600t9QGg3q%2Bjskg8Ds2%2FsKIsqnpH4IYR7C5ZCEFwetYPeoFbrGD%2BaRaGe9A\\u0026rk=HHCfCMQuQ1gmKxmVhbDGvg\\u0026eltts=dOn4Qrhxyennpuba5KQZxQ%3D%3D\"}],\"renderedImpressions\":[],\"viewableImpressions\":[{\"url\":\"https://siape.veta.naver.com/openrtb/nbimp?oj=cQgn6aire5Mdq08XkeEBLguys93WiOdiMRw1qh8cYJNVO%2F6yBir4chWZ%2FF8cQGey5sz8TOCxud9pfj0Yuhsjru8E%2B%2B4dk6Zm8t0ZxoP6l1NUm6krydHIR8ZUV3E600t9QGg3q%2Bjskg8Ds2%2FsKIsqnpH4IYR7C5ZCEFwetYPeoFbrGD%2BaRaGe9A\\u0026rk=HHCfCMQuQ1gmKxmVhbDGvg\\u0026eltts=dOn4Qrhxyennpuba5KQZxQ%3D%3D\"}],\"clicks\":[],\"vimp1px\":[],\"vimp100\":[],\"vimp100p\":[],\"admute\":[],\"advmute\":[],\"like\":[],\"unlike\":[],\"close\":[],\"bounce\":[]},\"adInfo\":{\"responseSize\":{\"height\":0,\"width\":0}}}],\"config\":{\"imp\":{\"ratio\":100,\"ms\":0}}}\n",
            "</script> <div id=\"wrap\"> <div id=\"header\" role=\"banner\"> <div class=\"header_inner\" id=\"topSearchWrap\"> <div class=\"search_special_bg\" id=\"special-logo\"></div> <div class=\"ad_area\" id=\"timeboard-ex\" style=\"min-width:1340px\"> </div> <div class=\"search_area\" id=\"search_area\" style=\"border-color:#fff\"> <div class=\"link_search_special\" id=\"special-input-logo-ex\" style=\"display:none\"></div> <div class=\"search_group\"> <div class=\"search_group_inner\" id=\"search\"> <h1 class=\"search_logo\" id=\"special-input-logo\"></h1> <form action=\"https://search.naver.com/search.naver\" id=\"sform\" method=\"get\" name=\"search\" role=\"search\"> <fieldset> <legend class=\"blind\">검색</legend> <input name=\"where\" type=\"hidden\" value=\"nexearch\"/> <input id=\"sm\" name=\"sm\" type=\"hidden\" value=\"top_hty\"/> <input id=\"fbm\" name=\"fbm\" type=\"hidden\" value=\"0\"/> <input disabled=\"disabled\" id=\"acr\" name=\"acr\" type=\"hidden\" value=\"\"/> <input disabled=\"disabled\" id=\"acq\" name=\"acq\" type=\"hidden\" value=\"\"/> <input disabled=\"disabled\" id=\"qdt\" name=\"qdt\" type=\"hidden\" value=\"\"/> <input id=\"ie\" name=\"ie\" type=\"hidden\" value=\"utf8\"/> <input disabled=\"disabled\" id=\"acir\" name=\"acir\" type=\"hidden\" value=\"\"/> <input disabled=\"disabled\" id=\"os\" name=\"os\" type=\"hidden\" value=\"\"/> <input disabled=\"disabled\" id=\"bid\" name=\"bid\" type=\"hidden\" value=\"\"/> <input disabled=\"disabled\" id=\"pkid\" name=\"pkid\" type=\"hidden\" value=\"\"/> <input disabled=\"disabled\" id=\"eid\" name=\"eid\" type=\"hidden\" value=\"\"/> <input disabled=\"disabled\" id=\"mra\" name=\"mra\" type=\"hidden\" value=\"\"/> <div class=\"search_input_box\"> <input autocomplete=\"off\" class=\"search_input\" data-atcmp-element=\"\" id=\"query\" maxlength=\"255\" name=\"query\" placeholder=\"검색어를 입력해 주세요.\" title=\"검색어를 입력해 주세요.\" type=\"search\"/> </div> <button class=\"btn_search\" onclick='window.nclk_v2(this,\"sch.action\")' type=\"submit\"> <span class=\"ico_btn_search\" id=\"search-btn\"></span> <span class=\"blind\">검색</span> </button> </fieldset> </form> <div class=\"search_box\"> <button class=\"btn_keyboard\" id=\"ke_kbd_btn\" type=\"button\"> <span class=\"keybord_text\"> <span class=\"blind\">입력도구</span> </span> </button> <div id=\"_nx_kbd\" style=\"display:none\"></div> <button class=\"btn_arrow\" data-atcmp-element=\"\" id=\"nautocomplete\" type=\"button\"> <span class=\"blind\">자동완성/최근검색어펼치기</span> </button> </div> <div class=\"layer_atcmp\" id=\"autoFrame\" style=\"display:none\"> <div class=\"ly_atcmp\" data-atcmp-element=\"\"> <div class=\"api_atcmp_wrap\"> <div class=\"atcmp_fixer _recent_layer\" style=\"display:none\"> <div class=\"atcmp_header _recent_header\"> <strong class=\"tit\">최근검색어</strong> <div class=\"option\"> <a aria-pressed=\"false\" class=\"item _delAll\" href=\"#\" role=\"button\">전체삭제</a> </div> </div> <div class=\"atcmp_container\"> <ul class=\"kwd_lst _recent\"> <li class=\"item _item\" data-keyword=\"@in_txt@\" data-rank=\"@rank@\" data-template-type=\"history\"> <a class=\"kwd\" href=\"#\"> <span class=\"fix\"><span class=\"common_ico_kwd\"><i class=\"imsc ico_search\"></i></span><span>@txt@</span></span> </a> <span class=\"etc\"> <em class=\"date\">@date@.</em> <a aria-pressed=\"false\" class=\"bt_item _del\" href=\"#\" role=\"button\"><i class=\"imsc ico_del\">삭제</i></a> </span> </li> </ul> <div class=\"kwd_info kwd_off _offMsg\" style=\"display:none\">검색어 저장 기능이 꺼져 있습니다.<br/><span class=\"kwd_dsc\">설정이 초기화 된다면 <a class=\"kwd_help\" data-clk=\"sly.help\" href=\"https://help.naver.com/support/alias/search/word/word_29.naver\" target=\"_blank\">도움말</a>을 확인해주세요.</span></div> <div class=\"kwd_info kwd_none _recentNone\" style=\"display:none\">최근 검색어 내역이 없습니다.<br/><span class=\"kwd_dsc\">설정이 초기화 된다면 <a class=\"kwd_help\" data-clk=\"sly.help\" href=\"https://help.naver.com/support/alias/search/word/word_29.naver\" target=\"_blank\">도움말</a>을 확인해주세요.</span></div> </div> <div class=\"atcmp_footer\"> <span class=\"side_opt_area\"> <span class=\"opt_item\"><a data-clk=\"sly.help\" href=\"https://help.naver.com/support/service/main.help?serviceNo=605&amp;categoryNo=1991\" target=\"_blank\">도움말</a></span> </span> <span class=\"rside_opt_area\"> <span class=\"opt_item\"> <a class=\"close _keywordOnOff\" href=\"#\">자동저장 끄기</a> </span> </span> </div> </div> <div class=\"atcmp_fixer _atcmp_layer\" style=\"display:none\"> <div class=\"atcmp_container _words\"> <div class=\"atcmp_correct type_lotto _answer\" data-code=\"@code@\" data-keyword=\"@1@\" data-template-type=\"answer_3\"> <a class=\"link_item\" href=\"#\"> <span class=\"common_ico_kwd\"><i class=\"imsc ico_search\"></i></span> <div class=\"dsc_area\"> <span class=\"tit\">@5@회 당첨번호</span> <span class=\"dsc\"> <span class=\"item\">동행복권 제공</span> </span> </div> <span class=\"etc_area\"> <span class=\"etc lotto\"> <em class=\"n@6@\">@6@</em><em class=\"n@7@\">@7@</em><em class=\"n@8@\">@8@</em><em class=\"n@9@\">@9@</em><em class=\"n@10@\">@10@</em><em class=\"n@11@\">@11@</em><em class=\"imsc_bf bonus n@12@\">@12@</em> </span> </span> </a> </div> <div class=\"atcmp_correct type_exchange _answer\" data-code=\"@code@\" data-keyword=\"@1@\" data-template-type=\"answer_9\"> <a class=\"link_item @11@\" href=\"#\"> <span class=\"common_ico_kwd\"><i class=\"imsc ico @12@\">@14@</i></span> <div class=\"dsc_area\"> <span class=\"tit\">@txt@<span class=\"sub\">@currency@</span></span> <span class=\"dsc\"> <span class=\"item\"><i class=\"imsc ico_arr\"></i>@8@(@9@%)</span> </span> </div> <span class=\"etc_area\"> <span class=\"etc\"><em class=\"num\">@6@</em>원</span> </span> </a> </div> <div class=\"atcmp_correct type_weather _answer\" data-code=\"@code@\" data-keyword=\"@1@\" data-template-type=\"answer_11\"> <a class=\"link_item @12@\" href=\"#\"> <span class=\"common_ico_kwd\"><i class=\"imsc ico_search\"></i></span> <div class=\"dsc_area\"> <span class=\"tit\">@txt@</span> <span class=\"dsc\"> <span class=\"item\">@7@, @message@</span> </span> </div> <span class=\"etc_area\"> <span class=\"etc\"> <span class=\"ico_weather\"><i class=\"imsc ico ico@iconNo@\">@7@</i></span> <em class=\"degree\">@8@<sup class=\"celsius\">°</sup></em> </span> </span> </a> </div> <div class=\"atcmp_correct type_site _answer\" data-code=\"@code@\" data-keyword=\"@1@\" data-template-type=\"answer_17\"> <a class=\"link_item\" href=\"@5@\" target=\"_blank\"> <span class=\"common_ico_kwd\"><i class=\"imsc ico_url\"></i></span> <div class=\"dsc_area\"> <span class=\"tit\">@txt@</span> <span class=\"dsc\"> <span class=\"item\">@5@</span> </span> </div> <span class=\"etc_area\"> <span class=\"etc\">바로가기</span> </span> </a> </div> <ul class=\"kwd_lst _kwd_list\"> <li class=\"item _item\" data-keyword=\"@in_txt@\" data-rank=\"@rank@\" data-template-type=\"suggestion\"> <a class=\"kwd\" href=\"#\"> <span class=\"fix\"><span class=\"common_ico_kwd\"><i class=\"imsc ico_search\"></i></span>@txt@</span> </a> <span class=\"etc\"> <a aria-pressed=\"false\" class=\"bt_item _add\" href=\"#\" role=\"button\"><i class=\"imsc ico_insert\">추가</i></a> </span> </li> <li class=\"item has_correct _item\" data-keyword=\"@in_txt@\" data-rank=\"@rank@\" data-template-type=\"history\"> <a class=\"kwd\" href=\"#\"> <span class=\"fix\"><span class=\"common_ico_kwd\"><i class=\"imsc ico_search\"></i></span>@txt@</span> </a> <span class=\"etc\"> <em class=\"date\">@date@.</em> <a aria-pressed=\"false\" class=\"bt_item _add\" href=\"#\" role=\"button\"><i class=\"imsc ico_insert\">추가</i></a> </span> </li> </ul> <li class=\"item has_correct _item\" data-intend-rank=\"@intendRank@\" data-keyword=\"@transQuery@\" data-rank=\"@rank@\" data-template-type=\"intend\"> <a class=\"kwd\" href=\"#\"> <span class=\"fix\"><span class=\"common_ico_kwd\"><i class=\"imsc ico_search\"></i></span>@query@ <span class=\"context\">@intend@</span></span> </a> <span class=\"etc\"> <a aria-pressed=\"false\" class=\"bt_item _add\" href=\"#\" role=\"button\"><i class=\"imsc ico_insert\">추가</i></a> </span> </li> <div class=\"atcmp_alert _alert\"> <div class=\"dsc_election\"> <p class=\"dsc\"> <i class=\"imsc ico_election\"></i><span class=\"_alert_passage\"></span> </p> <span class=\"dsc_inner\"> <span class=\"_alert_passage2\"></span> <a class=\"link _alert_link\" href=\"#\" target=\"_blank\">자세히보기</a> </span> </div> </div> <div class=\"atcmp_plus _plus\"> <div class=\"dsc_plus\"> <a class=\"link_dsc\" data-clk=\"sug.cxhelp\" href=\"https://help.naver.com/support/alias/search/word/word_16.naver\" target=\"_blank\">관심사를 반영한 컨텍스트 자동완성<i class=\"imsc ico_help\">도움말</i></a> </div> <div class=\"switch\"> <a aria-pressed=\"false\" class=\"bt_switch active _plus_btn\" href=\"#\" role=\"button\"><i class=\"imsc ico_option\">컨텍스트 자동완성</i></a> </div> <div class=\"layer_plus _plus_layer\"> <strong class=\"tit\">컨텍스트 자동완성</strong> <div class=\"_plus_layer_isloggedin\" style=\"display:none\"> <p class=\"dsc\">ON/OFF 설정은<br/>해당기기(브라우저)에 저장됩니다.</p> <div class=\"btn_area\"> <a class=\"btn btn_view\" data-clk=\"sug.cxlink\" href=\"https://help.naver.com/support/alias/search/word/word_16.naver\" target=\"_blank\">자세히</a> </div> </div> <div class=\"_plus_layer_isnotloggedin\" style=\"display:none\"> <p class=\"dsc\"><em class=\"txt\">동일한 시간대/연령/남녀별</em> 사용자 그룹의<br/>관심사에 맞춰 자동완성을 제공합니다.</p> <div class=\"btn_area\"> <a class=\"btn btn_login\" data-clk=\"sug.cxlogin\" href=\"https://nid.naver.com/nidlogin.login\">로그인</a> <a class=\"btn btn_view\" data-clk=\"sug.cxlink\" href=\"https://help.naver.com/support/alias/search/word/word_16.naver\" target=\"_blank\">자세히</a> </div> </div> <a class=\"btn_close _plus_layer_close\" href=\"#\" role=\"button\"><i class=\"imsc ico_close\">컨텍스트 자동완성 레이어 닫기</i></a> </div> </div> </div> <div class=\"atcmp_footer\"> <span class=\"side_opt_area\"> <span class=\"opt_item\"><a data-clk=\"sug.help\" href=\"https://help.naver.com/support/service/main.help?serviceNo=605&amp;categoryNo=1987\" target=\"_blank\">도움말</a></span> <span class=\"opt_item\"><a class=\"report\" data-clk=\"sug.report\" href=\"https://help.naver.com/support/contents/contents.help?serviceNo=605&amp;categoryNo=18215\" target=\"_blank\">신고</a></span> </span> <span class=\"rside_opt_area\"> <span class=\"opt_item\"> <a class=\"close _suggestOnOff\" href=\"#\">자동완성 끄기</a> </span> </span> </div> </div> </div> </div> </div> </div> </div> </div> <div id=\"search-right-banner\"></div> <div class=\"shortcut_area\" id=\"shortcutArea\" role=\"region\"></div> <div class=\"menu_area\" id=\"topAsideArea\"></div> <div class=\"pay_area\" id=\"topPayArea\"></div> <div class=\"notify_area\" id=\"topNotiArea\"></div> </div> </div> <div id=\"container\" role=\"main\"> <div id=\"root\"></div> </div> <div id=\"footer\" role=\"contentinfo\"></div> </div> <script> window['EAGER-DATA'] = window['EAGER-DATA'] || {};\n",
            "        window['EAGER-DATA']['GV'] = {\n",
            "            svt: '20230705114410',  }; </script> <script>!function(){function t(t){var e=document.getElementById(\"search_area\"),n=document.getElementById(\"search-btn\");t?(e&&e.setAttribute(\"style\",\"border-color: \"+t),n&&n.setAttribute(\"class\",\"ico_btn_search type_color\"),n&&n.setAttribute(\"style\",\"background-color: \"+t)):e&&e.removeAttribute(\"style\")}var e=window[\"EAGER-DATA\"][\"CAS-MINICONTENT-PC-SPECIAL-LOGO\"];if(e&&e.items&&e.items.length>0!=!1){var n=Math.floor(Math.random()*e.items.length),o=e.items[n];e.items=[o],t(o&&o.content&&o.content.input&&o.content.input.color);var r=o&&o.content&&o.content.input&&o.content.input.placeholder;if(r){var c=document.getElementById(\"query\");c&&r&&c.setAttribute(\"title\",r),c&&r&&c.setAttribute(\"placeholder\",r)}}else t()}()</script> </body> </html> \n"
          ]
        }
      ]
    },
    {
      "cell_type": "markdown",
      "source": [
        "###Flask 모듈\n",
        "<font color = blue>이 실습은 Visual Studio Code에서 진행합니다. 강사의 안내에 따라 진행하시면 되겠습니다.</font>\n",
        "\n",
        "일반적으로 파이썬으로 웹 개발을 할 때는 Django(장고) 또는 Flask(플라스크) 등의 모듈을 사용합니다. Django는 매우 다양한 기능을 제공하는 웹 개발 프레임워크이고, Flask는 작은 기능만 제공하는 웹 개발 프레임워크입니다."
      ],
      "metadata": {
        "id": "N-_zFKHIdsOY"
      }
    },
    {
      "cell_type": "markdown",
      "source": [
        "#### Flask 모듈 설치\n",
        "이번에는 코랩이 아닌 visual studio code를 이용하여 Flask에 기반한 웹 서버 코드를 작성하겠습니다.\n",
        "\n",
        "강사의 지시에 따라 주세요."
      ],
      "metadata": {
        "id": "STn03PBDxeZ8"
      }
    },
    {
      "cell_type": "markdown",
      "source": [
        "Flask를 이용하여 PC에서 웹 서버를 생성하고 구동시키는 (최소한의) 코드는 다음과 유사합니다.\n",
        "\n",
        "```python\n",
        "from flask import Flask\n",
        "\n",
        "app = Flask(__name__)\n",
        "\n",
        "@app.route(' ')\n",
        "def hello():\n",
        "  return \"Hello World!\"\n",
        "\n",
        "if __name__ == '__main__':\n",
        "  app.run(host='0.0.0.0', port = 3000)\n",
        "```\n",
        "\n",
        "- Visual Studio Code를 설치-여기 접속(https://code.visualstudio.com/)\n",
        "- Visual Studio Code 실행\n",
        "- 빈 파일을 오픈\n",
        "- 위 코드 입력 후 파일(xxx.py) 세이브\n",
        "- 터미널 창에서 Flask 모듈 설치\n",
        "- 터미널 창에서 xxx.py 실행\n",
        "  + \\> python xxx.py\n",
        "- 웹 브라우저 오픈\n",
        "- 접속 URL은 \"http://localhost:3000\"\n"
      ],
      "metadata": {
        "id": "n6m5sRnrxnS9"
      }
    },
    {
      "cell_type": "markdown",
      "source": [
        "###<font color=blue>Django 모듈</font>\n",
        "강사의 설명에 집중해주세요. <font color=blue> 이 실습은 PyCharm에서 진행합니다. </font> 강사의 안내에 따라 진행하시면 되겠습니다."
      ],
      "metadata": {
        "id": "QScVwf3p2QJu"
      }
    },
    {
      "cell_type": "markdown",
      "source": [
        "#### Django를 활용한 개발환경 구축\n",
        "PyCharm 설치\n",
        "  + PyCharm Community Edition 설치(https://www.jetbrains.com/community/education)\n",
        "\n",
        "    "
      ],
      "metadata": {
        "id": "9f1TeTRl3SPB"
      }
    },
    {
      "cell_type": "markdown",
      "source": [
        "###라이브러리와 프레임워크\n",
        "모듈을 살펴보면 라이브러리(library)와 프레임워크(framework)라는 말을 많이 듣습니다. 최근에는 큰 구분 없이 사용하는데, 그래도 확실하게 구분하자면 제어 역전(IoC, Inversion of Control) 여부에 따라 달라집니다.\n",
        "\n",
        "<br>\n",
        "<center>\n",
        "\n",
        "라이브러리와 프레임워크  \n",
        "\n",
        "|구분|설명|\n",
        "|:-:|:-:|\n",
        "|라이브러리(library)| 정상적인 제어를 하는 모듈|\n",
        "|프레임워크(framework)|제어 역전이 발생하는 모듈|\n",
        "\n",
        "</center>\n",
        "\n",
        "제어 역전이란 쉽게 말해 제어가 역전되어 있다는 뜻입니다. 따라서 '역전되지 않은 정상적인 제어'가 무엇인지 알아야 제어 역전을 이해할 수 있을 것입니다. 지금까지 사용했던 모듈을 생각해 봅시다."
      ],
      "metadata": {
        "id": "Y8T3bxDedwcp"
      }
    },
    {
      "cell_type": "markdown",
      "source": [
        "####<ins>라이브러리</ins>\n",
        "아래 코드는 앞서 math 모듈을 설명할 때 본 적이 있는 코드입니다. math 모듈은 모듈 내부의 기능을 '개발자'가 직접 호출했습니다. 이처럼 개발자가 모듈의 기능을 호출하는 형태의 모듈을 '라이브러리'라고 합니다.\n",
        "\n"
      ],
      "metadata": {
        "id": "MxpMcKo5e1Mw"
      }
    },
    {
      "cell_type": "code",
      "source": [
        "# 정상적인 제어 = 라이브러리\n",
        "\n",
        "from math import sin, cos, tan, floor, ceil\n",
        "\n",
        "print('sin(0) :', sin(0))\n",
        "print('cos(0) :', cos(0))\n",
        "print('tan(0) :', tan(0))\n",
        "\n",
        "print('floor(2.5) :', floor(2.5))     # 내림하여 정수를 만듬\n",
        "print('ceil(2.5) :', ceil(2.5))       # 올림하여 정수를 만듬"
      ],
      "metadata": {
        "colab": {
          "base_uri": "https://localhost:8080/"
        },
        "id": "mtx8ilkTfW31",
        "outputId": "0a0f487a-da9e-4639-b230-4a796ffda60c"
      },
      "execution_count": null,
      "outputs": [
        {
          "output_type": "stream",
          "name": "stdout",
          "text": [
            "sin(0) : 0.0\n",
            "cos(0) : 1.0\n",
            "tan(0) : 0.0\n",
            "floor(2.5) : 2\n",
            "ceil(2.5) : 3\n"
          ]
        }
      ]
    },
    {
      "cell_type": "markdown",
      "source": [
        "####<ins>프레임워크</ins>\n",
        "앞서 살펴본, Flask 모듈을 활용하여 다음과 같이 코드를 작성했었습니다. 그런데 코드를 보면 내부에서 함수만 정의 했지 적접적으로 무언가 진행하는 코드는 단 하나도 없습니다."
      ],
      "metadata": {
        "id": "bPYYWbQBgrya"
      }
    },
    {
      "cell_type": "code",
      "source": [
        "from flask import Flask\n",
        "app = Flask(__name__)\n",
        "\n",
        "@app.route(\"/\")\n",
        "def hello():\n",
        "  return \"<h1>Hello World!</h1>\""
      ],
      "metadata": {
        "id": "wGw_ywpGhOh6"
      },
      "execution_count": null,
      "outputs": []
    },
    {
      "cell_type": "markdown",
      "source": [
        "##<font color=blue>Ch07 - 3 모듈 만들기</font>\n",
        "\n",
        "지금까지 내부 모듈과 외부 모듈을 살펴보았습니다. 그럼 이러환 모듈을 어떻게 만드는 것일까요? 모듈을 만드는 법을 알면 직접 모듈을 만들 수 있는 것은 물론이고 다른 사람이 만든 모듈을 분석할 수도 있습니다."
      ],
      "metadata": {
        "id": "fEmebj7em-7Y"
      }
    },
    {
      "cell_type": "markdown",
      "source": [
        "####**시작하기 전에**\n",
        "파이썬은 모듈을 만드는 방법이 간단합니다. 단순하게 파이썬 파일을 만들고 이를 외부에서 읽어 들이면 모듈이 됩니다. 너무 간단하고 유연해서 모듈을 코드로 인식하고 실행해 버리는 문제 등이 발생할 수 있습니다. 그러나 파이썬은 이를 막기 위해 다양한 대처 방법도 제공해 줍니다. 또한 모듈을 구조화해서 거대한 모듈(패키지)을 만드는 기능도 제공해 줍니다.\n",
        "\n",
        "<br>\n",
        "\n",
        "이번 절에서는 원의 반지름과 넓이를 구하는 간단한 모듈을 만들어 보면서 모듈을 만드는 방법, 모듈 실행과 관련된 안전 장치를 설치하는 방법, 패키지를 만드는 방법에 대해서 알아봅시다.\n",
        "\n",
        "<br>\n",
        "\n",
        "먼저 module_basic 디렉토리를 만들어 다음 두 파일을 넣어 주세요. main.py가 메인 코드로 활용할 부분입니다."
      ],
      "metadata": {
        "id": "UPiwP9bonxvt"
      }
    },
    {
      "cell_type": "markdown",
      "source": [
        "###모듈 만들기\n",
        "<font color=blue>아래 실습은 Visual Studio Code에서 진행하겠습니다. 강사의 지시에 따라 주세요.</font>\n",
        "\n",
        "<font color=blue>모듈을 만드는 방법은 매우 단순하고 쉬워서 길게 할 말이 별로 없습니다.</font> 모듈 내부에 변수와 함수를 넣어주면 되는데 간단하게 이전에 만들어 봤던 함수들을 넣어 보겠습니다. 먼저 module_basic 폴더를 만든 다음 아래 두 파일을 저장한 후 main.py를 실행합니다.\n",
        "\n",
        "\n"
      ],
      "metadata": {
        "id": "gmuLaw7Ro9CW"
      }
    },
    {
      "cell_type": "markdown",
      "source": [
        "```python\n",
        "# test_module.py\n",
        "PI = 3.141592\n",
        "\n",
        "def number_input():\n",
        "  output = input('숫자 입력 > ')\n",
        "  return float(output)\n",
        "\n",
        "def get_circumference(radius):\n",
        "  return 2 * PI * radius\n",
        "\n",
        "def get_circle_area(radius):\n",
        "  return PI * radius * radius\n",
        "```\n",
        "\n",
        "```python\n",
        "#main.py\n",
        "\n",
        "import test_module as test\n",
        "\n",
        "radius = test.number_input()\n",
        "print('원 둘레 :', test.get_circumference(radius))\n",
        "print('원 면적 :', test.get_circle_area(radius))\n",
        "```"
      ],
      "metadata": {
        "id": "O0arhAK7pymy"
      }
    },
    {
      "cell_type": "markdown",
      "source": [
        "main.py 실행시킨 후 3을 입력한 결과는 아래와 같습니다.\n",
        "\n",
        "![image.png](data:image/png;base64,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)"
      ],
      "metadata": {
        "id": "o74i2KBU9O1L"
      }
    },
    {
      "cell_type": "markdown",
      "source": [
        "###\\_\\_name\\_\\_==\"\\_\\_main\\_\\_\"\n",
        "다른 사람들이 만든 파이썬 코드들을 보면 `__name__ == \"__main__\"`이라는 코드를 많이 볼 수 있습니다. 많은 파이썬 개발자들이 이유도 모르고 그냥 사용하는 경우가 있는데요, 이 의미가 무엇인지 자세하게 살펴보겠습니다."
      ],
      "metadata": {
        "id": "EjdLW8gMqTU6"
      }
    },
    {
      "cell_type": "markdown",
      "source": [
        "####\\_\\_name\\_\\_\n",
        "파이썬 코드 내부에서는 `__name__`라는 변수를 사용할 수 있습니다. `__name__`이라는 변수에 어떤 값이 들어 있는지 확인해 보겠습니다.\n",
        "\n",
        "```python\n",
        "print(__name__)\n",
        "```\n",
        "\n",
        "프로그래밍 언어에서는 프로그램의 진입점을 \"엔트리 포인트\"(entry poing) 또는 \"메인\"(main)이라고 부릅니다. 그리고 이러한 엔트리 포인트 또는 메인 내부에서의 `__name__`의 값은 문자열`'__main__'`입니다."
      ],
      "metadata": {
        "id": "quN0CGN90J1Y"
      }
    },
    {
      "cell_type": "markdown",
      "source": [
        "####모듈의 \\_\\_name\\_\\_\n",
        "모듈은 엔트리 포이트가 아니지만 엔트리 포인트 파일 내부로 import 되었기 때문에 모듈의 코드가 실행됩니다.\n",
        "모듈의 `__name__` 값을 확인하는 실습을 해보겠습니다. module_main이라는 폴더를 새로 만들고 아래 두 파일을 module_main 폴더에 생성합니다.\n",
        "\n",
        "```python\n",
        "# test_module.py\n",
        "print('모듈의 __name__ 출력하기')\n",
        "print(__name__)\n",
        "print()\n",
        "```\n",
        "\n",
        "```python\n",
        "# main.py\n",
        "import test_module\n",
        "\n",
        "print('메인의 __name__ 출력하기')\n",
        "print(__name__)\n",
        "print()\n",
        "```\n",
        "그런 다음 main.py를 실행합니다.\n",
        "\n",
        "![image.png](data:image/png;base64,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)"
      ],
      "metadata": {
        "id": "OjaXqKxN1F9Q"
      }
    },
    {
      "cell_type": "markdown",
      "source": [
        "코드를 실행하면 엔트리 포인트 파일에서는 `'__main__'`이 출력되지만 모듈 파일에서는 모듈 이름인 `test_module`가 출력되는 것을 확인했습니다."
      ],
      "metadata": {
        "id": "EeEAgeN_2LJA"
      }
    },
    {
      "cell_type": "markdown",
      "source": [
        "####\\_\\_name\\_\\_ 활용하기\n",
        "엔트리 포인트 파일 내부에서는 `__name__`이 `'__main__'`이라는 값을 갖습니다. 이를 활용하면 현재 파일이 모듈로 실행되었는지 엔트리 포인트로 실행되었는지 확인할 수 있습니다.  \n",
        "\n",
        "<br>\n",
        "\n",
        "예를 들어 다음 코드를 살펴보겠습니다. 아래 보인 것과 같이 test_module.py라는 이름으로 파일을 하나 만들었습니다.  그리고 \"`__name__`를 이러한 형태로 활용한다\"라는 것을 보여주기 위해 간단한 출력도 넣었습니다.\n",
        "\n",
        "```python\n",
        "# test_module.py\n",
        "PI = 3.141592\n",
        "\n",
        "def number_input():\n",
        "    output = input('숫자 입력 : ')\n",
        "    return float(output)\n",
        "\n",
        "def get_circumference(radius):\n",
        "    return 2 * PI * radius\n",
        "\n",
        "def get_circle_area(radius):\n",
        "    return PI * radius * radius\n",
        "\n",
        "print('get_circumference(10) :', get_circumference(10))\n",
        "print('get_circle_area(10) :', get_circle_area(10))\n",
        "```\n",
        "\n",
        "```python\n",
        "# main.py\n",
        "import test_module as test\n",
        "\n",
        "radius = test.number_input()\n",
        "print(test.get_circumference(radius))\n",
        "print(test.get_circle_area(radius))\n",
        "```\n",
        "\n",
        "![image.png](data:image/png;base64,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)\n"
      ],
      "metadata": {
        "id": "LadRCaTGI-rf"
      }
    },
    {
      "cell_type": "markdown",
      "source": [
        "<font color=blue>test_module.py는 모듈로 사용하고 있는데 모듈 내부의 코드가 실행되어 위와 같은 결과가 나왔습니다. 우리가 원하는 결과가 아닙니다.</font> 이 때 현재 파일이 엔트리 포인트인지 확인하는 코드를 넣어서 위 문제를 해결할 수 있습니다. 조건문으로 `__name__`이 `'__main__'`인지 확인하는 것입니다.\n",
        "\n",
        "```python\n",
        "# test_module.py\n",
        "PI = 3.141592\n",
        "\n",
        "def number_input():\n",
        "    output = input('숫자 입력 : ')\n",
        "    return float(output)\n",
        "\n",
        "def get_circumference(radius):\n",
        "    return 2 * PI * radius\n",
        "\n",
        "def get_circle_area(radius):\n",
        "    return PI * radius * radius\n",
        "\n",
        "if __name__ == '__main__':\n",
        "    print('get_circumference(10) :', get_circumference(10))\n",
        "    print('get_circle_area(10) :', get_circle_area(10))\n",
        "```\n",
        "\n",
        "자주 사용되는 형태의 코드이니다. 인터넷에서 다른 사람들이 만든 코드를 보다 보면 100%의 확율로 만날 수 있을 테데 그럴 때 당황하지 않도록 꼭 기억하기 바랍니다."
      ],
      "metadata": {
        "id": "6riQYVTtLULp"
      }
    },
    {
      "cell_type": "markdown",
      "source": [
        "###패키지\n",
        "이 책(\"혼자 공부하는 파이썬\")에서는 쉽게 이해하도록 `import`로 가져오는 것을 모듈(module)이라고 말했습니다. 그런데 원래 pip은 Python Package Index의 준임말로 패키지 관리 시스템(Package Management System)입니다. 그럼 패키지와 모듈은 무엇이 다를 것일까요? 결론부터 말하면 모듈이 모여서 구조를 이루면 **패키지(package)**라 부릅니다."
      ],
      "metadata": {
        "id": "WOGg28AdMi2h"
      }
    },
    {
      "cell_type": "markdown",
      "source": [
        "####<ins>패키지 만들기</ins>\n",
        "패키지를 만들어 보겠습니다. 일단 폴더를 다음과 같이 구성합니다. main.py 파일은 엔트리 포인트로 사용할 파이썬 파일이며 test_package 폴더는 패키지로 사용할 폴더입니다.\n",
        "\n",
        "```python\n",
        "# module_package/test_package/module_a.py\n",
        "variable_a = \"a 모듈의 변수\"\n",
        "```\n",
        "\n",
        "```python\n",
        "# module_package/test_package/module_b.py\n",
        "variable_b = \"b 모듈의 변수\"\n",
        "```\n",
        "\n",
        "\n",
        "```python\n",
        "# module_package/main.py\n",
        "import test_package.module_a as a\n",
        "import test_package.module_b as b\n",
        "\n",
        "print(a.variable_a)\n",
        "print(b.variable_b)\n",
        "```\n",
        "\n",
        "![image.png](data:image/png;base64,iVBORw0KGgoAAAANSUhEUgAAAH8AAAAwCAYAAAA4s6WqAAAAAXNSR0IArs4c6QAAAARnQU1BAACxjwv8YQUAAAAJcEhZcwAADsMAAA7DAcdvqGQAAAOUSURBVHhe7Zohs9swDMe10fLC3pWPFJeNl4QXPDYeXPRw+dhAeUg+w/AjQyPlQyPFW9VErc/Pci3ZSdNn/+50TZ1IlvWPE+eST4vF4h8UsuRz/1vIkCJ+xjzlZb9pmn4rjKqq+i0d2J82BucrbfehzW808TFBKamKw+HKKXWfnK+03Yc2v1HFlySYsjguJPFj+rzXD/7aSPvS5pflPd9XLE6QGDCebQT2Z5oUjKXN+enEp4FK7NGY4pKlAMdGsfBXOla/+OsdHIwiNs0Bdut+3wMxixhiHw3Swx4b/qd9IXjEf4H9N4DvRhHb4wxW9TROgBioSC5cRR0SEouMwzyG9HBB+8zjOWQLPrwS1CuAtz1sX3/2jWH4kuAwB6jxt7EL5orpKioe52oPgfOVtg+BcLV/vho0G5grxOcYs7BaYuOhvw0XL3XuPrz3/PXucEnmZhtY9vsK4aCYtk0Bduaj8PVqBse2gvpH3ziBmY/HS0hRaGmOMbj6ko7ZhSt/Rvw17A41rOAN9ttXuMk8rct+CNr4VHD0jc1xqmNkZ/7LvoHN8nRe223honO/2JudN08PFp+ECcGOHepr+sWKF+t/D218z4Kvn/2o9oUjtNUv+CKc+RKhOFIKoSFD8adJEf892YiP4GAlxBY+hXiSnKV9ZSV+IQ1ZvtUrdBTxM6aInzFF/Iwp4mdMedQLIOZRj/OVtvvQ5seK373Y+QNtVcP1vU4EmKCUVMXhcOWUuk/OV9ruQ5vfqJd9TDDUhoYKZhu2jwn2Z9qYZHnPxyKj0C6GOAFMcckI88TjcvKBsbQ5P534NFCJPRpTXLIU4NgoFv5KxxogPr7DvxXyMIGvN80ihthHg7Swx4b/aV8IfvFPc/jabOC86usK2R5htqph/9Lvf1KoSC5cRR0SEouMwzzmogWTI+0zj+e4s9q3P+PivvC5jy8JDnOAGn8bu2CumK6i4nGu9hA4X2n7EIgf9bovfPDDjnSPgGMVVktsPPS34eKlzt2HeMH3+++p3yqEgmLaNgV0M38uv+xzSM901yzykaLQY85GV1/SMbtw5S8Uv/t6d3lsobotBKIYurDa+FRw9I3NcapjFImf+n6PaBInYUKwY4f6mn6x4sX630MbnxX/rP71U+0rp3FW+TYphdCQn/gTpYj/nmzER3CwEmILn0I8Sc7SvrISv5CGLN/qFTqK+BlTxM+YIn7GFPEzpoifLQD/AeTeOXEjuG+uAAAAAElFTkSuQmCC)\n",
        "\n",
        "\n",
        "\n"
      ],
      "metadata": {
        "id": "FIQblrieNf09"
      }
    },
    {
      "cell_type": "markdown",
      "source": [
        "####\\_\\_init\\_\\_.py 파일"
      ],
      "metadata": {
        "id": "_FP-xX91QPZ0"
      }
    },
    {
      "cell_type": "markdown",
      "source": [
        "패키지를 읽을 때 어떤 처리를 수행해야 하거나 패키지 내부의 모듈들을 한꺼번에 가져오고 싶을 때가 있습니다. 이럴 때는 패키지 폴더 안에 \\_\\_init\\_\\_.py 파일을 만들어 사용합니다.\n",
        "\n",
        "<br>\n",
        "\n",
        "\\_\\_init\\_\\_.py는 해당 폴더가 패키지임을 알려주고 패키지와 관련된 초기화 처리를 하는 파일입니다. \\_\\_init\\_\\_.py에 \\_\\_all\\_\\_이라는 이름의 리스트를 만드는데 이 리스트에 지정된 모듈들이 `from <패키지 이름> import *`를 할 때 전부 읽어 들여집니다.\n",
        "\n",
        "<br>\n",
        "\n",
        "그럼 test\\_package 폴더 내부에 다음과 같이 \\_\\_init\\_\\_.py파일을 만들어 보겠습니다. 이때 test\\_package 폴더 외부에는 엔트리 포인터로 사용할 main1.py 파일을 생성합니다.\n",
        "\n",
        "```python\n",
        "# module_package/test_package/__init__.py\n",
        "\n",
        "# `from test_package import *`로 모듈을 읽어 들일 때 가여올 모듈\n",
        "__all__ = ['module_a', 'module_b']\n",
        "\n",
        "# 패키지를 읽어 들일 때 어떤 처리를 하기 위한 코드를 작성할 수 있음.\n",
        "print('test_package를 읽어 들였습니다.')\n",
        "```\n",
        "\n",
        "```python\n",
        "# module_package/main1.py\n",
        "from test_package import *\n",
        "\n",
        "print(module_a.variable_a)\n",
        "print(module_b.variable_b)\n",
        "```\n",
        "\n",
        "![image.png](data:image/png;base64,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)\n",
        "\n"
      ],
      "metadata": {
        "id": "EzndicgrQcRI"
      }
    },
    {
      "cell_type": "markdown",
      "source": [
        "main1.py 파일로 패키지를 읽어 들일 때 \\_\\_init\\_\\_.py를 가장 먼저 실행하는 것을 알 수 있습니다."
      ],
      "metadata": {
        "id": "2QGsxcf0iBCl"
      }
    },
    {
      "cell_type": "markdown",
      "source": [
        "#####◃참고▹ \\_\\_init\\_\\_.py 파일\n",
        "파이썬 3.3 이전 버전에서는 \\_\\_init\\_\\_.py 파일이 있어야 패키지로 작동했지만 이후 버전부터는 \\_\\_init\\_\\_.py 파일이 없어도 폴더 내부에 파이썬 파일이 들어있기만 하면 패키지로 돋작합니다.\n"
      ],
      "metadata": {
        "id": "p0nkypvxi53E"
      }
    },
    {
      "cell_type": "markdown",
      "source": [
        "#####좀 더 알아보기(1) - 텍스트 데이터"
      ],
      "metadata": {
        "id": "uCaVhx0UkGrt"
      }
    },
    {
      "cell_type": "markdown",
      "source": [
        "#####좀더 알아보가(2) - 바이너리 데이터"
      ],
      "metadata": {
        "id": "Glxpub04kLmy"
      }
    }
  ]
}