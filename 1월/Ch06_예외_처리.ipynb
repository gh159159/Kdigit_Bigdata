{
  "nbformat": 4,
  "nbformat_minor": 0,
  "metadata": {
    "colab": {
      "provenance": []
    },
    "kernelspec": {
      "name": "python3",
      "display_name": "Python 3"
    },
    "language_info": {
      "name": "python"
    }
  },
  "cells": [
    {
      "cell_type": "markdown",
      "source": [
        "#Ch06 예외 처리\n",
        "- 구문 오류와 예외를 구분합니다.\n",
        "- 예외 처리하는 방법을 이해합니다.\n",
        "- 예외를 강제로 발생시키는 벙법과 이유를 이해합니다.\n"
      ],
      "metadata": {
        "id": "9JRScZVce0Qh"
      }
    },
    {
      "cell_type": "markdown",
      "source": [
        "##Ch06 - 1 구문 오류와 예외\n"
      ],
      "metadata": {
        "id": "3bZmMMs1fPY_"
      }
    },
    {
      "cell_type": "markdown",
      "source": [
        "####**시작하기 전에**\n",
        "\n",
        "지금까지 수업을 진행해 오면서 다양한 이유에서 프로그램이 실행을 멈춘 적이 있습니다. 그 이유가 `오류` 때문인지 '예외' 때문인지 알기 위해 이번 절에서는 '오류'와 '예외'를 구분하려고 합니다."
      ],
      "metadata": {
        "id": "V1KaAaq2fGyi"
      }
    },
    {
      "cell_type": "markdown",
      "source": [
        "### 오류의 종류\n",
        "프로그램에서 오류(error)는 크게 두 가지 종류가 있습니다.\n",
        "- 프로그램 **실행 전에 발생하는 오류** - 구문 오류(syntax error)\n",
        "- 프로그램 **실행 중에 발생하는 오류** - 런타임 오류(runtime error) 또는 예외(exception)\n",
        "\n",
        "오류를 나누는 기준에 따라서 *로직 에러(logic error)*도 있습니다.\n",
        "\n"
      ],
      "metadata": {
        "id": "LhyGYxyxf-Y4"
      }
    },
    {
      "cell_type": "markdown",
      "source": [
        "\n",
        "####<ins>구문 오류(syntax error)</ins>\n",
        "구문 오류는 괄호의 열고 닫음이 맞지 않거나, 들여쓰기를 바르게 못했거나 등의 문제로 프로그램이 실행되기 전에 발생하는 오류입니다.\n",
        "\n"
      ],
      "metadata": {
        "id": "-BEuyi1jiDRF"
      }
    },
    {
      "cell_type": "markdown",
      "source": [],
      "metadata": {
        "id": "mZwoziZSxYUj"
      }
    },
    {
      "cell_type": "code",
      "source": [
        "print('오류 없는 문장')"
      ],
      "metadata": {
        "colab": {
          "base_uri": "https://localhost:8080/"
        },
        "id": "3iXcko0og7R3",
        "outputId": "1f441ea4-d09c-41d6-fd5d-f19f2f773a01"
      },
      "execution_count": null,
      "outputs": [
        {
          "output_type": "stream",
          "name": "stdout",
          "text": [
            "오류 없는 문장\n"
          ]
        }
      ]
    },
    {
      "cell_type": "code",
      "source": [
        "# 의도적으로 오류 발생\n",
        "print('여기에는 어떤 오류가 있다는 건가?)"
      ],
      "metadata": {
        "id": "aUG5kOxBfNQ-",
        "colab": {
          "base_uri": "https://localhost:8080/",
          "height": 136
        },
        "outputId": "05daef86-b12d-4d0b-b76a-503cd00ec2a7"
      },
      "execution_count": null,
      "outputs": [
        {
          "output_type": "error",
          "ename": "SyntaxError",
          "evalue": "ignored",
          "traceback": [
            "\u001b[0;36m  File \u001b[0;32m\"<ipython-input-4-cf4d804ab3a4>\"\u001b[0;36m, line \u001b[0;32m2\u001b[0m\n\u001b[0;31m    print('여기에는 어떤 오류가 있다는 건가?)\u001b[0m\n\u001b[0m          ^\u001b[0m\n\u001b[0;31mSyntaxError\u001b[0m\u001b[0;31m:\u001b[0m unterminated string literal (detected at line 2)\n"
          ]
        }
      ]
    },
    {
      "cell_type": "markdown",
      "source": [
        "위 코드 셀에 있는 `print('여기에는 어떤 오류가 있다는 건가?)` 문장은 실행시키기도 전에 (구글 코랩에서는) 빨간 줄이 그어집니다. 문자열 표현에서 닫는 따옴표가 누락되었네요."
      ],
      "metadata": {
        "id": "GbuRtftHhIQP"
      }
    },
    {
      "cell_type": "code",
      "source": [
        "print('여기에는 어떤 오류가 있다는 건가?)"
      ],
      "metadata": {
        "colab": {
          "base_uri": "https://localhost:8080/",
          "height": 136
        },
        "id": "NjCG5Tlehh-H",
        "outputId": "4b6fda59-234c-4ed8-e199-be19881b6ffe"
      },
      "execution_count": null,
      "outputs": [
        {
          "output_type": "error",
          "ename": "SyntaxError",
          "evalue": "ignored",
          "traceback": [
            "\u001b[0;36m  File \u001b[0;32m\"<ipython-input-5-720befda79cc>\"\u001b[0;36m, line \u001b[0;32m1\u001b[0m\n\u001b[0;31m    print('여기에는 어떤 오류가 있다는 건가?)\u001b[0m\n\u001b[0m          ^\u001b[0m\n\u001b[0;31mSyntaxError\u001b[0m\u001b[0;31m:\u001b[0m unterminated string literal (detected at line 1)\n"
          ]
        }
      ]
    },
    {
      "cell_type": "markdown",
      "source": [
        "EOL은 'End of Line'의 줄임말입니다. `SyntaxError`라는 말에 주목하십시요. 파이썬 문법에 맞지 않는 표현이다라는 뜻입니다. \"문법이 틀렸어~\"라고 말하고 있습니다."
      ],
      "metadata": {
        "id": "HVaSkniJhnfi"
      }
    },
    {
      "cell_type": "markdown",
      "source": [
        "####<ins>예외</ins>\n",
        "예외 또는 런타임 오류는 실행 중에 발생하는 오류를 의미합니다."
      ],
      "metadata": {
        "id": "_-uBccK-iFYB"
      }
    },
    {
      "cell_type": "code",
      "source": [
        "print(\"프로그램이 시작되었습니다.\")\n",
        "lst[0]"
      ],
      "metadata": {
        "id": "FDeSgg0glzch",
        "colab": {
          "base_uri": "https://localhost:8080/",
          "height": 211
        },
        "outputId": "854f5739-bcf9-4942-aefb-aaf323ec24a4"
      },
      "execution_count": null,
      "outputs": [
        {
          "output_type": "stream",
          "name": "stdout",
          "text": [
            "프로그램이 시작되었습니다.\n"
          ]
        },
        {
          "output_type": "error",
          "ename": "NameError",
          "evalue": "ignored",
          "traceback": [
            "\u001b[0;31m---------------------------------------------------------------------------\u001b[0m",
            "\u001b[0;31mNameError\u001b[0m                                 Traceback (most recent call last)",
            "\u001b[0;32m<ipython-input-1-515d6de1f6d7>\u001b[0m in \u001b[0;36m<cell line: 2>\u001b[0;34m()\u001b[0m\n\u001b[1;32m      1\u001b[0m \u001b[0mprint\u001b[0m\u001b[0;34m(\u001b[0m\u001b[0;34m\"프로그램이 시작되었습니다.\"\u001b[0m\u001b[0;34m)\u001b[0m\u001b[0;34m\u001b[0m\u001b[0;34m\u001b[0m\u001b[0m\n\u001b[0;32m----> 2\u001b[0;31m \u001b[0mlst\u001b[0m\u001b[0;34m[\u001b[0m\u001b[0;36m0\u001b[0m\u001b[0;34m]\u001b[0m\u001b[0;34m\u001b[0m\u001b[0;34m\u001b[0m\u001b[0m\n\u001b[0m",
            "\u001b[0;31mNameError\u001b[0m: name 'lst' is not defined"
          ]
        }
      ]
    },
    {
      "cell_type": "markdown",
      "source": [
        "위 코드를 실행하면 일단 `프로그램이 시작되었습니다`라고 출력(print)합니다. 여기까지는 이상이 없다는 것입니다. 에러가 없다는 것입니다. 그런데 `lst[0]`에서 실행 중 에러가 발생했습니다. 러타임 에러입니다. 프로그램이 실행(run, 런) 중에 발생한 에러를 런타임 오류(error) 또는 예외(exception)라고합니다.\n",
        "\n",
        "예외가 발생한 원은은 \"NameError: name 'lst' is not defined\"입니다. `lst`라는 것이 정의되지 않았는데 사용하려고 했기 때문입니다.\n",
        "\n",
        "예외를 해결하는 방법은 일단 코드를 올바르게 작성하면 되겠습니다.\n",
        "(말이야 방구야~ ㅎㅎㅎ)"
      ],
      "metadata": {
        "id": "2Wx7eHZgl9vY"
      }
    },
    {
      "cell_type": "code",
      "source": [
        "print(\"프로그램이 시작되었습니다.\")\n",
        "lst = [1, 2, 3]\n",
        "lst[0]"
      ],
      "metadata": {
        "id": "p4ZWaWSul9CJ"
      },
      "execution_count": null,
      "outputs": []
    },
    {
      "cell_type": "markdown",
      "source": [
        "위 경우는 프로그램이 실행 도중 멈췄으며 이 때 코드를 수정해서 예외를 해결했습니다. 그러나 프로그램 실행 중에 에러가 발행했고 코드를 고쳐서 다시 프로그램을 실행시키는 방법은 적절하지 않습니다. 실행된 프로그램은 중간에 멈추지 말고 끝까지 목적한 동작을 끝까지 수행해야 됩니다.\n",
        "\n",
        "이런 경우를 생각해 보겠습니다. 네트워크로부터 메시지를 수신하고 있는데, 항상 한번에 4개의 요소가 수신 될 것으로 가정하고 코드를 작성했습니다. 수신한 요소를 리스트 요소로 처리했고 4개의 요소로부터 정보를 추출했습니다. 그런데 매우 이례적으로 3개의 요소가 수신되었습니다. 이 경우 3번째 요소까지 일을 한 후 4번째 요소가 없어서 오류를 발생시길 수 있습니다.\n",
        "\n",
        "이런 오류가 발생하면 어떻게 할가요? 코드를 다시 짠다? 처음 코드를 짤 때 이런 드문 경우에 대비하도록 코드를 작성해야할 것입니다. 예외 상황에 적절히 대처할 수 있도록 코드를 작성해야할 것입니다. 발생 가능한 모든 경우에 대비하도록 코드를 작성하는 것입니다. 그러나... 코딩 당시 예측했던 범위를 벗어나는 상활이 발생하면?"
      ],
      "metadata": {
        "id": "u1bUjGUCnCAQ"
      }
    },
    {
      "cell_type": "markdown",
      "source": [
        "###기본 예외 처리\n",
        "예외를 해결하는 하기 위해 어떤 작업을 하는 것을 예외 처리(exception handling)라고 합니다. 예외를 처리 하는 방법은 다음 두 가지로 나뉩니다.\n",
        "\n",
        "- 조건문을 사용하는 방법\n",
        "- try 구문을 사용하는 방법\n",
        "\n",
        "먼저 조건문을 사용해서 예외를 처리 하는 방법부터 살펴보겠습니다. 이와 같은 예외 처리 방법을 기본 예외 처리라고 부릅니다."
      ],
      "metadata": {
        "id": "nfFz5hJzoFLz"
      }
    },
    {
      "cell_type": "markdown",
      "source": [
        "####<ins>예외 상황 확인하기</ins>\n",
        "일단 예외가 발생할 상활을 만들어 보겠습니다."
      ],
      "metadata": {
        "id": "2gBqeKUNpmR-"
      }
    },
    {
      "cell_type": "code",
      "source": [
        "number = int(input(\"정수 입력: \"))\n",
        "\n",
        "print('원의 반지름 :',number )\n",
        "print('원의 둘레 :', 2*3.14*number )\n",
        "print('원의 면적 :', 3.14* number* number)"
      ],
      "metadata": {
        "id": "4xr4zwzopvCU",
        "colab": {
          "base_uri": "https://localhost:8080/",
          "height": 263
        },
        "outputId": "c9b416fa-0c32-4eb9-d53e-012a7c370778"
      },
      "execution_count": null,
      "outputs": [
        {
          "name": "stdout",
          "output_type": "stream",
          "text": [
            "정수 입력: 1.1\n"
          ]
        },
        {
          "output_type": "error",
          "ename": "ValueError",
          "evalue": "ignored",
          "traceback": [
            "\u001b[0;31m---------------------------------------------------------------------------\u001b[0m",
            "\u001b[0;31mValueError\u001b[0m                                Traceback (most recent call last)",
            "\u001b[0;32m<ipython-input-6-1e7b50a37570>\u001b[0m in \u001b[0;36m<cell line: 1>\u001b[0;34m()\u001b[0m\n\u001b[0;32m----> 1\u001b[0;31m \u001b[0mnumber\u001b[0m \u001b[0;34m=\u001b[0m \u001b[0mint\u001b[0m\u001b[0;34m(\u001b[0m\u001b[0minput\u001b[0m\u001b[0;34m(\u001b[0m\u001b[0;34m\"정수 입력: \"\u001b[0m\u001b[0;34m)\u001b[0m\u001b[0;34m)\u001b[0m\u001b[0;34m\u001b[0m\u001b[0;34m\u001b[0m\u001b[0m\n\u001b[0m\u001b[1;32m      2\u001b[0m \u001b[0;34m\u001b[0m\u001b[0m\n\u001b[1;32m      3\u001b[0m \u001b[0mprint\u001b[0m\u001b[0;34m(\u001b[0m\u001b[0;34m'원의 반지름 :'\u001b[0m\u001b[0;34m,\u001b[0m\u001b[0mnumber\u001b[0m \u001b[0;34m)\u001b[0m\u001b[0;34m\u001b[0m\u001b[0;34m\u001b[0m\u001b[0m\n\u001b[1;32m      4\u001b[0m \u001b[0mprint\u001b[0m\u001b[0;34m(\u001b[0m\u001b[0;34m'원의 둘레 :'\u001b[0m\u001b[0;34m,\u001b[0m \u001b[0;36m2\u001b[0m\u001b[0;34m*\u001b[0m\u001b[0;36m3.14\u001b[0m\u001b[0;34m*\u001b[0m\u001b[0mnumber\u001b[0m \u001b[0;34m)\u001b[0m\u001b[0;34m\u001b[0m\u001b[0;34m\u001b[0m\u001b[0m\n\u001b[1;32m      5\u001b[0m \u001b[0mprint\u001b[0m\u001b[0;34m(\u001b[0m\u001b[0;34m'원의 면적 :'\u001b[0m\u001b[0;34m,\u001b[0m \u001b[0;36m3.14\u001b[0m\u001b[0;34m*\u001b[0m \u001b[0mnumber\u001b[0m\u001b[0;34m*\u001b[0m \u001b[0mnumber\u001b[0m\u001b[0;34m)\u001b[0m\u001b[0;34m\u001b[0m\u001b[0;34m\u001b[0m\u001b[0m\n",
            "\u001b[0;31mValueError\u001b[0m: invalid literal for int() with base 10: '1.1'"
          ]
        }
      ]
    },
    {
      "cell_type": "markdown",
      "source": [
        "정수 입력을 요구하는 의도로 \"정수 입력: \"이라고 출력했지만 사용자가 얼핏 보고는 친절하게도 단위까지 표현하여 \"7센티미터\"라고 입력했다고 생각해 보십시요. 또는 1.1과 같이 실수를 입력했을 때 에러가 발생합니다."
      ],
      "metadata": {
        "id": "omb6-XDsqLKC"
      }
    },
    {
      "cell_type": "markdown",
      "source": [
        "위 코드가 실행되었을 때 '7센티미터'라고 입력하면 'ValueError'가 발생합니다.  '값 에러'가 발생한 것입니다. 그리고 이렇게 설명하고 있습니다. \"invalid literal for int() whith base 10: '7센티미터'\" 이 문장은 '7센티미터'는 `int()` 함수에 적용하기에 옳지 않은 문자다라고 이야기 하는 것입니다."
      ],
      "metadata": {
        "id": "B0PL0OdOqo0p"
      }
    },
    {
      "cell_type": "markdown",
      "source": [
        "####<ins>예외를 처리하는 방법 - 조건문으로 예외 처리하기</ins>\n",
        "위 경우 '정수를 입력하지 않았을 때' 오류가 발생했습니다. 그렇다면 입력된 데이터가 정수인지 아닌지 `if`문을 활용할 수 있을 것입니다. 그리고 원의 반지름, 둘레, 면적을 구하는 프로그램이니 양의 정수를 입력 받도록 하겠습니다.\n",
        "\n",
        "`문자열.isdigit()` 함수는 Ch02에서 확인하실 수 있습니다."
      ],
      "metadata": {
        "id": "XzQC4Yq5rM4s"
      }
    },
    {
      "cell_type": "code",
      "source": [
        "user_input = input('양의 정수 입력: ')\n",
        "if user_input.isdigit():\n",
        "  number = int(user_input)\n",
        "  print(number)\n",
        "  print('원의 반지름 :',number )\n",
        "  print('원의 둘레 :', 2*3.14*number )\n",
        "  print('원의 면적 :', 3.14* number* number)\n",
        "else:\n",
        "  print('양의 정수를 바르게 입력해 주세요.')"
      ],
      "metadata": {
        "id": "anmAMVq-rdcX",
        "colab": {
          "base_uri": "https://localhost:8080/"
        },
        "outputId": "ee9b0fe4-1d95-4284-a776-1cdd72d14d3e"
      },
      "execution_count": null,
      "outputs": [
        {
          "output_type": "stream",
          "name": "stdout",
          "text": [
            "양의 정수 입력: 7센티미터\n",
            "양의 정수를 바르게 입력해 주세요.\n"
          ]
        }
      ]
    },
    {
      "cell_type": "markdown",
      "source": [
        "위 코드 셀에서 `문자열.isdigit()`함수는 `문자열`이 숫자로만 구성되었다면 `True`를 그렇다 않다면 `False`를 반환합니다. 여기서 핵심 사항은 **예외가 발생할 수 있는 상활을 고려해서 상황별로 대처할 수 있도록 사전에 코딩되었다**는 것입니다. 그래서 프로그램이 예외 발생으로 인해 중간에 종료되는 것을 막았습니다."
      ],
      "metadata": {
        "id": "lglEeLSTsF5X"
      }
    },
    {
      "cell_type": "markdown",
      "source": [
        "###<ins>예외를 처리하는 방법 - try except 구문</ins>\n",
        "\n",
        "```python\n",
        "try:\n",
        "  # 예외가 발생할 가능성이 있는 코드\n",
        "except:\n",
        "  # 예외가 발생했을 때 실행할 코드\n",
        "```\n"
      ],
      "metadata": {
        "id": "1RsxF_1MtF_g"
      }
    },
    {
      "cell_type": "code",
      "source": [
        "try:\n",
        "  number = int(input(\"정수 입력: \"))\n",
        "  print('원의 반지름 :',number )\n",
        "  print('원의 둘레 :', 2*3.14*number )\n",
        "  print('원의 면적 :', 3.14* number* number)\n",
        "except:\n",
        "  print('위 과정에서 예외가 발생했습니다.')\n"
      ],
      "metadata": {
        "id": "0Q0VkXh4tZH1",
        "colab": {
          "base_uri": "https://localhost:8080/"
        },
        "outputId": "20375c75-6201-424d-cae0-6cfc808940ec"
      },
      "execution_count": null,
      "outputs": [
        {
          "output_type": "stream",
          "name": "stdout",
          "text": [
            "정수 입력: 7센찌\n",
            "위 과정에서 예외가 발생했습니다.\n"
          ]
        }
      ]
    },
    {
      "cell_type": "markdown",
      "source": [
        "위 코드는 `try`에 해당하는 코드들에서 예외가 발생하면 `except`에 해당하는 코드를 실행하라는 뜻입니다. `try`에 해당하는 코드들에서 예외가 발생하지 않으면 `excption`에 해당하는 코드는 실행되지 않습니다."
      ],
      "metadata": {
        "id": "EL8MqoQDtmjV"
      }
    },
    {
      "cell_type": "markdown",
      "source": [
        "###Quiz\n",
        "아래 코드가 실행되었는데 사용자는 실수로 0을 입력했습니다.\n",
        "- 1) 어떤 현상이 발생하나요?\n",
        "- 2) 이 현상으로 인해 프로그램이 종료되지 않도록 하기 위해 `try ~ except`를 활용하여 코드를 작성하세요.\n",
        "\n",
        "```python\n",
        "positive_int = int( input('양의 정수를 입력 하세요 : ') )\n",
        "\n",
        "d = 10 // positive_int\n",
        "s = 10 % positive_int\n",
        "\n",
        "print(f'입력하신 수, {positive_int}로 10을 나누었을 때 몫은 {d}이고 나머지는 {s}입니다.')\n",
        "```"
      ],
      "metadata": {
        "id": "AqjjxK9DNkPQ"
      }
    },
    {
      "cell_type": "code",
      "source": [
        "positive_int = int( input('양의 정수를 입력 하세요 : ') )\n",
        "\n",
        "d = 10 // positive_int\n",
        "s = 10 % positive_int\n",
        "\n",
        "print(f'입력하신 수, {positive_int}로 10을 나누었을 때 몫은 {d}이고 나머지는 {s}입니다.')"
      ],
      "metadata": {
        "colab": {
          "base_uri": "https://localhost:8080/",
          "height": 279
        },
        "id": "1nFw10fdOD6T",
        "outputId": "a348e402-7ca1-44bd-98a9-3421e9c1b119"
      },
      "execution_count": null,
      "outputs": [
        {
          "name": "stdout",
          "output_type": "stream",
          "text": [
            "양의 정수를 입력 하세요 : 0\n"
          ]
        },
        {
          "output_type": "error",
          "ename": "ZeroDivisionError",
          "evalue": "integer division or modulo by zero",
          "traceback": [
            "\u001b[0;31m---------------------------------------------------------------------------\u001b[0m",
            "\u001b[0;31mZeroDivisionError\u001b[0m                         Traceback (most recent call last)",
            "\u001b[0;32m<ipython-input-5-288031d886a6>\u001b[0m in \u001b[0;36m<cell line: 3>\u001b[0;34m()\u001b[0m\n\u001b[1;32m      1\u001b[0m \u001b[0mpositive_int\u001b[0m \u001b[0;34m=\u001b[0m \u001b[0mint\u001b[0m\u001b[0;34m(\u001b[0m \u001b[0minput\u001b[0m\u001b[0;34m(\u001b[0m\u001b[0;34m'양의 정수를 입력 하세요 : '\u001b[0m\u001b[0;34m)\u001b[0m \u001b[0;34m)\u001b[0m\u001b[0;34m\u001b[0m\u001b[0;34m\u001b[0m\u001b[0m\n\u001b[1;32m      2\u001b[0m \u001b[0;34m\u001b[0m\u001b[0m\n\u001b[0;32m----> 3\u001b[0;31m \u001b[0md\u001b[0m \u001b[0;34m=\u001b[0m \u001b[0;36m10\u001b[0m \u001b[0;34m//\u001b[0m \u001b[0mpositive_int\u001b[0m\u001b[0;34m\u001b[0m\u001b[0;34m\u001b[0m\u001b[0m\n\u001b[0m\u001b[1;32m      4\u001b[0m \u001b[0ms\u001b[0m \u001b[0;34m=\u001b[0m \u001b[0;36m10\u001b[0m \u001b[0;34m%\u001b[0m \u001b[0mpositive_int\u001b[0m\u001b[0;34m\u001b[0m\u001b[0;34m\u001b[0m\u001b[0m\n\u001b[1;32m      5\u001b[0m \u001b[0;34m\u001b[0m\u001b[0m\n",
            "\u001b[0;31mZeroDivisionError\u001b[0m: integer division or modulo by zero"
          ]
        }
      ]
    },
    {
      "cell_type": "code",
      "source": [
        "positive_int = int( input('양의 정수를 입력 하세요 : ') )\n",
        "\n",
        "try:\n",
        "  d = 10 // positive_int\n",
        "  s = 10 % positive_int\n",
        "  print(f'입력하신 수, {positive_int}로 10을 나누었을 때 몫은 {d}이고 나머지는 {s}입니다.')\n",
        "except:\n",
        "  print('예외 발생!')"
      ],
      "metadata": {
        "colab": {
          "base_uri": "https://localhost:8080/"
        },
        "id": "ktpdHDsjPSE-",
        "outputId": "42c7acc8-d9ee-4af5-ef61-0c30a19e6c91"
      },
      "execution_count": null,
      "outputs": [
        {
          "output_type": "stream",
          "name": "stdout",
          "text": [
            "양의 정수를 입력 하세요 : 0\n",
            "예외 발생!\n"
          ]
        }
      ]
    },
    {
      "cell_type": "markdown",
      "source": [
        "####<ins>try except 구문과 pass 키워드 조합하기</ins>\n",
        "\n",
        "```python\n",
        "try:\n",
        "  #예외가 발생할 가능성이 있는 코드\n",
        "except:\n",
        "  pass\n",
        "```\n",
        "\n",
        "\"try 부분에서 예외가 발생했을 때 프로그램이 종료, 죽지 말고 except 부분의 코드를 실행해라. 그런데 excpt 부분이 패스네~ 그럼 아무 것도 하지 않고 패스~\"\n",
        "\n"
      ],
      "metadata": {
        "id": "FpsZ-_Jgv80l"
      }
    },
    {
      "cell_type": "code",
      "source": [
        "try:\n",
        "  number = int(input(\"정수 입력: \"))\n",
        "  print('원의 반지름 :',number )\n",
        "  print('원의 둘레 :', 2*3.14*number )\n",
        "  print('원의 면적 :', 3.14* number* number)\n",
        "except:\n",
        "  pass"
      ],
      "metadata": {
        "id": "PWKP0lOHqeVB"
      },
      "execution_count": null,
      "outputs": []
    },
    {
      "cell_type": "markdown",
      "source": [
        "또 다른 예제 코드를 살펴보겠습니다. 아래 코드는 `lst`의 요소들 중 숫자로 변환 가능한 요소들만을 추출해서 새로운 리스트를 만드는 코드입니다. `lst`의 요소 중 '봄나들이'에 대해 `float('봄나들이')` 함수를 호출하면 예외가 발생할 것입니다. 이 예외가 발새했을 때 `exception` 부분에서 받아서 처리 합니다. 처리는 `pass`군요."
      ],
      "metadata": {
        "id": "EzRJX6d5xIro"
      }
    },
    {
      "cell_type": "code",
      "source": [
        "lst = ['52', '12', '봄나들이', '64', '255']\n",
        "f_lst =[]\n",
        "\n",
        "for element in lst:\n",
        "  try:\n",
        "    f = float(element)\n",
        "    f_lst.append(f)\n",
        "  except:\n",
        "    pass\n",
        "\n",
        "print(f_lst)\n",
        "\n",
        "# print( (\n",
        "#          '리스트 {} 내부에 있는 요수 중'\n",
        "#          ' 숫자로 변환 가능한 요소만 숫자로 변환하여'\n",
        "#          ' 그 결과로 리스트 {}을 얻었습니다.'\n",
        "#          ).format(lst, f_lst)\n",
        "#       )"
      ],
      "metadata": {
        "id": "_7xD6lzqygzG",
        "colab": {
          "base_uri": "https://localhost:8080/"
        },
        "outputId": "1ee51dc0-015d-4e98-9a03-6360a32d8473"
      },
      "execution_count": null,
      "outputs": [
        {
          "output_type": "stream",
          "name": "stdout",
          "text": [
            "[52.0, 12.0, 64.0, 255.0]\n"
          ]
        }
      ]
    },
    {
      "cell_type": "markdown",
      "source": [
        "아래 코드에서는 리스트 `lst`의 요소 중에 숫자로 변환이 가능한 요소만 뽑아서 새로운 리스트를 만들었습니다.\n",
        "\n",
        "쉬어가는 페이지...\n",
        "\n",
        "\"두 그림 중 다른 곳을 찾는 게임\"처럼 위 코드셀의 코드와 아래 코드셀의 코드의 차이점을 찾아 보세요."
      ],
      "metadata": {
        "id": "iN82W-HPz3ES"
      }
    },
    {
      "cell_type": "code",
      "source": [
        "lst = ['52', '12', '봄나들이', '64', '255']\n",
        "f_lst =[]\n",
        "\n",
        "for element in lst:\n",
        "  try:\n",
        "    float(element)          # 숫자로 변환이 안될 경우 여기서 예외 발생.\n",
        "    f_lst.append(element)\n",
        "  except:\n",
        "    pass\n",
        "\n",
        "print('{} 내부에 있는 데이터 중 숫자로 변환 가능한 데이터는 {}입니다.'.format(lst, f_lst))"
      ],
      "metadata": {
        "id": "PqGbPdd3x0Aw",
        "colab": {
          "base_uri": "https://localhost:8080/"
        },
        "outputId": "68674fb6-7437-4255-933c-ff80d5c093f3"
      },
      "execution_count": null,
      "outputs": [
        {
          "output_type": "stream",
          "name": "stdout",
          "text": [
            "['52', '12', '봄나들이', '64', '255'] 내부에 있는 데이터 중 숫자로 변환 가능한 데이터는 ['52', '12', '64', '255']입니다.\n"
          ]
        }
      ]
    },
    {
      "cell_type": "markdown",
      "source": [
        "####<ins>try except else 구문</ins>\n",
        "try except 구문 뒤에 esle 구문을 붙이면 '예외가 발생하지 않았을 때 실행할 코드'를 지정할 수 있습니다.\n",
        "\n",
        "```python\n",
        "try:\n",
        "  # 예외가 발생할 가능성이 있는 코드\n",
        "except:\n",
        "  # 예외가 발생했을 때 실행할 코드\n",
        "else:\n",
        "  # 예외가 발생하지 않았을 때 실행할 코드\n",
        "```\n",
        "\n",
        "**try except else 구문을 사용할 대는 예외가 발생할 가능성이 있는 코드만 `try` 구문 내부에 넣고 나머지는 모두 `else` 구문으로 빼는 경우가 많습니다.**"
      ],
      "metadata": {
        "id": "ON8OoVtG0Yus"
      }
    },
    {
      "cell_type": "code",
      "source": [
        "try:\n",
        "   number = int(input(\"정수 입력: \"))\n",
        "except:\n",
        "  print('정수를 입력하지 않았습니다.')\n",
        "else:\n",
        "  print('원의 반지름 :',number )\n",
        "  print('원의 둘레 :', 2*3.14*number )\n",
        "  print('원의 면적 :', 3.14* number* number)"
      ],
      "metadata": {
        "id": "gZwz_8jByAV3"
      },
      "execution_count": null,
      "outputs": []
    },
    {
      "cell_type": "code",
      "source": [
        "while True:\n",
        "  try:\n",
        "    number = int(input('정수 입력: '))\n",
        "  except:\n",
        "    print('정수를 입력하지 않으셨습니다.')\n",
        "  else:\n",
        "    print('원의 반지름 :', number)\n",
        "    print('원의 둘레 : ', 2*3.14*number)\n",
        "    print('원의 면적 : ', 3.14 * number*number)\n",
        "    break"
      ],
      "metadata": {
        "colab": {
          "base_uri": "https://localhost:8080/"
        },
        "id": "AfDn8273Dd9K",
        "outputId": "185f5e87-f390-4a31-d3df-8f1870982503"
      },
      "execution_count": null,
      "outputs": [
        {
          "output_type": "stream",
          "name": "stdout",
          "text": [
            "정수 입력: 1.1\n",
            "정수를 입력하지 않으셨습니다.\n",
            "정수 입력: 2\n",
            "원의 반지름 : 2\n",
            "원의 둘레 :  12.56\n",
            "원의 면적 :  12.56\n"
          ]
        }
      ]
    },
    {
      "cell_type": "markdown",
      "source": [
        "그냥 이전 코드처럼 try 구문 안에 모두 넣으면 되지 굳이 else문으로 나머지 코드를 빼는지 궁금하실 수 있습니다.\n",
        "\n",
        "C++, C#, Java, Javascript, PHP, Objective-C, Swift, Kotlin 등의 프로그래밍 언어는 예외 처리에 else 구문이 없습니다. 예외 처리에 else 구문이 있는 프로그래밍 언어는 파이썬과 루비 정도입니다.\n",
        "\n",
        "\n",
        "<br>\n",
        "\n",
        "(강사가 하는 말) 교재에서는 특별한 이유를 들지 못하고 있습니다. 코드를 조금 더 깔끔하게 작성할 수 있다? 아니면 또 다른 이유가 있는지는 차차 알아가보도록 하죠.\n",
        "\n"
      ],
      "metadata": {
        "id": "4Ul7GxY81cJJ"
      }
    },
    {
      "cell_type": "markdown",
      "source": [
        "###Quiz\n",
        "아래 코드가 실행되었는데 사용자는 실수로 0을 입력했습니다. 어떤 현상이 발생하는지 위 Quiz를 통해 확인했습니다. 또한 이 현상으로 인해 프로그램이 종료되지 않도록 하기 위해 `try ~ except`를 활용하여 코드를 작성했었습니다.\n",
        "\n",
        "```python\n",
        "positive_int = int( input('양의 정수를 입력 하세요 : ') )\n",
        "\n",
        "try:\n",
        "  d = 10 // positive_int\n",
        "  s = 10 % positive_int\n",
        "  print(f'입력하신 수, {positive_int}로 10을 나누었을 때 몫은 {d}이고 나머지는 {s}입니다.')\n",
        "except:\n",
        "  print('예외 발생!')\n",
        "```\n",
        "\n",
        "위 코드를 `try ~ except ~ else`구문으로 다시 작성하세요."
      ],
      "metadata": {
        "id": "YFHcTyTHP0Ht"
      }
    },
    {
      "cell_type": "code",
      "source": [
        "positive_int = int( input('양의 정수를 입력 하세요 : ') )\n",
        "\n",
        "try:\n",
        "  d = 10 // positive_int\n",
        "  s = 10 % positive_int\n",
        "except:\n",
        "  print('예외 발생!')\n",
        "else:\n",
        "  print(f'입력하신 수, {positive_int}로 10을 나누었을 때 몫은 {d}이고 나머지는 {s}입니다.')"
      ],
      "metadata": {
        "colab": {
          "base_uri": "https://localhost:8080/"
        },
        "id": "TzK87rFOQfYj",
        "outputId": "23d21a32-c534-4845-f0cb-99613c9a9ae7"
      },
      "execution_count": null,
      "outputs": [
        {
          "output_type": "stream",
          "name": "stdout",
          "text": [
            "양의 정수를 입력 하세요 : 1\n",
            "입력하신 수, 1로 10을 나누었을 때 몫은 10이고 나머지는 0입니다.\n"
          ]
        }
      ]
    },
    {
      "cell_type": "markdown",
      "source": [
        "###Quiz\n",
        "아래 코드가 실행되었는데 사용자는 실수로 0을 입력했습니다. 어떤 현상이 발생하는지 위 Quiz를 통해 확인했습니다. 또한 이 현상으로 인해 프로그램이 종료되지 않도록 하기 위해 `try ~ except`를 활용하여 코드를 작성했었습니다. 그리고 `try ~ except ~ else`를 활용하여 코드를 작성했습니다.\n",
        "\n",
        "그런데 양의 정수를 입력하라고 했으나 사용자는 예를 들어 3.11과 같이 소수점 이하 숫자가 있는 실수를 입력할 수도 있습니다.\n",
        "\n",
        "- 1) 소수점이 있는 숫자를 입력할 경우 발생하는 현상을 설명하세요.\n",
        "- 2) 소수점 이하 값이 있는 숫자를 입력했을 때도 프로그램이 원활하게 동작하도록 코드를 수정하세요. 두 가지 이상의 방법을 제시하세요."
      ],
      "metadata": {
        "id": "HnOYf4VVQyq-"
      }
    },
    {
      "cell_type": "code",
      "source": [
        "# 방법 1\n",
        "positive_int = float( input('양의 정수를 입력 하세요 : ') )\n",
        "\n",
        "try:\n",
        "  d = 10 // positive_int\n",
        "  s = 10 % positive_int\n",
        "except:\n",
        "  print('예외 발생!')\n",
        "else:\n",
        "  print(f'입력하신 수, {positive_int}로 10을 나누었을 때 몫은 {d}이고 나머지는 {s}입니다.')"
      ],
      "metadata": {
        "id": "2_vu5J48eE9F"
      },
      "execution_count": null,
      "outputs": []
    },
    {
      "cell_type": "code",
      "source": [
        "# 방법 2\n",
        "n = input('양의 정수를 입력 하세요 : ')\n",
        "\n",
        "try:\n",
        "  positive_int = int(n)\n",
        "except:\n",
        "  print('입력 데이터 오류')\n",
        "else:\n"
      ],
      "metadata": {
        "colab": {
          "base_uri": "https://localhost:8080/"
        },
        "id": "qRTzCkTueNl-",
        "outputId": "26b15377-eb4b-4836-bdd1-796f2e24e8ea"
      },
      "execution_count": null,
      "outputs": [
        {
          "output_type": "stream",
          "name": "stdout",
          "text": [
            "양의 정수를 입력 하세요 : 3.11\n",
            "입력 데이터 오류\n"
          ]
        }
      ]
    },
    {
      "cell_type": "markdown",
      "source": [
        "###finally 구문\n",
        "예외가 발생하든 하지 않든 무조건 실행해야할 코드를 `finally` 부분에 위치 시킵니다.\n",
        "\n",
        "```python\n",
        "try:\n",
        "  # 예외가 발생할 가능성이 있는 코드\n",
        "except:\n",
        "  # 예외가 발생했을 때 실행되어야 하는 코드\n",
        "else:\n",
        "  # 예외가 발생하지 않았을 때 실행되어야 하는 코드\n",
        "finally:\n",
        "  # 예외 발생 여부와 관계 없이 무조건 실행되어하는 코드\n",
        "```\n"
      ],
      "metadata": {
        "id": "8aGvqmgt2lWs"
      }
    },
    {
      "cell_type": "code",
      "source": [
        "try:\n",
        "   number = int(input(\"정수 입력: \"))\n",
        "except:\n",
        "  print('정수를 입력하지 않았습니다.')\n",
        "else:\n",
        "  print('원의 반지름 :',number )\n",
        "  print('원의 둘레 :', 2*3.14*number )\n",
        "  print('원의 면적 :', 3.14* number* number)\n",
        "finally:\n",
        "  print('좋은 하루 보내세요.')"
      ],
      "metadata": {
        "id": "Y6_xZFH3yKXH",
        "colab": {
          "base_uri": "https://localhost:8080/"
        },
        "outputId": "4f634e6b-7b8b-45fa-b24b-403cd88f02f5"
      },
      "execution_count": null,
      "outputs": [
        {
          "output_type": "stream",
          "name": "stdout",
          "text": [
            "정수 입력: 1.1\n",
            "정수를 입력하지 않았습니다.\n",
            "좋은 하루 보내세요.\n"
          ]
        }
      ]
    },
    {
      "cell_type": "markdown",
      "source": [
        "####<ins>try, except, finally 구문의 조합</ins>\n",
        "예외 처리 구문은 다음과 같은 규칙을 지켜야합니다.\n",
        "\n",
        "- try 구문은 단독으로 사용할 수 없으며 반듯이 except 구문 또는 finally 구문과 함께 사용해야 합니다.\n",
        "- else 구문은 반듯이 except 구문 뒤에 사용해야 합니다.\n",
        "\n",
        "이를 조합해 보면  \n",
        "  - try + except\n",
        "  - try + except + else\n",
        "  - try + except + finally\n",
        "  - try + except + else + finally\n",
        "  - try + finally\n",
        "  "
      ],
      "metadata": {
        "id": "JPuQHe49Dk4L"
      }
    },
    {
      "cell_type": "markdown",
      "source": [
        "####<ins>finally에 대한 오해</ins>\n",
        "일반적으로 finally 키워드를 설명하는 예제로 '파일 처리'를 많이 사용합니다. 초보자를 위해 쉽게 설명하기 위한 용도로 좋기는 하지만, 실제 finally 구문을 사용하는 것과는 전혀 관련이 없습니다. 아마 이 책을 보는 분 중에서도 그렇게 잘못 알고 있는 경우가 있을 수 있으므로 왜 잘못되었는지 살펴보고 finally 키워드를 사용하는 상황에 대해 제대로 살펴보겠습니다.\n",
        "\n",
        "<br>\n",
        "\n",
        "파일이 열려 있으면 해당 파일을 다른 폴더(디렉토리)로 이동하거나 덮어 쓰기가 불가능합니다. 따라서 프로그램에서 파일을 열었으면(open) 무조건 닫아야(close)합니다. 파일이 닫쳤는지는 file 객체의 closed 속성 값을 보면 알수 있습니다.\n"
      ],
      "metadata": {
        "id": "iYFil_4fEXGu"
      }
    },
    {
      "cell_type": "code",
      "source": [
        "try:\n",
        "  file = open('info.txt', 'w')\n",
        "  # 여러 가지 업무 처리\n",
        "  file.close()          # 해당 파일을 닫습니다.\n",
        "\n",
        "except:\n",
        "  print('파일 처리에서 오류 발생')\n",
        "\n",
        "print('파일이 제대로 닫혔는지 확인하기')\n",
        "print('file.closed :', file.closed)"
      ],
      "metadata": {
        "id": "G5YAB8QWFzM6",
        "colab": {
          "base_uri": "https://localhost:8080/"
        },
        "outputId": "8a5d6f58-5cf0-4b21-f922-2bd3370a179e"
      },
      "execution_count": null,
      "outputs": [
        {
          "output_type": "stream",
          "name": "stdout",
          "text": [
            "파일이 제대로 닫혔는지 확인하기\n",
            "file.closed : True\n"
          ]
        }
      ]
    },
    {
      "cell_type": "markdown",
      "source": [
        "위 코드와 같이 파일을 잠간 열었다가 닫는 코드의 경우 설령 닫는데 실패했다고 해도 프로그램 코드가 종료되면서 열었던 파일은 자동으로 모두 닫습니다. 따라서 이런 류의 코드에서는 별 문제가 안될 수 있는데 항상 실행되고 있는 프로그램이라면 이야기가 다릅니다. 예를 들어, 서버를 구현한 코드라고 한다면 파일을 열었다가 닫지 못한다면 프로그램 코드가 종료 될 때까지 해당 파일에 대해 이동 및 덮어 쓰기가 불가능하게 됩니다.\n",
        "\n",
        "<br>\n",
        "위 코드 셀의 코드에서 \"여러 가지 업무 처리\"를 하는 부분에서 예외 상황이 발생했을 경우 `file.close()` 함수가 실행되지 않은 체로 다음으로 넘어가게 됩니다. 따라서 반듯이 finally 구문을 사용해서 파일을 닫아야 합니다."
      ],
      "metadata": {
        "id": "Q2UxxmHPGPcf"
      }
    },
    {
      "cell_type": "code",
      "source": [
        "try:\n",
        "  file = open('info.txt', 'w')\n",
        "  # 예외 발생 상황을 만들기 위해,\n",
        "  # 일부러 'ValueError'를 발생시키겠습니다.\n",
        "  raise ValueError\n",
        "\n",
        "  file.close()\n",
        "except:\n",
        "  print('파일 처리에서 오류 발생')\n",
        "\n",
        "print('파일이 제대로 닫혔는지 확인')\n",
        "print('file.closed :', file.closed)"
      ],
      "metadata": {
        "id": "-UtipBQsGLX5",
        "colab": {
          "base_uri": "https://localhost:8080/"
        },
        "outputId": "581645c1-24dc-46e5-e5c6-cd7765fa5044"
      },
      "execution_count": null,
      "outputs": [
        {
          "output_type": "stream",
          "name": "stdout",
          "text": [
            "파일 처리에서 오류 발생\n",
            "파일이 제대로 닫혔는지 확인\n",
            "file.closed : False\n"
          ]
        }
      ]
    },
    {
      "cell_type": "markdown",
      "source": [
        "위 코드의 5번 째 줄의 `raise`에 대해서는 뒤에서 살펴보기로 하고 여기서는 예외 상황을 의도적으로, 일부러 만들 수 있는 명령어라고만 생각하고 넘어가겠습니다. 위 코드의 경우 5번째 줄에서 예외 상황이 발생했습니다. 그래서 코드 해석 및 실행을 거기서 멈춘 후 `except` 부분으로 넘어가 코드 해석 및 실행을 하게 됩니다. 결국 `file.close()`가 실행이 되지 못한 것이죠. 따라서 해당 파일이 닫히지 못해, `file.closed`의 값은 `False`가 된 것입니다. 이렇게 되면 곤란하다는 거죠"
      ],
      "metadata": {
        "id": "HTMkLUxQH_-o"
      }
    },
    {
      "cell_type": "code",
      "source": [
        "try:\n",
        "  file = open('info.txt', 'w')\n",
        "  # 파일을 사용하는 작업을 진행 중에\n",
        "  # 예외 상황 발생\n",
        "\n",
        "  # 예외 발생 상황을 만들기 위해,\n",
        "  # 일부러 'ValueError'를 발생시키겠습니다.\n",
        "  raise ValueError\n",
        "\n",
        "except:\n",
        "  print('파일 처리에서 오류 발생')\n",
        "finally:\n",
        "  file.close()          # 해당 파일을 닫습니다.\n",
        "\n",
        "print('파일이 제대로 닫혔는지 확인하기')\n",
        "print('file.closed :', file.closed)"
      ],
      "metadata": {
        "id": "mIZpOfsdH6cH",
        "colab": {
          "base_uri": "https://localhost:8080/"
        },
        "outputId": "48510b7e-8261-4b8f-e77c-a5cb4887ce59"
      },
      "execution_count": null,
      "outputs": [
        {
          "output_type": "stream",
          "name": "stdout",
          "text": [
            "파일 처리에서 오류 발생\n",
            "파일이 제대로 닫혔는지 확인하기\n",
            "file.closed : True\n"
          ]
        }
      ]
    },
    {
      "cell_type": "markdown",
      "source": [
        "코드를 위와 같이 수정했습니다. 예외가 발생하든 발생하지 않든 `file.closed()`가 실행되게 말입니다.\n",
        "\n",
        "자~ 늘 그렇듯, 책을 보다가 뭔가 이해가 되면 만족감을 느끼면서 바로 이어서 '놀까?'하는 생각이 듭니다. 그런데 위 코드를 보면 굳이 `finally` 구문이 필요할까요? 아래 코드를 보시죠."
      ],
      "metadata": {
        "id": "CZJ9BwInI84O"
      }
    },
    {
      "cell_type": "code",
      "source": [
        "try:\n",
        "  file = open('info.txt', 'w')\n",
        "  # 예외 발생 상활을 만들기 위해,\n",
        "  # 일부러 'ValueError'를 발생시키겠습니다.\n",
        "  raise ValueError\n",
        "\n",
        "except:\n",
        "  print('파일 처리에서 오류 발생')\n",
        "\n",
        "file.close()          # 해당 파일을 닫습니다.\n",
        "print('파일이 제대로 닫혔는지 확인하기')\n",
        "print('file.closed :', file.closed)"
      ],
      "metadata": {
        "id": "fTRbHNCSI76n",
        "colab": {
          "base_uri": "https://localhost:8080/"
        },
        "outputId": "6bacc8c5-9fb9-4caa-c4e8-9f6fe93dddeb"
      },
      "execution_count": null,
      "outputs": [
        {
          "output_type": "stream",
          "name": "stdout",
          "text": [
            "파일 처리에서 오류 발생\n",
            "파일이 제대로 닫혔는지 확인하기\n",
            "file.closed : True\n"
          ]
        }
      ]
    },
    {
      "cell_type": "markdown",
      "source": [
        "위 코드 또한 예외가 발생하든 발생하지 않든 `file.close()`가 실행됩니다. 문제 없다는 말입니다. 그런데 꼭 `finally` 구분을 이용해서 `file.close()`가 실행되어야 한다고 잘못 이해하는 사람이 있는 것 같아서 말씀을 드렸습니다. (강사 - 책 저자의 의도입니다)\n",
        "\n",
        "<br>\n",
        "\n",
        "\n",
        "`finally` 구문은 `finally` 구문을 썼을 때 코드가 깔끔해진다고 생각되는 경우에 사용하시면 되겠습니다. 그런 경우가 어떤 것이 있는지 살펴보겠습니다."
      ],
      "metadata": {
        "id": "m-chBDDJJ5k2"
      }
    },
    {
      "cell_type": "markdown",
      "source": [
        "####<ins>try 구문 내부에서 return 키워드를 사용하는 경우</ins>\n",
        "finally 구문은 반복문 또는 함수 내부에 있을 때 위력을 발휘합니다. 일단 다음 코드를 보고 프로그램의 실행 결과를 예측해 보세요."
      ],
      "metadata": {
        "id": "heyQ3SrnK7JA"
      }
    },
    {
      "cell_type": "code",
      "source": [
        "def test():\n",
        "  print('test() 함수의 첫 줄입니다.')\n",
        "\n",
        "  try:\n",
        "    print('try 구문이 실행되었습니다.')\n",
        "    return\n",
        "    print('try 구문의 return 키워드 뒤입니다.')\n",
        "  except:\n",
        "    print('except 구문이 실행되었습니다.')\n",
        "  else:\n",
        "    print('else 구문이 실행되었습니다.')\n",
        "  finally:\n",
        "    print('finally 구문이 실행되었습니다.')\n",
        "\n",
        "  print('test() 함수의 마지막 줄입니다.')\n",
        "\n",
        "test()"
      ],
      "metadata": {
        "id": "egR4zjlXqElc",
        "colab": {
          "base_uri": "https://localhost:8080/"
        },
        "outputId": "049435b8-82b5-4c17-a379-9596aac4637d"
      },
      "execution_count": null,
      "outputs": [
        {
          "output_type": "stream",
          "name": "stdout",
          "text": [
            "test() 함수의 첫 줄입니다.\n",
            "try 구문이 실행되었습니다.\n",
            "finally 구문이 실행되었습니다.\n"
          ]
        }
      ]
    },
    {
      "cell_type": "markdown",
      "source": [
        "`try` 구문 내부에 `return` 키워드가 있다는 것을 주의 깊게 보셔야 합니다. <font color=red> `try` 구문 중간에 `return`되어도 `finally` 구문은 무조건 실행됩니다.</font> 따라서 함수 내부에서 파일 처리 코드를 깔끔하게 만들고 싶을 때 `finally` 구문을 활용하는 경우가 많습니다. `try` 구문에서 원할 때 `return` 키워드로 함수가 제어권을 호출한 쪽으로 넘긴다 해도 finally 문을 사용해서 파일을 닫을 수 있기 때문입니다."
      ],
      "metadata": {
        "id": "0E9kLbqfq1cy"
      }
    },
    {
      "cell_type": "code",
      "source": [
        "def write_text_file(filename, text):\n",
        "  try:\n",
        "    file = open(filename, 'w')\n",
        "    return\n",
        "    file.write(text)\n",
        "  except:\n",
        "    print('오류 발생')\n",
        "  finally:\n",
        "    file.close()\n",
        "\n",
        "write_text_file('test.txt', '안녕하세요!')"
      ],
      "metadata": {
        "id": "eio9Jxz7ruPU"
      },
      "execution_count": null,
      "outputs": []
    },
    {
      "cell_type": "markdown",
      "source": [
        "만약 `return` 키워드 등으로 함수를 빠져나갈 때마다 `close()`를 하도록 코드를 작성했다면 코드가 굉장히 복잡해질 것입니다. 하지만 이렇게 `finally` 구문에서 `close()`함수를 호출하도록 코드를 만들면 코드가 깔끔해집니다."
      ],
      "metadata": {
        "id": "ZG5ad4OEsUBz"
      }
    },
    {
      "cell_type": "markdown",
      "source": [
        "####<ins>반복문과 함께 사용하는 경우</ins>\n",
        "finally 구문은 무조건 실행됩니다. 따라서 **<font color=blue>반복문에서 `break`로 빠져나갈 때도 마찬가지로 `finally` 구문은 실행됩니다.</font>**"
      ],
      "metadata": {
        "id": "gVlhn2Grsn8R"
      }
    },
    {
      "cell_type": "code",
      "source": [
        "print('프로그램이 시작되었습니다.')               #\n",
        "\n",
        "while True:\n",
        "  try:\n",
        "    print('try 구문이 실행되었습니다.')           #\n",
        "    break\n",
        "    print('try 구문의 break 키워드 뒤입니다.')\n",
        "  except:\n",
        "    print('except 구문이 실행되었습니다.')\n",
        "  finally:\n",
        "    print('finally 구문이 실행되었습니다.')       #\n",
        "\n",
        "print('프로그램이 종료되었습니다.')               #"
      ],
      "metadata": {
        "id": "D_5qYksqs9FY",
        "colab": {
          "base_uri": "https://localhost:8080/"
        },
        "outputId": "b386e170-ce04-439f-f227-1ccb958f96cc"
      },
      "execution_count": null,
      "outputs": [
        {
          "output_type": "stream",
          "name": "stdout",
          "text": [
            "프로그램이 시작되었습니다.\n",
            "try 구문이 실해되었습니다.\n",
            "finally 구문이 실행되었습니다.\n",
            "프로그램이 종료되었습니다.\n"
          ]
        }
      ]
    },
    {
      "cell_type": "markdown",
      "source": [
        "##Ch06 - 2 예외 고급\n"
      ],
      "metadata": {
        "id": "erEjiiZ3ttJA"
      }
    },
    {
      "cell_type": "markdown",
      "source": [
        "####**시작하기 전에**\n",
        "현실에서 어떤 사건이 발생하면 '누가, 언제, 어디서'라는 정보가 생깁니다. 프로그래밍 언어도 예외가 발생하면 예외와 관련된 정보가 생성됩니다. 예외 정보는 **예외 객체(exception object)**에 저장됩니다.\n",
        "\n",
        "<br>\n",
        "\n",
        "예외 객체는 다음과 같은 형태로 사용합니다.\n",
        "```python\n",
        "try:\n",
        "  예외가 발생할 가능성이 있는 구문\n",
        "except 예외의 종류 as 예외 객체를 활용할 변수 이름:\n",
        "  예외가 발생했을 때 실행할 구문\n",
        "```\n"
      ],
      "metadata": {
        "id": "9Ls-PG75twzm"
      }
    },
    {
      "cell_type": "markdown",
      "source": [
        "###예외 객체\n",
        "처음 예외 객체를 사용해 보면 '예외의 종류'가 뭔지 몰라 당황하는 경우가 있습니다. 그럴 때는 '모든 예외의 어머니'라고 불리는 Exception을 사용합니다.\n",
        "\n",
        "웃자고 하는 소리인데, 인터넷에서 봤습니다. 낙타는 누가 낳았게요? 양치기 소년이 말했습니다. \"늑대가 나타났다. 늑대가 낙타 낳다\"\n",
        "\n",
        "우리가 아직 '클래스'라는 개념과 '객체'라는 개념을 배우지 않았습니다만 언젠가부터 객체(object)라는 표현을 쓰고 있습니다. 수업 시간에 자세히 설명을 드리겠습니다만 매우 매우 간단히 \"모든 예외 객체의 어머니\"라는 말의 뜻을 설명해 보려고 합니다.\n",
        "\n",
        "객체를 '일꾼'이라고 번역, 해석하는 사람이나 교재를 본 적은 없습니다만 저는 '객체'를 일꾼으로 해석할 때가 있습니다. 예외 처리를 하는 객체(일꾼)는 부모 (일꾼)부터 특성을 물려받았습니다. 부모가 달리기를 잘 해요 그럼 자식도 달리기를 잘 하는 유전자가 있다고 봐야겠지요.\n",
        "\n",
        "예외를 처리할 수 있는 객체(일꾼)의 부모(어머니)도 당연히 예외 처리를 할 수 있습니다. ValueError 예외 처리를 할 수 있는 객체의 부모(어머니)이자 TypeError 예외 처리를 할 수 있는 객체의 부모(어미니)이자.... 즉 그 부모(어미니)께서 여러 명의 일꾼을 낳았는데 그 일꾼들은 저마다 처리할 수 있는 예외가 다릅니다. 그 자식들은 그 보모로부터 능력을 물려 받은 것이니 그 부모는 모든 예외를 처리할 수 있습니다.\n",
        "\n",
        "제가 일꾼이라면 저의 아버지도 일꾼이고 저의 할아버지도 일꾼입니다. 저의 부모 그리고 그 부모의 부모.... 단군할아버지? 할머니는? 그래서 단군 부모쯤 되겠습니다. 뭐가? '모든 예외(처리)의 어머니!'가.\n",
        "\n",
        "뭔가 그럴듯 하다고 생각되지 않으시면 그만 고민하시고 다음 코드를 보시죠.\n",
        "\n"
      ],
      "metadata": {
        "id": "KOr60LjbvI1b"
      }
    },
    {
      "cell_type": "code",
      "source": [
        "try:\n",
        "  number = int(input('정수 입력 > '))\n",
        "  print('원의 반지름 :',number )\n",
        "  print('원의 둘레 :', 2*3.14*number )\n",
        "  print('원의 면적 :', 3.14* number* number)\n",
        "\n",
        "except Exception as exception:\n",
        "  # 예외 객체를 출력해 봅니다.\n",
        "  print('type(exception) :', type(exception))\n",
        "  print('exception :', exception)"
      ],
      "metadata": {
        "id": "N3NXr5U-xIIh",
        "colab": {
          "base_uri": "https://localhost:8080/"
        },
        "outputId": "db66cfb6-e854-4603-e603-8be8d61c2ed9"
      },
      "execution_count": null,
      "outputs": [
        {
          "output_type": "stream",
          "name": "stdout",
          "text": [
            "정수 입력 > 7세\n",
            "type(exception) : <class 'ValueError'>\n",
            "exception : invalid literal for int() with base 10: '7세'\n"
          ]
        }
      ]
    },
    {
      "cell_type": "markdown",
      "source": [
        "이야기를 더 진행해 보겠습니다."
      ],
      "metadata": {
        "id": "YhUQKWXiyh3s"
      }
    },
    {
      "cell_type": "markdown",
      "source": [
        "###예외 구분하기\n",
        "예외 객체를 사용하면 except 구문을 if 조건문처럼 사용해서 예외를 구분할 수 있습니다."
      ],
      "metadata": {
        "id": "u5NMm8IbyUPm"
      }
    },
    {
      "cell_type": "markdown",
      "source": [
        "####<ins>여러 가지 예외가 발생할 수 있는 상활</ins>\n",
        "아래 코드는 사용자로부터 리스트에 대한 인덱스 값을 입력 받아 인덱스에 해당하는 리스트 요소를 출력하는 코드입니다. 인덱스, `idx`는 양의 정수이어야 하며 최대 \"리스트의 길이 - 1\"를 초과 할 수 없습니다."
      ],
      "metadata": {
        "id": "mbWbzd_4yttm"
      }
    },
    {
      "cell_type": "code",
      "source": [
        "lst = [1, 2, 3, 4, 5]\n",
        "\n",
        "try:\n",
        "  idx = int( input('양의 정수 입력(범위는 0부터 {})> '.format(len(lst)-1)))\n",
        "  print('{}번째 요소 : {}'.format(idx, lst[idx]))\n",
        "\n",
        "except Exception as error:\n",
        "  print('type(error) :', type(error))\n",
        "  print('error :', error)"
      ],
      "metadata": {
        "colab": {
          "base_uri": "https://localhost:8080/"
        },
        "id": "9FP6fltZyy-K",
        "outputId": "cfbca9a5-1fd6-4b8a-d0e2-828d15c1ea06"
      },
      "execution_count": null,
      "outputs": [
        {
          "output_type": "stream",
          "name": "stdout",
          "text": [
            "양의 정수 입력(범위는 0부터 4)> 일\n",
            "type(error) : <class 'ValueError'>\n",
            "error : invalid literal for int() with base 10: '일'\n"
          ]
        }
      ]
    },
    {
      "cell_type": "markdown",
      "source": [
        "입력 값을 '일'이라는 문자열을 입력했습니다. `ValueError`가 발생합니다."
      ],
      "metadata": {
        "id": "UyBaM22rz_8t"
      }
    },
    {
      "cell_type": "code",
      "source": [
        "lst = [1, 2, 3, 4, 5]\n",
        "\n",
        "try:\n",
        "  idx = int( input('양의 정수 입력(범위는 0부터 {})> '.format(len(lst)-1)))\n",
        "  print('{}번째 요소 : {}'.format(idx, lst[idx]))\n",
        "\n",
        "except Exception as exception:\n",
        "  print('type(exception) :', type(exception))\n",
        "  print('excepton :', exception)"
      ],
      "metadata": {
        "colab": {
          "base_uri": "https://localhost:8080/"
        },
        "id": "QnYZJVzRxn7w",
        "outputId": "9eb8e0ba-626d-4f7d-dde1-77449a4c8e0e"
      },
      "execution_count": null,
      "outputs": [
        {
          "output_type": "stream",
          "name": "stdout",
          "text": [
            "양의 정수 입력(범위는 0부터 4)> 5\n",
            "type(exception) : <class 'IndexError'>\n",
            "excepton : list index out of range\n"
          ]
        }
      ]
    },
    {
      "cell_type": "markdown",
      "source": [
        "이번에는 리스트의 인덱스 범위를 벗어난 수 5를 입력했습니다. 그랬더니 IndexError가 발생했습니다."
      ],
      "metadata": {
        "id": "wZMcP2Cl0Rw7"
      }
    },
    {
      "cell_type": "markdown",
      "source": [
        "이처럼 여러 가지 예외가 발생할 수 있는데 파이썬은 어떤 예외인지 구분해서 처리할 수 있습니다.\n",
        "\n",
        "```python\n",
        "try:\n",
        "  예외가 발생할 수 있는 구문\n",
        "except 예외의 종류A:\n",
        "  예외A가 발생했을 때 실행할 구문\n",
        "except 예외의 종류B:\n",
        "  예외B가 발생했을 때 실행할 구문\n",
        "except 예외의 종류C:\n",
        "  예외C가 발생했을 때 실해할 구문\n",
        "```\n",
        "위에서 보인 두 가지 예외, ValueError와 IndexError를 구분해서 처리하는 코드를 보시겠습니다."
      ],
      "metadata": {
        "id": "zq7c7XCg0dli"
      }
    },
    {
      "cell_type": "code",
      "source": [
        "lst = [1, 2, 3, 4, 5]\n",
        "\n",
        "try:\n",
        "  idx = int( input('양의 정수 입력(범위는 0부터 {})> '.format(len(lst)-1)))\n",
        "  print('{}번째 요소 : {}'.format(idx, lst[idx]))\n",
        "except ValueError:\n",
        "  print('정수를 입력해 주세요.')\n",
        "except IndexError:\n",
        "  print('리스트의 인덱스 범위를 벗어났습니다.')"
      ],
      "metadata": {
        "colab": {
          "base_uri": "https://localhost:8080/"
        },
        "id": "AO2V8ZWd0m4P",
        "outputId": "ee13b2d9-086c-4144-9d1c-162d2146e60c"
      },
      "execution_count": null,
      "outputs": [
        {
          "output_type": "stream",
          "name": "stdout",
          "text": [
            "양의 정수 입력(범위는 0부터 4)> 5\n",
            "리스트의 인덱스 범위를 벗어났습니다.\n"
          ]
        }
      ]
    },
    {
      "cell_type": "markdown",
      "source": [
        "####<ins>예외 구분 구문과 예외 객체</ins>\n",
        "예외를 구분할 때 각각의 `except` 구문 뒤에 예외 객체를 붙여 활용할 수도 있습니다. 마찬가지로 `as` 키워드를 사용하면 됩니다."
      ],
      "metadata": {
        "id": "GcLeK2dH11hl"
      }
    },
    {
      "cell_type": "code",
      "source": [
        "lst = [1, 2, 3, 4, 5]\n",
        "\n",
        "try:\n",
        "  idx = int( input('양의 정수 입력(범위는 0부터 {})> '.format(len(lst)-1)))\n",
        "  print('{}번째 요소 : {}'.format(idx, lst[idx]))\n",
        "\n",
        "except ValueError as exception:\n",
        "  print('정수를 입력해 주세요.')\n",
        "  print('exception :', exception)\n",
        "except IndexError as exception:\n",
        "  print('리스트의 인덱스 범위를 벗어났습니다.')\n",
        "  print('exception :', exception)"
      ],
      "metadata": {
        "colab": {
          "base_uri": "https://localhost:8080/"
        },
        "id": "vkqddpIr0QiG",
        "outputId": "62f0d980-9aa3-4134-ea63-ed668560a079"
      },
      "execution_count": null,
      "outputs": [
        {
          "output_type": "stream",
          "name": "stdout",
          "text": [
            "양의 정수 입력(범위는 0부터 4)> 일\n",
            "정수를 입력해 주세요.\n",
            "exception : invalid literal for int() with base 10: '일'\n"
          ]
        }
      ]
    },
    {
      "cell_type": "markdown",
      "source": [
        "###모든 예외 잡기\n",
        "<font color=blue>except 구문으로 예외를 구분하면 if, elif, else 조건문처럼 차례대로 오류를 검사하면서 오류의 타입을 알수 있습니다.</font> 만약 except 구문으로 나눠 놓은 예외에 해당되지 않는 예외라면 예외 발생으로 프로그램은 종료됩니다."
      ],
      "metadata": {
        "id": "QairJ23b3CCL"
      }
    },
    {
      "cell_type": "markdown",
      "source": [
        "아래 코드와 같이 숫자 형 데이터와 문자열 형 데이터를 가지고 `+`연산을 했을 때는 TypeError가 발생을 합니다. 그런데 TypeError에 대한 예외 처리를 만들어 놓지 않았다면 프로그램은 종료됩니다.\n"
      ],
      "metadata": {
        "id": "UZH4wWVG_Wz_"
      }
    },
    {
      "cell_type": "code",
      "source": [
        "a = 2\n",
        "a + '입니다.'"
      ],
      "metadata": {
        "id": "fFWLwUfMADqq",
        "colab": {
          "base_uri": "https://localhost:8080/",
          "height": 193
        },
        "outputId": "1755df38-0c29-4b29-c845-4b51566e8338"
      },
      "execution_count": null,
      "outputs": [
        {
          "output_type": "error",
          "ename": "TypeError",
          "evalue": "ignored",
          "traceback": [
            "\u001b[0;31m---------------------------------------------------------------------------\u001b[0m",
            "\u001b[0;31mTypeError\u001b[0m                                 Traceback (most recent call last)",
            "\u001b[0;32m<ipython-input-14-5b83157772c8>\u001b[0m in \u001b[0;36m<cell line: 2>\u001b[0;34m()\u001b[0m\n\u001b[1;32m      1\u001b[0m \u001b[0ma\u001b[0m \u001b[0;34m=\u001b[0m \u001b[0;36m2\u001b[0m\u001b[0;34m\u001b[0m\u001b[0;34m\u001b[0m\u001b[0m\n\u001b[0;32m----> 2\u001b[0;31m \u001b[0ma\u001b[0m \u001b[0;34m+\u001b[0m \u001b[0;34m'입니다.'\u001b[0m\u001b[0;34m\u001b[0m\u001b[0;34m\u001b[0m\u001b[0m\n\u001b[0m",
            "\u001b[0;31mTypeError\u001b[0m: unsupported operand type(s) for +: 'int' and 'str'"
          ]
        }
      ]
    },
    {
      "cell_type": "markdown",
      "source": [
        "아래 코드에서는 인위적으로 TypeError를 발생시켜 보겠습니다. 그런데 TypeError 예외를 처리할 except 구문을 만들지 않겠습니다."
      ],
      "metadata": {
        "id": "3MqkNTPMAFmG"
      }
    },
    {
      "cell_type": "code",
      "source": [
        "lst = [1, 2, 3, 4, 5]\n",
        "\n",
        "try:\n",
        "  idx = int( input('양의 정수 입력(범위는 0부터 {}) : '.format(len(lst)-1)))\n",
        "  print(idx + '번째 요소 : {}'.format(lst[idx]))    # 일부러 TypeError 발생시킴\n",
        "\n",
        "except ValueError as exception:\n",
        "  print('정수를 입력해 주세요.')\n",
        "  print('exception :', exception)\n",
        "except IndexError as exception:\n",
        "  print('리스트의 인덱스 범위를 벗어났습니다.')\n",
        "  print('exception :', exception)"
      ],
      "metadata": {
        "colab": {
          "base_uri": "https://localhost:8080/",
          "height": 273
        },
        "id": "vUlt5mjC_JOU",
        "outputId": "17ffdd61-4358-4dd1-ff37-4eaa266980ca"
      },
      "execution_count": null,
      "outputs": [
        {
          "name": "stdout",
          "output_type": "stream",
          "text": [
            "양의 정수 입력(범위는 0부터 4) : 2\n"
          ]
        },
        {
          "output_type": "error",
          "ename": "TypeError",
          "evalue": "unsupported operand type(s) for +: 'int' and 'str'",
          "traceback": [
            "\u001b[0;31m---------------------------------------------------------------------------\u001b[0m",
            "\u001b[0;31mTypeError\u001b[0m                                 Traceback (most recent call last)",
            "\u001b[0;32m<ipython-input-14-b9a161ce7b5f>\u001b[0m in \u001b[0;36m<cell line: 3>\u001b[0;34m()\u001b[0m\n\u001b[1;32m      3\u001b[0m \u001b[0;32mtry\u001b[0m\u001b[0;34m:\u001b[0m\u001b[0;34m\u001b[0m\u001b[0;34m\u001b[0m\u001b[0m\n\u001b[1;32m      4\u001b[0m   \u001b[0midx\u001b[0m \u001b[0;34m=\u001b[0m \u001b[0mint\u001b[0m\u001b[0;34m(\u001b[0m \u001b[0minput\u001b[0m\u001b[0;34m(\u001b[0m\u001b[0;34m'양의 정수 입력(범위는 0부터 {}) : '\u001b[0m\u001b[0;34m.\u001b[0m\u001b[0mformat\u001b[0m\u001b[0;34m(\u001b[0m\u001b[0mlen\u001b[0m\u001b[0;34m(\u001b[0m\u001b[0mlst\u001b[0m\u001b[0;34m)\u001b[0m\u001b[0;34m-\u001b[0m\u001b[0;36m1\u001b[0m\u001b[0;34m)\u001b[0m\u001b[0;34m)\u001b[0m\u001b[0;34m)\u001b[0m\u001b[0;34m\u001b[0m\u001b[0;34m\u001b[0m\u001b[0m\n\u001b[0;32m----> 5\u001b[0;31m   \u001b[0mprint\u001b[0m\u001b[0;34m(\u001b[0m\u001b[0midx\u001b[0m \u001b[0;34m+\u001b[0m \u001b[0;34m'번째 요소 : {}'\u001b[0m\u001b[0;34m.\u001b[0m\u001b[0mformat\u001b[0m\u001b[0;34m(\u001b[0m\u001b[0mlst\u001b[0m\u001b[0;34m[\u001b[0m\u001b[0midx\u001b[0m\u001b[0;34m]\u001b[0m\u001b[0;34m)\u001b[0m\u001b[0;34m)\u001b[0m    \u001b[0;31m# 일부러 TypeError 발생시킴\u001b[0m\u001b[0;34m\u001b[0m\u001b[0;34m\u001b[0m\u001b[0m\n\u001b[0m\u001b[1;32m      6\u001b[0m \u001b[0;34m\u001b[0m\u001b[0m\n\u001b[1;32m      7\u001b[0m \u001b[0;32mexcept\u001b[0m \u001b[0mValueError\u001b[0m \u001b[0;32mas\u001b[0m \u001b[0mexception\u001b[0m\u001b[0;34m:\u001b[0m\u001b[0;34m\u001b[0m\u001b[0;34m\u001b[0m\u001b[0m\n",
            "\u001b[0;31mTypeError\u001b[0m: unsupported operand type(s) for +: 'int' and 'str'"
          ]
        }
      ]
    },
    {
      "cell_type": "markdown",
      "source": [
        "TypeError로 인해 프로그램이 실행 도중 종료되었습니다. 인위적으로 TypeError를 발생시켰기 때문에 우리는 TypeError가 발생할 것을 예상할 수 있었지만 except 구문으로 예외 처리를 설정해 놓지 않은 예외가 발생할 수 있습니다. 그래서 프로그램이 실행 도중 종료될 수 있는데 이를 막기 위해 코드를 수정해 보겠습니다."
      ],
      "metadata": {
        "id": "aavCg2gEAVY3"
      }
    },
    {
      "cell_type": "code",
      "source": [
        "lst = [1, 2, 3, 4, 5]\n",
        "\n",
        "try:\n",
        "  idx = int( input('양의 정수 입력(범위는 0부터 {})> '.format(len(lst)-1)))\n",
        "  print(idx + '번째 요소 : {}'.format(lst[idx]))    # 일부러 TypeError 발생시킴\n",
        "\n",
        "except ValueError as exception:\n",
        "  print('정수를 입력해 주세요.')\n",
        "  print('exception :', exception)\n",
        "except IndexError as exception:\n",
        "  print('리스트의 인덱스 범위를 벗어났습니다.')\n",
        "  print('exception :', exception)\n",
        "except Exception as exception:\n",
        "  print('예상하지 못한 예외 상활 발생')\n",
        "  print(type(exception), exception)"
      ],
      "metadata": {
        "colab": {
          "base_uri": "https://localhost:8080/"
        },
        "id": "FbYZa13h23Du",
        "outputId": "e319f0db-5e6c-4705-a447-fc4ba363d2bc"
      },
      "execution_count": null,
      "outputs": [
        {
          "output_type": "stream",
          "name": "stdout",
          "text": [
            "양의 정수 입력(범위는 0부터 4)> 2\n",
            "예상하지 못한 예외 상활 발생\n",
            "<class 'TypeError'> unsupported operand type(s) for +: 'int' and 'str'\n"
          ]
        }
      ]
    },
    {
      "cell_type": "markdown",
      "source": [
        "모든 상황을 다 예측할 수는 없지만 발생 가능한 모든 예외 상황을 예측해서 예외 상활이 발생했을 때 적절히 대응할 수 있도록 코드를 작성해야겠습니다."
      ],
      "metadata": {
        "id": "_GmuSBE9Bue_"
      }
    },
    {
      "cell_type": "code",
      "source": [
        "lst = [1, 2, 3, 4, 5]\n",
        "\n",
        "try:\n",
        "  idx = int( input('양의 정수 입력(범위는 0부터 {})> '.format(len(lst)-1)))\n",
        "  print(idx + '번째 요소 : {}'.format(lst[idx]))    # 일부러 TypeError 발생시킴\n",
        "\n",
        "except Exception as exception:\n",
        "  print('예상하지 못한 예외 상활 발생')\n",
        "  print(type(exception), exception)\n",
        "except ValueError as exception:\n",
        "  print('정수를 입력해 주세요.')\n",
        "  print('exception :', exception)\n",
        "except IndexError as exception:\n",
        "  print('리스트의 인덱스 범위를 벗어났습니다.')\n",
        "  print('exception :', exception)\n",
        "except TypeError as ex:\n",
        "  print('llllllll')\n",
        "  print('exception :', ex)"
      ],
      "metadata": {
        "colab": {
          "base_uri": "https://localhost:8080/"
        },
        "id": "qcsPtq-NEhbb",
        "outputId": "0b136b1b-a66a-4d18-f77c-02e92fce7f95"
      },
      "execution_count": null,
      "outputs": [
        {
          "output_type": "stream",
          "name": "stdout",
          "text": [
            "양의 정수 입력(범위는 0부터 4)> a\n",
            "예상하지 못한 예외 상활 발생\n",
            "<class 'ValueError'> invalid literal for int() with base 10: 'a'\n"
          ]
        }
      ]
    },
    {
      "cell_type": "markdown",
      "source": [
        "###<font color=blue>Quiz</font>\n",
        "\n",
        "위 코드를 실행시킨 후 문자 `'a'`를 입력하면 4라인은 `int('a')`와 같은 연산을 시도합니다. 따라서 ValueError가 발생합니다. 그러면 10번 라인에 걸리나요? 아니면 7번 라인에 걸리나요?\n"
      ],
      "metadata": {
        "id": "99BU_fOPE2I6"
      }
    },
    {
      "cell_type": "markdown",
      "source": [
        "###raise 구문\n",
        "프로그램이 실행 도중 강제 종료되는 것을 막기 위해 예외는 꼭 처리되어야 합니다. 하지만 프로그램을 개발하는 동안에는 정말 의도적으로 예외 상황을 만들기도 합니다. '아직 구현하지 않은 부분이 있는데 까먹을 수 있으니 확실하게 문제(에러)가 생기게 만들자. 그래서 나중에 이부분을 코딩해야한다는 것을 기억하게' 또는 '이 상태로 프로그램이 더 진행되면 프로그램이 이 시점에 종료하는 것 보다 더 큰 문제를 이르킬 수 있으니 여기서 강제 종료 시키자' 등의 이유에서 의도적으로 예외를 발생시키게 됩니다."
      ],
      "metadata": {
        "id": "cEBYm6L0B8ca"
      }
    },
    {
      "cell_type": "code",
      "source": [
        "number = input('정수 입력 > ')\n",
        "number = int( number )\n",
        "\n",
        "if number > 0:\n",
        "  # 양수일 때, 아직 미구현\n",
        "  raise NotImplementedError\n",
        "else:\n",
        "  #음수 일때, 아직 미구현\n",
        "  raise NotImplementedError"
      ],
      "metadata": {
        "colab": {
          "base_uri": "https://localhost:8080/",
          "height": 273
        },
        "id": "fz4kRry7CmS6",
        "outputId": "c17333ea-f1c1-48c1-9826-ac1d8deac42f"
      },
      "execution_count": null,
      "outputs": [
        {
          "name": "stdout",
          "output_type": "stream",
          "text": [
            "정수 입력 > 1\n"
          ]
        },
        {
          "output_type": "error",
          "ename": "NotImplementedError",
          "evalue": "",
          "traceback": [
            "\u001b[0;31m---------------------------------------------------------------------------\u001b[0m",
            "\u001b[0;31mNotImplementedError\u001b[0m                       Traceback (most recent call last)",
            "\u001b[0;32m<ipython-input-16-ff4b79803769>\u001b[0m in \u001b[0;36m<cell line: 4>\u001b[0;34m()\u001b[0m\n\u001b[1;32m      4\u001b[0m \u001b[0;32mif\u001b[0m \u001b[0mnumber\u001b[0m \u001b[0;34m>\u001b[0m \u001b[0;36m0\u001b[0m\u001b[0;34m:\u001b[0m\u001b[0;34m\u001b[0m\u001b[0;34m\u001b[0m\u001b[0m\n\u001b[1;32m      5\u001b[0m   \u001b[0;31m# 양수일 때, 아직 미구현\u001b[0m\u001b[0;34m\u001b[0m\u001b[0;34m\u001b[0m\u001b[0m\n\u001b[0;32m----> 6\u001b[0;31m   \u001b[0;32mraise\u001b[0m \u001b[0mNotImplementedError\u001b[0m\u001b[0;34m\u001b[0m\u001b[0;34m\u001b[0m\u001b[0m\n\u001b[0m\u001b[1;32m      7\u001b[0m \u001b[0;32melse\u001b[0m\u001b[0;34m:\u001b[0m\u001b[0;34m\u001b[0m\u001b[0;34m\u001b[0m\u001b[0m\n\u001b[1;32m      8\u001b[0m   \u001b[0;31m#음수 일때, 아직 미구현\u001b[0m\u001b[0;34m\u001b[0m\u001b[0;34m\u001b[0m\u001b[0m\n",
            "\u001b[0;31mNotImplementedError\u001b[0m: "
          ]
        }
      ]
    },
    {
      "cell_type": "markdown",
      "source": [
        "아직 구현되지 않은 부분이므로 일부러 예외를 발생시켜 프로그램이 종료되게 만들어서 미 구현된 파트가 여기 있다는 것을 잊어버리지 않게 하는 것입니다. 이때 사용한 raise 키워드가 예외를 인위적으로 발생시키는 명령입니다.\n",
        "\n",
        "```python\n",
        "raise 예외_객체\n",
        "```\n"
      ],
      "metadata": {
        "id": "jZvIEvzFDAk-"
      }
    },
    {
      "cell_type": "markdown",
      "source": [
        "#강사의 말\n",
        "\n",
        "책을 쓰신 분께서 1장부터 6장까지가 '기본'이라고 하셨고 이후 남은 '모듈'과 '클래스'를 고급으로 나누었습니다. 기본 편에서 어떤 내용까지 다루는 것이 맞는지 정확한 기준이 있는 것은 아니지만 제(강사) 생각에는 1장부터 6장까지 진행해 오는 동안 기본 수준을 넘는 내용도 꽤 있었다고 생각합니다. 여기까지 잘 \"살아서\" 오셨기를 바라며 진도가 더 나가기 전에 그간 배웠던 내용을 활용하여 프로그램의 하나 작성해 보는, 소규모 프로젝트를 진행해 보는 것을 권합니다.\n",
        "\n",
        "여기까지 오시느라 수고 많으셨습니다. \"제 7 장 - 모듈\"에서 다시 뵙겠습니다.\n"
      ],
      "metadata": {
        "id": "c6VdkldqDiMz"
      }
    },
    {
      "cell_type": "code",
      "source": [],
      "metadata": {
        "id": "rTeJmWyX_TB8"
      },
      "execution_count": null,
      "outputs": []
    }
  ]
}