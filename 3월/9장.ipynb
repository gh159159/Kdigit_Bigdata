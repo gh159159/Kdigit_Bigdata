{
 "cells": [
  {
   "cell_type": "code",
   "execution_count": 13,
   "id": "481a348d-3a1b-4032-8de8-e617d0a1942c",
   "metadata": {
    "tags": []
   },
   "outputs": [],
   "source": [
    "import pandas as pd\n",
    "import numpy as np\n",
    "import seaborn as sns"
   ]
  },
  {
   "cell_type": "code",
   "execution_count": 14,
   "id": "4fc38855-0c6e-4066-bc22-e9f793f76d5c",
   "metadata": {
    "tags": []
   },
   "outputs": [
    {
     "data": {
      "text/html": [
       "<div>\n",
       "<style scoped>\n",
       "    .dataframe tbody tr th:only-of-type {\n",
       "        vertical-align: middle;\n",
       "    }\n",
       "\n",
       "    .dataframe tbody tr th {\n",
       "        vertical-align: top;\n",
       "    }\n",
       "\n",
       "    .dataframe thead th {\n",
       "        text-align: right;\n",
       "    }\n",
       "</style>\n",
       "<table border=\"1\" class=\"dataframe\">\n",
       "  <thead>\n",
       "    <tr style=\"text-align: right;\">\n",
       "      <th></th>\n",
       "      <th>h14_id</th>\n",
       "      <th>h14_ind</th>\n",
       "      <th>h14_sn</th>\n",
       "      <th>h14_merkey</th>\n",
       "      <th>h_new</th>\n",
       "      <th>h14_cobf</th>\n",
       "      <th>p14_wsc</th>\n",
       "      <th>p14_wsl</th>\n",
       "      <th>p14_wgc</th>\n",
       "      <th>p14_wgl</th>\n",
       "      <th>...</th>\n",
       "      <th>wc14_64</th>\n",
       "      <th>wc14_65</th>\n",
       "      <th>wc14_5aq4</th>\n",
       "      <th>wc14_5aq5</th>\n",
       "      <th>wc14_5aq6</th>\n",
       "      <th>h14_pers_income1</th>\n",
       "      <th>h14_pers_income2</th>\n",
       "      <th>h14_pers_income3</th>\n",
       "      <th>h14_pers_income4</th>\n",
       "      <th>h14_pers_income5</th>\n",
       "    </tr>\n",
       "  </thead>\n",
       "  <tbody>\n",
       "    <tr>\n",
       "      <th>0</th>\n",
       "      <td>2.0</td>\n",
       "      <td>1.0</td>\n",
       "      <td>1.0</td>\n",
       "      <td>20101.0</td>\n",
       "      <td>0.0</td>\n",
       "      <td>NaN</td>\n",
       "      <td>0.291589</td>\n",
       "      <td>0.291589</td>\n",
       "      <td>1307.764781</td>\n",
       "      <td>1307.764781</td>\n",
       "      <td>...</td>\n",
       "      <td>NaN</td>\n",
       "      <td></td>\n",
       "      <td>NaN</td>\n",
       "      <td>NaN</td>\n",
       "      <td>NaN</td>\n",
       "      <td>NaN</td>\n",
       "      <td>NaN</td>\n",
       "      <td>NaN</td>\n",
       "      <td>0.0</td>\n",
       "      <td>NaN</td>\n",
       "    </tr>\n",
       "    <tr>\n",
       "      <th>1</th>\n",
       "      <td>3.0</td>\n",
       "      <td>1.0</td>\n",
       "      <td>1.0</td>\n",
       "      <td>30101.0</td>\n",
       "      <td>0.0</td>\n",
       "      <td>NaN</td>\n",
       "      <td>0.419753</td>\n",
       "      <td>0.419753</td>\n",
       "      <td>1882.570960</td>\n",
       "      <td>1882.570960</td>\n",
       "      <td>...</td>\n",
       "      <td>NaN</td>\n",
       "      <td></td>\n",
       "      <td>NaN</td>\n",
       "      <td>NaN</td>\n",
       "      <td>NaN</td>\n",
       "      <td>NaN</td>\n",
       "      <td>NaN</td>\n",
       "      <td>NaN</td>\n",
       "      <td>0.0</td>\n",
       "      <td>NaN</td>\n",
       "    </tr>\n",
       "    <tr>\n",
       "      <th>2</th>\n",
       "      <td>4.0</td>\n",
       "      <td>1.0</td>\n",
       "      <td>1.0</td>\n",
       "      <td>40101.0</td>\n",
       "      <td>0.0</td>\n",
       "      <td>NaN</td>\n",
       "      <td>0.265263</td>\n",
       "      <td>0.265980</td>\n",
       "      <td>1189.691668</td>\n",
       "      <td>1192.908537</td>\n",
       "      <td>...</td>\n",
       "      <td>NaN</td>\n",
       "      <td></td>\n",
       "      <td>NaN</td>\n",
       "      <td>NaN</td>\n",
       "      <td>NaN</td>\n",
       "      <td>NaN</td>\n",
       "      <td>1284.0</td>\n",
       "      <td>NaN</td>\n",
       "      <td>0.0</td>\n",
       "      <td>NaN</td>\n",
       "    </tr>\n",
       "    <tr>\n",
       "      <th>3</th>\n",
       "      <td>6.0</td>\n",
       "      <td>1.0</td>\n",
       "      <td>1.0</td>\n",
       "      <td>60101.0</td>\n",
       "      <td>0.0</td>\n",
       "      <td>NaN</td>\n",
       "      <td>0.494906</td>\n",
       "      <td>0.495941</td>\n",
       "      <td>2219.630833</td>\n",
       "      <td>2224.273816</td>\n",
       "      <td>...</td>\n",
       "      <td>1.0</td>\n",
       "      <td>.</td>\n",
       "      <td>2.0</td>\n",
       "      <td>4.0</td>\n",
       "      <td>4.0</td>\n",
       "      <td>2304.0</td>\n",
       "      <td>NaN</td>\n",
       "      <td>1800.0</td>\n",
       "      <td>0.0</td>\n",
       "      <td>NaN</td>\n",
       "    </tr>\n",
       "    <tr>\n",
       "      <th>4</th>\n",
       "      <td>6.0</td>\n",
       "      <td>1.0</td>\n",
       "      <td>1.0</td>\n",
       "      <td>60101.0</td>\n",
       "      <td>0.0</td>\n",
       "      <td>NaN</td>\n",
       "      <td>1.017935</td>\n",
       "      <td>1.017935</td>\n",
       "      <td>4565.389177</td>\n",
       "      <td>4565.389177</td>\n",
       "      <td>...</td>\n",
       "      <td>1.0</td>\n",
       "      <td>.</td>\n",
       "      <td>1.0</td>\n",
       "      <td>5.0</td>\n",
       "      <td>2.0</td>\n",
       "      <td>NaN</td>\n",
       "      <td>NaN</td>\n",
       "      <td>NaN</td>\n",
       "      <td>0.0</td>\n",
       "      <td>NaN</td>\n",
       "    </tr>\n",
       "  </tbody>\n",
       "</table>\n",
       "<p>5 rows × 830 columns</p>\n",
       "</div>"
      ],
      "text/plain": [
       "   h14_id  h14_ind  h14_sn  h14_merkey  h_new  h14_cobf   p14_wsc   p14_wsl  \\\n",
       "0     2.0      1.0     1.0     20101.0    0.0       NaN  0.291589  0.291589   \n",
       "1     3.0      1.0     1.0     30101.0    0.0       NaN  0.419753  0.419753   \n",
       "2     4.0      1.0     1.0     40101.0    0.0       NaN  0.265263  0.265980   \n",
       "3     6.0      1.0     1.0     60101.0    0.0       NaN  0.494906  0.495941   \n",
       "4     6.0      1.0     1.0     60101.0    0.0       NaN  1.017935  1.017935   \n",
       "\n",
       "       p14_wgc      p14_wgl  ...  wc14_64  wc14_65  wc14_5aq4  wc14_5aq5  \\\n",
       "0  1307.764781  1307.764781  ...      NaN                 NaN        NaN   \n",
       "1  1882.570960  1882.570960  ...      NaN                 NaN        NaN   \n",
       "2  1189.691668  1192.908537  ...      NaN                 NaN        NaN   \n",
       "3  2219.630833  2224.273816  ...      1.0        .        2.0        4.0   \n",
       "4  4565.389177  4565.389177  ...      1.0        .        1.0        5.0   \n",
       "\n",
       "   wc14_5aq6  h14_pers_income1  h14_pers_income2  h14_pers_income3  \\\n",
       "0        NaN               NaN               NaN               NaN   \n",
       "1        NaN               NaN               NaN               NaN   \n",
       "2        NaN               NaN            1284.0               NaN   \n",
       "3        4.0            2304.0               NaN            1800.0   \n",
       "4        2.0               NaN               NaN               NaN   \n",
       "\n",
       "   h14_pers_income4  h14_pers_income5  \n",
       "0               0.0               NaN  \n",
       "1               0.0               NaN  \n",
       "2               0.0               NaN  \n",
       "3               0.0               NaN  \n",
       "4               0.0               NaN  \n",
       "\n",
       "[5 rows x 830 columns]"
      ]
     },
     "execution_count": 14,
     "metadata": {},
     "output_type": "execute_result"
    }
   ],
   "source": [
    "raw_welfare = pd.read_spss('Koweps_hpwc14_2019_beta2.sav')\n",
    "welfare = raw_welfare.copy()\n",
    "welfare.head()"
   ]
  },
  {
   "cell_type": "markdown",
   "id": "9ba8cbbf-1f7d-464c-a456-76a2d170426a",
   "metadata": {},
   "source": [
    "### 변수명 바꾸기"
   ]
  },
  {
   "cell_type": "code",
   "execution_count": 15,
   "id": "742c003e-b519-47e1-8dfa-6ed2b7598c26",
   "metadata": {
    "tags": []
   },
   "outputs": [],
   "source": [
    "welfare = welfare.rename(\n",
    "    columns = {\n",
    "        'h14_g3'     : 'sex',             # 1: 남자, 2: 여자\n",
    "        'h14_g4'     : 'birth',           # 태어난 년도\n",
    "        'h14_g10'    : 'marriage_type',\n",
    "        'h14_g11'    : 'religion',\n",
    "        'p1402_8aq1' : 'income',         # 일을 한 달의 월 평균 임금[단위는 만원]\n",
    "        'h14_eco9'   : 'code_job', \n",
    "        'h14_reg7'   : 'code_region' \n",
    "    }\n",
    ")  "
   ]
  },
  {
   "cell_type": "markdown",
   "id": "d0e611c3-b6f3-4949-840e-c990ca3a8161",
   "metadata": {
    "tags": []
   },
   "source": [
    "## 9-2 성별에 따른 월급 차이 - 성별에 따라 월급이 다를까?"
   ]
  },
  {
   "cell_type": "markdown",
   "id": "f1f41210-64dd-432a-90f1-ddff7bf6b8ee",
   "metadata": {
    "tags": []
   },
   "source": [
    "### 1. 성별 변수 검토"
   ]
  },
  {
   "cell_type": "code",
   "execution_count": 7,
   "id": "3bb79f3c-24a2-4c62-b896-227e802f3b18",
   "metadata": {
    "tags": []
   },
   "outputs": [
    {
     "data": {
      "text/plain": [
       "dtype('float64')"
      ]
     },
     "execution_count": 7,
     "metadata": {},
     "output_type": "execute_result"
    }
   ],
   "source": [
    "# 성별(sex)가 숫자 데이터인지 문자 데이터인지 확인\n",
    "welfare['sex'].dtype"
   ]
  },
  {
   "cell_type": "code",
   "execution_count": 9,
   "id": "9ddbd232-1e1b-4db5-8c75-d6607c7c99bd",
   "metadata": {
    "tags": []
   },
   "outputs": [
    {
     "data": {
      "text/plain": [
       "sex\n",
       "2.0    7913\n",
       "1.0    6505\n",
       "Name: count, dtype: int64"
      ]
     },
     "execution_count": 9,
     "metadata": {},
     "output_type": "execute_result"
    }
   ],
   "source": [
    "# 빈도 - 남자(6505명), 여자(7913명)\n",
    "welfare['sex'].value_counts()"
   ]
  },
  {
   "cell_type": "markdown",
   "id": "21fcea7c-23e7-4d72-b7a8-c063fb5204f6",
   "metadata": {},
   "source": [
    "### 2. 성별 변수 전처리\n",
    "성별   \n",
    "    1 : 남자  \n",
    "    2 : 여자  \n",
    "    9 : 모름/무응답  "
   ]
  },
  {
   "cell_type": "code",
   "execution_count": 10,
   "id": "3ecccfde-7300-4dee-9618-d557bf8eaae6",
   "metadata": {
    "tags": []
   },
   "outputs": [
    {
     "data": {
      "text/plain": [
       "sex\n",
       "2.0    7913\n",
       "1.0    6505\n",
       "Name: count, dtype: int64"
      ]
     },
     "execution_count": 10,
     "metadata": {},
     "output_type": "execute_result"
    }
   ],
   "source": [
    "# 이상치 검토\n",
    "welfare['sex'].value_counts()"
   ]
  },
  {
   "cell_type": "markdown",
   "id": "3c2dcdd6-0c88-4f09-b2b7-0fef6a954416",
   "metadata": {},
   "source": [
    "성별(sex)에 대한 값으로 1(남자)과 2(여자)만 있고 무응답/모름에 해당하는 9 값이 없음. 따라서 이상치(이상한 값)가 없다고 볼 수 있음. 그래서 별도의 이상치 처리 과정이 필요하지 않음"
   ]
  },
  {
   "cell_type": "markdown",
   "id": "9f2adb24-8660-489a-9465-8ff12aede544",
   "metadata": {
    "tags": []
   },
   "source": [
    "현 데이터(프레임)은 성별을 1과 2로 표현하고 있는데, 1을 'male'로 2를 'female'로 변경하겠음"
   ]
  },
  {
   "cell_type": "code",
   "execution_count": 16,
   "id": "3e3d2fa4-0de2-4f24-b22d-b909c2fb2051",
   "metadata": {
    "tags": []
   },
   "outputs": [
    {
     "data": {
      "text/plain": [
       "sex\n",
       "female    7913\n",
       "male      6505\n",
       "Name: count, dtype: int64"
      ]
     },
     "execution_count": 16,
     "metadata": {},
     "output_type": "execute_result"
    }
   ],
   "source": [
    "welfare['sex'] = np.where(welfare['sex'] == 1, 'male', 'female')\n",
    "# 결과 확인\n",
    "welfare['sex'].value_counts()"
   ]
  },
  {
   "cell_type": "code",
   "execution_count": 17,
   "id": "b71d3997-73ad-4bfe-87b7-a6c1a073cb0f",
   "metadata": {
    "tags": []
   },
   "outputs": [
    {
     "data": {
      "text/plain": [
       "<Axes: xlabel='sex', ylabel='count'>"
      ]
     },
     "execution_count": 17,
     "metadata": {},
     "output_type": "execute_result"
    },
    {
     "data": {
      "image/png": "[encoded data removed]",
      "text/plain": [
       "<Figure size 640x480 with 1 Axes>"
      ]
     },
     "metadata": {},
     "output_type": "display_data"
    }
   ],
   "source": [
    "# 빈도를 막대 그래프로 표현\n",
    "sns.countplot(data=welfare, x = 'sex')"
   ]
  },
  {
   "cell_type": "markdown",
   "id": "6e7fd86e-3ad7-44db-aa9e-e40bac625a73",
   "metadata": {},
   "source": [
    "---"
   ]
  },
  {
   "cell_type": "markdown",
   "id": "7c8c3def-ef29-4711-ae50-49900494ca40",
   "metadata": {},
   "source": [
    "### 1. 월급 변수 검토"
   ]
  },
  {
   "cell_type": "code",
   "execution_count": 18,
   "id": "1d040767-8a45-4f69-a2b2-e20a058bd9a9",
   "metadata": {
    "tags": []
   },
   "outputs": [
    {
     "data": {
      "text/plain": [
       "dtype('float64')"
      ]
     },
     "execution_count": 18,
     "metadata": {},
     "output_type": "execute_result"
    }
   ],
   "source": [
    "welfare['income'].dtype"
   ]
  },
  {
   "cell_type": "code",
   "execution_count": 19,
   "id": "6bcbf12c-f550-46f0-bba7-9a17e4cdb3ff",
   "metadata": {
    "tags": []
   },
   "outputs": [
    {
     "data": {
      "text/plain": [
       "count    4534.000000\n",
       "mean      268.455007\n",
       "std       198.021206\n",
       "min         0.000000\n",
       "25%       150.000000\n",
       "50%       220.000000\n",
       "75%       345.750000\n",
       "max      1892.000000\n",
       "Name: income, dtype: float64"
      ]
     },
     "execution_count": 19,
     "metadata": {},
     "output_type": "execute_result"
    }
   ],
   "source": [
    "welfare['income'].describe()"
   ]
  },
  {
   "cell_type": "code",
   "execution_count": 20,
   "id": "496b0840-9bed-456a-9316-d275dd7e0379",
   "metadata": {
    "tags": []
   },
   "outputs": [
    {
     "data": {
      "text/plain": [
       "<Axes: xlabel='income', ylabel='Count'>"
      ]
     },
     "execution_count": 20,
     "metadata": {},
     "output_type": "execute_result"
    },
    {
     "data": {
      "image/png": "[encoded data removed]",
      "text/plain": [
       "<Figure size 640x480 with 1 Axes>"
      ]
     },
     "metadata": {},
     "output_type": "display_data"
    }
   ],
   "source": [
    "sns.histplot(data=welfare, x = 'income')"
   ]
  },
  {
   "cell_type": "markdown",
   "id": "03b9efdc-2794-4fca-86a2-4c00c6d6ccfb",
   "metadata": {
    "tags": []
   },
   "source": [
    "### 월급 변수 전처리"
   ]
  },
  {
   "cell_type": "code",
   "execution_count": 23,
   "id": "a0caae69-8aa3-4307-af25-3b1a72155bec",
   "metadata": {
    "tags": []
   },
   "outputs": [
    {
     "data": {
      "text/plain": [
       "count    4534.000000\n",
       "mean      268.455007\n",
       "std       198.021206\n",
       "min         0.000000\n",
       "25%       150.000000\n",
       "50%       220.000000\n",
       "75%       345.750000\n",
       "max      1892.000000\n",
       "Name: income, dtype: float64"
      ]
     },
     "execution_count": 23,
     "metadata": {},
     "output_type": "execute_result"
    }
   ],
   "source": [
    "# income 변수의 값은 \"일한 달의 평균 임금(단위는 만원)\", 모름/무응답의 경우 9999\n",
    "welfare['income'].describe()"
   ]
  },
  {
   "cell_type": "markdown",
   "id": "6c2ff8fc-82f5-4c49-a8d3-c742fa23a25e",
   "metadata": {
    "tags": []
   },
   "source": [
    "모름 또는 무응답이 포함되었다면 최대값(max)은 9999일 것임. 그러나 최대값이 1892인 것으로 봤을 때, 모름/무응답에 해당하는 경우는 없음"
   ]
  },
  {
   "cell_type": "code",
   "execution_count": 25,
   "id": "dd09aa18-0b91-4455-b986-4fa40b7ae7aa",
   "metadata": {
    "tags": []
   },
   "outputs": [
    {
     "data": {
      "text/plain": [
       "9884"
      ]
     },
     "execution_count": 25,
     "metadata": {},
     "output_type": "execute_result"
    }
   ],
   "source": [
    "#결측치 확인\n",
    "welfare['income'].isna().sum()"
   ]
  },
  {
   "cell_type": "markdown",
   "id": "1e40e880-7dbe-4a1d-907d-87df501d6812",
   "metadata": {
    "tags": []
   },
   "source": [
    "- 위 코드의 실행 결과는 9884임. 즉 결측치가 9884개 있음.  \n",
    "- 간략 통계를 통해 월급의 최소값이 0인 경우가 있고 결측치가 9884개가 있는데 이를 어떻게 해석할 것인지는 생각을 해봐야할 것으로 보임.  \n",
    "- 일단 결측치가 9884인 것은 직업이 없어서 해당 데이터가 공란(결측치)인 것으로 간주하겠음"
   ]
  },
  {
   "cell_type": "markdown",
   "id": "99fe9341-ac3e-4ac7-bde6-90a40d899a20",
   "metadata": {
    "tags": []
   },
   "source": [
    "### 성별에 따른 월급 차이 분석"
   ]
  },
  {
   "cell_type": "code",
   "execution_count": 29,
   "id": "f7616445-0bd4-4f2b-a251-31112c46d357",
   "metadata": {
    "tags": []
   },
   "outputs": [
    {
     "data": {
      "text/html": [
       "<div>\n",
       "<style scoped>\n",
       "    .dataframe tbody tr th:only-of-type {\n",
       "        vertical-align: middle;\n",
       "    }\n",
       "\n",
       "    .dataframe tbody tr th {\n",
       "        vertical-align: top;\n",
       "    }\n",
       "\n",
       "    .dataframe thead th {\n",
       "        text-align: right;\n",
       "    }\n",
       "</style>\n",
       "<table border=\"1\" class=\"dataframe\">\n",
       "  <thead>\n",
       "    <tr style=\"text-align: right;\">\n",
       "      <th></th>\n",
       "      <th>sex</th>\n",
       "      <th>mean_income</th>\n",
       "    </tr>\n",
       "  </thead>\n",
       "  <tbody>\n",
       "    <tr>\n",
       "      <th>0</th>\n",
       "      <td>female</td>\n",
       "      <td>186.293096</td>\n",
       "    </tr>\n",
       "    <tr>\n",
       "      <th>1</th>\n",
       "      <td>male</td>\n",
       "      <td>349.037571</td>\n",
       "    </tr>\n",
       "  </tbody>\n",
       "</table>\n",
       "</div>"
      ],
      "text/plain": [
       "      sex  mean_income\n",
       "0  female   186.293096\n",
       "1    male   349.037571"
      ]
     },
     "execution_count": 29,
     "metadata": {},
     "output_type": "execute_result"
    }
   ],
   "source": [
    "sex_income = welfare.dropna(subset =['income']) \\\n",
    "                    .groupby('sex', as_index=False) \\\n",
    "                    .agg(mean_income = ('income', 'mean'))\n",
    "sex_income"
   ]
  },
  {
   "cell_type": "markdown",
   "id": "0c9386fb-33f3-4b96-b79c-2a7ae8c9c7fa",
   "metadata": {},
   "source": [
    "월급(income) 평균이 여자는 약 186만원이고 남자는 약 349만원임을 알 수 있음. 남성이 여성 보다 약 163만원 더 많음"
   ]
  },
  {
   "cell_type": "markdown",
   "id": "3347afde-dd51-425b-b138-cc8d88fc8249",
   "metadata": {
    "tags": []
   },
   "source": [
    "### 그래프 만들기"
   ]
  },
  {
   "cell_type": "code",
   "execution_count": 32,
   "id": "bc4c808e-5bd0-4d49-bc58-bc737624cee3",
   "metadata": {
    "tags": []
   },
   "outputs": [
    {
     "data": {
      "text/plain": [
       "<Axes: xlabel='sex', ylabel='mean_income'>"
      ]
     },
     "execution_count": 32,
     "metadata": {},
     "output_type": "execute_result"
    },
    {
     "data": {
      "image/png": "[encoded data removed]",
      "text/plain": [
       "<Figure size 640x480 with 1 Axes>"
      ]
     },
     "metadata": {},
     "output_type": "display_data"
    }
   ],
   "source": [
    "sns.barplot(data=sex_income, x = 'sex', y='mean_income')"
   ]
  },
  {
   "cell_type": "markdown",
   "id": "f4283b08-5691-4aa0-a5f7-37af0a15e7d4",
   "metadata": {},
   "source": [
    "---"
   ]
  },
  {
   "cell_type": "markdown",
   "id": "680f3547-cd8a-49af-be53-e2f42c8bd10c",
   "metadata": {
    "tags": []
   },
   "source": [
    "## 코드 정리"
   ]
  },
  {
   "cell_type": "code",
   "execution_count": 35,
   "id": "67ab8069-f371-4776-b9ed-a8687a0b7a11",
   "metadata": {
    "tags": []
   },
   "outputs": [
    {
     "data": {
      "text/plain": [
       "<Axes: xlabel='sex', ylabel='mean_income'>"
      ]
     },
     "execution_count": 35,
     "metadata": {},
     "output_type": "execute_result"
    },
    {
     "data": {
      "image/png": "[encoded data removed]",
      "text/plain": [
       "<Figure size 640x480 with 1 Axes>"
      ]
     },
     "metadata": {},
     "output_type": "display_data"
    }
   ],
   "source": [
    "raw_welfare = pd.read_spss('Koweps_hpwc14_2019_beta2.sav')\n",
    "welfare = raw_welfare.copy()\n",
    "welfare.head()\n",
    "\n",
    "# 변수명 바꾸기\n",
    "welfare = welfare.rename(\n",
    "    columns = {\n",
    "        'h14_g3'     : 'sex',             # 1: 남자, 2: 여자\n",
    "        'p1402_8aq1' : 'income'         # 일을 한 달의 월 평균 임금[단위는 만원]\n",
    "    }\n",
    ")  \n",
    "\n",
    "# 변수 검토 및 전처리\n",
    "# 특이 사항 없어서 생략하고 성별(sex)의 값 1, 2를 'male'과 'female'로 변경\n",
    "welfare['sex'] = np.where(welfare['sex'] == 1, 'male', 'female')\n",
    "\n",
    "# 성별에 따른 월급 차이 분석\n",
    "sex_income = welfare.dropna(subset =['income']) \\\n",
    "                    .groupby('sex', as_index=False) \\\n",
    "                    .agg(mean_income = ('income', 'mean'))\n",
    "\n",
    "# 그래프로 시각화\n",
    "sns.barplot(data=sex_income, x = 'sex', y='mean_income')"
   ]
  },
  {
   "cell_type": "markdown",
   "id": "508b0f90-7fc2-4c26-a93e-8448373c7d6e",
   "metadata": {},
   "source": [
    "## 9-3 나이와 월급의 관계 - 몇 살 때 월급을 가장 많이 받을까?"
   ]
  },
  {
   "cell_type": "markdown",
   "id": "dd91a900-092b-4795-9ef1-2cece10fd428",
   "metadata": {
    "tags": []
   },
   "source": [
    "### 변수 검토하기\n",
    "나이와 월급(income)을 기반으로 분석을 해야겠습니다. 월급(income) 변수 대해서는 이전 분석에서 살펴 보았고 특이사항이 없었습니다. \n",
    "그럼 나이에 대해 변수 검토부터 시작하려고 합니다. 그런데 주어진 데이터(프레임)에는 나이 변수가 없습니다. 나이와 관계된 출생년도(birth) 변수를 검토하고 출생년도(birth) 변수를 근거로 나이(age) (파생)변수를 생성할 생각입니다."
   ]
  },
  {
   "cell_type": "code",
   "execution_count": 37,
   "id": "41c0f677-9892-48c3-880e-1838c46bb567",
   "metadata": {
    "tags": []
   },
   "outputs": [],
   "source": [
    "raw_welfare = pd.read_spss('Koweps_hpwc14_2019_beta2.sav')\n",
    "welfare = raw_welfare.copy()\n",
    "welfare.head()\n",
    "\n",
    "# 변수명 바꾸기\n",
    "welfare = welfare.rename(\n",
    "    columns = {\n",
    "        'h14_g4'     : 'birth',         # 태어난 년도\n",
    "        'p1402_8aq1' : 'income'         # 일을 한 달의 월 평균 임금[단위는 만원]\n",
    "    }\n",
    ")  "
   ]
  },
  {
   "cell_type": "markdown",
   "id": "586f204f-eae3-4ae1-8df5-fdd0f8c90cfa",
   "metadata": {},
   "source": [
    "### 변수 살펴 보기"
   ]
  },
  {
   "cell_type": "code",
   "execution_count": 38,
   "id": "3d28e1d2-086b-44cc-b7c5-15c14058f496",
   "metadata": {
    "tags": []
   },
   "outputs": [
    {
     "data": {
      "text/plain": [
       "dtype('float64')"
      ]
     },
     "execution_count": 38,
     "metadata": {},
     "output_type": "execute_result"
    }
   ],
   "source": [
    "welfare['birth'].dtypes"
   ]
  },
  {
   "cell_type": "code",
   "execution_count": 42,
   "id": "0db46fd5-8c92-48c0-a90b-74638feb5d9c",
   "metadata": {
    "tags": []
   },
   "outputs": [
    {
     "data": {
      "text/plain": [
       "count    14418.000000\n",
       "mean      1969.280205\n",
       "std         24.402250\n",
       "min       1907.000000\n",
       "25%       1948.000000\n",
       "50%       1968.000000\n",
       "75%       1990.000000\n",
       "max       2018.000000\n",
       "Name: birth, dtype: float64"
      ]
     },
     "execution_count": 42,
     "metadata": {},
     "output_type": "execute_result"
    }
   ],
   "source": [
    "welfare['birth'].describe()"
   ]
  },
  {
   "cell_type": "code",
   "execution_count": 41,
   "id": "0ab709a6-f1be-4af9-9796-b899c4130e1c",
   "metadata": {
    "tags": []
   },
   "outputs": [
    {
     "data": {
      "text/plain": [
       "<Axes: xlabel='birth', ylabel='Count'>"
      ]
     },
     "execution_count": 41,
     "metadata": {},
     "output_type": "execute_result"
    },
    {
     "data": {
      "image/png": "[encoded data removed]",
      "text/plain": [
       "<Figure size 640x480 with 1 Axes>"
      ]
     },
     "metadata": {},
     "output_type": "display_data"
    }
   ],
   "source": [
    "sns.histplot(data=welfare, x='birth')"
   ]
  },
  {
   "cell_type": "markdown",
   "id": "d55af77c-b58f-405b-ab2d-f6647bfdff39",
   "metadata": {},
   "source": [
    "### 전처리 "
   ]
  },
  {
   "cell_type": "code",
   "execution_count": 43,
   "id": "8da90b8a-76c3-410a-be2e-fd9ec245c253",
   "metadata": {
    "tags": []
   },
   "outputs": [
    {
     "data": {
      "text/plain": [
       "count    14418.000000\n",
       "mean      1969.280205\n",
       "std         24.402250\n",
       "min       1907.000000\n",
       "25%       1948.000000\n",
       "50%       1968.000000\n",
       "75%       1990.000000\n",
       "max       2018.000000\n",
       "Name: birth, dtype: float64"
      ]
     },
     "execution_count": 43,
     "metadata": {},
     "output_type": "execute_result"
    }
   ],
   "source": [
    "# birth의 값 범위는 1900~2014이며 모름/무응답은 9999임\n",
    "# 아래 코드의 출력 결과를 보면 birth의 값 범위를 벗어난 데이터가 있음. max = 2018. 이 데이터는 정상으로 간주하겠음. 따라서 이상치가 없다고 판단!\n",
    "welfare['birth'].describe()"
   ]
  },
  {
   "cell_type": "code",
   "execution_count": 44,
   "id": "fdc61ba9-c466-4158-81d5-bc29038be436",
   "metadata": {
    "tags": []
   },
   "outputs": [
    {
     "data": {
      "text/plain": [
       "0"
      ]
     },
     "execution_count": 44,
     "metadata": {},
     "output_type": "execute_result"
    }
   ],
   "source": [
    "# 결측치 조사\n",
    "welfare['birth'].isna().sum()"
   ]
  },
  {
   "cell_type": "markdown",
   "id": "a82e59f2-f2f8-4c58-aa12-f5deda0e4ef6",
   "metadata": {
    "tags": []
   },
   "source": [
    "### 파생변수 만들기\n",
    "출생년도(birth) 변수를 이용하여 나이 값을 갖는 파생 변수 age를 만들겠음\n",
    "주어진 데이터는 2019년에 조사가 진행되었음으로"
   ]
  },
  {
   "cell_type": "code",
   "execution_count": null,
   "id": "34d6f30d-e6b1-4037-be5b-be4c398f01aa",
   "metadata": {},
   "outputs": [],
   "source": []
  }
 ],
 "metadata": {
  "kernelspec": {
   "display_name": "Python 3 (ipykernel)",
   "language": "python",
   "name": "python3"
  },
  "language_info": {
   "codemirror_mode": {
    "name": "ipython",
    "version": 3
   },
   "file_extension": ".py",
   "mimetype": "text/x-python",
   "name": "python",
   "nbconvert_exporter": "python",
   "pygments_lexer": "ipython3",
   "version": "3.11.5"
  }
 },
 "nbformat": 4,
 "nbformat_minor": 5
}
