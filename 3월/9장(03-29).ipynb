{
 "cells": [
  {
   "cell_type": "code",
   "execution_count": 13,
   "id": "481a348d-3a1b-4032-8de8-e617d0a1942c",
   "metadata": {
    "tags": []
   },
   "outputs": [],
   "source": [
    "import pandas as pd\n",
    "import numpy as np\n",
    "import seaborn as sns"
   ]
  },
  {
   "cell_type": "code",
   "execution_count": 14,
   "id": "4fc38855-0c6e-4066-bc22-e9f793f76d5c",
   "metadata": {
    "tags": []
   },
   "outputs": [
    {
     "data": {
      "text/html": [
       "<div>\n",
       "<style scoped>\n",
       "    .dataframe tbody tr th:only-of-type {\n",
       "        vertical-align: middle;\n",
       "    }\n",
       "\n",
       "    .dataframe tbody tr th {\n",
       "        vertical-align: top;\n",
       "    }\n",
       "\n",
       "    .dataframe thead th {\n",
       "        text-align: right;\n",
       "    }\n",
       "</style>\n",
       "<table border=\"1\" class=\"dataframe\">\n",
       "  <thead>\n",
       "    <tr style=\"text-align: right;\">\n",
       "      <th></th>\n",
       "      <th>h14_id</th>\n",
       "      <th>h14_ind</th>\n",
       "      <th>h14_sn</th>\n",
       "      <th>h14_merkey</th>\n",
       "      <th>h_new</th>\n",
       "      <th>h14_cobf</th>\n",
       "      <th>p14_wsc</th>\n",
       "      <th>p14_wsl</th>\n",
       "      <th>p14_wgc</th>\n",
       "      <th>p14_wgl</th>\n",
       "      <th>...</th>\n",
       "      <th>wc14_64</th>\n",
       "      <th>wc14_65</th>\n",
       "      <th>wc14_5aq4</th>\n",
       "      <th>wc14_5aq5</th>\n",
       "      <th>wc14_5aq6</th>\n",
       "      <th>h14_pers_income1</th>\n",
       "      <th>h14_pers_income2</th>\n",
       "      <th>h14_pers_income3</th>\n",
       "      <th>h14_pers_income4</th>\n",
       "      <th>h14_pers_income5</th>\n",
       "    </tr>\n",
       "  </thead>\n",
       "  <tbody>\n",
       "    <tr>\n",
       "      <th>0</th>\n",
       "      <td>2.0</td>\n",
       "      <td>1.0</td>\n",
       "      <td>1.0</td>\n",
       "      <td>20101.0</td>\n",
       "      <td>0.0</td>\n",
       "      <td>NaN</td>\n",
       "      <td>0.291589</td>\n",
       "      <td>0.291589</td>\n",
       "      <td>1307.764781</td>\n",
       "      <td>1307.764781</td>\n",
       "      <td>...</td>\n",
       "      <td>NaN</td>\n",
       "      <td></td>\n",
       "      <td>NaN</td>\n",
       "      <td>NaN</td>\n",
       "      <td>NaN</td>\n",
       "      <td>NaN</td>\n",
       "      <td>NaN</td>\n",
       "      <td>NaN</td>\n",
       "      <td>0.0</td>\n",
       "      <td>NaN</td>\n",
       "    </tr>\n",
       "    <tr>\n",
       "      <th>1</th>\n",
       "      <td>3.0</td>\n",
       "      <td>1.0</td>\n",
       "      <td>1.0</td>\n",
       "      <td>30101.0</td>\n",
       "      <td>0.0</td>\n",
       "      <td>NaN</td>\n",
       "      <td>0.419753</td>\n",
       "      <td>0.419753</td>\n",
       "      <td>1882.570960</td>\n",
       "      <td>1882.570960</td>\n",
       "      <td>...</td>\n",
       "      <td>NaN</td>\n",
       "      <td></td>\n",
       "      <td>NaN</td>\n",
       "      <td>NaN</td>\n",
       "      <td>NaN</td>\n",
       "      <td>NaN</td>\n",
       "      <td>NaN</td>\n",
       "      <td>NaN</td>\n",
       "      <td>0.0</td>\n",
       "      <td>NaN</td>\n",
       "    </tr>\n",
       "    <tr>\n",
       "      <th>2</th>\n",
       "      <td>4.0</td>\n",
       "      <td>1.0</td>\n",
       "      <td>1.0</td>\n",
       "      <td>40101.0</td>\n",
       "      <td>0.0</td>\n",
       "      <td>NaN</td>\n",
       "      <td>0.265263</td>\n",
       "      <td>0.265980</td>\n",
       "      <td>1189.691668</td>\n",
       "      <td>1192.908537</td>\n",
       "      <td>...</td>\n",
       "      <td>NaN</td>\n",
       "      <td></td>\n",
       "      <td>NaN</td>\n",
       "      <td>NaN</td>\n",
       "      <td>NaN</td>\n",
       "      <td>NaN</td>\n",
       "      <td>1284.0</td>\n",
       "      <td>NaN</td>\n",
       "      <td>0.0</td>\n",
       "      <td>NaN</td>\n",
       "    </tr>\n",
       "    <tr>\n",
       "      <th>3</th>\n",
       "      <td>6.0</td>\n",
       "      <td>1.0</td>\n",
       "      <td>1.0</td>\n",
       "      <td>60101.0</td>\n",
       "      <td>0.0</td>\n",
       "      <td>NaN</td>\n",
       "      <td>0.494906</td>\n",
       "      <td>0.495941</td>\n",
       "      <td>2219.630833</td>\n",
       "      <td>2224.273816</td>\n",
       "      <td>...</td>\n",
       "      <td>1.0</td>\n",
       "      <td>.</td>\n",
       "      <td>2.0</td>\n",
       "      <td>4.0</td>\n",
       "      <td>4.0</td>\n",
       "      <td>2304.0</td>\n",
       "      <td>NaN</td>\n",
       "      <td>1800.0</td>\n",
       "      <td>0.0</td>\n",
       "      <td>NaN</td>\n",
       "    </tr>\n",
       "    <tr>\n",
       "      <th>4</th>\n",
       "      <td>6.0</td>\n",
       "      <td>1.0</td>\n",
       "      <td>1.0</td>\n",
       "      <td>60101.0</td>\n",
       "      <td>0.0</td>\n",
       "      <td>NaN</td>\n",
       "      <td>1.017935</td>\n",
       "      <td>1.017935</td>\n",
       "      <td>4565.389177</td>\n",
       "      <td>4565.389177</td>\n",
       "      <td>...</td>\n",
       "      <td>1.0</td>\n",
       "      <td>.</td>\n",
       "      <td>1.0</td>\n",
       "      <td>5.0</td>\n",
       "      <td>2.0</td>\n",
       "      <td>NaN</td>\n",
       "      <td>NaN</td>\n",
       "      <td>NaN</td>\n",
       "      <td>0.0</td>\n",
       "      <td>NaN</td>\n",
       "    </tr>\n",
       "  </tbody>\n",
       "</table>\n",
       "<p>5 rows × 830 columns</p>\n",
       "</div>"
      ],
      "text/plain": [
       "   h14_id  h14_ind  h14_sn  h14_merkey  h_new  h14_cobf   p14_wsc   p14_wsl  \\\n",
       "0     2.0      1.0     1.0     20101.0    0.0       NaN  0.291589  0.291589   \n",
       "1     3.0      1.0     1.0     30101.0    0.0       NaN  0.419753  0.419753   \n",
       "2     4.0      1.0     1.0     40101.0    0.0       NaN  0.265263  0.265980   \n",
       "3     6.0      1.0     1.0     60101.0    0.0       NaN  0.494906  0.495941   \n",
       "4     6.0      1.0     1.0     60101.0    0.0       NaN  1.017935  1.017935   \n",
       "\n",
       "       p14_wgc      p14_wgl  ...  wc14_64  wc14_65  wc14_5aq4  wc14_5aq5  \\\n",
       "0  1307.764781  1307.764781  ...      NaN                 NaN        NaN   \n",
       "1  1882.570960  1882.570960  ...      NaN                 NaN        NaN   \n",
       "2  1189.691668  1192.908537  ...      NaN                 NaN        NaN   \n",
       "3  2219.630833  2224.273816  ...      1.0        .        2.0        4.0   \n",
       "4  4565.389177  4565.389177  ...      1.0        .        1.0        5.0   \n",
       "\n",
       "   wc14_5aq6  h14_pers_income1  h14_pers_income2  h14_pers_income3  \\\n",
       "0        NaN               NaN               NaN               NaN   \n",
       "1        NaN               NaN               NaN               NaN   \n",
       "2        NaN               NaN            1284.0               NaN   \n",
       "3        4.0            2304.0               NaN            1800.0   \n",
       "4        2.0               NaN               NaN               NaN   \n",
       "\n",
       "   h14_pers_income4  h14_pers_income5  \n",
       "0               0.0               NaN  \n",
       "1               0.0               NaN  \n",
       "2               0.0               NaN  \n",
       "3               0.0               NaN  \n",
       "4               0.0               NaN  \n",
       "\n",
       "[5 rows x 830 columns]"
      ]
     },
     "execution_count": 14,
     "metadata": {},
     "output_type": "execute_result"
    }
   ],
   "source": [
    "raw_welfare = pd.read_spss('Koweps_hpwc14_2019_beta2.sav')\n",
    "welfare = raw_welfare.copy()\n",
    "welfare.head()"
   ]
  },
  {
   "cell_type": "markdown",
   "id": "9ba8cbbf-1f7d-464c-a456-76a2d170426a",
   "metadata": {},
   "source": [
    "### 변수명 바꾸기"
   ]
  },
  {
   "cell_type": "code",
   "execution_count": 15,
   "id": "742c003e-b519-47e1-8dfa-6ed2b7598c26",
   "metadata": {
    "tags": []
   },
   "outputs": [],
   "source": [
    "welfare = welfare.rename(\n",
    "    columns = {\n",
    "        'h14_g3'     : 'sex',             # 1: 남자, 2: 여자\n",
    "        'h14_g4'     : 'birth',           # 태어난 년도\n",
    "        'h14_g10'    : 'marriage_type',\n",
    "        'h14_g11'    : 'religion',\n",
    "        'p1402_8aq1' : 'income',         # 일을 한 달의 월 평균 임금[단위는 만원]\n",
    "        'h14_eco9'   : 'code_job', \n",
    "        'h14_reg7'   : 'code_region' \n",
    "    }\n",
    ")  "
   ]
  },
  {
   "cell_type": "markdown",
   "id": "d0e611c3-b6f3-4949-840e-c990ca3a8161",
   "metadata": {
    "tags": []
   },
   "source": [
    "## 9-2 성별에 따른 월급 차이 - 성별에 따라 월급이 다를까?"
   ]
  },
  {
   "cell_type": "markdown",
   "id": "f1f41210-64dd-432a-90f1-ddff7bf6b8ee",
   "metadata": {
    "tags": []
   },
   "source": [
    "### 1. 성별 변수 검토"
   ]
  },
  {
   "cell_type": "code",
   "execution_count": 7,
   "id": "3bb79f3c-24a2-4c62-b896-227e802f3b18",
   "metadata": {
    "tags": []
   },
   "outputs": [
    {
     "data": {
      "text/plain": [
       "dtype('float64')"
      ]
     },
     "execution_count": 7,
     "metadata": {},
     "output_type": "execute_result"
    }
   ],
   "source": [
    "# 성별(sex)가 숫자 데이터인지 문자 데이터인지 확인\n",
    "welfare['sex'].dtype"
   ]
  },
  {
   "cell_type": "code",
   "execution_count": 9,
   "id": "9ddbd232-1e1b-4db5-8c75-d6607c7c99bd",
   "metadata": {
    "tags": []
   },
   "outputs": [
    {
     "data": {
      "text/plain": [
       "sex\n",
       "2.0    7913\n",
       "1.0    6505\n",
       "Name: count, dtype: int64"
      ]
     },
     "execution_count": 9,
     "metadata": {},
     "output_type": "execute_result"
    }
   ],
   "source": [
    "# 빈도 - 남자(6505명), 여자(7913명)\n",
    "welfare['sex'].value_counts()"
   ]
  },
  {
   "cell_type": "markdown",
   "id": "21fcea7c-23e7-4d72-b7a8-c063fb5204f6",
   "metadata": {},
   "source": [
    "### 2. 성별 변수 전처리\n",
    "성별   \n",
    "    1 : 남자  \n",
    "    2 : 여자  \n",
    "    9 : 모름/무응답  "
   ]
  },
  {
   "cell_type": "code",
   "execution_count": 10,
   "id": "3ecccfde-7300-4dee-9618-d557bf8eaae6",
   "metadata": {
    "tags": []
   },
   "outputs": [
    {
     "data": {
      "text/plain": [
       "sex\n",
       "2.0    7913\n",
       "1.0    6505\n",
       "Name: count, dtype: int64"
      ]
     },
     "execution_count": 10,
     "metadata": {},
     "output_type": "execute_result"
    }
   ],
   "source": [
    "# 이상치 검토\n",
    "welfare['sex'].value_counts()"
   ]
  },
  {
   "cell_type": "markdown",
   "id": "3c2dcdd6-0c88-4f09-b2b7-0fef6a954416",
   "metadata": {},
   "source": [
    "성별(sex)에 대한 값으로 1(남자)과 2(여자)만 있고 무응답/모름에 해당하는 9 값이 없음. 따라서 이상치(이상한 값)가 없다고 볼 수 있음. 그래서 별도의 이상치 처리 과정이 필요하지 않음"
   ]
  },
  {
   "cell_type": "markdown",
   "id": "9f2adb24-8660-489a-9465-8ff12aede544",
   "metadata": {
    "tags": []
   },
   "source": [
    "현 데이터(프레임)은 성별을 1과 2로 표현하고 있는데, 1을 'male'로 2를 'female'로 변경하겠음"
   ]
  },
  {
   "cell_type": "code",
   "execution_count": 16,
   "id": "3e3d2fa4-0de2-4f24-b22d-b909c2fb2051",
   "metadata": {
    "tags": []
   },
   "outputs": [
    {
     "data": {
      "text/plain": [
       "sex\n",
       "female    7913\n",
       "male      6505\n",
       "Name: count, dtype: int64"
      ]
     },
     "execution_count": 16,
     "metadata": {},
     "output_type": "execute_result"
    }
   ],
   "source": [
    "welfare['sex'] = np.where(welfare['sex'] == 1, 'male', 'female')\n",
    "# 결과 확인\n",
    "welfare['sex'].value_counts()"
   ]
  },
  {
   "cell_type": "code",
   "execution_count": 17,
   "id": "b71d3997-73ad-4bfe-87b7-a6c1a073cb0f",
   "metadata": {
    "tags": []
   },
   "outputs": [
    {
     "data": {
      "text/plain": [
       "<Axes: xlabel='sex', ylabel='count'>"
      ]
     },
     "execution_count": 17,
     "metadata": {},
     "output_type": "execute_result"
    },
    {
     "data": {
      "image/png": "[encoded data removed]",
      "text/plain": [
       "<Figure size 640x480 with 1 Axes>"
      ]
     },
     "metadata": {},
     "output_type": "display_data"
    }
   ],
   "source": [
    "# 빈도를 막대 그래프로 표현\n",
    "sns.countplot(data=welfare, x = 'sex')"
   ]
  },
  {
   "cell_type": "markdown",
   "id": "6e7fd86e-3ad7-44db-aa9e-e40bac625a73",
   "metadata": {},
   "source": [
    "---"
   ]
  },
  {
   "cell_type": "markdown",
   "id": "7c8c3def-ef29-4711-ae50-49900494ca40",
   "metadata": {},
   "source": [
    "### 1. 월급 변수 검토"
   ]
  },
  {
   "cell_type": "code",
   "execution_count": 18,
   "id": "1d040767-8a45-4f69-a2b2-e20a058bd9a9",
   "metadata": {
    "tags": []
   },
   "outputs": [
    {
     "data": {
      "text/plain": [
       "dtype('float64')"
      ]
     },
     "execution_count": 18,
     "metadata": {},
     "output_type": "execute_result"
    }
   ],
   "source": [
    "welfare['income'].dtype"
   ]
  },
  {
   "cell_type": "code",
   "execution_count": 19,
   "id": "6bcbf12c-f550-46f0-bba7-9a17e4cdb3ff",
   "metadata": {
    "tags": []
   },
   "outputs": [
    {
     "data": {
      "text/plain": [
       "count    4534.000000\n",
       "mean      268.455007\n",
       "std       198.021206\n",
       "min         0.000000\n",
       "25%       150.000000\n",
       "50%       220.000000\n",
       "75%       345.750000\n",
       "max      1892.000000\n",
       "Name: income, dtype: float64"
      ]
     },
     "execution_count": 19,
     "metadata": {},
     "output_type": "execute_result"
    }
   ],
   "source": [
    "welfare['income'].describe()"
   ]
  },
  {
   "cell_type": "code",
   "execution_count": 20,
   "id": "496b0840-9bed-456a-9316-d275dd7e0379",
   "metadata": {
    "tags": []
   },
   "outputs": [
    {
     "data": {
      "text/plain": [
       "<Axes: xlabel='income', ylabel='Count'>"
      ]
     },
     "execution_count": 20,
     "metadata": {},
     "output_type": "execute_result"
    },
    {
     "data": {
      "image/png": "[encoded data removed]",
      "text/plain": [
       "<Figure size 640x480 with 1 Axes>"
      ]
     },
     "metadata": {},
     "output_type": "display_data"
    }
   ],
   "source": [
    "sns.histplot(data=welfare, x = 'income')"
   ]
  },
  {
   "cell_type": "markdown",
   "id": "03b9efdc-2794-4fca-86a2-4c00c6d6ccfb",
   "metadata": {
    "tags": []
   },
   "source": [
    "### 월급 변수 전처리"
   ]
  },
  {
   "cell_type": "code",
   "execution_count": 23,
   "id": "a0caae69-8aa3-4307-af25-3b1a72155bec",
   "metadata": {
    "tags": []
   },
   "outputs": [
    {
     "data": {
      "text/plain": [
       "count    4534.000000\n",
       "mean      268.455007\n",
       "std       198.021206\n",
       "min         0.000000\n",
       "25%       150.000000\n",
       "50%       220.000000\n",
       "75%       345.750000\n",
       "max      1892.000000\n",
       "Name: income, dtype: float64"
      ]
     },
     "execution_count": 23,
     "metadata": {},
     "output_type": "execute_result"
    }
   ],
   "source": [
    "# income 변수의 값은 \"일한 달의 평균 임금(단위는 만원)\", 모름/무응답의 경우 9999\n",
    "welfare['income'].describe()"
   ]
  },
  {
   "cell_type": "markdown",
   "id": "6c2ff8fc-82f5-4c49-a8d3-c742fa23a25e",
   "metadata": {
    "tags": []
   },
   "source": [
    "모름 또는 무응답이 포함되었다면 최대값(max)은 9999일 것임. 그러나 최대값이 1892인 것으로 봤을 때, 모름/무응답에 해당하는 경우는 없음"
   ]
  },
  {
   "cell_type": "code",
   "execution_count": 25,
   "id": "dd09aa18-0b91-4455-b986-4fa40b7ae7aa",
   "metadata": {
    "tags": []
   },
   "outputs": [
    {
     "data": {
      "text/plain": [
       "9884"
      ]
     },
     "execution_count": 25,
     "metadata": {},
     "output_type": "execute_result"
    }
   ],
   "source": [
    "#결측치 확인\n",
    "welfare['income'].isna().sum()"
   ]
  },
  {
   "cell_type": "markdown",
   "id": "1e40e880-7dbe-4a1d-907d-87df501d6812",
   "metadata": {
    "tags": []
   },
   "source": [
    "- 위 코드의 실행 결과는 9884임. 즉 결측치가 9884개 있음.  \n",
    "- 간략 통계를 통해 월급의 최소값이 0인 경우가 있고 결측치가 9884개가 있는데 이를 어떻게 해석할 것인지는 생각을 해봐야할 것으로 보임.  \n",
    "- 일단 결측치가 9884인 것은 직업이 없어서 해당 데이터가 공란(결측치)인 것으로 간주하겠음"
   ]
  },
  {
   "cell_type": "markdown",
   "id": "99fe9341-ac3e-4ac7-bde6-90a40d899a20",
   "metadata": {
    "tags": []
   },
   "source": [
    "### 성별에 따른 월급 차이 분석"
   ]
  },
  {
   "cell_type": "code",
   "execution_count": 29,
   "id": "f7616445-0bd4-4f2b-a251-31112c46d357",
   "metadata": {
    "tags": []
   },
   "outputs": [
    {
     "data": {
      "text/html": [
       "<div>\n",
       "<style scoped>\n",
       "    .dataframe tbody tr th:only-of-type {\n",
       "        vertical-align: middle;\n",
       "    }\n",
       "\n",
       "    .dataframe tbody tr th {\n",
       "        vertical-align: top;\n",
       "    }\n",
       "\n",
       "    .dataframe thead th {\n",
       "        text-align: right;\n",
       "    }\n",
       "</style>\n",
       "<table border=\"1\" class=\"dataframe\">\n",
       "  <thead>\n",
       "    <tr style=\"text-align: right;\">\n",
       "      <th></th>\n",
       "      <th>sex</th>\n",
       "      <th>mean_income</th>\n",
       "    </tr>\n",
       "  </thead>\n",
       "  <tbody>\n",
       "    <tr>\n",
       "      <th>0</th>\n",
       "      <td>female</td>\n",
       "      <td>186.293096</td>\n",
       "    </tr>\n",
       "    <tr>\n",
       "      <th>1</th>\n",
       "      <td>male</td>\n",
       "      <td>349.037571</td>\n",
       "    </tr>\n",
       "  </tbody>\n",
       "</table>\n",
       "</div>"
      ],
      "text/plain": [
       "      sex  mean_income\n",
       "0  female   186.293096\n",
       "1    male   349.037571"
      ]
     },
     "execution_count": 29,
     "metadata": {},
     "output_type": "execute_result"
    }
   ],
   "source": [
    "sex_income = welfare.dropna(subset =['income']) \\\n",
    "                    .groupby('sex', as_index=False) \\\n",
    "                    .agg(mean_income = ('income', 'mean'))\n",
    "sex_income"
   ]
  },
  {
   "cell_type": "markdown",
   "id": "0c9386fb-33f3-4b96-b79c-2a7ae8c9c7fa",
   "metadata": {},
   "source": [
    "월급(income) 평균이 여자는 약 186만원이고 남자는 약 349만원임을 알 수 있음. 남성이 여성 보다 약 163만원 더 많음"
   ]
  },
  {
   "cell_type": "markdown",
   "id": "3347afde-dd51-425b-b138-cc8d88fc8249",
   "metadata": {
    "tags": []
   },
   "source": [
    "### 그래프 만들기"
   ]
  },
  {
   "cell_type": "code",
   "execution_count": 32,
   "id": "bc4c808e-5bd0-4d49-bc58-bc737624cee3",
   "metadata": {
    "tags": []
   },
   "outputs": [
    {
     "data": {
      "text/plain": [
       "<Axes: xlabel='sex', ylabel='mean_income'>"
      ]
     },
     "execution_count": 32,
     "metadata": {},
     "output_type": "execute_result"
    },
    {
     "data": {
      "image/png": "[encoded data removed]",
      "text/plain": [
       "<Figure size 640x480 with 1 Axes>"
      ]
     },
     "metadata": {},
     "output_type": "display_data"
    }
   ],
   "source": [
    "sns.barplot(data=sex_income, x = 'sex', y='mean_income')"
   ]
  },
  {
   "cell_type": "markdown",
   "id": "f4283b08-5691-4aa0-a5f7-37af0a15e7d4",
   "metadata": {},
   "source": [
    "---"
   ]
  },
  {
   "cell_type": "markdown",
   "id": "680f3547-cd8a-49af-be53-e2f42c8bd10c",
   "metadata": {
    "tags": []
   },
   "source": [
    "## 코드 정리"
   ]
  },
  {
   "cell_type": "code",
   "execution_count": 35,
   "id": "67ab8069-f371-4776-b9ed-a8687a0b7a11",
   "metadata": {
    "tags": []
   },
   "outputs": [
    {
     "data": {
      "text/plain": [
       "<Axes: xlabel='sex', ylabel='mean_income'>"
      ]
     },
     "execution_count": 35,
     "metadata": {},
     "output_type": "execute_result"
    },
    {
     "data": {
      "image/png": "[encoded data removed]",
      "text/plain": [
       "<Figure size 640x480 with 1 Axes>"
      ]
     },
     "metadata": {},
     "output_type": "display_data"
    }
   ],
   "source": [
    "raw_welfare = pd.read_spss('Koweps_hpwc14_2019_beta2.sav')\n",
    "welfare = raw_welfare.copy()\n",
    "welfare.head()\n",
    "\n",
    "# 변수명 바꾸기\n",
    "welfare = welfare.rename(\n",
    "    columns = {\n",
    "        'h14_g3'     : 'sex',             # 1: 남자, 2: 여자\n",
    "        'p1402_8aq1' : 'income'         # 일을 한 달의 월 평균 임금[단위는 만원]\n",
    "    }\n",
    ")  \n",
    "\n",
    "# 변수 검토 및 전처리\n",
    "# 특이 사항 없어서 생략하고 성별(sex)의 값 1, 2를 'male'과 'female'로 변경\n",
    "welfare['sex'] = np.where(welfare['sex'] == 1, 'male', 'female')\n",
    "\n",
    "# 성별에 따른 월급 차이 분석\n",
    "sex_income = welfare.dropna(subset =['income']) \\\n",
    "                    .groupby('sex', as_index=False) \\\n",
    "                    .agg(mean_income = ('income', 'mean'))\n",
    "\n",
    "# 그래프로 시각화\n",
    "sns.barplot(data=sex_income, x = 'sex', y='mean_income')"
   ]
  },
  {
   "cell_type": "markdown",
   "id": "508b0f90-7fc2-4c26-a93e-8448373c7d6e",
   "metadata": {},
   "source": [
    "## 9-3 나이와 월급의 관계 - 몇 살 때 월급을 가장 많이 받을까?"
   ]
  },
  {
   "cell_type": "markdown",
   "id": "dd91a900-092b-4795-9ef1-2cece10fd428",
   "metadata": {
    "tags": []
   },
   "source": [
    "### 변수 검토하기\n",
    "나이와 월급(income)을 기반으로 분석을 해야겠습니다. 월급(income) 변수 대해서는 이전 분석에서 살펴 보았고 특이사항이 없었습니다. \n",
    "그럼 나이에 대해 변수 검토부터 시작하려고 합니다. 그런데 주어진 데이터(프레임)에는 나이 변수가 없습니다. 나이와 관계된 출생년도(birth) 변수를 검토하고 출생년도(birth) 변수를 근거로 나이(age) (파생)변수를 생성할 생각입니다."
   ]
  },
  {
   "cell_type": "code",
   "execution_count": 37,
   "id": "41c0f677-9892-48c3-880e-1838c46bb567",
   "metadata": {
    "tags": []
   },
   "outputs": [],
   "source": [
    "raw_welfare = pd.read_spss('Koweps_hpwc14_2019_beta2.sav')\n",
    "welfare = raw_welfare.copy()\n",
    "welfare.head()\n",
    "\n",
    "# 변수명 바꾸기\n",
    "welfare = welfare.rename(\n",
    "    columns = {\n",
    "        'h14_g4'     : 'birth',         # 태어난 년도\n",
    "        'p1402_8aq1' : 'income'         # 일을 한 달의 월 평균 임금[단위는 만원]\n",
    "    }\n",
    ")  "
   ]
  },
  {
   "cell_type": "markdown",
   "id": "586f204f-eae3-4ae1-8df5-fdd0f8c90cfa",
   "metadata": {},
   "source": [
    "### 변수 살펴 보기"
   ]
  },
  {
   "cell_type": "code",
   "execution_count": 38,
   "id": "3d28e1d2-086b-44cc-b7c5-15c14058f496",
   "metadata": {
    "tags": []
   },
   "outputs": [
    {
     "data": {
      "text/plain": [
       "dtype('float64')"
      ]
     },
     "execution_count": 38,
     "metadata": {},
     "output_type": "execute_result"
    }
   ],
   "source": [
    "welfare['birth'].dtypes"
   ]
  },
  {
   "cell_type": "code",
   "execution_count": 42,
   "id": "0db46fd5-8c92-48c0-a90b-74638feb5d9c",
   "metadata": {
    "tags": []
   },
   "outputs": [
    {
     "data": {
      "text/plain": [
       "count    14418.000000\n",
       "mean      1969.280205\n",
       "std         24.402250\n",
       "min       1907.000000\n",
       "25%       1948.000000\n",
       "50%       1968.000000\n",
       "75%       1990.000000\n",
       "max       2018.000000\n",
       "Name: birth, dtype: float64"
      ]
     },
     "execution_count": 42,
     "metadata": {},
     "output_type": "execute_result"
    }
   ],
   "source": [
    "welfare['birth'].describe()"
   ]
  },
  {
   "cell_type": "code",
   "execution_count": 41,
   "id": "0ab709a6-f1be-4af9-9796-b899c4130e1c",
   "metadata": {
    "tags": []
   },
   "outputs": [
    {
     "data": {
      "text/plain": [
       "<Axes: xlabel='birth', ylabel='Count'>"
      ]
     },
     "execution_count": 41,
     "metadata": {},
     "output_type": "execute_result"
    },
    {
     "data": {
      "image/png": "[encoded data removed]",
      "text/plain": [
       "<Figure size 640x480 with 1 Axes>"
      ]
     },
     "metadata": {},
     "output_type": "display_data"
    }
   ],
   "source": [
    "sns.histplot(data=welfare, x='birth')"
   ]
  },
  {
   "cell_type": "markdown",
   "id": "d55af77c-b58f-405b-ab2d-f6647bfdff39",
   "metadata": {},
   "source": [
    "### 전처리 "
   ]
  },
  {
   "cell_type": "code",
   "execution_count": 43,
   "id": "8da90b8a-76c3-410a-be2e-fd9ec245c253",
   "metadata": {
    "tags": []
   },
   "outputs": [
    {
     "data": {
      "text/plain": [
       "count    14418.000000\n",
       "mean      1969.280205\n",
       "std         24.402250\n",
       "min       1907.000000\n",
       "25%       1948.000000\n",
       "50%       1968.000000\n",
       "75%       1990.000000\n",
       "max       2018.000000\n",
       "Name: birth, dtype: float64"
      ]
     },
     "execution_count": 43,
     "metadata": {},
     "output_type": "execute_result"
    }
   ],
   "source": [
    "# birth의 값 범위는 1900~2014이며 모름/무응답은 9999임\n",
    "# 아래 코드의 출력 결과를 보면 birth의 값 범위를 벗어난 데이터가 있음. max = 2018. 이 데이터는 정상으로 간주하겠음. 따라서 이상치가 없다고 판단!\n",
    "welfare['birth'].describe()"
   ]
  },
  {
   "cell_type": "code",
   "execution_count": 44,
   "id": "fdc61ba9-c466-4158-81d5-bc29038be436",
   "metadata": {
    "tags": []
   },
   "outputs": [
    {
     "data": {
      "text/plain": [
       "0"
      ]
     },
     "execution_count": 44,
     "metadata": {},
     "output_type": "execute_result"
    }
   ],
   "source": [
    "# 결측치 조사\n",
    "welfare['birth'].isna().sum()"
   ]
  },
  {
   "cell_type": "markdown",
   "id": "a82e59f2-f2f8-4c58-aa12-f5deda0e4ef6",
   "metadata": {
    "tags": []
   },
   "source": [
    "### 파생변수 만들기\n",
    "출생년도(birth) 변수를 이용하여 나이 값을 갖는 파생 변수 age를 만들겠음\n",
    "주어진 데이터는 2019년에 조사가 진행되었음으로 2019년에서 태어난 연도를 빼면 나이가 됨(맞나요?)"
   ]
  },
  {
   "cell_type": "code",
   "execution_count": 73,
   "id": "34d6f30d-e6b1-4037-be5b-be4c398f01aa",
   "metadata": {
    "tags": []
   },
   "outputs": [
    {
     "data": {
      "text/plain": [
       "count    14418.000000\n",
       "mean        49.719795\n",
       "std         24.402250\n",
       "min          1.000000\n",
       "25%         29.000000\n",
       "50%         51.000000\n",
       "75%         71.000000\n",
       "max        112.000000\n",
       "Name: age, dtype: float64"
      ]
     },
     "execution_count": 73,
     "metadata": {},
     "output_type": "execute_result"
    }
   ],
   "source": [
    "welfare = welfare.assign( age = 2019-welfare['birth'] )\n",
    "welfare['age'].describe()"
   ]
  },
  {
   "cell_type": "markdown",
   "id": "e84a66ad-5e3a-4606-9376-91935ea3c72d",
   "metadata": {},
   "source": [
    "112살? 와우~"
   ]
  },
  {
   "cell_type": "code",
   "execution_count": 48,
   "id": "18314edb-0ac6-4c10-b101-57baa059ddf4",
   "metadata": {
    "tags": []
   },
   "outputs": [
    {
     "data": {
      "text/plain": [
       "<Axes: xlabel='age', ylabel='Count'>"
      ]
     },
     "execution_count": 48,
     "metadata": {},
     "output_type": "execute_result"
    },
    {
     "data": {
      "image/png": "[encoded data removed]",
      "text/plain": [
       "<Figure size 640x480 with 1 Axes>"
      ]
     },
     "metadata": {},
     "output_type": "display_data"
    }
   ],
   "source": [
    "sns.histplot(data=welfare, x='age')"
   ]
  },
  {
   "cell_type": "markdown",
   "id": "c90f1239-797e-42b5-afa7-cd61bdee20f8",
   "metadata": {
    "tags": []
   },
   "source": [
    "### 나이와 월급의 관계 분석하기"
   ]
  },
  {
   "cell_type": "markdown",
   "id": "2f5a1f6f-1f4d-4774-9195-f77b17dc71a9",
   "metadata": {
    "tags": []
   },
   "source": [
    "#### 나이에 따른 월급 평균표 만들기"
   ]
  },
  {
   "cell_type": "code",
   "execution_count": 74,
   "id": "819331e9-a79e-4f74-9b23-312be7cbde80",
   "metadata": {
    "tags": []
   },
   "outputs": [
    {
     "data": {
      "text/html": [
       "<div>\n",
       "<style scoped>\n",
       "    .dataframe tbody tr th:only-of-type {\n",
       "        vertical-align: middle;\n",
       "    }\n",
       "\n",
       "    .dataframe tbody tr th {\n",
       "        vertical-align: top;\n",
       "    }\n",
       "\n",
       "    .dataframe thead th {\n",
       "        text-align: right;\n",
       "    }\n",
       "</style>\n",
       "<table border=\"1\" class=\"dataframe\">\n",
       "  <thead>\n",
       "    <tr style=\"text-align: right;\">\n",
       "      <th></th>\n",
       "      <th>mean_income</th>\n",
       "    </tr>\n",
       "    <tr>\n",
       "      <th>age</th>\n",
       "      <th></th>\n",
       "    </tr>\n",
       "  </thead>\n",
       "  <tbody>\n",
       "    <tr>\n",
       "      <th>18.0</th>\n",
       "      <td>162.000000</td>\n",
       "    </tr>\n",
       "    <tr>\n",
       "      <th>19.0</th>\n",
       "      <td>121.333333</td>\n",
       "    </tr>\n",
       "    <tr>\n",
       "      <th>20.0</th>\n",
       "      <td>136.400000</td>\n",
       "    </tr>\n",
       "    <tr>\n",
       "      <th>21.0</th>\n",
       "      <td>123.666667</td>\n",
       "    </tr>\n",
       "    <tr>\n",
       "      <th>22.0</th>\n",
       "      <td>179.676471</td>\n",
       "    </tr>\n",
       "  </tbody>\n",
       "</table>\n",
       "</div>"
      ],
      "text/plain": [
       "      mean_income\n",
       "age              \n",
       "18.0   162.000000\n",
       "19.0   121.333333\n",
       "20.0   136.400000\n",
       "21.0   123.666667\n",
       "22.0   179.676471"
      ]
     },
     "execution_count": 74,
     "metadata": {},
     "output_type": "execute_result"
    }
   ],
   "source": [
    "age_income = welfare.dropna(subset=['income']) \\\n",
    "                    .groupby('age') \\\n",
    "                    .agg(mean_income = ('income', 'mean'))\n",
    "age_income.head()"
   ]
  },
  {
   "cell_type": "markdown",
   "id": "72e87e85-9ca8-489f-954a-56734c02029b",
   "metadata": {},
   "source": [
    "#### 그래프로 시각화 "
   ]
  },
  {
   "cell_type": "code",
   "execution_count": 53,
   "id": "8991331b-9b87-4403-8487-4d90886532e2",
   "metadata": {
    "tags": []
   },
   "outputs": [
    {
     "data": {
      "text/plain": [
       "<Axes: xlabel='age', ylabel='mean_income'>"
      ]
     },
     "execution_count": 53,
     "metadata": {},
     "output_type": "execute_result"
    },
    {
     "data": {
      "image/png": "[encoded data removed]",
      "text/plain": [
       "<Figure size 640x480 with 1 Axes>"
      ]
     },
     "metadata": {},
     "output_type": "display_data"
    }
   ],
   "source": [
    "sns.lineplot(data=age_income, x='age', y='mean_income')"
   ]
  },
  {
   "cell_type": "markdown",
   "id": "09056cc0-aa16-458e-869e-e1794355227a",
   "metadata": {},
   "source": [
    "출력된 그래프를 보면 20대 초반에 월급을 150만원 가량 받고 이후 지속해서 증가하는 추세를 보입니다. 40대에서 350만원 가량으로 가장 많이 받고 이후 지속적으로 감소하다가 60대 후반부터는 20대 보다 낮은 월급을 받습니다.  \n",
    "(60대 이후 평균 월급이 매우 낮아지는 것이 문제이지만 이 평균 월급은 월급을 받는 분들의 월급을 대상으로 구한 월급입니다. 못 받는 분들은?)"
   ]
  },
  {
   "cell_type": "markdown",
   "id": "b40f0a40-fc34-4661-946b-72c7056d617c",
   "metadata": {},
   "source": [
    "## 연렬대에 따른 월급 차이 - 어떤 연령대의 월급이 가장 많을까?"
   ]
  },
  {
   "cell_type": "markdown",
   "id": "304ed218-ba65-496a-a793-773351ae8e64",
   "metadata": {
    "tags": []
   },
   "source": [
    "### Do it! - 연련대 변수 검토 및 전처리 하기"
   ]
  },
  {
   "cell_type": "markdown",
   "id": "0cc0f554-43c1-466a-8c1f-e42a4c33d45a",
   "metadata": {},
   "source": [
    "#### 파생변수 만들기 - 연령대"
   ]
  },
  {
   "cell_type": "code",
   "execution_count": 55,
   "id": "3fe917f5-0f4b-4f71-b056-220a393064f1",
   "metadata": {
    "tags": []
   },
   "outputs": [
    {
     "data": {
      "text/plain": [
       "0    74.0\n",
       "1    71.0\n",
       "2    77.0\n",
       "3    57.0\n",
       "4    56.0\n",
       "Name: age, dtype: float64"
      ]
     },
     "execution_count": 55,
     "metadata": {},
     "output_type": "execute_result"
    }
   ],
   "source": [
    "# 나이 변수 살펴보기\n",
    "welfare['age'].head()"
   ]
  },
  {
   "cell_type": "code",
   "execution_count": 75,
   "id": "9449b036-c6ba-41a8-a2e4-04114aa2975b",
   "metadata": {
    "tags": []
   },
   "outputs": [
    {
     "data": {
      "text/plain": [
       "ageg\n",
       "old       5743\n",
       "middle    5066\n",
       "young     3609\n",
       "Name: count, dtype: int64"
      ]
     },
     "execution_count": 75,
     "metadata": {},
     "output_type": "execute_result"
    }
   ],
   "source": [
    "# 연령대 변수 만들기\n",
    "welfare = welfare.assign(ageg = np.where(welfare['age'] < 30, 'young', \n",
    "                                         np.where(welfare['age'] <= 59, 'middle', 'old')))\n",
    "welfare['ageg'].value_counts()"
   ]
  },
  {
   "cell_type": "code",
   "execution_count": 57,
   "id": "58f698fd-ee86-43af-b985-fa68e5271cba",
   "metadata": {
    "tags": []
   },
   "outputs": [
    {
     "data": {
      "text/plain": [
       "<Axes: xlabel='ageg', ylabel='count'>"
      ]
     },
     "execution_count": 57,
     "metadata": {},
     "output_type": "execute_result"
    },
    {
     "data": {
      "image/png": "[encoded data removed]",
      "text/plain": [
       "<Figure size 640x480 with 1 Axes>"
      ]
     },
     "metadata": {},
     "output_type": "display_data"
    }
   ],
   "source": [
    "# 빈도 막대 그래프 만들기\n",
    "sns.countplot(data=welfare, x='ageg')"
   ]
  },
  {
   "cell_type": "markdown",
   "id": "f51e9a64-3fa5-4b76-a2c4-c15d7c244532",
   "metadata": {
    "tags": []
   },
   "source": [
    "### Do it! 연령대에 따른 월급 차이 분석하기"
   ]
  },
  {
   "cell_type": "markdown",
   "id": "1b516daf-2939-406a-9760-c93003103c26",
   "metadata": {
    "tags": []
   },
   "source": [
    "#### 1. 연령대별 월급 평균표 만들기"
   ]
  },
  {
   "cell_type": "code",
   "execution_count": 76,
   "id": "dc92fba0-d7ef-43c2-88a3-8429ca254782",
   "metadata": {
    "tags": []
   },
   "outputs": [
    {
     "data": {
      "text/html": [
       "<div>\n",
       "<style scoped>\n",
       "    .dataframe tbody tr th:only-of-type {\n",
       "        vertical-align: middle;\n",
       "    }\n",
       "\n",
       "    .dataframe tbody tr th {\n",
       "        vertical-align: top;\n",
       "    }\n",
       "\n",
       "    .dataframe thead th {\n",
       "        text-align: right;\n",
       "    }\n",
       "</style>\n",
       "<table border=\"1\" class=\"dataframe\">\n",
       "  <thead>\n",
       "    <tr style=\"text-align: right;\">\n",
       "      <th></th>\n",
       "      <th>ageg</th>\n",
       "      <th>mean_income</th>\n",
       "    </tr>\n",
       "  </thead>\n",
       "  <tbody>\n",
       "    <tr>\n",
       "      <th>0</th>\n",
       "      <td>middle</td>\n",
       "      <td>329.737610</td>\n",
       "    </tr>\n",
       "    <tr>\n",
       "      <th>1</th>\n",
       "      <td>old</td>\n",
       "      <td>126.260302</td>\n",
       "    </tr>\n",
       "    <tr>\n",
       "      <th>2</th>\n",
       "      <td>young</td>\n",
       "      <td>202.595278</td>\n",
       "    </tr>\n",
       "  </tbody>\n",
       "</table>\n",
       "</div>"
      ],
      "text/plain": [
       "     ageg  mean_income\n",
       "0  middle   329.737610\n",
       "1     old   126.260302\n",
       "2   young   202.595278"
      ]
     },
     "execution_count": 76,
     "metadata": {},
     "output_type": "execute_result"
    }
   ],
   "source": [
    "ageg_income = welfare.dropna(subset=['income']) \\\n",
    "                     .groupby('ageg', as_index=False) \\\n",
    "                     .agg(mean_income = ('income', 'mean'))\n",
    "ageg_income"
   ]
  },
  {
   "cell_type": "markdown",
   "id": "62effa1d-8ae3-4f7a-95fe-e57008deb466",
   "metadata": {
    "tags": []
   },
   "source": [
    "#### 2. 그래프로 시각화 하기"
   ]
  },
  {
   "cell_type": "code",
   "execution_count": 63,
   "id": "fbe7fd60-5bd3-4f1e-8c20-d74b77f20213",
   "metadata": {
    "tags": []
   },
   "outputs": [
    {
     "data": {
      "text/plain": [
       "<Axes: xlabel='ageg', ylabel='mean_income'>"
      ]
     },
     "execution_count": 63,
     "metadata": {},
     "output_type": "execute_result"
    },
    {
     "data": {
      "image/png": "[encoded data removed]",
      "text/plain": [
       "<Figure size 640x480 with 1 Axes>"
      ]
     },
     "metadata": {},
     "output_type": "display_data"
    }
   ],
   "source": [
    "sns.barplot(data=ageg_income, x = 'ageg', y='mean_income')"
   ]
  },
  {
   "cell_type": "markdown",
   "id": "6a05e10b-8d40-489c-806f-3476ffe130c4",
   "metadata": {},
   "source": [
    "막대 그래프 정렬 순서는 그래프를 만드는데 사용한 데이터프레임의 행 순서에 따라 정해짐.  \n",
    "초년, 중년, 노년층 순으로 막대를 정렬하도록 order에 순서를 지정하겠음"
   ]
  },
  {
   "cell_type": "code",
   "execution_count": 64,
   "id": "04e3828d-4a0b-4344-9d87-3836388bcc03",
   "metadata": {
    "tags": []
   },
   "outputs": [
    {
     "data": {
      "text/plain": [
       "<Axes: xlabel='ageg', ylabel='mean_income'>"
      ]
     },
     "execution_count": 64,
     "metadata": {},
     "output_type": "execute_result"
    },
    {
     "data": {
      "image/png": "[encoded data removed]",
      "text/plain": [
       "<Figure size 640x480 with 1 Axes>"
      ]
     },
     "metadata": {},
     "output_type": "display_data"
    }
   ],
   "source": [
    "sns.barplot(data=ageg_income, x = 'ageg', y='mean_income', order=['young', 'middle', 'old'])"
   ]
  },
  {
   "cell_type": "markdown",
   "id": "1936dfd1-0c90-426e-8c8d-0681141281db",
   "metadata": {
    "tags": []
   },
   "source": [
    "#### 3.분석 결과\n",
    "출력된 표와 그래프를 보면 중년층이 330만원 정도의 가장 많은 월급을 받으며 노년층의 월급은 126만원으로 초년층이 받는 202만원 보다 적습니다.  "
   ]
  },
  {
   "cell_type": "markdown",
   "id": "4f718746-3641-4e03-83b0-3d00f45f8e06",
   "metadata": {},
   "source": [
    "## 9-5 연령대 및 성별 월급 차이 - 성별 월급 차이는 연령대별로 다를까?"
   ]
  },
  {
   "cell_type": "code",
   "execution_count": 79,
   "id": "98f8dcbc-fdcf-4e9f-9365-1c868e490ff8",
   "metadata": {
    "tags": []
   },
   "outputs": [],
   "source": [
    "import pandas as pd\n",
    "import numpy as np\n",
    "import seaborn as sns\n",
    "\n",
    "raw_welfare = pd.read_spss('Koweps_hpwc14_2019_beta2.sav')\n",
    "welfare = raw_welfare.copy()\n",
    "\n",
    "welfare = welfare.rename(\n",
    "    columns = {\n",
    "        'h14_g3'     : 'sex',             # 1: 남자, 2: 여자\n",
    "        'h14_g4'     : 'birth',           # 태어난 년도\n",
    "        'h14_g10'    : 'marriage_type',\n",
    "        'h14_g11'    : 'religion',\n",
    "        'p1402_8aq1' : 'income',         # 일을 한 달의 월 평균 임금[단위는 만원]\n",
    "        'h14_eco9'   : 'code_job', \n",
    "        'h14_reg7'   : 'code_region' \n",
    "    }\n",
    ")\n",
    "\n",
    "# 변수명 변경\n",
    "welfare['sex'] = np.where(welfare['sex'] == 1, 'male', 'female')\n",
    "\n",
    "# 파생 변수 만들기\n",
    "welfare = welfare.assign( age = 2019-welfare['birth'] )\n",
    "\n",
    "# 연령대 변수 만들기\n",
    "welfare = welfare.assign(ageg = np.where(welfare['age'] < 30, 'young', \n",
    "                                         np.where(welfare['age'] <= 59, 'middle', 'old')))"
   ]
  },
  {
   "cell_type": "markdown",
   "id": "2523ff8c-5e89-42fb-80bc-a4829af3adc4",
   "metadata": {
    "tags": []
   },
   "source": [
    "### Do it! - 연령대 및 성별 월급 차이 분석하기"
   ]
  },
  {
   "cell_type": "markdown",
   "id": "83d381ff-7612-4559-a019-d1889787f498",
   "metadata": {},
   "source": [
    "#### 1. 연령대 및 성별 월급 평균표 만들기\n",
    "성별 월급 차이가 연령대별로 다른지 알아보기 위해 '연령대 및 성별에 따른 월급 평균표'를 만들겠습니다."
   ]
  },
  {
   "cell_type": "code",
   "execution_count": 80,
   "id": "acd3c917-007c-43de-a816-c60c16f9dd12",
   "metadata": {
    "tags": []
   },
   "outputs": [
    {
     "data": {
      "text/html": [
       "<div>\n",
       "<style scoped>\n",
       "    .dataframe tbody tr th:only-of-type {\n",
       "        vertical-align: middle;\n",
       "    }\n",
       "\n",
       "    .dataframe tbody tr th {\n",
       "        vertical-align: top;\n",
       "    }\n",
       "\n",
       "    .dataframe thead th {\n",
       "        text-align: right;\n",
       "    }\n",
       "</style>\n",
       "<table border=\"1\" class=\"dataframe\">\n",
       "  <thead>\n",
       "    <tr style=\"text-align: right;\">\n",
       "      <th></th>\n",
       "      <th>ageg</th>\n",
       "      <th>sex</th>\n",
       "      <th>mean_income</th>\n",
       "    </tr>\n",
       "  </thead>\n",
       "  <tbody>\n",
       "    <tr>\n",
       "      <th>0</th>\n",
       "      <td>middle</td>\n",
       "      <td>female</td>\n",
       "      <td>229.026677</td>\n",
       "    </tr>\n",
       "    <tr>\n",
       "      <th>1</th>\n",
       "      <td>middle</td>\n",
       "      <td>male</td>\n",
       "      <td>410.602203</td>\n",
       "    </tr>\n",
       "    <tr>\n",
       "      <th>2</th>\n",
       "      <td>old</td>\n",
       "      <td>female</td>\n",
       "      <td>84.324653</td>\n",
       "    </tr>\n",
       "    <tr>\n",
       "      <th>3</th>\n",
       "      <td>old</td>\n",
       "      <td>male</td>\n",
       "      <td>183.909308</td>\n",
       "    </tr>\n",
       "    <tr>\n",
       "      <th>4</th>\n",
       "      <td>young</td>\n",
       "      <td>female</td>\n",
       "      <td>193.764706</td>\n",
       "    </tr>\n",
       "    <tr>\n",
       "      <th>5</th>\n",
       "      <td>young</td>\n",
       "      <td>male</td>\n",
       "      <td>215.953390</td>\n",
       "    </tr>\n",
       "  </tbody>\n",
       "</table>\n",
       "</div>"
      ],
      "text/plain": [
       "     ageg     sex  mean_income\n",
       "0  middle  female   229.026677\n",
       "1  middle    male   410.602203\n",
       "2     old  female    84.324653\n",
       "3     old    male   183.909308\n",
       "4   young  female   193.764706\n",
       "5   young    male   215.953390"
      ]
     },
     "execution_count": 80,
     "metadata": {},
     "output_type": "execute_result"
    }
   ],
   "source": [
    "sex_income = welfare.dropna(subset=['income']) \\\n",
    "                    .groupby(['ageg', 'sex'], as_index=False) \\\n",
    "                    .agg(mean_income = ('income', 'mean'))\n",
    "sex_income"
   ]
  },
  {
   "cell_type": "markdown",
   "id": "f97eb56d-078a-40d8-845f-ac343635c8dd",
   "metadata": {},
   "source": [
    "#### 2. 그래프로 시각화 하기\n",
    "x축에는 ageg를 지정하고 막대 색깔은 성별에 따라 다드로도록 hue에 'sex'를 지정, 축 순서는 order을 이용해서 연령대 순으로 설정"
   ]
  },
  {
   "cell_type": "code",
   "execution_count": 83,
   "id": "7c02c32a-d58e-426c-b1e6-951b82550be6",
   "metadata": {
    "tags": []
   },
   "outputs": [
    {
     "data": {
      "text/plain": [
       "<Axes: xlabel='ageg', ylabel='mean_income'>"
      ]
     },
     "execution_count": 83,
     "metadata": {},
     "output_type": "execute_result"
    },
    {
     "data": {
      "image/png": "[encoded data removed]",
      "text/plain": [
       "<Figure size 640x480 with 1 Axes>"
      ]
     },
     "metadata": {},
     "output_type": "display_data"
    }
   ],
   "source": [
    "sns.barplot(data=sex_income, x='ageg', y='mean_income', hue = 'sex', order=['young', 'middle', 'old'])"
   ]
  },
  {
   "cell_type": "markdown",
   "id": "93b0fea7-18cf-4d29-84d6-963af4eb9406",
   "metadata": {},
   "source": [
    "앞 절에서 연령대별 월급을 분석할 때 노년층이 초년층보다 월급을 적게 받는 것으로 나타났습니다. 그런데 연령대와 성별로 나눈 이번 분석 결과를 보면 노년층이 초년층보다 월급을 적게 적게 받는 현상은 여성에서 두드러지게 나타납니다. 또한 중년층이 초년층보다 월급을 더 많이 받는 현상도 주로 남성에서 나타나고 여성은 차이가 크지 않습니다."
   ]
  },
  {
   "cell_type": "markdown",
   "id": "e67867be-1e63-495a-b16d-596c06d1e3d6",
   "metadata": {
    "tags": []
   },
   "source": [
    "### Do it! - 나이 및 성별 월급 차이 분석하기"
   ]
  },
  {
   "cell_type": "markdown",
   "id": "94463a99-3c11-4f05-9686-7b442d1d43b0",
   "metadata": {},
   "source": [
    "이번에는 연령대별로 구분하지 않고 '나이 및 성별 월급 평균표'를 만들어 선 그래프로 표현하겠습니다. \n",
    "그래프에서 성별에 따라 선 색깔이 다르도록 hue에 'sex'를 할당"
   ]
  },
  {
   "cell_type": "code",
   "execution_count": 85,
   "id": "2b9301d8-dd58-4333-8534-feb483df1d2b",
   "metadata": {
    "tags": []
   },
   "outputs": [
    {
     "data": {
      "text/html": [
       "<div>\n",
       "<style scoped>\n",
       "    .dataframe tbody tr th:only-of-type {\n",
       "        vertical-align: middle;\n",
       "    }\n",
       "\n",
       "    .dataframe tbody tr th {\n",
       "        vertical-align: top;\n",
       "    }\n",
       "\n",
       "    .dataframe thead th {\n",
       "        text-align: right;\n",
       "    }\n",
       "</style>\n",
       "<table border=\"1\" class=\"dataframe\">\n",
       "  <thead>\n",
       "    <tr style=\"text-align: right;\">\n",
       "      <th></th>\n",
       "      <th>age</th>\n",
       "      <th>sex</th>\n",
       "      <th>mean_income</th>\n",
       "    </tr>\n",
       "  </thead>\n",
       "  <tbody>\n",
       "    <tr>\n",
       "      <th>0</th>\n",
       "      <td>18.0</td>\n",
       "      <td>male</td>\n",
       "      <td>162.000000</td>\n",
       "    </tr>\n",
       "    <tr>\n",
       "      <th>1</th>\n",
       "      <td>19.0</td>\n",
       "      <td>female</td>\n",
       "      <td>87.666667</td>\n",
       "    </tr>\n",
       "    <tr>\n",
       "      <th>2</th>\n",
       "      <td>19.0</td>\n",
       "      <td>male</td>\n",
       "      <td>155.000000</td>\n",
       "    </tr>\n",
       "    <tr>\n",
       "      <th>3</th>\n",
       "      <td>20.0</td>\n",
       "      <td>female</td>\n",
       "      <td>124.000000</td>\n",
       "    </tr>\n",
       "    <tr>\n",
       "      <th>4</th>\n",
       "      <td>20.0</td>\n",
       "      <td>male</td>\n",
       "      <td>186.000000</td>\n",
       "    </tr>\n",
       "  </tbody>\n",
       "</table>\n",
       "</div>"
      ],
      "text/plain": [
       "    age     sex  mean_income\n",
       "0  18.0    male   162.000000\n",
       "1  19.0  female    87.666667\n",
       "2  19.0    male   155.000000\n",
       "3  20.0  female   124.000000\n",
       "4  20.0    male   186.000000"
      ]
     },
     "execution_count": 85,
     "metadata": {},
     "output_type": "execute_result"
    }
   ],
   "source": [
    "sex_age = welfare.dropna(subset=['income']) \\\n",
    "                 .groupby(['age', 'sex'], as_index=False) \\\n",
    "                 .agg(mean_income = ('income', 'mean'))\n",
    "sex_age.head()"
   ]
  },
  {
   "cell_type": "code",
   "execution_count": 86,
   "id": "8494ef43-ab2c-447d-9b93-1a6b3a658cb4",
   "metadata": {
    "tags": []
   },
   "outputs": [
    {
     "data": {
      "text/plain": [
       "<Axes: xlabel='age', ylabel='mean_income'>"
      ]
     },
     "execution_count": 86,
     "metadata": {},
     "output_type": "execute_result"
    },
    {
     "data": {
      "image/png": "[encoded data removed]",
      "text/plain": [
       "<Figure size 640x480 with 1 Axes>"
      ]
     },
     "metadata": {},
     "output_type": "display_data"
    }
   ],
   "source": [
    "# 선 그래프 만들기\n",
    "sns.lineplot(data=sex_age, x='age', y='mean_income', hue='sex')"
   ]
  },
  {
   "cell_type": "markdown",
   "id": "6b22d2c2-f04e-4f33-b64a-630ef412c21e",
   "metadata": {},
   "source": [
    "위 그래프를 읽어 보면, \n",
    "- 남성의 월급은 50세 전후까지 증가하다가 이후 급격하게 감소하는 반면 여성은 30세 초반까지 약간 증가하다가 이후로는 완만하게 감소합니다. \n",
    "- 성별 월급 격차는 30대 중반부터 벌어지다가 50대에 가장 크게 벌어지고 이후 점점 줄어들어 \n",
    "- 80대가 되면 비슷한 수준이 됩니다."
   ]
  },
  {
   "cell_type": "markdown",
   "id": "7484a402-d43f-4385-bc00-3f04468cc992",
   "metadata": {},
   "source": [
    "## 9-6 직업별 월급 차이 - 어떤 직업이 월급을 가장 많이 받을까?"
   ]
  },
  {
   "cell_type": "code",
   "execution_count": 159,
   "id": "8eb3d1fa-32b3-4bb3-a550-e8cbcdade460",
   "metadata": {
    "tags": []
   },
   "outputs": [],
   "source": [
    "import pandas as pd\n",
    "import numpy as np\n",
    "import seaborn as sns\n",
    "\n",
    "raw_welfare = pd.read_spss('Koweps_hpwc14_2019_beta2.sav')\n",
    "welfare = raw_welfare.copy()\n",
    "\n",
    "welfare = welfare.rename(\n",
    "    columns = {\n",
    "        'h14_g3'     : 'sex',             # 1: 남자, 2: 여자\n",
    "        'h14_g4'     : 'birth',           # 태어난 년도\n",
    "        'h14_g10'    : 'marriage_type',\n",
    "        'h14_g11'    : 'religion',\n",
    "        'p1402_8aq1' : 'income',         # 일을 한 달의 월 평균 임금[단위는 만원]\n",
    "        'h14_eco9'   : 'code_job', \n",
    "        'h14_reg7'   : 'code_region' \n",
    "    }\n",
    ")"
   ]
  },
  {
   "cell_type": "markdown",
   "id": "9f20cc1d-6311-4067-a5c5-bf14f83f5ce0",
   "metadata": {},
   "source": [
    "### Do it! - 직업 변수 검토 및 전처리하기"
   ]
  },
  {
   "cell_type": "markdown",
   "id": "4706ae22-5317-4147-b595-7ef5c0882974",
   "metadata": {},
   "source": [
    "#### 1. 변수 검토하기\n",
    "변수 code_job의 값은 '직업 코드'를 의미합니다. 복지패널 데이터에서 직업 정보는 직업 코드로 기록되어 있습니다. \n",
    "Koweps_Codebook_2009 파일의 '직종코드' 쉬트에서 각각의 직업 코드가 어떤 직업인지 확인할 수 있습니다. "
   ]
  },
  {
   "cell_type": "code",
   "execution_count": 88,
   "id": "19857f1b-0552-4672-af34-d350d6157c4c",
   "metadata": {
    "tags": []
   },
   "outputs": [
    {
     "data": {
      "text/plain": [
       "dtype('float64')"
      ]
     },
     "execution_count": 88,
     "metadata": {},
     "output_type": "execute_result"
    }
   ],
   "source": [
    "welfare['code_job'].dtypes"
   ]
  },
  {
   "cell_type": "code",
   "execution_count": 89,
   "id": "ce7ff109-bdfc-4eb9-8f75-e5ea723415e6",
   "metadata": {
    "tags": []
   },
   "outputs": [
    {
     "data": {
      "text/plain": [
       "code_job\n",
       "611.0    962\n",
       "941.0    391\n",
       "521.0    354\n",
       "312.0    275\n",
       "873.0    236\n",
       "        ... \n",
       "112.0      2\n",
       "784.0      2\n",
       "423.0      1\n",
       "861.0      1\n",
       "872.0      1\n",
       "Name: count, Length: 150, dtype: int64"
      ]
     },
     "execution_count": 89,
     "metadata": {},
     "output_type": "execute_result"
    }
   ],
   "source": [
    "welfare['code_job'].value_counts()"
   ]
  },
  {
   "cell_type": "markdown",
   "id": "3a71b39a-302e-41fb-8a49-59ca912b7ab1",
   "metadata": {},
   "source": [
    "#### 2.전처리하기\n",
    "코드북의 직업분류코드 목록을 이용해 직업 이름을 나타낼 변수를 만들겠습니다. 먼저 Koweps_Codebook_2019.xlsx 파일의 '직종코드' 시트에 있는 직업분류코드 목록을 불러온 다음 살펴보겠습니다. "
   ]
  },
  {
   "cell_type": "code",
   "execution_count": 160,
   "id": "f45f8f13-7b18-4e92-bd75-f936452a3917",
   "metadata": {
    "tags": []
   },
   "outputs": [
    {
     "data": {
      "text/html": [
       "<div>\n",
       "<style scoped>\n",
       "    .dataframe tbody tr th:only-of-type {\n",
       "        vertical-align: middle;\n",
       "    }\n",
       "\n",
       "    .dataframe tbody tr th {\n",
       "        vertical-align: top;\n",
       "    }\n",
       "\n",
       "    .dataframe thead th {\n",
       "        text-align: right;\n",
       "    }\n",
       "</style>\n",
       "<table border=\"1\" class=\"dataframe\">\n",
       "  <thead>\n",
       "    <tr style=\"text-align: right;\">\n",
       "      <th></th>\n",
       "      <th>code_job</th>\n",
       "      <th>job</th>\n",
       "    </tr>\n",
       "  </thead>\n",
       "  <tbody>\n",
       "    <tr>\n",
       "      <th>0</th>\n",
       "      <td>111</td>\n",
       "      <td>의회 의원∙고위 공무원 및 공공단체 임원</td>\n",
       "    </tr>\n",
       "    <tr>\n",
       "      <th>1</th>\n",
       "      <td>112</td>\n",
       "      <td>기업 고위 임원</td>\n",
       "    </tr>\n",
       "    <tr>\n",
       "      <th>2</th>\n",
       "      <td>121</td>\n",
       "      <td>행정 및 경영 지원 관리자</td>\n",
       "    </tr>\n",
       "    <tr>\n",
       "      <th>3</th>\n",
       "      <td>122</td>\n",
       "      <td>마케팅 및 광고∙홍보 관리자</td>\n",
       "    </tr>\n",
       "    <tr>\n",
       "      <th>4</th>\n",
       "      <td>131</td>\n",
       "      <td>연구∙교육 및 법률 관련 관리자</td>\n",
       "    </tr>\n",
       "  </tbody>\n",
       "</table>\n",
       "</div>"
      ],
      "text/plain": [
       "   code_job                     job\n",
       "0       111  의회 의원∙고위 공무원 및 공공단체 임원\n",
       "1       112                기업 고위 임원\n",
       "2       121          행정 및 경영 지원 관리자\n",
       "3       122         마케팅 및 광고∙홍보 관리자\n",
       "4       131       연구∙교육 및 법률 관련 관리자"
      ]
     },
     "execution_count": 160,
     "metadata": {},
     "output_type": "execute_result"
    }
   ],
   "source": [
    "list_job = pd.read_excel('Koweps_Codebook_2019.xlsx', sheet_name='직종코드')\n",
    "list_job.head()"
   ]
  },
  {
   "cell_type": "code",
   "execution_count": 91,
   "id": "b2990ef6-3c38-4831-a031-6035e29b6355",
   "metadata": {
    "tags": []
   },
   "outputs": [
    {
     "data": {
      "text/plain": [
       "(156, 2)"
      ]
     },
     "execution_count": 91,
     "metadata": {},
     "output_type": "execute_result"
    }
   ],
   "source": [
    "list_job.shape"
   ]
  },
  {
   "cell_type": "markdown",
   "id": "6fa839e9-c713-40a7-84cc-76d49be40e59",
   "metadata": {},
   "source": [
    "**`df.merge()`를 이용해 `list_job`을 `welfare`에 결합** 하겠습니다. `welfare`와 `list_job`에 공통으로 들어 있는 `code_job` 변수를 기준으로 결합하면 됩니다."
   ]
  },
  {
   "cell_type": "code",
   "execution_count": 161,
   "id": "ac50614f-5b6d-497c-84af-ae1e15f0329f",
   "metadata": {
    "tags": []
   },
   "outputs": [],
   "source": [
    "#welfare에 list_job 결합하기\n",
    "welfare = welfare.merge(list_job, how='left', on='code_job')"
   ]
  },
  {
   "cell_type": "markdown",
   "id": "455a4170-3766-4518-a147-3c9ce746b3bc",
   "metadata": {
    "tags": []
   },
   "source": [
    "welfare의 code_job과 job 변수 일부를 출력해 잘 결합되었는지 확인하겠습니다. 출력할 때 직업이 결측치인 행은 제외하겠습니다."
   ]
  },
  {
   "cell_type": "code",
   "execution_count": 162,
   "id": "f72cbb66-c9bc-4f92-b3a5-7b0244cbc531",
   "metadata": {
    "tags": []
   },
   "outputs": [
    {
     "data": {
      "text/html": [
       "<div>\n",
       "<style scoped>\n",
       "    .dataframe tbody tr th:only-of-type {\n",
       "        vertical-align: middle;\n",
       "    }\n",
       "\n",
       "    .dataframe tbody tr th {\n",
       "        vertical-align: top;\n",
       "    }\n",
       "\n",
       "    .dataframe thead th {\n",
       "        text-align: right;\n",
       "    }\n",
       "</style>\n",
       "<table border=\"1\" class=\"dataframe\">\n",
       "  <thead>\n",
       "    <tr style=\"text-align: right;\">\n",
       "      <th></th>\n",
       "      <th>code_job</th>\n",
       "      <th>job</th>\n",
       "    </tr>\n",
       "  </thead>\n",
       "  <tbody>\n",
       "    <tr>\n",
       "      <th>2</th>\n",
       "      <td>762.0</td>\n",
       "      <td>전기공</td>\n",
       "    </tr>\n",
       "    <tr>\n",
       "      <th>3</th>\n",
       "      <td>855.0</td>\n",
       "      <td>금속기계 부품 조립원</td>\n",
       "    </tr>\n",
       "    <tr>\n",
       "      <th>7</th>\n",
       "      <td>941.0</td>\n",
       "      <td>청소원 및 환경미화원</td>\n",
       "    </tr>\n",
       "    <tr>\n",
       "      <th>8</th>\n",
       "      <td>999.0</td>\n",
       "      <td>기타 서비스 관련 단순 종사자</td>\n",
       "    </tr>\n",
       "    <tr>\n",
       "      <th>14</th>\n",
       "      <td>312.0</td>\n",
       "      <td>경영 관련 사무원</td>\n",
       "    </tr>\n",
       "  </tbody>\n",
       "</table>\n",
       "</div>"
      ],
      "text/plain": [
       "    code_job               job\n",
       "2      762.0               전기공\n",
       "3      855.0       금속기계 부품 조립원\n",
       "7      941.0       청소원 및 환경미화원\n",
       "8      999.0  기타 서비스 관련 단순 종사자\n",
       "14     312.0         경영 관련 사무원"
      ]
     },
     "execution_count": 162,
     "metadata": {},
     "output_type": "execute_result"
    }
   ],
   "source": [
    "# welfare.dropna(subset=['code_job']).head()\n",
    "welfare.dropna(subset=['code_job'])[['code_job', 'job']].head()       "
   ]
  },
  {
   "cell_type": "markdown",
   "id": "f5046ec2-cac5-4971-8597-7b14a1ef3117",
   "metadata": {
    "tags": []
   },
   "source": [
    "### Do it! - 직업별 월급 차이 분석하기"
   ]
  },
  {
   "cell_type": "markdown",
   "id": "3acc734d-845b-4ab0-8705-43f6b4b0eb5b",
   "metadata": {},
   "source": [
    "#### 1. 직업별 월급 평균표 만들기"
   ]
  },
  {
   "cell_type": "code",
   "execution_count": 163,
   "id": "27eaa534-3224-4791-9f73-c857654eb734",
   "metadata": {
    "tags": []
   },
   "outputs": [
    {
     "data": {
      "text/html": [
       "<div>\n",
       "<style scoped>\n",
       "    .dataframe tbody tr th:only-of-type {\n",
       "        vertical-align: middle;\n",
       "    }\n",
       "\n",
       "    .dataframe tbody tr th {\n",
       "        vertical-align: top;\n",
       "    }\n",
       "\n",
       "    .dataframe thead th {\n",
       "        text-align: right;\n",
       "    }\n",
       "</style>\n",
       "<table border=\"1\" class=\"dataframe\">\n",
       "  <thead>\n",
       "    <tr style=\"text-align: right;\">\n",
       "      <th></th>\n",
       "      <th>job</th>\n",
       "      <th>mean_income</th>\n",
       "    </tr>\n",
       "  </thead>\n",
       "  <tbody>\n",
       "    <tr>\n",
       "      <th>0</th>\n",
       "      <td>가사 및 육아 도우미</td>\n",
       "      <td>92.455882</td>\n",
       "    </tr>\n",
       "    <tr>\n",
       "      <th>1</th>\n",
       "      <td>간호사</td>\n",
       "      <td>265.219178</td>\n",
       "    </tr>\n",
       "    <tr>\n",
       "      <th>2</th>\n",
       "      <td>감정∙기술영업및중개관련종사자</td>\n",
       "      <td>391.000000</td>\n",
       "    </tr>\n",
       "    <tr>\n",
       "      <th>3</th>\n",
       "      <td>건물 관리원 및 검표원</td>\n",
       "      <td>168.375000</td>\n",
       "    </tr>\n",
       "    <tr>\n",
       "      <th>4</th>\n",
       "      <td>건설 및 광업 단순 종사자</td>\n",
       "      <td>261.975000</td>\n",
       "    </tr>\n",
       "  </tbody>\n",
       "</table>\n",
       "</div>"
      ],
      "text/plain": [
       "                job  mean_income\n",
       "0       가사 및 육아 도우미    92.455882\n",
       "1               간호사   265.219178\n",
       "2  감정∙기술영업및중개관련종사자    391.000000\n",
       "3      건물 관리원 및 검표원   168.375000\n",
       "4    건설 및 광업 단순 종사자   261.975000"
      ]
     },
     "execution_count": 163,
     "metadata": {},
     "output_type": "execute_result"
    }
   ],
   "source": [
    "job_income = welfare.dropna(subset=['job', 'income']) \\\n",
    "                    .groupby('job', as_index=False) \\\n",
    "                    .agg(mean_income = ('income', 'mean'))\n",
    "job_income.head()"
   ]
  },
  {
   "cell_type": "code",
   "execution_count": 169,
   "id": "0cf09399-b3b9-42f9-ac20-b73e19f1385b",
   "metadata": {
    "tags": []
   },
   "outputs": [],
   "source": [
    "# job_income.sort_values('mean_income')\n",
    "# job_income.sort_values('mean_income', ascending=False).head()"
   ]
  },
  {
   "cell_type": "markdown",
   "id": "d4ea3df4-95f2-4cba-b1c6-2378f0c61c04",
   "metadata": {
    "tags": []
   },
   "source": [
    "#### 2. 그래프 만들기"
   ]
  },
  {
   "cell_type": "markdown",
   "id": "2e04101f-eeac-4acf-b438-59934f0ad003",
   "metadata": {
    "tags": []
   },
   "source": [
    "##### (1) 월급이 많은 직업"
   ]
  },
  {
   "cell_type": "code",
   "execution_count": 108,
   "id": "e6c7b050-cb46-44b5-a383-3a38ec270f2a",
   "metadata": {
    "tags": []
   },
   "outputs": [
    {
     "data": {
      "text/html": [
       "<div>\n",
       "<style scoped>\n",
       "    .dataframe tbody tr th:only-of-type {\n",
       "        vertical-align: middle;\n",
       "    }\n",
       "\n",
       "    .dataframe tbody tr th {\n",
       "        vertical-align: top;\n",
       "    }\n",
       "\n",
       "    .dataframe thead th {\n",
       "        text-align: right;\n",
       "    }\n",
       "</style>\n",
       "<table border=\"1\" class=\"dataframe\">\n",
       "  <thead>\n",
       "    <tr style=\"text-align: right;\">\n",
       "      <th></th>\n",
       "      <th>job</th>\n",
       "      <th>mean_income</th>\n",
       "    </tr>\n",
       "  </thead>\n",
       "  <tbody>\n",
       "    <tr>\n",
       "      <th>98</th>\n",
       "      <td>의료 진료 전문가</td>\n",
       "      <td>781.000000</td>\n",
       "    </tr>\n",
       "    <tr>\n",
       "      <th>60</th>\n",
       "      <td>법률 전문가</td>\n",
       "      <td>776.333333</td>\n",
       "    </tr>\n",
       "    <tr>\n",
       "      <th>140</th>\n",
       "      <td>행정 및 경영 지원 관리자</td>\n",
       "      <td>771.833333</td>\n",
       "    </tr>\n",
       "    <tr>\n",
       "      <th>63</th>\n",
       "      <td>보험 및 금융 관리자</td>\n",
       "      <td>734.750000</td>\n",
       "    </tr>\n",
       "    <tr>\n",
       "      <th>110</th>\n",
       "      <td>재활용 처리 및 소각로 조작원</td>\n",
       "      <td>688.000000</td>\n",
       "    </tr>\n",
       "    <tr>\n",
       "      <th>131</th>\n",
       "      <td>컴퓨터 하드웨어 및 통신공학 전문가</td>\n",
       "      <td>679.444444</td>\n",
       "    </tr>\n",
       "    <tr>\n",
       "      <th>24</th>\n",
       "      <td>기계∙로봇공학 기술자 및 시험원</td>\n",
       "      <td>669.166667</td>\n",
       "    </tr>\n",
       "    <tr>\n",
       "      <th>6</th>\n",
       "      <td>건설∙전기 및 생산 관련 관리자</td>\n",
       "      <td>603.083333</td>\n",
       "    </tr>\n",
       "    <tr>\n",
       "      <th>120</th>\n",
       "      <td>제관원 및 판금원</td>\n",
       "      <td>597.000000</td>\n",
       "    </tr>\n",
       "    <tr>\n",
       "      <th>100</th>\n",
       "      <td>의회 의원∙고위 공무원 및 공공단체 임원</td>\n",
       "      <td>580.500000</td>\n",
       "    </tr>\n",
       "  </tbody>\n",
       "</table>\n",
       "</div>"
      ],
      "text/plain": [
       "                        job  mean_income\n",
       "98                의료 진료 전문가   781.000000\n",
       "60                   법률 전문가   776.333333\n",
       "140          행정 및 경영 지원 관리자   771.833333\n",
       "63              보험 및 금융 관리자   734.750000\n",
       "110        재활용 처리 및 소각로 조작원   688.000000\n",
       "131     컴퓨터 하드웨어 및 통신공학 전문가   679.444444\n",
       "24        기계∙로봇공학 기술자 및 시험원   669.166667\n",
       "6         건설∙전기 및 생산 관련 관리자   603.083333\n",
       "120               제관원 및 판금원   597.000000\n",
       "100  의회 의원∙고위 공무원 및 공공단체 임원   580.500000"
      ]
     },
     "execution_count": 108,
     "metadata": {},
     "output_type": "execute_result"
    }
   ],
   "source": [
    "top10 = job_income.sort_values('mean_income', ascending=False).head(10)\n",
    "top10"
   ]
  },
  {
   "cell_type": "markdown",
   "id": "7fdecb90-72e1-424a-a269-75e3a17e51a7",
   "metadata": {
    "tags": []
   },
   "source": [
    "한글로된 데이터(변수 job의 값)가 그래프에 출력될 수 있도록 폰트 설정을 하겠습니다."
   ]
  },
  {
   "cell_type": "code",
   "execution_count": 170,
   "id": "e47399a8-873a-46cd-9ead-9ec8aeadb8f6",
   "metadata": {
    "tags": []
   },
   "outputs": [],
   "source": [
    "import matplotlib.pyplot as plt\n",
    "plt.rcParams.update({'font.family':'Malgun Gothic'})"
   ]
  },
  {
   "cell_type": "code",
   "execution_count": 171,
   "id": "31905503-4a89-4200-913c-ffc4267d793e",
   "metadata": {
    "tags": []
   },
   "outputs": [
    {
     "data": {
      "text/plain": [
       "<Axes: xlabel='mean_income', ylabel='job'>"
      ]
     },
     "execution_count": 171,
     "metadata": {},
     "output_type": "execute_result"
    },
    {
     "data": {
      "image/png": "[encoded data removed]",
      "text/plain": [
       "<Figure size 640x480 with 1 Axes>"
      ]
     },
     "metadata": {},
     "output_type": "display_data"
    }
   ],
   "source": [
    "# 막대 그래프 만들기\n",
    "sns.barplot(data=top10, y = 'job', x='mean_income')"
   ]
  },
  {
   "cell_type": "code",
   "execution_count": 172,
   "id": "73d749ca-ade0-44a5-8a02-2b6c5380ad5c",
   "metadata": {
    "tags": []
   },
   "outputs": [
    {
     "data": {
      "text/plain": [
       "<Axes: xlabel='job', ylabel='mean_income'>"
      ]
     },
     "execution_count": 172,
     "metadata": {},
     "output_type": "execute_result"
    },
    {
     "data": {
      "image/png": "[encoded data removed]",
      "text/plain": [
       "<Figure size 640x480 with 1 Axes>"
      ]
     },
     "metadata": {},
     "output_type": "display_data"
    }
   ],
   "source": [
    "sns.barplot(data=top10, x = 'job', y='mean_income')"
   ]
  },
  {
   "cell_type": "markdown",
   "id": "476523fc-ffd3-4faf-b79a-101202521c31",
   "metadata": {
    "tags": []
   },
   "source": [
    "##### (2) 월급이 적은 직업"
   ]
  },
  {
   "cell_type": "code",
   "execution_count": 173,
   "id": "fcb1708f-7499-44a7-8868-04387611290c",
   "metadata": {
    "tags": []
   },
   "outputs": [],
   "source": [
    "bottom10 = job_income.sort_values('mean_income').head(10)"
   ]
  },
  {
   "cell_type": "code",
   "execution_count": 174,
   "id": "d25b0434-8513-4d1a-8f21-a8c0932f830a",
   "metadata": {
    "tags": []
   },
   "outputs": [
    {
     "data": {
      "text/plain": [
       "<Axes: xlabel='mean_income', ylabel='job'>"
      ]
     },
     "execution_count": 174,
     "metadata": {},
     "output_type": "execute_result"
    },
    {
     "data": {
      "image/png": "[encoded data removed]",
      "text/plain": [
       "<Figure size 640x480 with 1 Axes>"
      ]
     },
     "metadata": {},
     "output_type": "display_data"
    }
   ],
   "source": [
    "sns.barplot(data=bottom10, y = 'job', x='mean_income')"
   ]
  },
  {
   "cell_type": "code",
   "execution_count": 118,
   "id": "dd73e3ff-2e4e-4c30-b4a3-d068e3401464",
   "metadata": {
    "tags": []
   },
   "outputs": [
    {
     "data": {
      "text/plain": [
       "[(0.0, 800.0)]"
      ]
     },
     "execution_count": 118,
     "metadata": {},
     "output_type": "execute_result"
    },
    {
     "data": {
      "image/png": "[encoded data removed]",
      "text/plain": [
       "<Figure size 640x480 with 1 Axes>"
      ]
     },
     "metadata": {},
     "output_type": "display_data"
    }
   ],
   "source": [
    "sns.barplot(data=bottom10, y = 'job', x='mean_income')\\\n",
    "   .set(xlim=[0, 800])"
   ]
  },
  {
   "cell_type": "code",
   "execution_count": 119,
   "id": "f173b2c8-6b48-4b8c-9738-32b470d8635e",
   "metadata": {
    "tags": []
   },
   "outputs": [
    {
     "data": {
      "text/plain": [
       "[(0.0, 800.0)]"
      ]
     },
     "execution_count": 119,
     "metadata": {},
     "output_type": "execute_result"
    },
    {
     "data": {
      "image/png": "[encoded data removed]",
      "text/plain": [
       "<Figure size 640x480 with 1 Axes>"
      ]
     },
     "metadata": {},
     "output_type": "display_data"
    }
   ],
   "source": [
    "sns.barplot(data=top10, y = 'job', x='mean_income')\\\n",
    "   .set(xlim=[0, 800])"
   ]
  },
  {
   "cell_type": "markdown",
   "id": "477e7e64-ef66-4b08-aebc-f6f6de31747b",
   "metadata": {},
   "source": [
    "## 9-7 성별 직업 빈도 - 성별로 어떤 직업이 가장 많을까?\n",
    "성별에 따라 다른 직업을 선택하는 경향이 있습니다. 성별에 따라 어떤 직업이 많은지 분석해 보겠습니다.  "
   ]
  },
  {
   "cell_type": "code",
   "execution_count": 179,
   "id": "eab8091a-032e-4da3-96da-341cfc5a7635",
   "metadata": {
    "tags": []
   },
   "outputs": [],
   "source": [
    "import pandas as pd\n",
    "import numpy as np\n",
    "import seaborn as sns\n",
    "\n",
    "raw_welfare = pd.read_spss('Koweps_hpwc14_2019_beta2.sav')\n",
    "welfare = raw_welfare.copy()\n",
    "\n",
    "welfare = welfare.rename(\n",
    "    columns = {\n",
    "        'h14_g3'     : 'sex',             # 1: 남자, 2: 여자\n",
    "        'h14_g4'     : 'birth',           # 태어난 년도\n",
    "        'h14_g10'    : 'marriage_type',\n",
    "        'h14_g11'    : 'religion',\n",
    "        'p1402_8aq1' : 'income',         # 일을 한 달의 월 평균 임금[단위는 만원]\n",
    "        'h14_eco9'   : 'code_job', \n",
    "        'h14_reg7'   : 'code_region' \n",
    "    }\n",
    ")\n",
    "\n",
    "\n",
    "# 변수명 변경\n",
    "welfare['sex'] = np.where(welfare['sex'] == 1, 'male', 'female')\n",
    "\n",
    "# 직종 코드에 대한 직업(job) 데이터 로드\n",
    "list_job = pd.read_excel('Koweps_Codebook_2019.xlsx', sheet_name='직종코드')\n",
    "# welfare에 list_job 결합하기\n",
    "welfare = welfare.merge(list_job, how='left', on='code_job')"
   ]
  },
  {
   "cell_type": "markdown",
   "id": "7402f6da-0573-4f65-8c60-184033c3d459",
   "metadata": {},
   "source": [
    "### Do it! - 성별 직업 빈도 분석하기"
   ]
  },
  {
   "cell_type": "markdown",
   "id": "bb375033-bb75-4da2-9bcb-fb7cf9623372",
   "metadata": {
    "tags": []
   },
   "source": [
    "성별 변수는 8-2절에서, 직업 변수는 9-6절에서 전처리 작업을 완료했으니 생략하고 성별과 직업의 관계를 분석하겠습니다."
   ]
  },
  {
   "cell_type": "markdown",
   "id": "753fef4e-3c4e-433c-9d2f-cee556058cb4",
   "metadata": {},
   "source": [
    "#### 1. 성별 직업 빈도표 만들기"
   ]
  },
  {
   "cell_type": "code",
   "execution_count": 178,
   "id": "d8573a7a-b8dc-4303-8fa9-49da46dafef3",
   "metadata": {
    "tags": []
   },
   "outputs": [
    {
     "data": {
      "text/html": [
       "<div>\n",
       "<style scoped>\n",
       "    .dataframe tbody tr th:only-of-type {\n",
       "        vertical-align: middle;\n",
       "    }\n",
       "\n",
       "    .dataframe tbody tr th {\n",
       "        vertical-align: top;\n",
       "    }\n",
       "\n",
       "    .dataframe thead th {\n",
       "        text-align: right;\n",
       "    }\n",
       "</style>\n",
       "<table border=\"1\" class=\"dataframe\">\n",
       "  <thead>\n",
       "    <tr style=\"text-align: right;\">\n",
       "      <th></th>\n",
       "      <th>job</th>\n",
       "      <th>n</th>\n",
       "    </tr>\n",
       "  </thead>\n",
       "  <tbody>\n",
       "    <tr>\n",
       "      <th>107</th>\n",
       "      <td>작물 재배 종사자</td>\n",
       "      <td>486</td>\n",
       "    </tr>\n",
       "    <tr>\n",
       "      <th>104</th>\n",
       "      <td>자동차 운전원</td>\n",
       "      <td>230</td>\n",
       "    </tr>\n",
       "    <tr>\n",
       "      <th>11</th>\n",
       "      <td>경영 관련 사무원</td>\n",
       "      <td>216</td>\n",
       "    </tr>\n",
       "    <tr>\n",
       "      <th>46</th>\n",
       "      <td>매장 판매 종사자</td>\n",
       "      <td>142</td>\n",
       "    </tr>\n",
       "    <tr>\n",
       "      <th>89</th>\n",
       "      <td>영업 종사자</td>\n",
       "      <td>113</td>\n",
       "    </tr>\n",
       "    <tr>\n",
       "      <th>127</th>\n",
       "      <td>청소원 및 환경미화원</td>\n",
       "      <td>109</td>\n",
       "    </tr>\n",
       "    <tr>\n",
       "      <th>4</th>\n",
       "      <td>건설 및 광업 단순 종사자</td>\n",
       "      <td>96</td>\n",
       "    </tr>\n",
       "    <tr>\n",
       "      <th>120</th>\n",
       "      <td>제조 관련 단순 종사자</td>\n",
       "      <td>80</td>\n",
       "    </tr>\n",
       "    <tr>\n",
       "      <th>3</th>\n",
       "      <td>건물 관리원 및 검표원</td>\n",
       "      <td>79</td>\n",
       "    </tr>\n",
       "    <tr>\n",
       "      <th>141</th>\n",
       "      <td>행정 사무원</td>\n",
       "      <td>74</td>\n",
       "    </tr>\n",
       "  </tbody>\n",
       "</table>\n",
       "</div>"
      ],
      "text/plain": [
       "                job    n\n",
       "107       작물 재배 종사자  486\n",
       "104         자동차 운전원  230\n",
       "11        경영 관련 사무원  216\n",
       "46        매장 판매 종사자  142\n",
       "89           영업 종사자  113\n",
       "127     청소원 및 환경미화원  109\n",
       "4    건설 및 광업 단순 종사자   96\n",
       "120    제조 관련 단순 종사자   80\n",
       "3      건물 관리원 및 검표원   79\n",
       "141          행정 사무원   74"
      ]
     },
     "execution_count": 178,
     "metadata": {},
     "output_type": "execute_result"
    }
   ],
   "source": [
    "# 남성 직업 빈도 상위 10개 추출\n",
    "job_male = welfare.dropna(subset=['job']) \\\n",
    "                  .query('sex==\"male\"') \\\n",
    "                  .groupby('job', as_index=False) \\\n",
    "                  .agg(n = ('job', 'count')) \\\n",
    "                  .sort_values('n', ascending=False) \\\n",
    "                  .head(10)\n",
    "job_male"
   ]
  },
  {
   "cell_type": "code",
   "execution_count": 132,
   "id": "b8f40577-97d2-4fa5-8d2f-9657f906a00b",
   "metadata": {
    "tags": []
   },
   "outputs": [
    {
     "data": {
      "text/html": [
       "<div>\n",
       "<style scoped>\n",
       "    .dataframe tbody tr th:only-of-type {\n",
       "        vertical-align: middle;\n",
       "    }\n",
       "\n",
       "    .dataframe tbody tr th {\n",
       "        vertical-align: top;\n",
       "    }\n",
       "\n",
       "    .dataframe thead th {\n",
       "        text-align: right;\n",
       "    }\n",
       "</style>\n",
       "<table border=\"1\" class=\"dataframe\">\n",
       "  <thead>\n",
       "    <tr style=\"text-align: right;\">\n",
       "      <th></th>\n",
       "      <th>job</th>\n",
       "      <th>n</th>\n",
       "    </tr>\n",
       "  </thead>\n",
       "  <tbody>\n",
       "    <tr>\n",
       "      <th>107</th>\n",
       "      <td>작물 재배 종사자</td>\n",
       "      <td>486</td>\n",
       "    </tr>\n",
       "    <tr>\n",
       "      <th>104</th>\n",
       "      <td>자동차 운전원</td>\n",
       "      <td>230</td>\n",
       "    </tr>\n",
       "    <tr>\n",
       "      <th>11</th>\n",
       "      <td>경영 관련 사무원</td>\n",
       "      <td>216</td>\n",
       "    </tr>\n",
       "    <tr>\n",
       "      <th>46</th>\n",
       "      <td>매장 판매 종사자</td>\n",
       "      <td>142</td>\n",
       "    </tr>\n",
       "    <tr>\n",
       "      <th>89</th>\n",
       "      <td>영업 종사자</td>\n",
       "      <td>113</td>\n",
       "    </tr>\n",
       "    <tr>\n",
       "      <th>127</th>\n",
       "      <td>청소원 및 환경미화원</td>\n",
       "      <td>109</td>\n",
       "    </tr>\n",
       "    <tr>\n",
       "      <th>4</th>\n",
       "      <td>건설 및 광업 단순 종사자</td>\n",
       "      <td>96</td>\n",
       "    </tr>\n",
       "    <tr>\n",
       "      <th>120</th>\n",
       "      <td>제조 관련 단순 종사자</td>\n",
       "      <td>80</td>\n",
       "    </tr>\n",
       "    <tr>\n",
       "      <th>3</th>\n",
       "      <td>건물 관리원 및 검표원</td>\n",
       "      <td>79</td>\n",
       "    </tr>\n",
       "    <tr>\n",
       "      <th>141</th>\n",
       "      <td>행정 사무원</td>\n",
       "      <td>74</td>\n",
       "    </tr>\n",
       "  </tbody>\n",
       "</table>\n",
       "</div>"
      ],
      "text/plain": [
       "                job    n\n",
       "107       작물 재배 종사자  486\n",
       "104         자동차 운전원  230\n",
       "11        경영 관련 사무원  216\n",
       "46        매장 판매 종사자  142\n",
       "89           영업 종사자  113\n",
       "127     청소원 및 환경미화원  109\n",
       "4    건설 및 광업 단순 종사자   96\n",
       "120    제조 관련 단순 종사자   80\n",
       "3      건물 관리원 및 검표원   79\n",
       "141          행정 사무원   74"
      ]
     },
     "execution_count": 132,
     "metadata": {},
     "output_type": "execute_result"
    }
   ],
   "source": [
    "# 여성 직업 빈도 상위 10개 추출\n",
    "job_female = welfare.dropna(subset=['job']) \\\n",
    "                  .query('sex==\"female\"') \\\n",
    "                  .groupby('job', as_index=False) \\\n",
    "                  .agg(n = ('job', 'count')) \\\n",
    "                  .sort_values('n', ascending=False) \\\n",
    "                  .head(10)\n",
    "job_male"
   ]
  },
  {
   "cell_type": "markdown",
   "id": "635be120-666b-49f2-a946-3e8526cc270c",
   "metadata": {},
   "source": [
    "#### 2. 그래프 만들기"
   ]
  },
  {
   "cell_type": "code",
   "execution_count": 133,
   "id": "17e6f4f6-84dd-4fa9-94ee-49de5e32b362",
   "metadata": {
    "tags": []
   },
   "outputs": [
    {
     "data": {
      "text/plain": [
       "[(0.0, 500.0)]"
      ]
     },
     "execution_count": 133,
     "metadata": {},
     "output_type": "execute_result"
    },
    {
     "data": {
      "image/png": "[encoded data removed]",
      "text/plain": [
       "<Figure size 640x480 with 1 Axes>"
      ]
     },
     "metadata": {},
     "output_type": "display_data"
    }
   ],
   "source": [
    "sns.barplot(data=job_male, y='job', x = 'n').set(xlim=[0, 500])"
   ]
  },
  {
   "cell_type": "code",
   "execution_count": 134,
   "id": "5bd5baa8-7a3b-4f07-9fb6-ba7f5f6f5f10",
   "metadata": {
    "tags": []
   },
   "outputs": [
    {
     "data": {
      "text/plain": [
       "[(0.0, 500.0)]"
      ]
     },
     "execution_count": 134,
     "metadata": {},
     "output_type": "execute_result"
    },
    {
     "data": {
      "image/png": "[encoded data removed]",
      "text/plain": [
       "<Figure size 640x480 with 1 Axes>"
      ]
     },
     "metadata": {},
     "output_type": "display_data"
    }
   ],
   "source": [
    "sns.barplot(data=job_female, y='job', x = 'n').set(xlim=[0, 500])"
   ]
  },
  {
   "cell_type": "markdown",
   "id": "0052a78c-6658-48fe-9960-ee8a3a5e5eac",
   "metadata": {},
   "source": [
    "## 9-8 종교 유무에 따른 이혼율 - 종교가 있으면 이혼을 덜 할까?\n",
    "종교가 있으면 이혼을 덜 할까요? 종교가 있는 사람이 종교가 없는 사람보다 이혼을 덜 하는지 분석해 보겠습니다. 먼저 '종교', '혼인 상태' 두 변수를 검토하고 전처리한 다음 종교와 이혼율의 관계를 분석하겠습니다. "
   ]
  },
  {
   "cell_type": "code",
   "execution_count": 143,
   "id": "d44d58a4-5b36-46da-b73e-613644f30553",
   "metadata": {
    "tags": []
   },
   "outputs": [],
   "source": [
    "import pandas as pd\n",
    "import numpy as np\n",
    "import seaborn as sns\n",
    "\n",
    "raw_welfare = pd.read_spss('Koweps_hpwc14_2019_beta2.sav')\n",
    "welfare = raw_welfare.copy()\n",
    "\n",
    "welfare = welfare.rename(\n",
    "    columns = {\n",
    "        'h14_g3'     : 'sex',             # 1: 남자, 2: 여자\n",
    "        'h14_g4'     : 'birth',           # 태어난 년도\n",
    "        'h14_g10'    : 'marriage_type',\n",
    "        'h14_g11'    : 'religion',\n",
    "        'p1402_8aq1' : 'income',         # 일을 한 달의 월 평균 임금[단위는 만원]\n",
    "        'h14_eco9'   : 'code_job', \n",
    "        'h14_reg7'   : 'code_region' \n",
    "    }\n",
    ")"
   ]
  },
  {
   "cell_type": "markdown",
   "id": "c7d143f6-98c4-4713-9e25-6ccdc8ce1712",
   "metadata": {},
   "source": [
    "---"
   ]
  },
  {
   "cell_type": "markdown",
   "id": "591786f1-aecb-4db2-a0c7-deee13038624",
   "metadata": {},
   "source": [
    "### Do it! - 종교 변수 검토 및 전처리하기"
   ]
  },
  {
   "cell_type": "markdown",
   "id": "e276f84e-3616-4ea2-b22f-62dce98a4a2e",
   "metadata": {},
   "source": [
    "#### 1. 변수 검토"
   ]
  },
  {
   "cell_type": "code",
   "execution_count": 144,
   "id": "3cd0ee2c-7bde-4d4e-be7a-30401f46a66c",
   "metadata": {
    "tags": []
   },
   "outputs": [
    {
     "data": {
      "text/plain": [
       "dtype('float64')"
      ]
     },
     "execution_count": 144,
     "metadata": {},
     "output_type": "execute_result"
    }
   ],
   "source": [
    "welfare['religion'].dtypes"
   ]
  },
  {
   "cell_type": "code",
   "execution_count": 145,
   "id": "bebaffc1-3b19-4485-b9fd-519980a88b57",
   "metadata": {
    "tags": []
   },
   "outputs": [
    {
     "data": {
      "text/plain": [
       "religion\n",
       "2.0    7815\n",
       "1.0    6603\n",
       "Name: count, dtype: int64"
      ]
     },
     "execution_count": 145,
     "metadata": {},
     "output_type": "execute_result"
    }
   ],
   "source": [
    "welfare['religion'].value_counts()"
   ]
  },
  {
   "cell_type": "markdown",
   "id": "1441baf6-d3e6-496b-bad6-7f0a26502ca9",
   "metadata": {},
   "source": [
    "#### 2. 전처리하기"
   ]
  },
  {
   "cell_type": "code",
   "execution_count": 146,
   "id": "aecdacde-f1be-4978-85ed-df3c8ccc7527",
   "metadata": {
    "tags": []
   },
   "outputs": [
    {
     "data": {
      "text/plain": [
       "religion\n",
       "no     7815\n",
       "yes    6603\n",
       "Name: count, dtype: int64"
      ]
     },
     "execution_count": 146,
     "metadata": {},
     "output_type": "execute_result"
    }
   ],
   "source": [
    "# 종교 유무에 이름 부여\n",
    "welfare['religion'] = np.where(welfare['religion'] == 1, 'yes', 'no')\n",
    "\n",
    "# 빈도 구하기\n",
    "welfare['religion'].value_counts()"
   ]
  },
  {
   "cell_type": "code",
   "execution_count": 147,
   "id": "7d47b90d-d287-4535-bdf5-2277b84dde6d",
   "metadata": {
    "tags": []
   },
   "outputs": [
    {
     "data": {
      "text/plain": [
       "<Axes: xlabel='religion', ylabel='count'>"
      ]
     },
     "execution_count": 147,
     "metadata": {},
     "output_type": "execute_result"
    },
    {
     "data": {
      "image/png": "[encoded data removed]",
      "text/plain": [
       "<Figure size 640x480 with 1 Axes>"
      ]
     },
     "metadata": {},
     "output_type": "display_data"
    }
   ],
   "source": [
    "# 막대 그래프 그리기\n",
    "sns.countplot(data=welfare, x='religion')"
   ]
  },
  {
   "cell_type": "markdown",
   "id": "92c69beb-ae9a-497e-9d63-b6dcd803b197",
   "metadata": {
    "tags": []
   },
   "source": [
    "### Do it! - 혼인 상태 변수 검토 및 전처리하기\n",
    "혼인 상태를 나타내는 `marriage_type`을 검토하고 전처리하겠습니다."
   ]
  },
  {
   "cell_type": "markdown",
   "id": "c9be54b3-b9ac-420e-afde-d9fa87afe098",
   "metadata": {},
   "source": [
    "#### 1. 변수 검토하기"
   ]
  },
  {
   "cell_type": "code",
   "execution_count": 149,
   "id": "13069ced-a957-4e45-bd69-9fc04eae3771",
   "metadata": {
    "tags": []
   },
   "outputs": [
    {
     "data": {
      "text/plain": [
       "dtype('float64')"
      ]
     },
     "execution_count": 149,
     "metadata": {},
     "output_type": "execute_result"
    }
   ],
   "source": [
    "welfare['marriage_type'].dtypes"
   ]
  },
  {
   "cell_type": "code",
   "execution_count": 150,
   "id": "8cdc17f0-cbd8-40b8-9e51-03a237292e89",
   "metadata": {
    "tags": []
   },
   "outputs": [
    {
     "data": {
      "text/plain": [
       "marriage_type\n",
       "1.0    7190\n",
       "5.0    2357\n",
       "0.0    2121\n",
       "2.0    1954\n",
       "3.0     689\n",
       "4.0      78\n",
       "6.0      29\n",
       "Name: count, dtype: int64"
      ]
     },
     "execution_count": 150,
     "metadata": {},
     "output_type": "execute_result"
    }
   ],
   "source": [
    "welfare['marriage_type'].value_counts()"
   ]
  },
  {
   "cell_type": "markdown",
   "id": "890befc9-a592-4901-9fc7-df85a353f4ed",
   "metadata": {},
   "source": [
    "#### 2.파생변수 만들기 - 이혼 여부\n",
    "코드북의 '혼인 상태' 변수 항복을 보면 배우자가 있으면 1, 이혼했으면 3으로 입력되어 있습니다. 이 값을 이용해 이혼 여부를 나타내는 변수를 만들겠습니다.\n",
    "\n",
    "|값|내용|\n",
    "|:-:|:-:|\n",
    "|0|비해당(18세 미만)|\n",
    "|1|유배우|\n",
    "|2|사별|\n",
    "|3|이혼|\n",
    "|4|별거|\n",
    "|5|미혼(18세 이상, 미혼모 포함)|\n",
    "|6|기타(사망 등)|\n",
    "\n",
    "강사의 말 - \"6 기타(사망 등)\"은... 뭐죠? 사망이면 '사별'로 분류되어야 하는 거 아닌가요?\n",
    "\n"
   ]
  },
  {
   "cell_type": "code",
   "execution_count": 151,
   "id": "bfd65c76-79be-42a3-8c94-87ca9ab71856",
   "metadata": {
    "tags": []
   },
   "outputs": [],
   "source": [
    "# 이혼 여부 변수 만들기\n",
    "welfare['marriage'] = np.where(welfare['marriage_type'] == 1, 'mariage', \n",
    "                               np.where(welfare['marriage_type'] == 3, 'divorce', 'etc'))"
   ]
  },
  {
   "cell_type": "code",
   "execution_count": 153,
   "id": "131632a7-a0f9-4c1a-87f1-9d6809eea10a",
   "metadata": {
    "tags": []
   },
   "outputs": [
    {
     "data": {
      "text/html": [
       "<div>\n",
       "<style scoped>\n",
       "    .dataframe tbody tr th:only-of-type {\n",
       "        vertical-align: middle;\n",
       "    }\n",
       "\n",
       "    .dataframe tbody tr th {\n",
       "        vertical-align: top;\n",
       "    }\n",
       "\n",
       "    .dataframe thead th {\n",
       "        text-align: right;\n",
       "    }\n",
       "</style>\n",
       "<table border=\"1\" class=\"dataframe\">\n",
       "  <thead>\n",
       "    <tr style=\"text-align: right;\">\n",
       "      <th></th>\n",
       "      <th>marriage</th>\n",
       "      <th>n</th>\n",
       "    </tr>\n",
       "  </thead>\n",
       "  <tbody>\n",
       "    <tr>\n",
       "      <th>0</th>\n",
       "      <td>divorce</td>\n",
       "      <td>689</td>\n",
       "    </tr>\n",
       "    <tr>\n",
       "      <th>1</th>\n",
       "      <td>etc</td>\n",
       "      <td>6539</td>\n",
       "    </tr>\n",
       "    <tr>\n",
       "      <th>2</th>\n",
       "      <td>mariage</td>\n",
       "      <td>7190</td>\n",
       "    </tr>\n",
       "  </tbody>\n",
       "</table>\n",
       "</div>"
      ],
      "text/plain": [
       "  marriage     n\n",
       "0  divorce   689\n",
       "1      etc  6539\n",
       "2  mariage  7190"
      ]
     },
     "execution_count": 153,
     "metadata": {},
     "output_type": "execute_result"
    }
   ],
   "source": [
    "# 이혼 여부별 빈도\n",
    "n_divorce = welfare.groupby('marriage', as_index=False) \\\n",
    "                   .agg(n = ('marriage', 'count'))\n",
    "n_divorce"
   ]
  },
  {
   "cell_type": "code",
   "execution_count": 154,
   "id": "b055c7f1-bc30-44c6-a8da-b5a9bf126633",
   "metadata": {
    "tags": []
   },
   "outputs": [
    {
     "data": {
      "text/plain": [
       "<Axes: xlabel='marriage', ylabel='n'>"
      ]
     },
     "execution_count": 154,
     "metadata": {},
     "output_type": "execute_result"
    },
    {
     "data": {
      "image/png": "[encoded data removed]",
      "text/plain": [
       "<Figure size 640x480 with 1 Axes>"
      ]
     },
     "metadata": {},
     "output_type": "display_data"
    }
   ],
   "source": [
    "# 막대 그래프 만들기\n",
    "sns.barplot(data=n_divorce, x='marriage', y='n')"
   ]
  },
  {
   "cell_type": "markdown",
   "id": "a0e147a8-a574-4a94-9ba0-ba5edddacd6a",
   "metadata": {},
   "source": [
    "출력한 표와 그래프를 보면 결혼 상태(`marriage`)인 사람은 7,190명, 이혼(`divorce`)한 사람은 689명입니다. 둘 중 어디에도 속하지 않아 `etc`로 분류된 사람은 6,539명입니다. `etc`에 포함된 사람은 분석 대상이 아니므로 이후 작업에서 제외하겠습니다. "
   ]
  },
  {
   "cell_type": "markdown",
   "id": "602d79d6-7ed5-411c-afde-69acdeb0e898",
   "metadata": {},
   "source": [
    "### Do it! - 종교 유무에 따른 이혼율 분석하기"
   ]
  },
  {
   "cell_type": "markdown",
   "id": "987ac070-26c0-446c-8367-dd8e34056b3b",
   "metadata": {},
   "source": [
    "#### 1.종교 유무에 따른 이혼율표 만들기\n",
    "종교 유무에 따른 이혼율표를 만들겠습니다. 먼저 marriage가 'etc'인 경우를 제외하고 '종교 유무 및 이혼 여부별 비율'을 구하겠습니다. `value_counts()`에 `normalize=True`를 전달하면 비율이 구해집니다."
   ]
  },
  {
   "cell_type": "code",
   "execution_count": 156,
   "id": "ec10eb27-533f-4670-850f-7ef727634484",
   "metadata": {
    "tags": []
   },
   "outputs": [
    {
     "data": {
      "text/html": [
       "<div>\n",
       "<style scoped>\n",
       "    .dataframe tbody tr th:only-of-type {\n",
       "        vertical-align: middle;\n",
       "    }\n",
       "\n",
       "    .dataframe tbody tr th {\n",
       "        vertical-align: top;\n",
       "    }\n",
       "\n",
       "    .dataframe thead th {\n",
       "        text-align: right;\n",
       "    }\n",
       "</style>\n",
       "<table border=\"1\" class=\"dataframe\">\n",
       "  <thead>\n",
       "    <tr style=\"text-align: right;\">\n",
       "      <th></th>\n",
       "      <th>religion</th>\n",
       "      <th>marriage</th>\n",
       "      <th>proportion</th>\n",
       "    </tr>\n",
       "  </thead>\n",
       "  <tbody>\n",
       "    <tr>\n",
       "      <th>0</th>\n",
       "      <td>no</td>\n",
       "      <td>mariage</td>\n",
       "      <td>0.905045</td>\n",
       "    </tr>\n",
       "    <tr>\n",
       "      <th>1</th>\n",
       "      <td>no</td>\n",
       "      <td>divorce</td>\n",
       "      <td>0.094955</td>\n",
       "    </tr>\n",
       "    <tr>\n",
       "      <th>2</th>\n",
       "      <td>yes</td>\n",
       "      <td>mariage</td>\n",
       "      <td>0.920469</td>\n",
       "    </tr>\n",
       "    <tr>\n",
       "      <th>3</th>\n",
       "      <td>yes</td>\n",
       "      <td>divorce</td>\n",
       "      <td>0.079531</td>\n",
       "    </tr>\n",
       "  </tbody>\n",
       "</table>\n",
       "</div>"
      ],
      "text/plain": [
       "  religion marriage  proportion\n",
       "0       no  mariage    0.905045\n",
       "1       no  divorce    0.094955\n",
       "2      yes  mariage    0.920469\n",
       "3      yes  divorce    0.079531"
      ]
     },
     "execution_count": 156,
     "metadata": {},
     "output_type": "execute_result"
    }
   ],
   "source": [
    "rel_div = welfare.query('marriage != \"etc\"') \\\n",
    "                 .groupby('religion', as_index=False) \\\n",
    "                 ['marriage'] \\\n",
    "                 .value_counts(normalize = True)\n",
    "rel_div"
   ]
  },
  {
   "cell_type": "markdown",
   "id": "eef034f5-8e6b-4b5a-8959-881cda07b366",
   "metadata": {},
   "source": [
    "#### 2.그래프 만들기\n",
    "이혼에 해당하는 값만 추출한 다음 `proportion`을 백분율로 바꾸고 소수점 첫째 자리까지 반올림하겠습니다. `round()`는 값을 반올림하는 기능을 합니다. `round()`에 출력할 자릿수를 입력하여 사용합니다."
   ]
  },
  {
   "cell_type": "code",
   "execution_count": 157,
   "id": "af13f8d5-3da8-4d36-9bf9-9d92c0beb392",
   "metadata": {
    "tags": []
   },
   "outputs": [
    {
     "data": {
      "text/html": [
       "<div>\n",
       "<style scoped>\n",
       "    .dataframe tbody tr th:only-of-type {\n",
       "        vertical-align: middle;\n",
       "    }\n",
       "\n",
       "    .dataframe tbody tr th {\n",
       "        vertical-align: top;\n",
       "    }\n",
       "\n",
       "    .dataframe thead th {\n",
       "        text-align: right;\n",
       "    }\n",
       "</style>\n",
       "<table border=\"1\" class=\"dataframe\">\n",
       "  <thead>\n",
       "    <tr style=\"text-align: right;\">\n",
       "      <th></th>\n",
       "      <th>religion</th>\n",
       "      <th>marriage</th>\n",
       "      <th>proportion</th>\n",
       "    </tr>\n",
       "  </thead>\n",
       "  <tbody>\n",
       "    <tr>\n",
       "      <th>1</th>\n",
       "      <td>no</td>\n",
       "      <td>divorce</td>\n",
       "      <td>9.5</td>\n",
       "    </tr>\n",
       "    <tr>\n",
       "      <th>3</th>\n",
       "      <td>yes</td>\n",
       "      <td>divorce</td>\n",
       "      <td>8.0</td>\n",
       "    </tr>\n",
       "  </tbody>\n",
       "</table>\n",
       "</div>"
      ],
      "text/plain": [
       "  religion marriage  proportion\n",
       "1       no  divorce         9.5\n",
       "3      yes  divorce         8.0"
      ]
     },
     "execution_count": 157,
     "metadata": {},
     "output_type": "execute_result"
    }
   ],
   "source": [
    "# divorce 추출\n",
    "# 백분율로 바꾸기\n",
    "# 반올리\n",
    "\n",
    "rel_div = rel_div.query('marriage ==\"divorce\"') \\\n",
    "                 .assign(proportion = rel_div['proportion'] * 100) \\\n",
    "                 .round(1)\n",
    "rel_div"
   ]
  },
  {
   "cell_type": "code",
   "execution_count": 158,
   "id": "d5f9a810-abbd-4e5a-944f-b419210a0e99",
   "metadata": {
    "tags": []
   },
   "outputs": [
    {
     "data": {
      "text/plain": [
       "<Axes: xlabel='religion', ylabel='proportion'>"
      ]
     },
     "execution_count": 158,
     "metadata": {},
     "output_type": "execute_result"
    },
    {
     "data": {
      "image/png": "[encoded data removed]",
      "text/plain": [
       "<Figure size 640x480 with 1 Axes>"
      ]
     },
     "metadata": {},
     "output_type": "display_data"
    }
   ],
   "source": [
    "# 막대 그래프 만들기\n",
    "sns.barplot(data=rel_div, x='religion', y='proportion')"
   ]
  }
 ],
 "metadata": {
  "kernelspec": {
   "display_name": "Python 3 (ipykernel)",
   "language": "python",
   "name": "python3"
  },
  "language_info": {
   "codemirror_mode": {
    "name": "ipython",
    "version": 3
   },
   "file_extension": ".py",
   "mimetype": "text/x-python",
   "name": "python",
   "nbconvert_exporter": "python",
   "pygments_lexer": "ipython3",
   "version": "3.11.5"
  }
 },
 "nbformat": 4,
 "nbformat_minor": 5
}
